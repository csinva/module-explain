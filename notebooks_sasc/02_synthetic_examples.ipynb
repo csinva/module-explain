{
 "cells": [
  {
   "cell_type": "code",
   "execution_count": null,
   "metadata": {},
   "outputs": [],
   "source": [
    "%load_ext autoreload\n",
    "%autoreload 2\n",
    "import os\n",
    "import matplotlib.pyplot as plt\n",
    "import seaborn as sns\n",
    "from os.path import join\n",
    "from tqdm import tqdm\n",
    "import pandas as pd\n",
    "import pickle as pkl\n",
    "# import notebook_helper\n",
    "import sys\n",
    "import numpy as np\n",
    "import imodelsx\n",
    "import imodelsx.process_results\n",
    "import sasc.data.data\n",
    "from sasc.data.data import TASKS_D3\n",
    "import warnings\n",
    "import scipy.stats\n",
    "def sem(x):\n",
    "    '''Compute standard error of the mean, ignoring NaNs\n",
    "    '''\n",
    "    with warnings.catch_warnings():\n",
    "        return scipy.stats.sem(x, ddof=0)\n",
    "tqdm.pandas()\n",
    "TASK_NAMES = list(TASKS_D3.keys())\n",
    "sys.path.append('../experiments/')\n",
    "# results_dir = '/home/chansingh/mntv1/mprompt/feb18_synthetic_sweep'\n",
    "results_dir = '/home/chansingh/mntv1/mprompt/feb25'"
   ]
  },
  {
   "cell_type": "code",
   "execution_count": null,
   "metadata": {},
   "outputs": [],
   "source": [
    "r = pd.read_pickle('../results/results_synthetic.pkl')"
   ]
  },
  {
   "cell_type": "code",
   "execution_count": null,
   "metadata": {},
   "outputs": [],
   "source": [
    "# simplifying\n",
    "default_params = {\n",
    "    'noise_ngram_scores': 0,\n",
    "    'module_num_restrict': -1,\n",
    "}\n",
    "rd = r\n",
    "for k, v in default_params.items():\n",
    "    rd = rd[rd[k] == v]"
   ]
  },
  {
   "attachments": {},
   "cell_type": "markdown",
   "metadata": {},
   "source": [
    "# Top results"
   ]
  },
  {
   "cell_type": "code",
   "execution_count": null,
   "metadata": {},
   "outputs": [],
   "source": [
    "with pd.option_context('display.max_colwidth', None, 'display.max_rows', 200):\n",
    "    d = (\n",
    "        rd[[\n",
    "            'task_keyword', 'top_explanation_init_strs',\n",
    "            'top_contains_keywords',  # 'mean_contains_keywords',\n",
    "            'top_score_synthetic', 'module_num', 'seed'\n",
    "        ]]\n",
    "        .rename(columns={\n",
    "            'task_keyword': 'GT Explanation',\n",
    "            'top_explanation_init_strs': 'Generated Explanation',\n",
    "        })\n",
    "    )\n",
    "    d_ = d[d.top_contains_keywords == 0]\n",
    "    slice_ = pd.IndexSlice[d_.index, d_.columns]\n",
    "\n",
    "    # s = d.style\n",
    "    display(\n",
    "        d\n",
    "        .style.hide()\n",
    "        .set_properties(**{'background-color': '#132639'}, subset=slice_)\n",
    "        .format(precision=2)\n",
    "    )"
   ]
  },
  {
   "attachments": {},
   "cell_type": "markdown",
   "metadata": {},
   "source": [
    "# Details"
   ]
  },
  {
   "attachments": {},
   "cell_type": "markdown",
   "metadata": {},
   "source": [
    "**Selected examples**"
   ]
  },
  {
   "cell_type": "code",
   "execution_count": null,
   "metadata": {},
   "outputs": [],
   "source": [
    "pos_examples = [(25, 2), (4, 1), (21, 1), (42, 1), (7, 1),\n",
    "                (50, 1), (41, 1), (8, 1), (45, 1), (47, 1)]\n",
    "neg_examples = [(18, 1), (26, 1), (39, 1), (2, 1)]\n",
    "\n",
    "with pd.option_context('display.max_colwidth', None, 'display.max_rows', 200):\n",
    "    tab = (\n",
    "        pd.concat([rd[(rd.module_num == x[0]) & (rd.seed == x[1])]\n",
    "                  for x in pos_examples + neg_examples])\n",
    "        [[\n",
    "            'task_keyword', 'top_explanation_init_strs',\n",
    "        ]]\n",
    "        .rename(columns={\n",
    "                'task_keyword': 'Groundtruth Explanation',\n",
    "                'top_explanation_init_strs': 'Generated Explanation',\n",
    "                })\n",
    "    )\n",
    "    display(tab)\n",
    "dummy = [''] * tab.shape[0]\n",
    "dummy[0] = '\\\\parbox[c]{1mm}{\\\\multirow{' + \\\n",
    "    str(len(pos_examples)) + '}{*}{\\\\rotatebox[origin=c]{90} {Correct}}}'\n",
    "dummy[len(pos_examples)] = '\\\\parbox[c]{1mm}{\\\\multirow{' + str(\n",
    "    len(neg_examples)) + '}{*}{\\\\rotatebox[origin=c]{90} {Incorrect}}}'\n",
    "tab.insert(0, ' ', dummy)\n",
    "print(tab.style.hide(axis=\"index\").to_latex(hrules=True).replace(\n",
    "    'science \\\\\\\\', 'science \\\\\\\\ \\n\\midrule'))"
   ]
  },
  {
   "attachments": {},
   "cell_type": "markdown",
   "metadata": {},
   "source": [
    "**More details**"
   ]
  },
  {
   "cell_type": "code",
   "execution_count": null,
   "metadata": {},
   "outputs": [],
   "source": [
    "# display full strings\n",
    "with pd.option_context('display.max_colwidth', None, 'display.max_rows', 200):\n",
    "    display(\n",
    "        rd\n",
    "        .filter(['task_keyword', 'top_explanation_init_strs', 'top_contains_keywords', 'top_score_synthetic', 'module_num'])\n",
    "        # .filter(['top_score_contains_keywords', 'top_score_synthetic', 'top_explanation_init_strs', 'explanation_init_ngrams', 'module_num'])\n",
    "        # .filter(['top_explanation_init_strs', 'explanation_init_ngrams', 'top_strs_added'])\n",
    "        # .filter(['explanation_init_strs', 'explanation_init_ngrams',])\n",
    "        # .head(n=20)\n",
    "    )"
   ]
  },
  {
   "cell_type": "markdown",
   "metadata": {},
   "source": [
    "# Extra evaluation"
   ]
  },
  {
   "cell_type": "markdown",
   "metadata": {},
   "source": [
    "### Export regexes"
   ]
  },
  {
   "cell_type": "code",
   "execution_count": null,
   "metadata": {},
   "outputs": [],
   "source": [
    "from sasc.data.d3 import TASKS_D3"
   ]
  },
  {
   "cell_type": "code",
   "execution_count": null,
   "metadata": {},
   "outputs": [],
   "source": [
    "with pd.option_context('display.max_colwidth', None, 'display.max_rows', 200):\n",
    "    cols = {'index': 'Module name',\n",
    "            'groundtruth_explanation': 'Dataset explanation', 'check_func': 'Regex check'}\n",
    "    d = pd.DataFrame(TASKS_D3).T.reset_index()[\n",
    "        cols.keys()].rename(columns=cols)\n",
    "    d['Module name'] = d['Module name'].apply(\n",
    "        lambda x: x.replace('d3_', '').replace('_', '-'))\n",
    "    print(d.to_latex(index=False).replace('|', '$|$'))"
   ]
  },
  {
   "cell_type": "markdown",
   "metadata": {},
   "source": [
    "### Analyze simiilaries with GT explanations"
   ]
  },
  {
   "cell_type": "code",
   "execution_count": null,
   "metadata": {},
   "outputs": [],
   "source": [
    "rd1 = rd[rd.seed == 1]\n",
    "rd1 = rd1[['top_explanation_init_strs', 'task_keyword',\n",
    "           'task_name (groundtruth)', 'module_num']].sort_values(by='module_num')\n",
    "rd1"
   ]
  },
  {
   "cell_type": "code",
   "execution_count": null,
   "metadata": {},
   "outputs": [],
   "source": [
    "# generate similarity matrix of explanations and groundtruth texts using bge-large\n",
    "import torch\n",
    "from transformers import AutoModelForSequenceClassification, AutoTokenizer\n",
    "\n",
    "tokenizer = AutoTokenizer.from_pretrained('BAAI/bge-reranker-large')\n",
    "model = AutoModelForSequenceClassification.from_pretrained(\n",
    "    'BAAI/bge-reranker-large')\n",
    "model.eval()\n",
    "\n",
    "texts_gen = rd1['top_explanation_init_strs'].values.tolist()\n",
    "texts_gt = rd1['task_keyword'].values.tolist()\n",
    "n = len(texts_gen)\n",
    "pairs = []\n",
    "for r in range(n):\n",
    "    for c in range(n):\n",
    "        pairs.append([texts_gen[r], texts_gt[c]])\n",
    "\n",
    "# pairs = [pairs1[:3], pairs2[:3]]\n",
    "# pairs = [['sarcasm', 'sarcasm'],\n",
    "        #  ['sarcasm', 'unbiased']]\n",
    "# pairs = [['what is panda?', 'hi'], ['what is panda?',\n",
    "# 'The giant panda (Ailuropoda melanoleuca), sometimes called a panda bear or simply panda, is a bear species endemic to China.']]\n",
    "\n",
    "\n",
    "with torch.no_grad():\n",
    "    inputs = tokenizer(pairs, padding=True, truncation=True,\n",
    "                       return_tensors='pt', max_length=512)\n",
    "    scores = model(**inputs, return_dict=True).logits.view(-1, ).float()\n",
    "out = scores.reshape((n, n))"
   ]
  },
  {
   "cell_type": "code",
   "execution_count": null,
   "metadata": {},
   "outputs": [],
   "source": [
    "plt.imshow(out)\n",
    "cb = plt.colorbar()\n",
    "cb.set_label(label='Similarity score (Higher is more similar)', size='small')\n",
    "plt.ylabel('Generated explanation per dataset')\n",
    "plt.xlabel('Groundtruth explanation per dataset')\n",
    "plt.tight_layout()\n",
    "plt.savefig('synthetic_scores_sim_matrix.pdf', bbox_inches='tight')\n",
    "plt.show()"
   ]
  },
  {
   "cell_type": "code",
   "execution_count": null,
   "metadata": {},
   "outputs": [],
   "source": [
    "# calculate top-k acc, accounting for ties\n",
    "for k in [1, 2]:\n",
    "    correct_count = 0\n",
    "    for c in range(n):\n",
    "        unique_vals = np.unique(out[:, c])[::-1]\n",
    "        val_diag = out[c, c]\n",
    "        if val_diag >= unique_vals[k - 1]:\n",
    "            correct_count += 1\n",
    "    print('top' + str(k) + '-acc', correct_count / n)"
   ]
  },
  {
   "cell_type": "markdown",
   "metadata": {},
   "source": [
    "# Evaluating all texts rather than negative texts"
   ]
  },
  {
   "cell_type": "code",
   "execution_count": null,
   "metadata": {},
   "outputs": [],
   "source": [
    "rd1 = rd[rd.seed == 1]\n",
    "rd1 = rd1.sort_values(by='module_num')\n",
    "n = len(rd1)"
   ]
  },
  {
   "cell_type": "code",
   "execution_count": null,
   "metadata": {},
   "outputs": [],
   "source": [
    "from sasc.modules.emb_diff_module import EmbDiffModule\n",
    "from sasc.data.d3 import TASKS_D3\n",
    "from collections import defaultdict\n",
    "\n",
    "d = defaultdict(list)\n",
    "\n",
    "# initialize model\n",
    "m = EmbDiffModule(\n",
    "    task_str='d3_0_irony',\n",
    ")\n",
    "\n",
    "for i in tqdm(range(n)):\n",
    "\n",
    "    # load module\n",
    "    row = rd1.iloc[i]\n",
    "    task_str = list(TASKS_D3.keys())[row['module_num']]\n",
    "    m._init_task(task_str)\n",
    "\n",
    "    assert abs(\n",
    "        (np.mean(m(row['top_strs_added'])) -\n",
    "         np.mean(m(row['top_strs_removed']))\n",
    "         )\n",
    "        - row['top_score_synthetic']) < 1e-1\n",
    "\n",
    "    for j in range(n):\n",
    "        row_eval = rd1.iloc[j]\n",
    "\n",
    "        d['i'].append(i)\n",
    "        d['j'].append(j)\n",
    "        d['score_added'].append(m(row_eval['top_strs_added']))\n",
    "        d['score_removed'].append(m(row_eval['top_strs_removed']))"
   ]
  },
  {
   "cell_type": "code",
   "execution_count": 133,
   "metadata": {},
   "outputs": [
    {
     "data": {
      "text/html": [
       "<div>\n",
       "<style scoped>\n",
       "    .dataframe tbody tr th:only-of-type {\n",
       "        vertical-align: middle;\n",
       "    }\n",
       "\n",
       "    .dataframe tbody tr th {\n",
       "        vertical-align: top;\n",
       "    }\n",
       "\n",
       "    .dataframe thead th {\n",
       "        text-align: right;\n",
       "    }\n",
       "</style>\n",
       "<table border=\"1\" class=\"dataframe\">\n",
       "  <thead>\n",
       "    <tr style=\"text-align: right;\">\n",
       "      <th></th>\n",
       "      <th>i</th>\n",
       "      <th>j</th>\n",
       "      <th>score_added</th>\n",
       "      <th>score_removed</th>\n",
       "      <th>added</th>\n",
       "      <th>removed</th>\n",
       "    </tr>\n",
       "  </thead>\n",
       "  <tbody>\n",
       "    <tr>\n",
       "      <th>0</th>\n",
       "      <td>0</td>\n",
       "      <td>0</td>\n",
       "      <td>[-0.8811241507071529, -0.916004910130155, -0.8...</td>\n",
       "      <td>[-0.982652681765082, -0.9997531693526941, -1.0...</td>\n",
       "      <td>-0.834726</td>\n",
       "      <td>-1.007341</td>\n",
       "    </tr>\n",
       "    <tr>\n",
       "      <th>1</th>\n",
       "      <td>0</td>\n",
       "      <td>1</td>\n",
       "      <td>[-0.9630515176418337, -0.9451296524030018, -0....</td>\n",
       "      <td>[-1.0183531112006246, -0.9859219019264988, -0....</td>\n",
       "      <td>-0.958424</td>\n",
       "      <td>-0.959225</td>\n",
       "    </tr>\n",
       "    <tr>\n",
       "      <th>2</th>\n",
       "      <td>0</td>\n",
       "      <td>2</td>\n",
       "      <td>[-0.9843971009246647, -1.0575905282493918, -0....</td>\n",
       "      <td>[-1.0528231069604783, -1.0420089717950722, -0....</td>\n",
       "      <td>-1.005829</td>\n",
       "      <td>-1.043729</td>\n",
       "    </tr>\n",
       "    <tr>\n",
       "      <th>3</th>\n",
       "      <td>0</td>\n",
       "      <td>3</td>\n",
       "      <td>[-1.0398598236814456, -1.00354692795573, -1.04...</td>\n",
       "      <td>[-1.066462149227688, -1.003821070523948, -1.06...</td>\n",
       "      <td>-1.037695</td>\n",
       "      <td>-1.052938</td>\n",
       "    </tr>\n",
       "    <tr>\n",
       "      <th>4</th>\n",
       "      <td>0</td>\n",
       "      <td>4</td>\n",
       "      <td>[-0.9995324531867431, -0.975631186835391, -0.9...</td>\n",
       "      <td>[-1.0928068691044965, -1.0675976561762064, -0....</td>\n",
       "      <td>-0.997451</td>\n",
       "      <td>-1.045948</td>\n",
       "    </tr>\n",
       "    <tr>\n",
       "      <th>...</th>\n",
       "      <td>...</td>\n",
       "      <td>...</td>\n",
       "      <td>...</td>\n",
       "      <td>...</td>\n",
       "      <td>...</td>\n",
       "      <td>...</td>\n",
       "    </tr>\n",
       "    <tr>\n",
       "      <th>2911</th>\n",
       "      <td>53</td>\n",
       "      <td>49</td>\n",
       "      <td>[-1.1208926528057186, -1.1023942393748818, -1....</td>\n",
       "      <td>[-1.1217431925677406, -1.1010811437605679, -1....</td>\n",
       "      <td>-1.081838</td>\n",
       "      <td>-1.090783</td>\n",
       "    </tr>\n",
       "    <tr>\n",
       "      <th>2912</th>\n",
       "      <td>53</td>\n",
       "      <td>50</td>\n",
       "      <td>[-1.051554698576432, -1.0740868425822105, -1.0...</td>\n",
       "      <td>[-1.0966302323618708, -1.1153290903326747, -1....</td>\n",
       "      <td>-1.075268</td>\n",
       "      <td>-1.090063</td>\n",
       "    </tr>\n",
       "    <tr>\n",
       "      <th>2913</th>\n",
       "      <td>53</td>\n",
       "      <td>51</td>\n",
       "      <td>[-1.0896496873925383, -1.1035806158026826, -1....</td>\n",
       "      <td>[-1.0458627404619119, -1.0534974663964298, -1....</td>\n",
       "      <td>-1.057495</td>\n",
       "      <td>-0.915106</td>\n",
       "    </tr>\n",
       "    <tr>\n",
       "      <th>2914</th>\n",
       "      <td>53</td>\n",
       "      <td>52</td>\n",
       "      <td>[-1.0787639181765822, -1.054626091907554, -1.0...</td>\n",
       "      <td>[-1.0940296470858009, -1.104074264429083, -1.1...</td>\n",
       "      <td>-1.047607</td>\n",
       "      <td>-1.091940</td>\n",
       "    </tr>\n",
       "    <tr>\n",
       "      <th>2915</th>\n",
       "      <td>53</td>\n",
       "      <td>53</td>\n",
       "      <td>[-0.7581205256303297, -0.8087835882609152, -0....</td>\n",
       "      <td>[-1.0578726572761703, -1.0701792915117763, -1....</td>\n",
       "      <td>-0.729635</td>\n",
       "      <td>-1.079203</td>\n",
       "    </tr>\n",
       "  </tbody>\n",
       "</table>\n",
       "<p>2916 rows × 6 columns</p>\n",
       "</div>"
      ],
      "text/plain": [
       "       i   j                                        score_added  \\\n",
       "0      0   0  [-0.8811241507071529, -0.916004910130155, -0.8...   \n",
       "1      0   1  [-0.9630515176418337, -0.9451296524030018, -0....   \n",
       "2      0   2  [-0.9843971009246647, -1.0575905282493918, -0....   \n",
       "3      0   3  [-1.0398598236814456, -1.00354692795573, -1.04...   \n",
       "4      0   4  [-0.9995324531867431, -0.975631186835391, -0.9...   \n",
       "...   ..  ..                                                ...   \n",
       "2911  53  49  [-1.1208926528057186, -1.1023942393748818, -1....   \n",
       "2912  53  50  [-1.051554698576432, -1.0740868425822105, -1.0...   \n",
       "2913  53  51  [-1.0896496873925383, -1.1035806158026826, -1....   \n",
       "2914  53  52  [-1.0787639181765822, -1.054626091907554, -1.0...   \n",
       "2915  53  53  [-0.7581205256303297, -0.8087835882609152, -0....   \n",
       "\n",
       "                                          score_removed     added   removed  \n",
       "0     [-0.982652681765082, -0.9997531693526941, -1.0... -0.834726 -1.007341  \n",
       "1     [-1.0183531112006246, -0.9859219019264988, -0.... -0.958424 -0.959225  \n",
       "2     [-1.0528231069604783, -1.0420089717950722, -0.... -1.005829 -1.043729  \n",
       "3     [-1.066462149227688, -1.003821070523948, -1.06... -1.037695 -1.052938  \n",
       "4     [-1.0928068691044965, -1.0675976561762064, -0.... -0.997451 -1.045948  \n",
       "...                                                 ...       ...       ...  \n",
       "2911  [-1.1217431925677406, -1.1010811437605679, -1.... -1.081838 -1.090783  \n",
       "2912  [-1.0966302323618708, -1.1153290903326747, -1.... -1.075268 -1.090063  \n",
       "2913  [-1.0458627404619119, -1.0534974663964298, -1.... -1.057495 -0.915106  \n",
       "2914  [-1.0940296470858009, -1.104074264429083, -1.1... -1.047607 -1.091940  \n",
       "2915  [-1.0578726572761703, -1.0701792915117763, -1.... -0.729635 -1.079203  \n",
       "\n",
       "[2916 rows x 6 columns]"
      ]
     },
     "execution_count": 133,
     "metadata": {},
     "output_type": "execute_result"
    }
   ],
   "source": [
    "df = pd.DataFrame(d)\n",
    "df['added'] = df['score_added'].apply(lambda x: np.mean(x))\n",
    "df['removed'] = df['score_removed'].apply(lambda x: np.mean(x))\n",
    "df"
   ]
  },
  {
   "cell_type": "code",
   "execution_count": 178,
   "metadata": {},
   "outputs": [
    {
     "data": {
      "image/png": "[encoded data removed]",
      "text/plain": [
       "<Figure size 1400x600 with 4 Axes>"
      ]
     },
     "metadata": {},
     "output_type": "display_data"
    }
   ],
   "source": [
    "added = df['added'].values.reshape((n, n))\n",
    "removed = df['removed'].values.reshape((n, n))\n",
    "\n",
    "plt.figure(figsize=(14, 6))\n",
    "plt.subplot(1, 2, 1)\n",
    "plt.imshow(added)\n",
    "plt.ylabel('Module $f$')\n",
    "plt.xlabel('Dataset to generate texts')\n",
    "plt.title('Module response f(Text$^+$)', fontsize='medium')\n",
    "plt.colorbar()\n",
    "\n",
    "plt.subplot(1, 2, 2)\n",
    "\n",
    "plt.imshow(added - removed)\n",
    "plt.ylabel('Module $f$')\n",
    "plt.xlabel('Dataset to generate texts')\n",
    "plt.title('Module response f(Text$^+$) - f(Text$^-$)', fontsize='medium')\n",
    "plt.colorbar()\n",
    "plt.savefig('mod_response_synthetic.pdf', bbox_inches='tight')\n",
    "plt.show()"
   ]
  },
  {
   "cell_type": "code",
   "execution_count": 177,
   "metadata": {},
   "outputs": [
    {
     "name": "stdout",
     "output_type": "stream",
     "text": [
      "orig 0.23763210418647707\n",
      "diff 0.22060064169403173\n"
     ]
    }
   ],
   "source": [
    "# subtract diag mean from non-diag mean\n",
    "print('orig', added[np.eye(n).astype(bool)].mean() -\n",
    "      added[~np.eye(n).astype(bool)].mean())\n",
    "\n",
    "diff = added - removed\n",
    "print('diff', diff[np.eye(n).astype(bool)].mean())"
   ]
  }
 ],
 "metadata": {
  "kernelspec": {
   "display_name": ".llm",
   "language": "python",
   "name": "python3"
  },
  "language_info": {
   "codemirror_mode": {
    "name": "ipython",
    "version": 3
   },
   "file_extension": ".py",
   "mimetype": "text/x-python",
   "name": "python",
   "nbconvert_exporter": "python",
   "pygments_lexer": "ipython3",
   "version": "3.11.5"
  },
  "orig_nbformat": 4,
  "vscode": {
   "interpreter": {
    "hash": "a9ff692d44ea03fd8a03facee7621117bbbb82def09bacaacf0a2cbc238b7b91"
   }
  }
 },
 "nbformat": 4,
 "nbformat_minor": 2
}
