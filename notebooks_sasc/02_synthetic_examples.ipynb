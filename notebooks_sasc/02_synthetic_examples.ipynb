{
 "cells": [
  {
   "cell_type": "code",
   "execution_count": null,
   "metadata": {},
   "outputs": [],
   "source": [
    "%load_ext autoreload\n",
    "%autoreload 2\n",
    "import os\n",
    "import matplotlib.pyplot as plt\n",
    "import seaborn as sns\n",
    "from os.path import join\n",
    "from tqdm import tqdm\n",
    "import pandas as pd\n",
    "import pickle as pkl\n",
    "import notebook_helper\n",
    "import sys\n",
    "import numpy as np\n",
    "import imodelsx\n",
    "import imodelsx.process_results\n",
    "import sasc.data.data\n",
    "from sasc.data.data import TASKS_D3\n",
    "import sasc.methods.m4_evaluate as m4_evaluate\n",
    "import warnings\n",
    "import scipy.stats\n",
    "def sem(x):\n",
    "    '''Compute standard error of the mean, ignoring NaNs\n",
    "    '''\n",
    "    with warnings.catch_warnings():\n",
    "        return scipy.stats.sem(x, ddof=0)\n",
    "tqdm.pandas()\n",
    "TASK_NAMES = list(TASKS_D3.keys())\n",
    "sys.path.append('../experiments/')\n",
    "# results_dir = '/home/chansingh/mntv1/mprompt/feb18_synthetic_sweep'\n",
    "results_dir = '/home/chansingh/mntv1/mprompt/feb25'"
   ]
  },
  {
   "cell_type": "code",
   "execution_count": null,
   "metadata": {},
   "outputs": [],
   "source": [
    "r = pd.read_pickle('../results/r.pkl')"
   ]
  },
  {
   "cell_type": "code",
   "execution_count": null,
   "metadata": {},
   "outputs": [],
   "source": [
    "# simplifying\n",
    "default_params = {\n",
    "    'noise_ngram_scores': 0,\n",
    "    'module_num_restrict': -1,\n",
    "}\n",
    "rd = r\n",
    "for k, v in default_params.items():\n",
    "    rd = rd[rd[k] == v]"
   ]
  },
  {
   "attachments": {},
   "cell_type": "markdown",
   "metadata": {},
   "source": [
    "# Top results"
   ]
  },
  {
   "cell_type": "code",
   "execution_count": null,
   "metadata": {},
   "outputs": [],
   "source": [
    "with pd.option_context('display.max_colwidth', -1, 'display.max_rows', 200):\n",
    "    d = (\n",
    "        rd[[\n",
    "            'task_keyword', 'top_explanation_init_strs',\n",
    "            'top_contains_keywords', #        'mean_contains_keywords',\n",
    "            'top_score_synthetic', 'module_num', 'seed'\n",
    "        ]]\n",
    "        .rename(columns={\n",
    "            'task_keyword': 'GT Explanation',\n",
    "            'top_explanation_init_strs': 'Generated Explanation',\n",
    "        })\n",
    "    )\n",
    "    d_ = d[d.top_contains_keywords == 0]\n",
    "    slice_ = pd.IndexSlice[d_.index, d_.columns]\n",
    "\n",
    "    # s = d.style\n",
    "    display(\n",
    "        d\n",
    "        .style.hide()\n",
    "        .set_properties(**{'background-color': '#132639'}, subset=slice_)\n",
    "        .format(precision=2)\n",
    "   )"
   ]
  },
  {
   "attachments": {},
   "cell_type": "markdown",
   "metadata": {},
   "source": [
    "# Details"
   ]
  },
  {
   "attachments": {},
   "cell_type": "markdown",
   "metadata": {},
   "source": [
    "**Selected examples**"
   ]
  },
  {
   "cell_type": "code",
   "execution_count": null,
   "metadata": {},
   "outputs": [],
   "source": [
    "pos_examples = [(25, 2), (4, 1), (21, 1), (42, 1), (7, 1), (50, 1), (41, 1), (8, 1), (45, 1), (47, 1)]\n",
    "neg_examples = [(18, 1), (26, 1), (39, 1), (2, 1)]\n",
    "\n",
    "with pd.option_context('display.max_colwidth', -1, 'display.max_rows', 200):\n",
    "    tab = (\n",
    "        pd.concat([rd[(rd.module_num == x[0]) & (rd.seed == x[1])] for x in pos_examples + neg_examples])\n",
    "        [[\n",
    "                'task_keyword', 'top_explanation_init_strs',\n",
    "            ]]\n",
    "            .rename(columns={\n",
    "                'task_keyword': 'Groundtruth Explanation',\n",
    "                'top_explanation_init_strs': 'Generated Explanation',\n",
    "            })\n",
    "    )\n",
    "    display(tab)\n",
    "dummy = [''] * tab.shape[0]\n",
    "dummy[0] = '\\\\parbox[c]{1mm}{\\\\multirow{' + str(len(pos_examples)) + '}{*}{\\\\rotatebox[origin=c]{90} {Correct}}}'\n",
    "dummy[len(pos_examples)] = '\\\\parbox[c]{1mm}{\\\\multirow{' + str(len(neg_examples)) + '}{*}{\\\\rotatebox[origin=c]{90} {Incorrect}}}'\n",
    "tab.insert(0, ' ', dummy)\n",
    "print(tab.style.hide(axis=\"index\").to_latex(hrules=True).replace('science \\\\\\\\', 'science \\\\\\\\ \\n\\midrule'))"
   ]
  },
  {
   "attachments": {},
   "cell_type": "markdown",
   "metadata": {},
   "source": [
    "**More details**"
   ]
  },
  {
   "cell_type": "code",
   "execution_count": null,
   "metadata": {},
   "outputs": [],
   "source": [
    "# display full strings\n",
    "with pd.option_context('display.max_colwidth', -1, 'display.max_rows', 200):\n",
    "    display(\n",
    "        rd\n",
    "        .filter(['task_keyword', 'top_explanation_init_strs', 'top_contains_keywords', 'top_score_synthetic', 'module_num'])\n",
    "        # .filter(['top_score_contains_keywords', 'top_score_synthetic', 'top_explanation_init_strs', 'explanation_init_ngrams', 'module_num'])\n",
    "        # .filter(['top_explanation_init_strs', 'explanation_init_ngrams', 'top_strs_added'])\n",
    "        # .filter(['explanation_init_strs', 'explanation_init_ngrams',])\n",
    "        # .head(n=20)\n",
    "    )"
   ]
  }
 ],
 "metadata": {
  "kernelspec": {
   "display_name": ".llm",
   "language": "python",
   "name": "python3"
  },
  "language_info": {
   "codemirror_mode": {
    "name": "ipython",
    "version": 3
   },
   "file_extension": ".py",
   "mimetype": "text/x-python",
   "name": "python",
   "nbconvert_exporter": "python",
   "pygments_lexer": "ipython3",
   "version": "3.9.5"
  },
  "orig_nbformat": 4,
  "vscode": {
   "interpreter": {
    "hash": "a9ff692d44ea03fd8a03facee7621117bbbb82def09bacaacf0a2cbc238b7b91"
   }
  }
 },
 "nbformat": 4,
 "nbformat_minor": 2
}
