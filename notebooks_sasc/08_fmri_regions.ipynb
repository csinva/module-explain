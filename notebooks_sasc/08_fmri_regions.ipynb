{
 "cells": [
  {
   "cell_type": "code",
   "execution_count": null,
   "metadata": {},
   "outputs": [],
   "source": [
    "%load_ext autoreload\n",
    "%autoreload 2\n",
    "import os\n",
    "import matplotlib.pyplot as plt\n",
    "import seaborn as sns\n",
    "from os.path import join\n",
    "from tqdm import tqdm\n",
    "import pandas as pd\n",
    "import sys\n",
    "from typing import List\n",
    "import numpy as np\n",
    "import joblib\n",
    "import imodelsx.util\n",
    "import sasc.viz\n",
    "import pickle as pkl\n",
    "from copy import deepcopy\n",
    "from numpy.linalg import norm\n",
    "from sasc.config import CACHE_DIR, RESULTS_DIR\n",
    "import sasc.modules.fmri_module\n",
    "cache_ngrams_dir = '/home/chansingh/mntv1/deep-fMRI/sasc/mprompt/cache/cache_ngrams'\n",
    "regions_idxs_dir = '/home/chansingh/mntv1/deep-fMRI/sasc/brain_regions'"
   ]
  },
  {
   "cell_type": "code",
   "execution_count": null,
   "metadata": {},
   "outputs": [],
   "source": [
    "ngrams_list = joblib.load(join(cache_ngrams_dir, 'fmri_UTS02_ngrams.pkl'))\n",
    "rois_dict = joblib.load(join(regions_idxs_dir, 'rois_S02.jbl'))"
   ]
  },
  {
   "cell_type": "code",
   "execution_count": null,
   "metadata": {},
   "outputs": [],
   "source": [
    "rois = ['RSC', 'OPA', 'PPA']\n",
    "for k in rois:\n",
    "    assert k in rois_dict"
   ]
  },
  {
   "cell_type": "code",
   "execution_count": null,
   "metadata": {},
   "outputs": [],
   "source": [
    "mod = sasc.modules.fmri_module.fMRIModule(\n",
    "    subject=\"UTS02\",\n",
    "    checkpoint=\"facebook/opt-30b\",\n",
    "    init_model=False,\n",
    "    restrict_weights=False,\n",
    ")\n",
    "embs = joblib.load(join(cache_ngrams_dir, 'fmri_embs.pkl'))\n",
    "outputs = mod(embs=embs, return_all=True)"
   ]
  },
  {
   "cell_type": "code",
   "execution_count": null,
   "metadata": {},
   "outputs": [],
   "source": [
    "rois_dict[k]"
   ]
  },
  {
   "cell_type": "code",
   "execution_count": 21,
   "metadata": {},
   "outputs": [
    {
     "data": {
      "text/plain": [
       "(243, 94251)"
      ]
     },
     "execution_count": 21,
     "metadata": {},
     "output_type": "execute_result"
    }
   ],
   "source": [
    "outputs_dict = {\n",
    "    k: outputs[:, np.array(rois_dict[k])].mean(axis=1)\n",
    "    for k in rois\n",
    "}\n",
    "outputs.shape"
   ]
  },
  {
   "cell_type": "code",
   "execution_count": 27,
   "metadata": {},
   "outputs": [
    {
     "data": {
      "text/html": [
       "<div>\n",
       "<style scoped>\n",
       "    .dataframe tbody tr th:only-of-type {\n",
       "        vertical-align: middle;\n",
       "    }\n",
       "\n",
       "    .dataframe tbody tr th {\n",
       "        vertical-align: top;\n",
       "    }\n",
       "\n",
       "    .dataframe thead th {\n",
       "        text-align: right;\n",
       "    }\n",
       "</style>\n",
       "<table border=\"1\" class=\"dataframe\">\n",
       "  <thead>\n",
       "    <tr style=\"text-align: right;\">\n",
       "      <th></th>\n",
       "      <th>RSC</th>\n",
       "      <th>OPA</th>\n",
       "      <th>PPA</th>\n",
       "    </tr>\n",
       "  </thead>\n",
       "  <tbody>\n",
       "    <tr>\n",
       "      <th>!</th>\n",
       "      <td>0.011897</td>\n",
       "      <td>-0.013787</td>\n",
       "      <td>-0.000993</td>\n",
       "    </tr>\n",
       "    <tr>\n",
       "      <th>! could</th>\n",
       "      <td>0.018953</td>\n",
       "      <td>-0.013941</td>\n",
       "      <td>0.010274</td>\n",
       "    </tr>\n",
       "    <tr>\n",
       "      <th>! could like</th>\n",
       "      <td>0.013322</td>\n",
       "      <td>-0.004487</td>\n",
       "      <td>0.008942</td>\n",
       "    </tr>\n",
       "    <tr>\n",
       "      <th>'</th>\n",
       "      <td>0.004320</td>\n",
       "      <td>-0.031278</td>\n",
       "      <td>-0.007667</td>\n",
       "    </tr>\n",
       "    <tr>\n",
       "      <th>' 's</th>\n",
       "      <td>0.031145</td>\n",
       "      <td>0.004670</td>\n",
       "      <td>0.013857</td>\n",
       "    </tr>\n",
       "    <tr>\n",
       "      <th>...</th>\n",
       "      <td>...</td>\n",
       "      <td>...</td>\n",
       "      <td>...</td>\n",
       "    </tr>\n",
       "    <tr>\n",
       "      <th>'d just say</th>\n",
       "      <td>0.019364</td>\n",
       "      <td>-0.006650</td>\n",
       "      <td>0.002816</td>\n",
       "    </tr>\n",
       "    <tr>\n",
       "      <th>'d just started</th>\n",
       "      <td>0.026087</td>\n",
       "      <td>-0.003321</td>\n",
       "      <td>0.009467</td>\n",
       "    </tr>\n",
       "    <tr>\n",
       "      <th>'d learnt</th>\n",
       "      <td>0.006257</td>\n",
       "      <td>-0.023387</td>\n",
       "      <td>-0.002731</td>\n",
       "    </tr>\n",
       "    <tr>\n",
       "      <th>'d learnt to</th>\n",
       "      <td>0.038807</td>\n",
       "      <td>-0.003242</td>\n",
       "      <td>0.012137</td>\n",
       "    </tr>\n",
       "    <tr>\n",
       "      <th>'d left</th>\n",
       "      <td>0.018914</td>\n",
       "      <td>0.008791</td>\n",
       "      <td>0.019923</td>\n",
       "    </tr>\n",
       "  </tbody>\n",
       "</table>\n",
       "<p>243 rows × 3 columns</p>\n",
       "</div>"
      ],
      "text/plain": [
       "                      RSC       OPA       PPA\n",
       "!                0.011897 -0.013787 -0.000993\n",
       "! could          0.018953 -0.013941  0.010274\n",
       "! could like     0.013322 -0.004487  0.008942\n",
       "'                0.004320 -0.031278 -0.007667\n",
       "' 's             0.031145  0.004670  0.013857\n",
       "...                   ...       ...       ...\n",
       "'d just say      0.019364 -0.006650  0.002816\n",
       "'d just started  0.026087 -0.003321  0.009467\n",
       "'d learnt        0.006257 -0.023387 -0.002731\n",
       "'d learnt to     0.038807 -0.003242  0.012137\n",
       "'d left          0.018914  0.008791  0.019923\n",
       "\n",
       "[243 rows x 3 columns]"
      ]
     },
     "execution_count": 27,
     "metadata": {},
     "output_type": "execute_result"
    }
   ],
   "source": [
    "pd.DataFrame(outputs_dict, index=ngrams_list[:len(outputs)])"
   ]
  }
 ],
 "metadata": {
  "kernelspec": {
   "display_name": ".llm",
   "language": "python",
   "name": "python3"
  },
  "language_info": {
   "codemirror_mode": {
    "name": "ipython",
    "version": 3
   },
   "file_extension": ".py",
   "mimetype": "text/x-python",
   "name": "python",
   "nbconvert_exporter": "python",
   "pygments_lexer": "ipython3",
   "version": "3.11.9"
  },
  "orig_nbformat": 4,
  "vscode": {
   "interpreter": {
    "hash": "a9ff692d44ea03fd8a03facee7621117bbbb82def09bacaacf0a2cbc238b7b91"
   }
  }
 },
 "nbformat": 4,
 "nbformat_minor": 2
}
