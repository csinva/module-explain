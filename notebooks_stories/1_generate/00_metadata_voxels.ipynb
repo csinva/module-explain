{
 "cells": [
  {
   "cell_type": "code",
   "execution_count": null,
   "metadata": {},
   "outputs": [],
   "source": [
    "import pandas as pd\n",
    "story_generate = __import__('01_generate_story')\n",
    "\n",
    "subject = 'UTS02'\n",
    "rows, _, _ = story_generate.get_rows_and_prompts_default(subject=subject,\n",
    "    setting='default',\n",
    "    seed=1,\n",
    "    n_examples_per_prompt_to_consider=35,\n",
    "    n_examples_per_prompt=3,\n",
    "    version='v5_noun')\n",
    "rows['top_ngrams_module_correct'] = rows['top_ngrams_module_correct'].apply(lambda x: x[:5])\n",
    "\n",
    "with pd.option_context('display.max_colwidth', None):\n",
    "    display(rows[['expl', 'roi_func', 'top_ngrams_module_correct']].style.hide(axis='index'))"
   ]
  },
  {
   "cell_type": "code",
   "execution_count": 13,
   "metadata": {},
   "outputs": [],
   "source": [
    "df = rows"
   ]
  },
  {
   "cell_type": "code",
   "execution_count": null,
   "metadata": {},
   "outputs": [],
   "source": []
  }
 ],
 "metadata": {
  "kernelspec": {
   "display_name": ".venv",
   "language": "python",
   "name": "python3"
  },
  "language_info": {
   "codemirror_mode": {
    "name": "ipython",
    "version": 3
   },
   "file_extension": ".py",
   "mimetype": "text/x-python",
   "name": "python",
   "nbconvert_exporter": "python",
   "pygments_lexer": "ipython3",
   "version": "3.11.4"
  },
  "orig_nbformat": 4
 },
 "nbformat": 4,
 "nbformat_minor": 2
}
