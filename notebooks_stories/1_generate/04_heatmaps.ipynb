{
 "cells": [
  {
   "cell_type": "code",
   "execution_count": 4,
   "metadata": {},
   "outputs": [
    {
     "name": "stdout",
     "output_type": "stream",
     "text": [
      "The autoreload extension is already loaded. To reload it, use:\n",
      "  %reload_ext autoreload\n"
     ]
    }
   ],
   "source": [
    "%load_ext autoreload\n",
    "%autoreload 2\n",
    "import os\n",
    "import matplotlib.pyplot as plt\n",
    "import seaborn as sns\n",
    "from os.path import join\n",
    "from tqdm import tqdm\n",
    "import pandas as pd\n",
    "import sys\n",
    "from IPython.display import display, HTML\n",
    "from typing import List\n",
    "import numpy as np\n",
    "import matplotlib\n",
    "import imodelsx.util\n",
    "from copy import deepcopy\n",
    "import re\n",
    "# import sasc.notebook_helper\n",
    "import sasc.viz\n",
    "import scipy.special\n",
    "from collections import defaultdict\n",
    "from pprint import pprint\n",
    "import joblib\n",
    "# import viz\n",
    "from sasc.config import RESULTS_DIR\n",
    "\n",
    "MAIN_DIR = join(RESULTS_DIR, 'pilot_v1', 'interactions')\n",
    "EXPT_DIRS = sorted([join(MAIN_DIR, dir_name) for dir_name in os.listdir(MAIN_DIR)])\n",
    "EXPT_DIR = EXPT_DIRS[0]\n",
    "rows = joblib.load(join(EXPT_DIR, f'rows.pkl'))\n",
    "expls = rows.expl.values\n",
    "prompts_paragraphs = joblib.load(\n",
    "    join(EXPT_DIR, \"prompts_paragraphs.pkl\"),\n",
    ")\n",
    "prompts = prompts_paragraphs[\"prompts\"]\n",
    "paragraphs = prompts_paragraphs[\"paragraphs\"]\n",
    "# paragraphs = rows.paragraph.values\n",
    "# prompts = rows.prompt.values\n",
    "# voxel_nums = rows.module_num.values\n",
    "# subjects = rows.subject.values"
   ]
  },
  {
   "attachments": {},
   "cell_type": "markdown",
   "metadata": {},
   "source": [
    "### Heatmaps"
   ]
  },
  {
   "attachments": {},
   "cell_type": "markdown",
   "metadata": {},
   "source": [
    "**Explanation** <> Story Heatmap"
   ]
  },
  {
   "cell_type": "code",
   "execution_count": 5,
   "metadata": {},
   "outputs": [
    {
     "data": {
      "text/html": [
       "<pre style=\"white-space:pre;overflow-x:auto;line-height:normal;font-family:Menlo,'DejaVu Sans Mono',consolas,'Courier New',monospace\"><span style=\"color: #800000; text-decoration-color: #800000\">╭─────────────────────────────── </span><span style=\"color: #800000; text-decoration-color: #800000; font-weight: bold\">Traceback </span><span style=\"color: #bf7f7f; text-decoration-color: #bf7f7f; font-weight: bold\">(most recent call last)</span><span style=\"color: #800000; text-decoration-color: #800000\"> ────────────────────────────────╮</span>\n",
       "<span style=\"color: #800000; text-decoration-color: #800000\">│</span> in <span style=\"color: #00ff00; text-decoration-color: #00ff00\">&lt;module&gt;</span>:<span style=\"color: #0000ff; text-decoration-color: #0000ff\">2</span>                                                                                    <span style=\"color: #800000; text-decoration-color: #800000\">│</span>\n",
       "<span style=\"color: #800000; text-decoration-color: #800000\">│</span>                                                                                                  <span style=\"color: #800000; text-decoration-color: #800000\">│</span>\n",
       "<span style=\"color: #800000; text-decoration-color: #800000\">│</span>   <span style=\"color: #7f7f7f; text-decoration-color: #7f7f7f\"> 1 </span><span style=\"color: #0000ff; text-decoration-color: #0000ff\">for</span> EXPT_DIR <span style=\"color: #ff00ff; text-decoration-color: #ff00ff\">in</span> EXPT_DIRS[:<span style=\"color: #0000ff; text-decoration-color: #0000ff\">1</span>]:                                                              <span style=\"color: #800000; text-decoration-color: #800000\">│</span>\n",
       "<span style=\"color: #800000; text-decoration-color: #800000\">│</span> <span style=\"color: #800000; text-decoration-color: #800000\">❱ </span> 2 <span style=\"color: #7f7f7f; text-decoration-color: #7f7f7f\">│   </span>scores_data = joblib.load(join(EXPT_DIR, <span style=\"color: #808000; text-decoration-color: #808000\">f\"scores_mod_ngram_length={</span><span style=\"color: #0000ff; text-decoration-color: #0000ff\">0</span><span style=\"color: #808000; text-decoration-color: #808000\">}.pkl\"</span>))           <span style=\"color: #800000; text-decoration-color: #800000\">│</span>\n",
       "<span style=\"color: #800000; text-decoration-color: #800000\">│</span>   <span style=\"color: #7f7f7f; text-decoration-color: #7f7f7f\"> 3 │   </span>s = scores_data[<span style=\"color: #808000; text-decoration-color: #808000\">'scores_mean'</span>].T                                                        <span style=\"color: #800000; text-decoration-color: #800000\">│</span>\n",
       "<span style=\"color: #800000; text-decoration-color: #800000\">│</span>   <span style=\"color: #7f7f7f; text-decoration-color: #7f7f7f\"> 4 │   # s = scipy.special.softmax(s, axis=1)</span>                                                  <span style=\"color: #800000; text-decoration-color: #800000\">│</span>\n",
       "<span style=\"color: #800000; text-decoration-color: #800000\">│</span>   <span style=\"color: #7f7f7f; text-decoration-color: #7f7f7f\"> 5 │   # s = (s - s.min()) / (s.max() - s.min())</span>                                               <span style=\"color: #800000; text-decoration-color: #800000\">│</span>\n",
       "<span style=\"color: #800000; text-decoration-color: #800000\">│</span>                                                                                                  <span style=\"color: #800000; text-decoration-color: #800000\">│</span>\n",
       "<span style=\"color: #800000; text-decoration-color: #800000\">│</span> <span style=\"color: #bfbf7f; text-decoration-color: #bfbf7f\">/home/chansingh/imodelsx/.venv/lib/python3.11/site-packages/joblib/</span><span style=\"color: #808000; text-decoration-color: #808000; font-weight: bold\">numpy_pickle.py</span>:<span style=\"color: #0000ff; text-decoration-color: #0000ff\">650</span> in <span style=\"color: #00ff00; text-decoration-color: #00ff00\">load</span>   <span style=\"color: #800000; text-decoration-color: #800000\">│</span>\n",
       "<span style=\"color: #800000; text-decoration-color: #800000\">│</span>                                                                                                  <span style=\"color: #800000; text-decoration-color: #800000\">│</span>\n",
       "<span style=\"color: #800000; text-decoration-color: #800000\">│</span>   <span style=\"color: #7f7f7f; text-decoration-color: #7f7f7f\">647 │   │   </span><span style=\"color: #0000ff; text-decoration-color: #0000ff\">with</span> _read_fileobject(fobj, filename, mmap_mode) <span style=\"color: #0000ff; text-decoration-color: #0000ff\">as</span> fobj:                          <span style=\"color: #800000; text-decoration-color: #800000\">│</span>\n",
       "<span style=\"color: #800000; text-decoration-color: #800000\">│</span>   <span style=\"color: #7f7f7f; text-decoration-color: #7f7f7f\">648 │   │   │   </span>obj = _unpickle(fobj)                                                          <span style=\"color: #800000; text-decoration-color: #800000\">│</span>\n",
       "<span style=\"color: #800000; text-decoration-color: #800000\">│</span>   <span style=\"color: #7f7f7f; text-decoration-color: #7f7f7f\">649 │   </span><span style=\"color: #0000ff; text-decoration-color: #0000ff\">else</span>:                                                                                  <span style=\"color: #800000; text-decoration-color: #800000\">│</span>\n",
       "<span style=\"color: #800000; text-decoration-color: #800000\">│</span> <span style=\"color: #800000; text-decoration-color: #800000\">❱ </span>650 <span style=\"color: #7f7f7f; text-decoration-color: #7f7f7f\">│   │   </span><span style=\"color: #0000ff; text-decoration-color: #0000ff\">with</span> <span style=\"color: #00ffff; text-decoration-color: #00ffff\">open</span>(filename, <span style=\"color: #808000; text-decoration-color: #808000\">'rb'</span>) <span style=\"color: #0000ff; text-decoration-color: #0000ff\">as</span> f:                                                    <span style=\"color: #800000; text-decoration-color: #800000\">│</span>\n",
       "<span style=\"color: #800000; text-decoration-color: #800000\">│</span>   <span style=\"color: #7f7f7f; text-decoration-color: #7f7f7f\">651 │   │   │   </span><span style=\"color: #0000ff; text-decoration-color: #0000ff\">with</span> _read_fileobject(f, filename, mmap_mode) <span style=\"color: #0000ff; text-decoration-color: #0000ff\">as</span> fobj:                         <span style=\"color: #800000; text-decoration-color: #800000\">│</span>\n",
       "<span style=\"color: #800000; text-decoration-color: #800000\">│</span>   <span style=\"color: #7f7f7f; text-decoration-color: #7f7f7f\">652 │   │   │   │   </span><span style=\"color: #0000ff; text-decoration-color: #0000ff\">if</span> <span style=\"color: #00ffff; text-decoration-color: #00ffff\">isinstance</span>(fobj, <span style=\"color: #00ffff; text-decoration-color: #00ffff\">str</span>):                                                  <span style=\"color: #800000; text-decoration-color: #800000\">│</span>\n",
       "<span style=\"color: #800000; text-decoration-color: #800000\">│</span>   <span style=\"color: #7f7f7f; text-decoration-color: #7f7f7f\">653 │   │   │   │   │   # if the returned file object is a string, this means we</span>               <span style=\"color: #800000; text-decoration-color: #800000\">│</span>\n",
       "<span style=\"color: #800000; text-decoration-color: #800000\">╰──────────────────────────────────────────────────────────────────────────────────────────────────╯</span>\n",
       "<span style=\"color: #ff0000; text-decoration-color: #ff0000; font-weight: bold\">FileNotFoundError: </span><span style=\"font-weight: bold\">[</span>Errno <span style=\"color: #008080; text-decoration-color: #008080; font-weight: bold\">2</span><span style=\"font-weight: bold\">]</span> No such file or directory: \n",
       "<span style=\"color: #008000; text-decoration-color: #008000\">'/home/chansingh/automated-explanations/results/pilot_v1/interactions/uts02___jun14___seed=1/scores_mod_ngram_lengt</span>\n",
       "<span style=\"color: #008000; text-decoration-color: #008000\">h=0.pkl'</span>\n",
       "</pre>\n"
      ],
      "text/plain": [
       "\u001b[31m╭─\u001b[0m\u001b[31m──────────────────────────────\u001b[0m\u001b[31m \u001b[0m\u001b[1;31mTraceback \u001b[0m\u001b[1;2;31m(most recent call last)\u001b[0m\u001b[31m \u001b[0m\u001b[31m───────────────────────────────\u001b[0m\u001b[31m─╮\u001b[0m\n",
       "\u001b[31m│\u001b[0m in \u001b[92m<module>\u001b[0m:\u001b[94m2\u001b[0m                                                                                    \u001b[31m│\u001b[0m\n",
       "\u001b[31m│\u001b[0m                                                                                                  \u001b[31m│\u001b[0m\n",
       "\u001b[31m│\u001b[0m   \u001b[2m 1 \u001b[0m\u001b[94mfor\u001b[0m EXPT_DIR \u001b[95min\u001b[0m EXPT_DIRS[:\u001b[94m1\u001b[0m]:                                                              \u001b[31m│\u001b[0m\n",
       "\u001b[31m│\u001b[0m \u001b[31m❱ \u001b[0m 2 \u001b[2m│   \u001b[0mscores_data = joblib.load(join(EXPT_DIR, \u001b[33mf\u001b[0m\u001b[33m\"\u001b[0m\u001b[33mscores_mod_ngram_length=\u001b[0m\u001b[33m{\u001b[0m\u001b[94m0\u001b[0m\u001b[33m}\u001b[0m\u001b[33m.pkl\u001b[0m\u001b[33m\"\u001b[0m))           \u001b[31m│\u001b[0m\n",
       "\u001b[31m│\u001b[0m   \u001b[2m 3 \u001b[0m\u001b[2m│   \u001b[0ms = scores_data[\u001b[33m'\u001b[0m\u001b[33mscores_mean\u001b[0m\u001b[33m'\u001b[0m].T                                                        \u001b[31m│\u001b[0m\n",
       "\u001b[31m│\u001b[0m   \u001b[2m 4 \u001b[0m\u001b[2m│   \u001b[0m\u001b[2m# s = scipy.special.softmax(s, axis=1)\u001b[0m                                                  \u001b[31m│\u001b[0m\n",
       "\u001b[31m│\u001b[0m   \u001b[2m 5 \u001b[0m\u001b[2m│   \u001b[0m\u001b[2m# s = (s - s.min()) / (s.max() - s.min())\u001b[0m                                               \u001b[31m│\u001b[0m\n",
       "\u001b[31m│\u001b[0m                                                                                                  \u001b[31m│\u001b[0m\n",
       "\u001b[31m│\u001b[0m \u001b[2;33m/home/chansingh/imodelsx/.venv/lib/python3.11/site-packages/joblib/\u001b[0m\u001b[1;33mnumpy_pickle.py\u001b[0m:\u001b[94m650\u001b[0m in \u001b[92mload\u001b[0m   \u001b[31m│\u001b[0m\n",
       "\u001b[31m│\u001b[0m                                                                                                  \u001b[31m│\u001b[0m\n",
       "\u001b[31m│\u001b[0m   \u001b[2m647 \u001b[0m\u001b[2m│   │   \u001b[0m\u001b[94mwith\u001b[0m _read_fileobject(fobj, filename, mmap_mode) \u001b[94mas\u001b[0m fobj:                          \u001b[31m│\u001b[0m\n",
       "\u001b[31m│\u001b[0m   \u001b[2m648 \u001b[0m\u001b[2m│   │   │   \u001b[0mobj = _unpickle(fobj)                                                          \u001b[31m│\u001b[0m\n",
       "\u001b[31m│\u001b[0m   \u001b[2m649 \u001b[0m\u001b[2m│   \u001b[0m\u001b[94melse\u001b[0m:                                                                                  \u001b[31m│\u001b[0m\n",
       "\u001b[31m│\u001b[0m \u001b[31m❱ \u001b[0m650 \u001b[2m│   │   \u001b[0m\u001b[94mwith\u001b[0m \u001b[96mopen\u001b[0m(filename, \u001b[33m'\u001b[0m\u001b[33mrb\u001b[0m\u001b[33m'\u001b[0m) \u001b[94mas\u001b[0m f:                                                    \u001b[31m│\u001b[0m\n",
       "\u001b[31m│\u001b[0m   \u001b[2m651 \u001b[0m\u001b[2m│   │   │   \u001b[0m\u001b[94mwith\u001b[0m _read_fileobject(f, filename, mmap_mode) \u001b[94mas\u001b[0m fobj:                         \u001b[31m│\u001b[0m\n",
       "\u001b[31m│\u001b[0m   \u001b[2m652 \u001b[0m\u001b[2m│   │   │   │   \u001b[0m\u001b[94mif\u001b[0m \u001b[96misinstance\u001b[0m(fobj, \u001b[96mstr\u001b[0m):                                                  \u001b[31m│\u001b[0m\n",
       "\u001b[31m│\u001b[0m   \u001b[2m653 \u001b[0m\u001b[2m│   │   │   │   │   \u001b[0m\u001b[2m# if the returned file object is a string, this means we\u001b[0m               \u001b[31m│\u001b[0m\n",
       "\u001b[31m╰──────────────────────────────────────────────────────────────────────────────────────────────────╯\u001b[0m\n",
       "\u001b[1;91mFileNotFoundError: \u001b[0m\u001b[1m[\u001b[0mErrno \u001b[1;36m2\u001b[0m\u001b[1m]\u001b[0m No such file or directory: \n",
       "\u001b[32m'/home/chansingh/automated-explanations/results/pilot_v1/interactions/\u001b[0m\u001b[32muts02___jun14___seed\u001b[0m\u001b[32m=\u001b[0m\u001b[32m1\u001b[0m\u001b[32m/\u001b[0m\u001b[32mscores_mod_ngram_lengt\u001b[0m\n",
       "\u001b[32mh\u001b[0m\u001b[32m=\u001b[0m\u001b[32m0\u001b[0m\u001b[32m.pkl'\u001b[0m\n"
      ]
     },
     "metadata": {},
     "output_type": "display_data"
    }
   ],
   "source": [
    "for EXPT_DIR in EXPT_DIRS[:1]:\n",
    "    scores_data = joblib.load(join(EXPT_DIR, f\"scores_mod_ngram_length={0}.pkl\"))\n",
    "    s = scores_data['scores_mean'].T\n",
    "    # s = scipy.special.softmax(s, axis=1)\n",
    "    # s = (s - s.min()) / (s.max() - s.min())\n",
    "    rows = joblib.load(join(EXPT_DIR, f'rows1_rep.pkl'))\n",
    "    expls = rows.expl.values\n",
    "    sasc.viz.heatmap(s, expls, ylab='Story', xlab='Explanation')\n",
    "    # plt.savefig(join(RESULTS_DIR, 'stories', f'{EXPT_NAME}_story_data_match.png'), dpi=300)\n",
    "    # plt.savefig(join(RESULTS_DIR, 'stories', f'{EXPT_NAME}_story_data_match.pdf'), bbox_inches='tight')\n",
    "    # plt.tight_layout()\n",
    "    # plt.show()\n",
    "# sasc.viz.save_figs_to_single_pdf('../results/expl_story_match.pdf')"
   ]
  },
  {
   "attachments": {},
   "cell_type": "markdown",
   "metadata": {},
   "source": [
    "**Module** <> Story Heatmap"
   ]
  },
  {
   "cell_type": "code",
   "execution_count": null,
   "metadata": {},
   "outputs": [],
   "source": [
    "for EXPT_DIR in EXPT_DIRS[:1]:\n",
    "    # keys: scores_mod, scores_max_mod, all_scores, all_ngrams\n",
    "    # ngram_lengths = [10, 50, 100, 384]\n",
    "    ngram_lengths = [0]\n",
    "    for ngram_length in ngram_lengths:\n",
    "        scores_mod_dict = joblib.load(join(EXPT_DIR, f'scores_mod_ngram_length={ngram_length}.pkl'))\n",
    "        rows = joblib.load(join(EXPT_DIR, f'rows1_rep.pkl'))\n",
    "        expls = rows.expl.values\n",
    "\n",
    "        s = scores_mod_dict['scores_mean'].T\n",
    "        s = scipy.special.softmax(s, axis=0)\n",
    "        # s = (s - s.min()) / (s.max() - s.min())\n",
    "        sasc.viz.heatmap(s, expls, ylab='Story', xlab='Module (fit to fMRI voxel)', clab='Mean module response')\n",
    "\n",
    "        n = s.shape[0]\n",
    "        # plt.plot([0, n], [0, n], '--', color='gray', alpha=0.1)\n",
    "        plt.title(f'Model window: {ngram_length} words', fontsize='small')\n",
    "        plt.savefig(join(EXPT_DIR, f'mod_story_match_ngram_length={ngram_length}.png'), dpi=300)\n",
    "        plt.savefig(join(EXPT_DIR, f'mod_story_match_ngram_length={ngram_length}.png'), bbox_inches='tight')\n",
    "        # plt.show()\n",
    "# sasc.viz.save_figs_to_single_pdf('../results/expl_mod_match.pdf')"
   ]
  },
  {
   "attachments": {},
   "cell_type": "markdown",
   "metadata": {},
   "source": [
    "### Best voxels automated"
   ]
  },
  {
   "cell_type": "code",
   "execution_count": null,
   "metadata": {},
   "outputs": [],
   "source": [
    "vox_diffs = defaultdict(list)\n",
    "for EXPT_DIR in EXPT_DIRS:\n",
    "    ngram_length = 0\n",
    "    scores_mod_dict = joblib.load(join(EXPT_DIR, f'scores_mod_ngram_length={ngram_length}.pkl'))\n",
    "    rows = joblib.load(join(EXPT_DIR, f'rows.pkl'))\n",
    "    expls = rows.expl.values\n",
    "\n",
    "\n",
    "    s = scores_mod_dict['scores_mean'].T\n",
    "    s = scipy.special.softmax(s, axis=0)\n",
    "\n",
    "    BLOCK_SIZE = 4\n",
    "    for i in range(0, rows.shape[0]):\n",
    "        row = rows.iloc[i]\n",
    "        s_row = s[i]\n",
    "        block_idxs = range((i // BLOCK_SIZE) * BLOCK_SIZE, (i // BLOCK_SIZE + 1) * BLOCK_SIZE)\n",
    "        diff = s_row[i] - np.mean([s_row[j] for j in range(s_row.shape[0]) if j not in block_idxs])\n",
    "        vox_diffs[(row.module_num, row.expl)].append(diff)\n",
    "vox_diffs = {k: np.mean(v) for k, v in vox_diffs.items()}"
   ]
  },
  {
   "cell_type": "code",
   "execution_count": null,
   "metadata": {},
   "outputs": [],
   "source": [
    "# display all rows\n",
    "with pd.option_context('display.max_rows', None, 'display.max_columns', None):\n",
    "    display(pd.DataFrame(vox_diffs.items()).sort_values(1, ascending=False).head(30))"
   ]
  }
 ],
 "metadata": {
  "kernelspec": {
   "display_name": ".llm",
   "language": "python",
   "name": "python3"
  },
  "language_info": {
   "codemirror_mode": {
    "name": "ipython",
    "version": 3
   },
   "file_extension": ".py",
   "mimetype": "text/x-python",
   "name": "python",
   "nbconvert_exporter": "python",
   "pygments_lexer": "ipython3",
   "version": "3.11.4"
  },
  "orig_nbformat": 4,
  "vscode": {
   "interpreter": {
    "hash": "a9ff692d44ea03fd8a03facee7621117bbbb82def09bacaacf0a2cbc238b7b91"
   }
  }
 },
 "nbformat": 4,
 "nbformat_minor": 2
}
