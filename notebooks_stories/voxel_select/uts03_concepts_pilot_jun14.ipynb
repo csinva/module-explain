{
 "cells": [
  {
   "cell_type": "code",
   "execution_count": null,
   "metadata": {},
   "outputs": [],
   "source": [
    "%load_ext autoreload\n",
    "%autoreload 2\n",
    "import os\n",
    "import matplotlib.pyplot as plt\n",
    "import seaborn as sns\n",
    "from os.path import join\n",
    "from tqdm import tqdm\n",
    "import pandas as pd\n",
    "from typing import List\n",
    "import numpy as np\n",
    "import sys\n",
    "sys.path.append('..')\n",
    "import json\n",
    "EXPT_NAME = 'uts03_concepts_pilot_jun14'"
   ]
  },
  {
   "cell_type": "code",
   "execution_count": null,
   "metadata": {},
   "outputs": [],
   "source": [
    "r = (pd.read_pickle('../../results/results_fmri_full_1500.pkl')\n",
    "    .sort_values(by=['top_score_synthetic'], ascending=False))\n",
    "r['id'] = \"('\" + r['top_explanation_init_strs'].str.replace(' ', '_').str.slice(stop=20) + \"', '\" + r['subject'] + \"', \" + r['module_num'].astype(str) + \"),\"    \n",
    "r = r[r.subject == 'UTS03']"
   ]
  },
  {
   "cell_type": "code",
   "execution_count": null,
   "metadata": {},
   "outputs": [],
   "source": [
    "D = {\n",
    "    \"temporal\": [\n",
    "        ('Time passing', 'UTS03', 171),\n",
    "    ],\n",
    "    \"numeric\": [\n",
    "        ('Birthdays, birth years', 'UTS03', 39),\t\n",
    "        ('Measurements (distance and time)', 'UTS03', 253),\t\n",
    "    ],\n",
    "    \"locational\": [\n",
    "        ('Distance or proximity', 'UTS03', 377),\t\n",
    "        ('Travel and movement', 'UTS03', 404),\t\n",
    "        ('Location or place', 'UTS03', 56),\t\n",
    "    ],\n",
    "    \"emotional\": [\n",
    "        (\"Surprise, confusion\", \"UTS03\", 161),\n",
    "        ('Emotional expressions', 'UTS03', 47),\t\n",
    "        ('Self-reflection', 'UTS03', 305),\t\n",
    "        ('Laughter', 'UTS03', 110),\t\n",
    "        ('Profanity', 'UTS03', 439),\t\n",
    "        ('Love and joy', 'UTS03', 337),\t\n",
    "    ],\n",
    "    \"social\": [\n",
    "        (\"Relationships and emotions\", \"UTS03\", 494),\n",
    "        ('Family and friends', 'UTS03', 339),\t\n",
    "        ('Relationships', 'UTS03', 354),\t\n",
    "        ('Speaking / responding', 'UTS03', 343),\t\n",
    "    ],\n",
    "    \"professional\": [],\n",
    "    # extra labels\n",
    "    \"food\": [\n",
    "        ('Food and drinks', 'UTS03', 481),\t\n",
    "    ],\n",
    "    \"movement\": [\n",
    "        (\"Physical movement\", \"UTS03\", 215),\n",
    "        (\"Physical injury\", \"UTS03\", 148),\n",
    "        (\"Physical actions\", \"UTS03\", 121),\n",
    "        ('Physical movement', 'UTS03', 393),\t\n",
    "        ('physical_contact_or_', 'UTS03', 331),\t\n",
    "        ('physical_contact_or_', 'UTS03', 288),\t\n",
    "        ('Body language', 'UTS03', 99),\t\n",
    "    ],\n",
    "    \"manual\": [\n",
    "        ('Lying, deception', 'UTS03', 246),\t\n",
    "        ('Unhealthy', 'UTS03', 400),\t\n",
    "        ('Vomiting, sickness', 'UTS03', 395),\t\n",
    "        ('Hair and clothing', 'UTS03', 24),\t\n",
    "    ],\n",
    "}\n",
    "json.dump(D, open(f\"{EXPT_NAME}.json\", \"w\"), indent=0)  # , indent=4)"
   ]
  },
  {
   "cell_type": "code",
   "execution_count": null,
   "metadata": {},
   "outputs": [],
   "source": [
    "# display all rows\n",
    "with pd.option_context('display.max_rows', None, 'display.max_columns', None, 'display.max_colwidth', 200):\n",
    "    display(r.sort_values(by=['top_score_synthetic'], ascending=False)[[\n",
    "        'id', 'top_explanation_init_strs', 'fmri_test_corr', 'frac_top_ngrams_module_correct', 'top_score_synthetic', 'top_ngrams_module_correct',\n",
    "    ]].round(3))"
   ]
  },
  {
   "cell_type": "code",
   "execution_count": null,
   "metadata": {},
   "outputs": [],
   "source": [
    "with pd.option_context('display.max_rows', None, 'display.max_columns', None, 'display.max_colwidth', 200):\n",
    "    display(r[['id', 'top_explanation_init_strs']].sort_values(by='id').transpose())"
   ]
  }
 ],
 "metadata": {
  "kernelspec": {
   "display_name": ".llm",
   "language": "python",
   "name": "python3"
  },
  "language_info": {
   "codemirror_mode": {
    "name": "ipython",
    "version": 3
   },
   "file_extension": ".py",
   "mimetype": "text/x-python",
   "name": "python",
   "nbconvert_exporter": "python",
   "pygments_lexer": "ipython3",
   "version": "3.11.3"
  },
  "orig_nbformat": 4,
  "vscode": {
   "interpreter": {
    "hash": "a9ff692d44ea03fd8a03facee7621117bbbb82def09bacaacf0a2cbc238b7b91"
   }
  }
 },
 "nbformat": 4,
 "nbformat_minor": 2
}
