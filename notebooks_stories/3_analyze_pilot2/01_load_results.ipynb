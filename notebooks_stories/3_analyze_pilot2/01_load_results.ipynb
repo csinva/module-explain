{
 "cells": [
  {
   "cell_type": "code",
   "execution_count": 3,
   "metadata": {},
   "outputs": [
    {
     "name": "stdout",
     "output_type": "stream",
     "text": [
      "The autoreload extension is already loaded. To reload it, use:\n",
      "  %reload_ext autoreload\n"
     ]
    }
   ],
   "source": [
    "%load_ext autoreload\n",
    "%autoreload 2\n",
    "import os\n",
    "import matplotlib.pyplot as plt\n",
    "import seaborn as sns\n",
    "from os.path import join\n",
    "from tqdm import tqdm\n",
    "import pandas as pd\n",
    "import sys\n",
    "import joblib\n",
    "from scipy.special import softmax\n",
    "import sasc.config\n",
    "import numpy as np\n",
    "from collections import defaultdict\n",
    "from copy import deepcopy\n",
    "import pandas as pd\n",
    "# import story_helper\n",
    "from sasc.modules.fmri_module import convert_module_num_to_voxel_num\n",
    "from sasc.config import FMRI_DIR"
   ]
  },
  {
   "cell_type": "code",
   "execution_count": 4,
   "metadata": {},
   "outputs": [
    {
     "data": {
      "text/plain": [
       "['/home/chansingh/automated-explanations/results/pilot2_story_data.pkl']"
      ]
     },
     "execution_count": 4,
     "metadata": {},
     "output_type": "execute_result"
    }
   ],
   "source": [
    "# load stuff\n",
    "# double check all of these, intro paragraph may be the same...\n",
    "story_mapping = {\n",
    "    \"interactions/uts02___jun14___seed=1\": \"GenStory7_resps.npy\",\n",
    "    \"interactions/uts02___jun14___seed=4\": \"GenStory8_resps.npy\",\n",
    "    \"polysemantic/uts02___jun14___seed=6\": \"GenStory9_resps.npy\",\n",
    "    \"polysemantic/uts02___jun14___seed=1\": \"GenStory10_resps.npy\",\n",
    "}\n",
    "\n",
    "STORIES_DIR = join(sasc.config.RESULTS_DIR, \"stories\")\n",
    "story_names = story_mapping.keys()  # os.listdir(STORIES_DIR)\n",
    "# cluster_neighbors = joblib.load(join(FMRI_DIR, \"voxel_neighbors_and_pcs\", \"cluster_neighbors_v1.pkl\"))\n",
    "perfs = joblib.load(join(sasc.config.FMRI_DIR, 'rj_models', 'opt_model', 'new_setup_performance.jbl'))\n",
    "\n",
    "# process with timings\n",
    "story_data = defaultdict(list)\n",
    "for story_idx, story_name in enumerate(story_names):\n",
    "    story_data[\"timing\"].append(\n",
    "        pd.read_csv(join(STORIES_DIR, story_name, \"timings_processed.csv\"))\n",
    "    )\n",
    "    story_data[\"story_name_original\"].append(story_name)\n",
    "    story_data[\"story_name_new\"].append(story_mapping[story_name])\n",
    "    story_data[\"story_text\"].append(\n",
    "        open(join(STORIES_DIR, story_name, \"story.txt\"), \"r\").read()\n",
    "    )\n",
    "    prompts_paragraphs = joblib.load(\n",
    "        join(STORIES_DIR, story_name, \"prompts_paragraphs.pkl\")\n",
    "    )\n",
    "    story_data[\"prompts\"].append(prompts_paragraphs[\"prompts\"])\n",
    "    story_data[\"paragraphs\"].append(prompts_paragraphs[\"paragraphs\"])\n",
    "\n",
    "    # rows\n",
    "    # rows = pd.read_csv(join(STORIES_DIR, story_name, \"rows.csv\"))\n",
    "    rows = pd.read_pickle(join(STORIES_DIR, story_name, \"rows.pkl\"))\n",
    "    rows[\"voxel_num\"] = rows.apply(\n",
    "        lambda row: convert_module_num_to_voxel_num(row[\"module_num\"], row[\"subject\"]),\n",
    "        axis=1,\n",
    "    )\n",
    "    rows = rows[\n",
    "        [\n",
    "            \"expl\",\n",
    "            \"module_num\",\n",
    "            \"top_explanation_init_strs\",\n",
    "            \"subject\",\n",
    "            \"fmri_test_corr\",\n",
    "            \"top_score_synthetic\",\n",
    "            \"roi_anat\",\n",
    "            \"roi_func\",\n",
    "            \"voxel_num\",\n",
    "        ]\n",
    "    ]\n",
    "    rows['test_corr_new'] = rows['voxel_num'].apply(lambda x: perfs[x])\n",
    "    # rows['cluster_nums'] = rows['voxel_num'].map(cluster_neighbors)\n",
    "    story_data[\"rows\"].append(rows)\n",
    "\n",
    "    if \"interactions\" in list(story_mapping.keys())[story_idx]:\n",
    "        rows1 = pd.read_pickle(join(STORIES_DIR, story_name, \"rows1.pkl\"))\n",
    "        rows2 = pd.read_pickle(join(STORIES_DIR, story_name, \"rows2.pkl\"))\n",
    "        rows1[\"voxel_num\"] = rows1.apply(\n",
    "            lambda row: convert_module_num_to_voxel_num(\n",
    "                row[\"module_num\"], row[\"subject\"]\n",
    "            ),\n",
    "            axis=1,\n",
    "        )\n",
    "        rows2[\"voxel_num\"] = rows2.apply(\n",
    "            lambda row: convert_module_num_to_voxel_num(\n",
    "                row[\"module_num\"], row[\"subject\"]\n",
    "            ),\n",
    "            axis=1,\n",
    "        )\n",
    "        story_data['voxel_num1'].append(rows1['voxel_num'])\n",
    "        story_data['voxel_num2'].append(rows2['voxel_num'])\n",
    "        story_data['expl1'].append(rows1['expl'])\n",
    "        story_data['expl2'].append(rows2['expl'])\n",
    "\n",
    "\n",
    "joblib.dump(story_data, join(sasc.config.RESULTS_DIR, \"pilot2_story_data.pkl\"))"
   ]
  }
 ],
 "metadata": {
  "kernelspec": {
   "display_name": ".llm",
   "language": "python",
   "name": "python3"
  },
  "language_info": {
   "codemirror_mode": {
    "name": "ipython",
    "version": 3
   },
   "file_extension": ".py",
   "mimetype": "text/x-python",
   "name": "python",
   "nbconvert_exporter": "python",
   "pygments_lexer": "ipython3",
   "version": "3.11.4"
  },
  "orig_nbformat": 4,
  "vscode": {
   "interpreter": {
    "hash": "a9ff692d44ea03fd8a03facee7621117bbbb82def09bacaacf0a2cbc238b7b91"
   }
  }
 },
 "nbformat": 4,
 "nbformat_minor": 2
}
