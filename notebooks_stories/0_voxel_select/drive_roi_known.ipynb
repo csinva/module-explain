{
 "cells": [
  {
   "cell_type": "code",
   "execution_count": null,
   "metadata": {},
   "outputs": [],
   "source": [
    "%load_ext autoreload\n",
    "%autoreload 2\n",
    "import os\n",
    "import matplotlib.pyplot as plt\n",
    "import seaborn as sns\n",
    "from os.path import join\n",
    "from tqdm import tqdm\n",
    "import pandas as pd\n",
    "import sys\n",
    "from typing import List\n",
    "import numpy as np\n",
    "import joblib\n",
    "from pprint import pprint\n",
    "import imodelsx.util\n",
    "import sasc.viz\n",
    "import pickle as pkl\n",
    "import json\n",
    "from copy import deepcopy\n",
    "from numpy.linalg import norm\n",
    "from sasc.config import CACHE_DIR, RESULTS_DIR, cache_ngrams_dir, regions_idxs_dir\n",
    "import sasc.modules.fmri_module\n",
    "ngrams_list = joblib.load(join(cache_ngrams_dir, 'fmri_UTS02_ngrams.pkl')) # ngrams are same for both models\n",
    "\n",
    "# subject = 'S02'\n",
    "subject = 'S03'\n",
    "rois_dict = joblib.load(join(regions_idxs_dir, f'rois_{subject}.jbl'))"
   ]
  },
  {
   "cell_type": "code",
   "execution_count": null,
   "metadata": {},
   "outputs": [],
   "source": [
    "sorted(rois_dict.keys())\n",
    "if subject == 'S03':\n",
    "    rois_dict['OPA'] = rois_dict['TOS']"
   ]
  },
  {
   "cell_type": "markdown",
   "metadata": {},
   "source": [
    "### Get predictions from embs"
   ]
  },
  {
   "cell_type": "code",
   "execution_count": null,
   "metadata": {},
   "outputs": [],
   "source": [
    "# embs = joblib.load(join(cache_ngrams_dir, 'fmri_embs.pkl'))\n",
    "embs = joblib.load(join(cache_ngrams_dir, 'fmri_embs_llama.pkl'))\n",
    "mod = sasc.modules.fmri_module.fMRIModule(\n",
    "    subject=f\"UT{subject}\",\n",
    "    # checkpoint=\"facebook/opt-30b\",\n",
    "    checkpoint=\"huggyllama/llama-30b\",\n",
    "    init_model=False,\n",
    "    restrict_weights=False,\n",
    ")\n",
    "voxel_preds = mod(embs=embs, return_all=True)\n",
    "outputs_dict = {\n",
    "    k: voxel_preds[:, np.array(rois_dict[k])].mean(axis=1)\n",
    "    for k in rois_dict\n",
    "}\n",
    "joblib.dump(outputs_dict, join(\n",
    "    # cache_ngrams_dir, f'rois_ngram_outputs_dict_{subject}_opt.pkl'))\n",
    "    cache_ngrams_dir, f'rois_ngram_outputs_dict_{subject}_llama.pkl'))"
   ]
  },
  {
   "cell_type": "markdown",
   "metadata": {},
   "source": [
    "### Load outputs"
   ]
  },
  {
   "cell_type": "code",
   "execution_count": null,
   "metadata": {},
   "outputs": [],
   "source": [
    "outputs_dict = joblib.load(\n",
    "    join(cache_ngrams_dir, f'rois_ngram_outputs_dict_{subject}_opt.pkl'))\n",
    "df_opt = pd.DataFrame(outputs_dict, index=ngrams_list)\n",
    "outputs_dict = joblib.load(\n",
    "    join(cache_ngrams_dir, f'rois_ngram_outputs_dict_{subject}_llama.pkl'))\n",
    "df_llama = pd.DataFrame(outputs_dict, index=ngrams_list)\n",
    "df = df_opt + df_llama\n",
    "ROIS_LOC = ['RSC', 'PPA', 'OPA']  # 'OPA', 'PPA']\n",
    "for k in ROIS_LOC:\n",
    "    df_opt[k + '_only'] = df_opt[k] - \\\n",
    "        df_opt[[c for c in ROIS_LOC if c != k]].mean(axis=1)\n",
    "    df_llama[k + '_only'] = df_llama[k] - \\\n",
    "        df_llama[[c for c in ROIS_LOC if c != k]].mean(axis=1)\n",
    "    df[k + '_only'] = df[k] - \\\n",
    "        df[[c for c in ROIS_LOC if c != k]].mean(axis=1)"
   ]
  },
  {
   "cell_type": "code",
   "execution_count": null,
   "metadata": {},
   "outputs": [],
   "source": [
    "stability_scores = {\n",
    "    k: np.corrcoef(df_opt[k], df_llama[k])[0, 1]\n",
    "    for k in df.columns\n",
    "}"
   ]
  },
  {
   "cell_type": "code",
   "execution_count": null,
   "metadata": {},
   "outputs": [],
   "source": [
    "ascending = False  # should be false to get driving ngrams\n",
    "top_ngrams_dict = {}\n",
    "for k in df.columns:\n",
    "    top_ngrams_dict[k] = df.sort_values(\n",
    "        k, ascending=ascending).index[:100].tolist()\n",
    "    # if k in ROIS_LOC:\n",
    "\n",
    "    # top_ngrams_dict[k + '_only'] = df.sort_values(\n",
    "    # k + '_only', ascending=ascending).index[:100].tolist()\n",
    "top_ngrams_df = pd.DataFrame(top_ngrams_dict)\n",
    "top_ngrams_df.to_csv(f'top_ngrams_by_roi_{subject}.csv')\n",
    "with pd.option_context('display.max_rows', None):\n",
    "    rois = ['RSC', 'OPA', 'PPA', 'IPS', 'pSTS', 'sPMv',\n",
    "            'EBA', 'OFA'] + ['RSC_only', 'OPA_only', 'PPA_only']\n",
    "    rois = [r for r in rois if not r == 'pSTS']  # never localized pSTS in S03\n",
    "    display(top_ngrams_df[rois])"
   ]
  },
  {
   "cell_type": "code",
   "execution_count": null,
   "metadata": {},
   "outputs": [],
   "source": [
    "gpt4 = imodelsx.llm.get_llm('gpt-4-turbo-0125-spot')\n",
    "try:\n",
    "    explanations = json.load(open(f'explanations_by_roi_{subject}.json', 'r'))\n",
    "except:\n",
    "    explanations = {}\n",
    "for k in top_ngrams_df.columns:\n",
    "\n",
    "    s = '- ' + '\\n- '.join(top_ngrams_df[k].iloc[:60])\n",
    "    prompt = f'''Here is a list of phrases:\n",
    "    {s}\n",
    "\n",
    "    What is a common theme among these phrases? Return only a concise phrase.'''\n",
    "    if not k in explanations:\n",
    "        explanations[k] = gpt4(prompt)\n",
    "json.dump(explanations, open(\n",
    "    f'explanations_by_roi_{subject}.json', 'w'), indent=4)"
   ]
  },
  {
   "cell_type": "code",
   "execution_count": null,
   "metadata": {},
   "outputs": [],
   "source": [
    "{k: explanations[k] for k in rois}"
   ]
  },
  {
   "cell_type": "code",
   "execution_count": 22,
   "metadata": {},
   "outputs": [
    {
     "name": "stdout",
     "output_type": "stream",
     "text": [
      "['my trapper keeper', 'a garbage bag', 'placemats some crayons', 'on paper plates', 'that garbage bag', \"'re throwing napkins\", 'box of discarded', 'your worry beads', 'of wrapping paper', 'a fire hose', 'a business card', 'of sweatpants', \"'d grown napkins\", 'wrapped my napkin', 'in sugar jars', 'two room school', 'their chew toys', 'his flannel shirt', 'grabbed the trashbag', 'garbage bag', 'those plastic containers', 'his bathrobe', 'their cigarette wrappers', 'an overturned cardboard', 'socks and loafers', 'that beach towel', 'the air mattress', 'my bathrobe', 'our dishwasher', 'a bathrobe', 'the cough syrup', 'a stuffed animal', 'skivvies toothbrush floss', 'an air mattress', 'powerlifting cinder blocks', 'glasses of cheap', 'chew toys', 'of cheap beer', 'bath in bathrobes', 'a hospital bed', 'the tiny crumpled', 'throwing napkins', 'the laundry hamper', 'overturned cardboard box', 'like your shirt', 'wearing sweatpants', 'a trash can', 'milk bottle tops', 'was wearing sweatpants', 'fire hose', 'my stuffed animal', 'sad moving van', 'neon protest signs', 'his bike shoes', 'an index card', 'a sweat pants', 'knocking back cans', 'want a mcflurry', 'backyard wielded screwdrivers', 'in a bathrobe', 'stuffed animal', 'napkins', 'bring place mats', 'tiny crumpled', 'napkin', 'a checked suitcase', 'a ritalin drip', 'could fix tractors', 'sugar jars', 'the hospital blanket', 'see that jar', 'a sleeping bag', 'bought a couch', 'crawford wire hanger', 'their beach chairs', 'vomit smelling couch', 'moldy beach umbrellas', 'and my stapler', 'grabbed a comforter', 'boxed the towels', 'grown napkins', 'change a diaper', 'a paper airplane', 'the moving van', 'briefcase filled', 'my cheese sandwich', 'cases of beer', 'in something silky', 'a cheese sandwich', 'overpriced coffee shops', 'beach towel', 'white chef coat', 'some lighter fluid', 'salad and stale', 'worry beads', 'vomited a washpan', 'the copier room', 'these brown paper', 'the pay phone', 'off my bathrobe']\n"
     ]
    }
   ],
   "source": [
    "print(top_ngrams_df['PPA_only'].values.tolist())"
   ]
  },
  {
   "cell_type": "markdown",
   "metadata": {},
   "source": [
    "### S03 Export selected rois to pkl"
   ]
  },
  {
   "cell_type": "code",
   "execution_count": 24,
   "metadata": {},
   "outputs": [
    {
     "name": "stdout",
     "output_type": "stream",
     "text": [
      "\"RSC\": ['was led upstairs', 'onto the subway', 'to the hallway', 'in the hallway', 'we ran upstairs', 'drove to washington', 'exit the subway', 'back through london', 'on the subway', 'and darted downstairs', 'past the offices', 'long hallway toward', 'down the sidewalk', 'back in manhattan', 'we go downstairs', 'reached the interstate', 'onto the sidewalk', 'this long hallway', 'just blocks away', 'up the stairs', 'to my dorm', 'in lower manhattan', 'on the sidewalk', 'down the corridor', 'took the subway', 'drove from vermont', 'was standing outside', 'to a courtyard', 'in the alley', 'up the coast', 'from my dorm', 'in the courtyard', 'in central park', 'i walk outside', 'here in manhattan', 'darted downstairs', 'facing the beach', 'walk through downtown', 'wander the hallways', 'i ran downstairs', 'down the hall', \"'m standing outside\", 'off into vancouver', 'through the streets', 'sitting in indianapolis', 'on sixth avenue', 'i go upstairs', 'across the street', 'arrived in indianapolis', 'we were downtown'], \n",
      "\"OPA\": ['railing looking out', 'across a plateau', 'up the coast', 'against the railing', 'in the courtyard', 'up the hill', 'above the gulf', 'outside the windows', 'long hallway toward', 'over the gulf', 'past the offices', 'through the windows', 'beside the river', 'past the waterfall', 'across the bridge', 'this long hallway', 'to a courtyard', 'and the courtyard', 'and behind me', 'down this embankment', 'towards the river', 'the hill up', 'courtyard was surrounded', 'in an alcove', 'onto the railing', 'along the coast', 'up the stairs', 'across the quadrangle', 'facing the beach', 'to the north', 'down the corridor', 'through the gates', 'over the embankment', 'onto the bridge', 'down that corridor', 'down the sidewalk', 'i looked across', 'path that jutted', 'through this door', 'the lagoon behind', 'down the embankment', 'on the railing', 'on the embankment', 'through the doors', 'on the windowsill', 'corridor out onto', 'the buildings beside', 'to the hallway', 'by that window', 'past the city'], \n",
      "\"PPA\": ['in an alcove', 'on the stoop', 'past the offices', 'against the railing', 'on the windowsill', 'in the alley', 'to a courtyard', 'the copier room', 'in the courtyard', 'this long hallway', 'to the hallway', 'on a dock', 'in the hallway', 'long hallway toward', 'outside the windows', 'on that terrace', 'inside the hut', 'railing looking out', 'through the windows', 'down this embankment', 'on the subway', 'onto the subway', 'there were shelves', 'in my cubicle', 'a strip mall', 'on the sidewalk', 'in the colonnade', 'on the railing', 'into the basement', 'across the parking', 'a restaurant stoop', 'onto the railing', 'exit the subway', 'by the window', 'in that attic', 'was led upstairs', 'in the basement', 'the food court', 'and the courtyard', 'in the cafeteria', 'hall past the', 'into the parking', 'in the windowless', 'back room where', 'on my bed', 'down the sidewalk', 'contain strip malls', 'onto the sidewalk', 'the hall closet', 'at those cliffs'], \n",
      "\"IPS\": ['and behind me', 'against the railing', 'onto the railing', 'railing looking out', 'path that jutted', 'overcome my ambivalence', 'situated herself behind', 'eventually i forgave', 'behind her and', 'pushed myself up', 'above the gulf', 'door behind me', 'but anyhow', 'and one afternoon', 'this particular evening', 'southern shore of', 'i looked across', 'to trust myself', 'so one day', 'along the edge', 'closed behind me', 'but the important', 'behind me and', 'i eventually relaxed', 'across a plateau', 'on the railing', 'up behind me', 'so tuesday comes', 'leaning against the', 'was late afternoon', 'i reminded myself', 'towering above me', 'but one day', 'jutted into the', 'onto the bridge', 'and cut across', 'somehow one day', 'behind him and', 'and came around', 'and caught up', 'front of us', 'i persisted and', 'up onto the', 'but i shrugged', 'good so um', 'over the gulf', 'stood behind me', 'across the bridge', 'beside the river', 'i remembered clearly'], \n",
      "\"sPMv\": ['google myself and', 'repeated her affirmation', 'said excuse me', 'asked i laughed', 'looks over at', 'and goes hey', 'rescue my wife', 'whirled around and', 'response was nah', 'hurry she exclaimed', 'said no i', 'walked over and', 'turned and saw', 'smiled i smiled', 'came back smiled', 'locks eyes with', 'i even googled', 'just nodded yes', 'retorted rather loudly', 'i whirled around', 'and behind me', 'reached over and', 'was like hey', 'called her and', 'and said yes', 'and screams fuck', 'right behind me', 'said uh hey', 'closed behind me', 'says sure and', 'turn and look', 'looked over and', 'then i reminded', 'says uh actually', 'where surprisingly i', 'was like hi', 'i said fine', 'said without hesitation', 'said well yes', 'says excuse me', 'thought oh god', 'sheepishly raise my', 'looks up at', 'google her and', 'i asked immediately', 'looks up and', 'looked down and', 'even googled', 'she yelled i', 'said mom mom'], \n",
      "\"EBA\": ['arms around her', 'wraps his arms', 'lifted her dress', 'hands gripped the', 'into my palm', 'hands into my', 'elbows on knees', 'grab his arms', 'his hands folded', 'into her arms', 'grabbed her hand', 'arms flailing', 'grabbed her legs', 'arm around my', 'pushed myself up', 'grabbed their hands', 'lifted her up', 'put my arms', 'leaned his head', 'put his arms', 'onto the railing', 'shakes my hand', 'flying arms flailing', 'i leaned down', 'chair and propped', 'arms tighten around', 'situated herself behind', 'her hands gripped', 'against the railing', 'blanket and yanked', 'hand on his', 'my feet kicking', 'cuddled into the', 'and patted his', 'and she hugged', 'pinning my arms', 'held her hand', 'pulled me close', 'in a headlock', 'pressed my face', 'holds her hand', 'arms flailing holding', 'rubbing his head', 'he leaned back', 'on the railing', 'leaning against the', 'around and unclip', 'up and wrapped', 'cuddled into', 'covered my hand'], \n",
      "\"OFA\": ['and we talked', 'i even met', 'and so finally', 'one night my', 'one evening after', 'anyway the point', 'one summer my', 'weeks passed and', 'finally one day', 'then we talked', 'one night i', 'we chatted', 'and i talked', 'we talked and', 'talked and', 'so i texted', 'to my surprise', 'one afternoon when', 'i persisted and', 'and i finally', 'was watching television', 'i remember once', 'so one night', 'but anyway', 'and i met', 'when i finally', 'so i finally', 'on and on', 'son had finally', 'and i especially', 'so one day', 'and eventually i', 'we brace ourselves', 'so anyway', 'i was perusing', 'and it finally', 'later that day', 'so we finally', 'but anyhow', 'and as we', 'the day came', 'home one afternoon', 'then i finally', 'what fascinated me', 'and i vaguely', 'so i talked', 'once while i', 'was hanging out', 'i was reliving', 'but the most'], \n",
      "\"RSC_only\": ['moved to chicago', 'drove from vermont', 'came to florida', 'here in manhattan', 'living in chicago', 'and darted downstairs', 'move to texas', 'leaving for france', 'back in manhattan', 'to boston to', 'went to boston', 'moved to vermont', 'geese in ohio', 'darted downstairs', 'college in boston', 'immediately run home', 'in ohio', 'moved to brooklyn', 'normal suburban pittsburgh', 'moved to london', 'i ran downstairs', 'back in israel', 'freshman year of', 'to london to', 'come from israel', 'went to manchester', 'to columbus ohio', 'here in boston', 'to soccer practice', 'i left vermont', 'sophomore in college', 'from pittsburgh pennsylvania', 'an early flight', 'in lower manhattan', 'hometown in texas', 'touring through europe', 'leave the country', 'in warmer mexico', 'union in manhattan', 'suburban pittsburgh', 'their idyllic suburban', 'moved to washington', 'arrived on campus', 'teaching third grade', 'commuting an hour', 'was in boston', 'slacking in madison', 'walked miles to', 'chick from silverlake', 'heading to iraq'], \n",
      "\"OPA_only\": ['eventually i forgave', 'push past it', 'eventually forgave', 'she eventually forgave', 'generous and open', 'i forgave', 'to see ourselves', 'appease this voice', 'around her and', 'the end which', 'see yourself and', 'of myself which', 'means extending empathy', 'in concentric circles', 'of her feelings', 'forgive and', 'deeper question gnawing', 'continues which ultimately', 'we became closer', 'gap in', 'and behind it', 'depression is lifted', 'pushed myself and', 'i stopped myself', 'forgive and love', 'of the hurt', 'opens those spaces', 'asking questions helps', 'open myself up', 'i rise above', 'increased the pleasure', 'concentric circles', 'i pushed myself', 'is and who', \"'m hurt but\", 'connecting with the', 'trust girls but', 'see ourselves and', 'just be open', 'communication and mirroring', 'enraged me even', 'hole in', 'the hurt', 'caught up again', 'stopped myself', 'surprised myself', 'and the truth', 'i persisted and', 'the self who', 'motivated me and'], \n",
      "\"PPA_only\": ['my trapper keeper', 'a garbage bag', 'placemats some crayons', 'on paper plates', 'that garbage bag', \"'re throwing napkins\", 'box of discarded', 'your worry beads', 'of wrapping paper', 'a fire hose', 'a business card', 'of sweatpants', \"'d grown napkins\", 'wrapped my napkin', 'in sugar jars', 'two room school', 'their chew toys', 'his flannel shirt', 'grabbed the trashbag', 'garbage bag', 'those plastic containers', 'his bathrobe', 'their cigarette wrappers', 'an overturned cardboard', 'socks and loafers', 'that beach towel', 'the air mattress', 'my bathrobe', 'our dishwasher', 'a bathrobe', 'the cough syrup', 'a stuffed animal', 'skivvies toothbrush floss', 'an air mattress', 'powerlifting cinder blocks', 'glasses of cheap', 'chew toys', 'of cheap beer', 'bath in bathrobes', 'a hospital bed', 'the tiny crumpled', 'throwing napkins', 'the laundry hamper', 'overturned cardboard box', 'like your shirt', 'wearing sweatpants', 'a trash can', 'milk bottle tops', 'was wearing sweatpants', 'fire hose'], \n"
     ]
    }
   ],
   "source": [
    "rois = ['RSC', 'OPA', 'PPA', 'IPS', 'sPMv', 'EBA', 'OFA'] + \\\n",
    "    ['RSC_only', 'OPA_only', 'PPA_only']  # all but 'pSTS'\n",
    "# pprint({k: explanations[k] for k in rois})\n",
    "explanations_clean = {\n",
    "    'EBA': 'Body parts',\n",
    "    'IPS': 'Descriptive elements of scenes or objects',\n",
    "    # OFA differs from UTS02 (which was \"'Personal growth and reflection',\")\n",
    "    'OFA': 'Conversational transitions',\n",
    "    'OPA': 'Direction and location descriptions',\n",
    "    # OPA_only differs from UTS02 (which was 'Spatial positioning and directions')\n",
    "    'OPA_only': 'Self-reflection and growth',\n",
    "    'PPA': 'Scenes and settings',\n",
    "    'PPA_only': 'Unappetizing foods',\n",
    "    'RSC': 'Travel and location names',\n",
    "    'RSC_only': 'Location names',\n",
    "    # sPMv differs from UTS02 (which was 'Time and Numbers')\n",
    "    'sPMv': 'Dialogue and responses',\n",
    "}\n",
    "explanation_avoid_suffixes = {\n",
    "    'EBA': ' Avoid mentioning any locations.',\n",
    "    'IPS': ' Avoid mentioning any locations.',\n",
    "    'OFA': ' Avoid mentioning any locations.',\n",
    "    'OPA': ' Avoid mentioning any specific location names (like \"New York\" or \"Europe\").',\n",
    "    'OPA_only': ' Avoid mentioning any specific location names (like \"New York\" or \"Europe\").',\n",
    "    'PPA': ' Avoid mentioning any specific location names (like \"New York\" or \"Europe\").',\n",
    "    'PPA_only': ' Avoid mentioning any specific location names (like \"New York\" or \"Europe\").',\n",
    "    'RSC': '',\n",
    "    'RSC_only': '',\n",
    "    'sPMv': ' Avoid mentioning any locations.'\n",
    "}\n",
    "for roi in rois:\n",
    "    print(f'\"{roi}\":', str(\n",
    "        top_ngrams_df[roi.replace('1', '').replace('2', '')].iloc[:50].values.tolist()) + ', ')\n",
    "top_ngrams_clean = {\n",
    "    \"RSC\": ['was led upstairs', 'onto the subway', 'to the hallway', 'drove to washington', 'back through london', 'and darted downstairs', 'past the offices', 'long hallway toward', 'down the sidewalk', 'back in manhattan', 'reached the interstate', 'just blocks away', 'drove from vermont', 'was standing outside', 'to a courtyard', 'in the alley', 'up the coast', 'from my dorm', 'in the courtyard', 'in central park', 'i walk outside', 'here in manhattan', 'darted downstairs', 'facing the beach', 'walk through downtown', 'wander the hallways', 'i ran downstairs', 'down the hall', \"'m standing outside\", 'off into vancouver', 'through the streets', 'sitting in indianapolis', 'on sixth avenue', 'i go upstairs', 'across the street', 'arrived in indianapolis', 'we were downtown'],\n",
    "    \"OPA\": ['railing looking out', 'across a plateau', 'up the coast', 'against the railing', 'in the courtyard', 'up the hill', 'above the gulf', 'outside the windows', 'long hallway toward', 'over the gulf', 'past the offices', 'through the windows', 'beside the river', 'past the waterfall', 'across the bridge', 'this long hallway', 'to a courtyard', 'and the courtyard', 'and behind me', 'down this embankment', 'towards the river', 'the hill up', 'courtyard was surrounded', 'in an alcove', 'onto the railing', 'along the coast', 'up the stairs', 'across the quadrangle', 'facing the beach', 'to the north', 'down the corridor', 'through the gates', 'over the embankment', 'onto the bridge', 'down that corridor', 'down the sidewalk', 'i looked across', 'path that jutted', 'through this door', 'the lagoon behind', 'down the embankment', 'on the railing', 'on the embankment', 'through the doors', 'on the windowsill', 'corridor out onto', 'the buildings beside', 'to the hallway', 'by that window', 'past the city', 'door behind me', 'to the south', 'off the coast', 'cross the bering', 'around the reef', 'behind me i', 'driveway and behind', 'against the windows', 'across the street', 'to the shoreline', 'lagoon behind the', 'on the sidewalk', 'hall past the', 'off the east', 'of the ravine', 'surrounded the city', 'in the window', 'southern shore of', 'in the distance', 'onto the sidewalk', 'i look across', 'behind us i', 'behind us there', 'on the cliff', 'over the river', 'toward the ocean', 'on that terrace', 'row of stalls', 'sidewalk in front', 'down the long', 'on the walls', 'door to the', 'by the window', 'outside my door', 'outside the door', 'across from me', 'on the eastern', 'the hall past', 'down the lagoon', 'in the forest', 'that window in', 'around me the', 'to the barrier', 'the gulf where', 'road in front', 'in the hallway', 'across the parking', 'in the colonnade', 'to the western', 'surrounded by rooms'],\n",
    "    \"PPA\": ['in an alcove', 'on the stoop', 'past the offices', 'against the railing', 'on the windowsill', 'in the alley', 'to a courtyard', 'the copier room', 'in the courtyard', 'this long hallway', 'to the hallway', 'on a dock', 'in the hallway', 'long hallway toward', 'outside the windows', 'on that terrace', 'inside the hut', 'railing looking out', 'through the windows', 'down this embankment', 'on the subway', 'onto the subway', 'there were shelves', 'in my cubicle', 'a strip mall', 'on the sidewalk', 'in the colonnade', 'on the railing', 'into the basement', 'across the parking', 'a restaurant stoop', 'onto the railing', 'exit the subway', 'by the window', 'in that attic', 'was led upstairs', 'in the basement', 'the food court', 'and the courtyard', 'in the cafeteria', 'hall past the', 'into the parking', 'in the windowless', 'back room where', 'on my bed', 'down the sidewalk', 'contain strip malls', 'onto the sidewalk', 'the hall closet', 'at those cliffs'],\n",
    "\n",
    "    \"RSC_only\": ['moved to chicago', 'drove from vermont', 'came to florida', 'here in manhattan', 'living in chicago',  'move to texas', 'leaving for france', 'back in manhattan', 'to boston to', 'went to boston', 'moved to vermont', 'geese in ohio', 'college in boston', 'in ohio', 'moved to brooklyn', 'normal suburban pittsburgh', 'moved to london', 'back in israel', 'to london to', 'come from israel', 'went to manchester', 'to columbus ohio', 'here in boston', 'i left vermont', 'from pittsburgh pennsylvania', 'in lower manhattan', 'hometown in texas', 'touring through europe', 'in warmer mexico', 'union in manhattan', 'suburban pittsburgh', 'moved to washington', 'was in boston', 'slacking in madison', 'chick from silverlake', 'heading to iraq', 'in chicago', 'in louisville kentucky', 'lived in hiroshima', 'in florida'],\n",
    "    \"OPA_only\": ['eventually i forgave', 'push past it', 'eventually forgave', 'she eventually forgave', 'i forgave', 'to see ourselves', 'of myself which', 'means extending empathy', 'forgive and', 'i stopped myself', 'forgive and love', 'of the hurt', 'i rise above', 'i pushed myself', 'is and who', \"'m hurt but\", 'see ourselves and', 'the hurt', 'i persisted and', 'to forgive afterwards', 'was real to', 'comparing myself', 'looked in myself', 'selves which', 'around it and', 'self which translated', 'inside me that', 'of me which', 'overcome my ambivalence', 'to push myself', 'was also influenced', 'the side which', 'side which', 'independence and freedom'],\n",
    "    \"PPA_only\": ['a garbage bag', 'that garbage bag', \"'re throwing napkins\", 'box of discarded', 'in sugar jars', 'their chew toys', 'those plastic containers', 'our dishwasher', 'skivvies toothbrush floss', 'of cheap beer', 'throwing napkins', 'a trash can', 'milk bottle tops', 'want a mcflurry', 'vomit smelling couch', 'grown napkins', 'my cheese sandwich', 'overpriced coffee shops', 'some lighter fluid', 'salad and stale', 'vomited a washpan', 'these brown paper'],\n",
    "\n",
    "    \"IPS\": ['and behind me', 'against the railing', 'onto the railing', 'path that jutted', 'situated herself behind', 'above the gulf', 'door behind me', 'southern shore of', 'i looked across', 'along the edge', 'closed behind me', 'behind me and', 'across a plateau', 'on the railing', 'up behind me', 'leaning against the', 'towering above me', 'jutted into the', 'onto the bridge', 'and cut across', 'behind him and', 'and came around', 'front of us', 'up onto the', 'over the gulf', 'stood behind me', 'across the bridge', 'beside the river'],\n",
    "    \"sPMv\": ['repeated her affirmation', 'said excuse me', 'asked i laughed', 'and goes hey', 'response was nah', 'hurry she exclaimed', 'said no i', 'just nodded yes', 'retorted rather loudly', 'was like hey', 'called her and', 'and said yes', 'and screams fuck', 'said uh hey', 'says sure and', 'says uh actually', 'was like hi', 'i said fine', 'said without hesitation', 'said well yes', 'says excuse me', 'i asked immediately', 'she yelled i', 'said mom mom', 'said did i', 'i said wow', 'i said shyly', 'asked her and', 'said okay okay', 'i sheepishly raise', 'which i responded', 'turned and said', 'then wrote yes', 'said yes i', 'whisper she said', 'was like mhm'],\n",
    "    \"EBA\": ['arms around her', 'wraps his arms', 'hands gripped the', 'into my palm', 'hands into my', 'elbows on knees', 'grab his arms', 'his hands folded', 'into her arms', 'grabbed her hand', 'arms flailing', 'grabbed her legs', 'arm around my', 'grabbed their hands', 'lifted her up', 'put my arms', 'leaned his head', 'put his arms', 'shakes my hand', 'flying arms flailing', 'i leaned down', 'arms tighten around', 'her hands gripped', 'hand on his', 'my feet kicking', 'pinning my arms', 'held her hand', 'in a headlock', 'pressed my face', 'holds her hand', 'arms flailing holding', 'rubbing his head'],\n",
    "    \"OFA\": ['and we talked', 'i even met', 'and so finally', 'one night my', 'one evening after', 'anyway the point', 'one summer my', 'weeks passed and', 'finally one day', 'then we talked', 'one night i', 'we chatted', 'and i talked', 'we talked and', 'talked and', 'so i texted', 'to my surprise', 'one afternoon when', 'i persisted and', 'and i finally', 'was watching television', 'i remember once', 'so one night', 'but anyway', 'and i met', 'when i finally', 'so i finally', 'on and on', 'son had finally', 'and i especially', 'so one day', 'and eventually i', 'we brace ourselves', 'so anyway', 'i was perusing', 'and it finally', 'later that day', 'so we finally', 'but anyhow', 'and as we', 'the day came', 'home one afternoon', 'then i finally', 'what fascinated me', 'and i vaguely', 'so i talked', 'once while i', 'was hanging out', 'i was reliving', 'but the most'],\n",
    "}\n",
    "\n",
    "rows = {\n",
    "    'roi': rois,\n",
    "    'expl': [explanations_clean[k] for k in rois],\n",
    "    'top_ngrams_module_correct': [top_ngrams_clean[k] for k in rois],\n",
    "    'stability_score': [stability_scores[k.split('_')[0]] for k in rois],\n",
    "    'subject': [f'UT{subject}'] * len(rois),\n",
    "    'voxel_nums': [rois_dict[k.split('_')[0]] for k in rois],\n",
    "    'prompt_suffix': [explanation_avoid_suffixes[k] for k in rois],\n",
    "}\n",
    "rows = pd.DataFrame(rows)\n",
    "rows.to_pickle(f'rows_roi_ut{subject.lower()}_may31.pkl')"
   ]
  },
  {
   "cell_type": "markdown",
   "metadata": {},
   "source": [
    "### S02 Export selected rois to pkl"
   ]
  },
  {
   "cell_type": "code",
   "execution_count": null,
   "metadata": {},
   "outputs": [],
   "source": [
    "rois = ['RSC', 'OPA', 'PPA', 'IPS', 'pSTS', 'sPMv',\n",
    "        'EBA', 'OFA'] + ['RSC_only', 'OPA_only', 'PPA_only2']  # 'PPA_only1',\n",
    "# pprint({k: explanations[k] for k in rois})\n",
    "explanations_clean = {\n",
    "    'EBA': 'Body parts',\n",
    "    'IPS': 'Descriptive elements of scenes or objects',\n",
    "    'OFA': 'Personal growth and reflection',\n",
    "    'OPA': 'Direction and location descriptions',\n",
    "    'OPA_only': 'Spatial positioning and directions',\n",
    "    'PPA': 'Scenes and settings',\n",
    "    'PPA_only': 'Unappetizing foods',\n",
    "    'RSC': 'Travel and location names',\n",
    "    'RSC_only': 'Location names',\n",
    "    'pSTS': 'Verbal interactions',\n",
    "    'sPMv': 'Time and numbers'}\n",
    "explanation_avoid_suffixes = {\n",
    "    'EBA': ' Avoid mentioning any locations.',\n",
    "    'IPS': ' Avoid mentioning any locations.',\n",
    "    'OFA': ' Avoid mentioning any locations.',\n",
    "    'OPA': ' Avoid mentioning any specific location names (like \"New York\" or \"Europe\").',\n",
    "    'OPA_only': ' Avoid mentioning any specific location names (like \"New York\" or \"Europe\").',\n",
    "    'PPA': ' Avoid mentioning any specific location names (like \"New York\" or \"Europe\").',\n",
    "    'PPA_only': ' Avoid mentioning any specific location names (like \"New York\" or \"Europe\").',\n",
    "    'RSC': '',\n",
    "    'RSC_only': '',\n",
    "    'pSTS': ' Avoid mentioning any locations.',\n",
    "    'sPMv': ' Avoid mentioning any locations.'\n",
    "}\n",
    "for roi in rois:\n",
    "    print(f'\"{roi}\":', str(\n",
    "        top_ngrams_df[roi.replace('1', '').replace('2', '')].iloc[:50].values.tolist()) + ', ')\n",
    "    # {\n",
    "    # roi:  for roi in rois\n",
    "# })\n",
    "top_ngrams_clean = {\n",
    "    \"RSC\": ['drove from vermont', 'to washington', 'in manhattan', 'here in boston', 'off into vancouver', 'moved to chicago', 'was in mexico', 'arrived in indianapolis', 'came to florida', 'i left vermont'],\n",
    "    \"OPA\": ['onto the railing', 'towards the river', 'onto the sidewalk', 'towards the doors', 'outside the windows', 'long hallway toward', 'to the horizon', 'towards the street', 'over the gulf', 'to my left', 'path that jutted', 'on the ceiling', 'on the windowsill', 'down this embankment', 'up those stairs', 'above the gulf', 'facing the beach'],\n",
    "    \"PPA\": ['mile of cornfields', 'the windowsill', 'the rolling hills', 'beautiful moonlit mountains', 'giant stone cliffs', 'a strip mall', 'nondescript office buildings', 'manicured lawns', 'lakes', 'the dark driveway', 'and shimmering skyscrapers', 'a private beach', 'the leafy garden', 'our modest backyard', 'my dorm'],\n",
    "\n",
    "    \"RSC_only\": ['florida', 'israel', 'london', 'marrakesh', 'indianapolis', 'paris', 'pennsylvania', 'tokyo', 'tenessee', 'boston', 'vermont', 'chicago', 'indianapolis'],\n",
    "    \"OPA_only\": ['towards the ceiling', 'onto the railing', 'feet hanging over', 'towards the doors', 'seats behind', 'towards the door', 'lights peeking over', 'to my left', 'situated herself behind', 'you sit backward', 'to the horizon', 'maybe twelve feet', 'at the ceiling', 'towards the street', 'of seats behind', 'twenty feet above', 'his back turned', 'see the horizon', 'seats behind the', 'to my right', 'and high rafters', 'about twenty feet', 'door behind me', 'the door behind', 'toward the back', 'over his shoulder', 'feet above the', 'hands went underneath', 'towards the ground', 'his feet hanging', 'feet touch the', 'behind her and', 'stand in front', 'down one side', 'on opposite sides', 'over the ceiling', 'on either side'],\n",
    "    # \"PPA_only\": ['kind of corny', 'his painting sucked', 'snake oil', 'liar fake', 'fake name', 'bad puns', 'as an insult', 'called baloney'],\n",
    "    \"PPA_only2\": ['like burnt steak', 'like pudding', 'tasted pretty bad', 'stale baked goods', 'the crusts', 'baloney', 'yeast extract', 'a sandwich rejected',],\n",
    "\n",
    "    \"IPS\": ['there were slats', 'four connected squares', 'in long rows', 'on the sides', 'a long narrow', 'that forms horizontal', 'long rows of', 'sixty foot wide', 'between buttered slices', 'mile thick ice', 'all four corners', 'along the top'],\n",
    "    \"pSTS\": ['said excuse me', 'says excuse me', 'room went silent', 'someone shouted', 'i provoked gasps', 'somebody then yelled', 'she started laughing', 'excuse me', 'asked i laughed', 'exhalation someone shouted', 'retorted rather loudly', 'turned and said', 'hurry she exclaimed', 'i started yelling', 'say excuse me', 'i started laughing', 'interrupted the conversation', 'breath he yelled', 'moment she gasped', 'said guess what'],\n",
    "    \"sPMv\": ['one', 'forty', 'april nineteen forty', 'was sixteen seventeen', 'five only twenty', 'three down', 'march twentieth nineteen', 'more time passed', 'fifteen meters fifty', \"turning ninety\", 'june of nineteen'],\n",
    "    \"EBA\": ['wraps his arms', 'lifted her dress', 'arms flailing', 'hands gripped the', 'grabbed her legs', 'his hands folded', 'my feet kicking', 'navigated pushy elbows', 'elbows on knees', 'over his shoulder'],\n",
    "    \"OFA\": ['of my childhood', 'newfound self esteem', 'so my shrink', 'hurtful first dates', 'recall many instances', 'it felt magical', 'answered many questions', 'my school days', 'no satisfying fantasies', 'my mom often', 'from our childhood', 'growing up we', 'good friends often', 'shaped their mind', 'everything my parents'],\n",
    "}\n",
    "\n",
    "rows = {\n",
    "    'roi': rois,\n",
    "    'expl': [explanations_clean[k] for k in rois],\n",
    "    'top_ngrams_module_correct': [top_ngrams_clean[k] for k in rois],\n",
    "    'stability_score': [stability_scores[k.split('_')[0]] for k in rois],\n",
    "    'subject': [f'UT{subject}'] * len(rois),\n",
    "    'voxel_nums': [rois_dict[k.split('_')[0]] for k in rois],\n",
    "    'prompt_suffix': [explanation_avoid_suffixes[k] for k in rois],\n",
    "}\n",
    "rows = pd.DataFrame(rows)\n",
    "rows.to_pickle(f'rows_roi_ut{subject.lower()}_may31.pkl')"
   ]
  }
 ],
 "metadata": {
  "kernelspec": {
   "display_name": ".llm",
   "language": "python",
   "name": "python3"
  },
  "language_info": {
   "codemirror_mode": {
    "name": "ipython",
    "version": 3
   },
   "file_extension": ".py",
   "mimetype": "text/x-python",
   "name": "python",
   "nbconvert_exporter": "python",
   "pygments_lexer": "ipython3",
   "version": "3.11.9"
  },
  "orig_nbformat": 4,
  "vscode": {
   "interpreter": {
    "hash": "a9ff692d44ea03fd8a03facee7621117bbbb82def09bacaacf0a2cbc238b7b91"
   }
  }
 },
 "nbformat": 4,
 "nbformat_minor": 2
}
