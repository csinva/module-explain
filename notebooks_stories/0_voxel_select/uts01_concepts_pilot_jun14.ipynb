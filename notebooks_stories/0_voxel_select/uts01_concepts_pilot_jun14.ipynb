{
 "cells": [
  {
   "cell_type": "code",
   "execution_count": 1,
   "metadata": {},
   "outputs": [],
   "source": [
    "%load_ext autoreload\n",
    "%autoreload 2\n",
    "import os\n",
    "import matplotlib.pyplot as plt\n",
    "import seaborn as sns\n",
    "from os.path import join\n",
    "from tqdm import tqdm\n",
    "import pandas as pd\n",
    "from typing import List\n",
    "import numpy as np\n",
    "import sys\n",
    "sys.path.append('..')\n",
    "import json\n",
    "EXPT_NAME = 'uts01_concepts_pilot_jun14'"
   ]
  },
  {
   "cell_type": "code",
   "execution_count": 2,
   "metadata": {},
   "outputs": [],
   "source": [
    "r = (pd.read_pickle('../../results/results_fmri_full_1500.pkl')\n",
    "    .sort_values(by=['top_score_synthetic'], ascending=False))\n",
    "r['id'] = \"('\" + r['top_explanation_init_strs'].str.replace(' ', '_').str.slice(stop=20) + \"', '\" + r['subject'] + \"', \" + r['module_num'].astype(str) + \"),\"    \n",
    "r = r[r.subject == 'UTS01']"
   ]
  },
  {
   "cell_type": "code",
   "execution_count": 3,
   "metadata": {},
   "outputs": [],
   "source": [
    "D = {\n",
    "    \"temporal\": [\n",
    "        ('time period (numeric)', 'UTS01', 41),\t\n",
    "        ('college days', 'UTS01', 378),\t\n",
    "    ],\n",
    "    \"numeric\": [\n",
    "    ],\n",
    "    \"locational\": [\n",
    "        ('location', 'UTS01', 186),\t\n",
    "    ],\n",
    "    \"emotional\": [\n",
    "        ('embarrassment', 'UTS01', 322),\n",
    "        ('laughter or amusement', 'UTS01', 434),\t\t\n",
    "        ('emotional response', 'UTS01', 244),\t\n",
    "        ('fear and anticipation', 'UTS01', 34),\t\n",
    "        ('lonelineness', 'UTS01', 258),\n",
    "    ],\n",
    "    \"social\": [\n",
    "        ('family and friends', 'UTS01', 365),\t\n",
    "        ('family and friends', 'UTS01', 204),\t\n",
    "        ('communication', 'UTS01', 106),\t\n",
    "        ('relationships', 'UTS01', 187),\t\n",
    "        ('relationships', 'UTS01', 399),\t\n",
    "        ('relationships', 'UTS01', 122),\t\n",
    "        ('communication', 'UTS01', 162),\t\n",
    "        ('relationships', 'UTS01', 261),\t\n",
    "        ('family and friends', 'UTS01', 332),\t\n",
    "        ('relationships', 'UTS01', 432),\t\n",
    "        ('family and friends', 'UTS01', 142),\t\n",
    "        ('family and friends', 'UTS01', 340),\t\n",
    "        ('family and friends', 'UTS01', 71),\t\n",
    "        ('family and relationships', 'UTS01', 291),\t\n",
    "        ('family and relationships', 'UTS01', 264),\t\n",
    "        ('family and friends', 'UTS01', 374),\t\n",
    "        ('relationships', 'UTS01', 400),\t\n",
    "        ('relationships', 'UTS01', 145),\n",
    "        ('family and relationships', 'UTS01', 479),\t\n",
    "        ('flirting and relationships', 'UTS01', 197),\t\n",
    "        ('family relationships', 'UTS01', 144),\t\n",
    "    ],\n",
    "    \"professional\": [],\n",
    "    # extra labels\n",
    "    \"movement\": [\n",
    "        ('physical movement', 'UTS01', 489),\t\n",
    "        ('physical contact', 'UTS01', 469),\t\n",
    "        ('physical movement', 'UTS01', 171),\t\n",
    "        ('physical contact', 'UTS01', 46),\t\n",
    "        ('physical movement', 'UTS01', 394),\t\n",
    "        ('physical contact', 'UTS01', 456),\t\n",
    "        ('movement', 'UTS01', 121),\t\n",
    "        ('physical contact', 'UTS01', 456),\t\n",
    "        ('physical contact', 'UTS01', 376),\t\n",
    "        \n",
    "    ],\n",
    "    \"manual\": [\n",
    "        ('vulgarities', 'UTS01', 311),\t\n",
    "        ('violence and injury', 'UTS01', 232),\t\n",
    "        ('food and drink', 'UTS01', 203),\t\n",
    "        ('body positioning', 'UTS01', 321),\t\n",
    "        ('repetition', 'UTS01', 484),\t\n",
    "        \n",
    "    ],\n",
    "}\n",
    "D_multi = {\n",
    "    'multi': [\n",
    "        ('identity and memory', 'UTS01', 304),\n",
    "        ('food preparation', 'UTS01', 333),\t\n",
    "        ('sneaking or avoiding', 'UTS01', 423),\t\t\n",
    "        ('food and drink', 'UTS01', 52),\t\n",
    "        ('deception', 'UTS01', 97),\t\n",
    "    ],\n",
    "}\n",
    "json.dump(D, open(f\"{EXPT_NAME}.json\", \"w\"), indent=0)  # , indent=4)"
   ]
  },
  {
   "cell_type": "code",
   "execution_count": null,
   "metadata": {},
   "outputs": [],
   "source": [
    "# display all rows\n",
    "with pd.option_context('display.max_rows', None, 'display.max_columns', None, 'display.max_colwidth', 200):\n",
    "    display(r.sort_values(by=['top_score_synthetic'], ascending=False)[[\n",
    "        'id', 'top_explanation_init_strs', 'explanation_init_strs', 'fmri_test_corr', 'frac_top_ngrams_module_correct', 'top_score_synthetic', 'top_ngrams_module_correct',\n",
    "    ]].round(3).iloc[70:].head(10))"
   ]
  },
  {
   "cell_type": "code",
   "execution_count": null,
   "metadata": {},
   "outputs": [],
   "source": [
    "with pd.option_context('display.max_rows', None, 'display.max_columns', None, 'display.max_colwidth', 200):\n",
    "    display(r[['id', 'top_explanation_init_strs']].sort_values(by='id').transpose())"
   ]
  }
 ],
 "metadata": {
  "kernelspec": {
   "display_name": ".llm",
   "language": "python",
   "name": "python3"
  },
  "language_info": {
   "codemirror_mode": {
    "name": "ipython",
    "version": 3
   },
   "file_extension": ".py",
   "mimetype": "text/x-python",
   "name": "python",
   "nbconvert_exporter": "python",
   "pygments_lexer": "ipython3",
   "version": "3.11.4"
  },
  "orig_nbformat": 4,
  "vscode": {
   "interpreter": {
    "hash": "a9ff692d44ea03fd8a03facee7621117bbbb82def09bacaacf0a2cbc238b7b91"
   }
  }
 },
 "nbformat": 4,
 "nbformat_minor": 2
}
