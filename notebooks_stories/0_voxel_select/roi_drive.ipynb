{
 "cells": [
  {
   "cell_type": "code",
   "execution_count": 38,
   "metadata": {},
   "outputs": [
    {
     "name": "stdout",
     "output_type": "stream",
     "text": [
      "The autoreload extension is already loaded. To reload it, use:\n",
      "  %reload_ext autoreload\n"
     ]
    }
   ],
   "source": [
    "%load_ext autoreload\n",
    "%autoreload 2\n",
    "import os\n",
    "import matplotlib.pyplot as plt\n",
    "import seaborn as sns\n",
    "from os.path import join\n",
    "from tqdm import tqdm\n",
    "import pandas as pd\n",
    "import sys\n",
    "from typing import List\n",
    "import numpy as np\n",
    "import joblib\n",
    "from pprint import pprint\n",
    "import imodelsx.util\n",
    "import sasc.viz\n",
    "import pickle as pkl\n",
    "import json\n",
    "from copy import deepcopy\n",
    "from numpy.linalg import norm\n",
    "from sasc.config import CACHE_DIR, RESULTS_DIR, cache_ngrams_dir, regions_idxs_dir\n",
    "import sasc.modules.fmri_module\n",
    "ngrams_list = joblib.load(join(cache_ngrams_dir, 'fmri_UTS02_ngrams.pkl'))\n",
    "rois_dict = joblib.load(join(regions_idxs_dir, 'rois_S02.jbl'))"
   ]
  },
  {
   "cell_type": "markdown",
   "metadata": {},
   "source": [
    "### get predictions from embs"
   ]
  },
  {
   "cell_type": "code",
   "execution_count": null,
   "metadata": {},
   "outputs": [],
   "source": [
    "# # embs = joblib.load(join(cache_ngrams_dir, 'fmri_embs.pkl'))\n",
    "# embs = joblib.load(join(cache_ngrams_dir, 'fmri_embs_llama.pkl'))\n",
    "# mod = sasc.modules.fmri_module.fMRIModule(\n",
    "#     subject=\"UTS02\",\n",
    "#     # checkpoint=\"facebook/opt-30b\",\n",
    "#     checkpoint=\"huggyllama/llama-30b\",\n",
    "#     init_model=False,\n",
    "#     restrict_weights=False,\n",
    "# )\n",
    "# voxel_preds = mod(embs=embs, return_all=True)\n",
    "# outputs_dict = {\n",
    "#     k: voxel_preds[:, np.array(rois_dict[k])].mean(axis=1)\n",
    "#     for k in rois_dict\n",
    "# }\n",
    "# joblib.dump(outputs_dict, join(\n",
    "#     # cache_ngrams_dir, 'rois_ngram_outputs_dict.pkl'))\n",
    "#     cache_ngrams_dir, 'rois_ngram_outputs_dict_llama.pkl'))"
   ]
  },
  {
   "cell_type": "code",
   "execution_count": null,
   "metadata": {},
   "outputs": [],
   "source": [
    "outputs_dict = joblib.load(\n",
    "    join(cache_ngrams_dir, 'rois_ngram_outputs_dict.pkl'))\n",
    "df_opt = pd.DataFrame(outputs_dict, index=ngrams_list)\n",
    "outputs_dict = joblib.load(\n",
    "    join(cache_ngrams_dir, 'rois_ngram_outputs_dict_llama.pkl'))\n",
    "df_llama = pd.DataFrame(outputs_dict, index=ngrams_list)\n",
    "df = df_opt + df_llama"
   ]
  },
  {
   "cell_type": "code",
   "execution_count": null,
   "metadata": {},
   "outputs": [],
   "source": [
    "ROIS_LOC = ['RSC', 'OPA', 'PPA']\n",
    "ascending = False  # should be false to get driving ngrams\n",
    "top_ngrams_dict = {}\n",
    "for k in df.columns:\n",
    "    top_ngrams_dict[k] = df.sort_values(\n",
    "        k, ascending=ascending).index[:100].tolist()\n",
    "    if k in ROIS_LOC:\n",
    "        df[k + '_only'] = df[k] - \\\n",
    "            df[[c for c in ROIS_LOC if c != k]].mean(axis=1)\n",
    "        top_ngrams_dict[k + '_only'] = df.sort_values(\n",
    "            k + '_only', ascending=ascending).index[:100].tolist()\n",
    "top_ngrams_df = pd.DataFrame(top_ngrams_dict)\n",
    "top_ngrams_df.to_csv('top_ngrams_by_roi.csv')\n",
    "with pd.option_context('display.max_rows', None):\n",
    "    rois = ['RSC', 'OPA', 'PPA', 'IPS', 'pSTS', 'sPMv',\n",
    "            'EBA', 'OFA'] + ['RSC_only', 'OPA_only', 'PPA_only']\n",
    "    display(top_ngrams_df[rois])"
   ]
  },
  {
   "cell_type": "code",
   "execution_count": null,
   "metadata": {},
   "outputs": [],
   "source": [
    "gpt4 = imodelsx.llm.get_llm('gpt-4-turbo-0125-spot')\n",
    "\n",
    "explanations = {}\n",
    "for k in top_ngrams_df.columns:\n",
    "\n",
    "    s = '- ' + '\\n- '.join(top_ngrams_df[k].iloc[:60])\n",
    "    prompt = f'''Here is a list of phrases:\n",
    "    {s}\n",
    "\n",
    "    What is a common theme among these phrases? Return only a concise phrase.'''\n",
    "\n",
    "    explanations[k] = gpt4(prompt)"
   ]
  },
  {
   "cell_type": "code",
   "execution_count": null,
   "metadata": {},
   "outputs": [],
   "source": [
    "json.dump(explanations, open('explanations_by_roi.json', 'w'), indent=4)"
   ]
  },
  {
   "cell_type": "markdown",
   "metadata": {},
   "source": [
    "### Export selected rois to pkl"
   ]
  },
  {
   "cell_type": "code",
   "execution_count": 40,
   "metadata": {},
   "outputs": [
    {
     "name": "stdout",
     "output_type": "stream",
     "text": [
      "{'EBA': 'Physical actions',\n",
      " 'IPS': 'Descriptive elements of scenes or objects',\n",
      " 'OFA': 'Personal growth and reflection',\n",
      " 'OPA': 'Direction and location descriptions',\n",
      " 'OPA_only': 'Spatial positioning and direction.',\n",
      " 'PPA': 'Scenes and settings',\n",
      " 'PPA_only': 'Negative or critical expressions',\n",
      " 'RSC': 'Travel and locations',\n",
      " 'RSC_only': 'Travel and location transitions',\n",
      " 'pSTS': 'Verbal interactions',\n",
      " 'sPMv': 'Time and numbers'}\n",
      "\"RSC\": ['drove from vermont', 'moved to vermont', 'drove to washington', 'here in manhattan', 'here in boston', 'was in boston', 'off into vancouver', 'moved to chicago', 'back in manhattan', 'went to boston', 'was in mexico', 'back in boston', 'sitting in indianapolis', 'arrived in indianapolis', 'came to florida', 'i left vermont', 'here in houston', 'was in pennsylvania', 'moved to brooklyn', 'arrived in tokyo', 'moved to london', 'off in vancouver', 'traveled to marrakesh', 'moved to washington', \"'m in michigan\", 'back in brooklyn', 'i drove to', 'back in israel', 'in lower manhattan', 'nineties new york'], \n",
      "\"OPA\": ['onto the railing', 'against the railing', 'on the railing', 'towards the river', 'onto the sidewalk', 'towards the doors', 'towards the door', 'outside the windows', 'towards the ceiling', 'long hallway toward', 'to the horizon', 'see the horizon', 'and high rafters', 'towards the street', 'over the gulf', 'to my left', 'path that jutted', 'beautiful moonlit mountains', 'on the ceiling', 'on the windowsill', 'down this embankment', 'we ran upstairs', 'up those stairs', 'above the gulf', 'facing the beach', 'over the embankment', 'up the stairs', 'we go downstairs', 'lights peeking over', 'door behind me'], \n",
      "\"PPA\": ['on the railing', 'on a dock', 'on the windowsill', 'mile of cornfields', 'the windowsill', 'onto the railing', 'outside the windows', 'across the parking', 'contain strip malls', 'against the railing', 'on a rainy', 'the rolling hills', 'beautiful moonlit mountains', 'of the sidewalk', 'giant stone cliffs', 'a strip mall', \"'s sprawling green\", 'lobster pots piled', 'on the sidewalk', 'nondescript office buildings', 'of manicured lawns', 'lakes and manicured', 'the dark driveway', 'there were shelves', 'i remember walking', 'of cornfields', 'and shimmering skyscrapers', 'a private beach', 'there were slats', \"there 's trees\"], \n",
      "\"IPS\": ['there were slats', 'onto the railing', 'on the railing', 'against the railing', 'the back hatch', 'four connected squares', 'in long rows', 'path that jutted', 'the double doors', 'on the sides', 'a long narrow', 'that forms horizontal', 'long rows of', 'sixty foot wide', 'spanding the length', 'put a board', 'sky with clouds', 'between buttered slices', 'were slats', 'nineteen sixty', 'the mirror behind', 'the tops of', 'mile thick ice', 'all four corners', 'see the horizon', 'a long white', 'of nineteen sixty', 'that flips up', 'two mile thick', 'this long hallway'], \n",
      "\"pSTS\": ['said excuse me', 'says excuse me', 'i stopped midstride', 'room went silent', 'scissors someone shouted', 'i provoked gasps', 'somebody then yelled', 'she started laughing', 'hook excuse me', 'i whirled around', 'asked i laughed', 'exhalation someone shouted', 'retorted rather loudly', 'stopped midstride', 'turned and said', 'hurry she exclaimed', 'behind me grabbed', 'i started yelling', 'script excuse me', 'looks over at', 'say excuse me', 'i started laughing', 'interrupted the conversation', 'breath he yelled', 'moment she gasped', 'said guess what', 'she yelled i', 'eyes and snickered', 'then in unison', 'she hung up'], \n",
      "\"sPMv\": ['one mississippi two', 'said excuse me', 'mississippi two mississippi', 'said guess what', 'am turning forty', 'april nineteen forty', 'says excuse me', 'say one mississippi', 'two mississippi three', 'october nineteen forty', 'was sixteen seventeen', 'and three mississippi', 'five only twenty', 'april of nineteen', 'mississippi three mississippi', 'hook excuse me', 'july nineteen forty', 'up three down', 'march twentieth nineteen', 'more time passed', 'fifteen meters fifty', \"'re turning ninety\", 'june of nineteen', 'googling her googling', 'then girlfriend now', 'is turning ninety', 'hour thirty forty', 'to nineteen forty', 'on nineteen ninety', 'fifty pounds fifty'], \n",
      "\"EBA\": ['wraps his arms', 'lifted her dress', 'arms flailing', 'arms around her', 'arms tighten around', 'flying arms flailing', 'hands gripped the', 'grabbed her legs', 'the chopsticks flipped', 'his hands folded', 'grab his arms', 'a hand poking', 'my feet kicking', 'his hand curling', 'grabbed their hands', 'grabbed her hand', 'blanket and yanked', 'her hands gripped', 'his arm around', 'covered my hand', 'i reach under', 'he reached under', 'navigated pushy elbows', 'elbows on knees', 'shoes propped', \"'s hair flying\", 'over his shoulder', 'danced throwing blankets', 'over my shoulder', 'patted his behind'], \n",
      "\"OFA\": ['of my childhood', 'newfound self esteem', 'so my shrink', 'hurtful first dates', 'recall many instances', 'it felt magical', 'answered many questions', 'my school days', 'no satisfying fantasies', 'my mom often', 'from our childhood', 'growing up we', 'good friends often', 'shaped their mind', 'everything my parents', 'hurt and confused', 'for something spiritual', 'my whirlwind dating', 'of her thoughts', 'changes your life', 'ways of thinking', 'jumble of emotions', 'games my mother', 'i can remember', 'empathy and understanding', 'crush their spirits', 'shame or regret', 'mom often told', 'on some level', 'in my childhood'], \n",
      "\"RSC_only\": ['came to florida', 'back in israel', 'moved to london', 'traveled to marrakesh', 'sitting in indianapolis', 'went to boston', 'was in boston', 'moved to vermont', 'was in mexico', 'moved to chicago', 'were in paris', 'was in pennsylvania', 'arrived in tokyo', 'drove from vermont', 'here in boston', 'living in chicago', 'off into vancouver', 'here in houston', 'back in boston', 'back in marrakesh', 'being in canada', \"'m in michigan\", 'home in chicago', 'i left vermont', 'moved to brooklyn', 'were in japan', 'off in vancouver', 'went to india', 'arrived in indianapolis', 'drove to washington'], \n",
      "\"OPA_only\": ['towards the ceiling', 'onto the railing', 'on the ceiling', 'against the railing', 'feet hanging over', 'on the railing', 'towards the doors', 'seats behind', 'towards the door', 'lights peeking over', 'to my left', 'situated herself behind', 'you sit backward', 'to the horizon', 'maybe twelve feet', 'at the ceiling', 'towards the street', 'of seats behind', 'twenty feet above', 'his back turned', 'see the horizon', 'seats behind the', 'to my right', 'and high rafters', 'about twenty feet', 'door behind me', 'the door behind', 'toward the back', 'over his shoulder', 'feet above the'], \n",
      "\"PPA_only\": ['kind of corny', 'of bready puns', 'like burnt steak', 'pulled a muscle', 'his painting sucked', 'like your shirt', \"'s painting sucked\", 'important like pudding', 'a snake oil', 'had some scarring', 'ithe school motto', 'bready puns', 'liar fake', 'sometimes disrespected me', 'fake name', 'okay snake oil', 'for bad puns', 'of torn fishnet', 'richard had autism', 'tasted pretty bad', 'care a euphemism', 'of corny', 'of semi lame', 'as an insult', 'almost being brainwashed', 'like his nickname', 'salad and stale', 'save the crusts', 'snake oil', 'says um and'], \n"
     ]
    }
   ],
   "source": [
    "rois = ['RSC', 'OPA', 'PPA', 'IPS', 'pSTS', 'sPMv',\n",
    "        'EBA', 'OFA'] + ['RSC_only', 'OPA_only', 'PPA_only']\n",
    "pprint({k: explanations[k] for k in rois})\n",
    "explanations_clean = {\n",
    "    'EBA': 'Body parts',\n",
    "    'IPS': 'Descriptive elements of scenes or objects',\n",
    "    'OFA': 'Personal growth and reflection',\n",
    "    'OPA': 'Direction and location descriptions',\n",
    "    'OPA_only': 'Spatial positioning and direction.',\n",
    "    'PPA': 'Scenes and settings',\n",
    "    'PPA_only': 'Negative or critical expressions',\n",
    "    'RSC': 'Travel and location names',\n",
    "    'RSC_only': 'Travel and location names',\n",
    "    'pSTS': 'Verbal interactions',\n",
    "    'sPMv': 'Time and numbers'}\n",
    "for roi in rois:\n",
    "    print(f'\"{roi}\":', str(\n",
    "        top_ngrams_df[roi].iloc[:30].values.tolist()) + ', ')\n",
    "    # {\n",
    "    # roi:  for roi in rois\n",
    "# })\n",
    "top_ngrams_clean = {\n",
    "    \"RSC\": ['drove from vermont', 'moved to vermont', 'drove to washington', 'here in manhattan', 'here in boston', 'was in boston', 'off into vancouver', 'moved to chicago', 'back in manhattan', 'went to boston', 'was in mexico', 'back in boston', 'sitting in indianapolis', 'arrived in indianapolis', 'came to florida', 'i left vermont', 'here in houston', 'was in pennsylvania', 'moved to brooklyn', 'arrived in tokyo'],\n",
    "    \"OPA\": ['onto the railing', 'against the railing', 'on the railing', 'towards the river', 'onto the sidewalk', 'towards the doors', 'towards the door', 'outside the windows', 'towards the ceiling', 'long hallway toward', 'to the horizon', 'see the horizon', 'and high rafters', 'towards the street', 'over the gulf', 'to my left', 'path that jutted', 'beautiful moonlit mountains', 'on the ceiling', 'on the windowsill'],\n",
    "    \"PPA\": ['on the railing', 'on a dock', 'on the windowsill', 'mile of cornfields', 'the windowsill', 'onto the railing', 'outside the windows', 'across the parking', 'contain strip malls', 'against the railing', 'on a rainy', 'the rolling hills', 'beautiful moonlit mountains', 'of the sidewalk', 'giant stone cliffs', 'a strip mall', \"'s sprawling green\", 'lobster pots piled', 'on the sidewalk', 'nondescript office buildings'],\n",
    "    \"IPS\": ['there were slats', 'onto the railing', 'on the railing', 'against the railing', 'the back hatch', 'four connected squares', 'in long rows', 'path that jutted', 'the double doors', 'on the sides', 'a long narrow', 'that forms horizontal', 'long rows of', 'sixty foot wide', 'spanding the length', 'put a board', 'sky with clouds', 'between buttered slices', 'were slats', 'nineteen sixty'],\n",
    "    \"pSTS\": ['said excuse me', 'says excuse me', 'i stopped midstride', 'room went silent', 'scissors someone shouted', 'i provoked gasps', 'somebody then yelled', 'she started laughing', 'hook excuse me', 'i whirled around', 'asked i laughed', 'exhalation someone shouted', 'retorted rather loudly', 'stopped midstride', 'turned and said', 'hurry she exclaimed', 'behind me grabbed', 'i started yelling', 'script excuse me', 'looks over at'],\n",
    "    \"sPMv\": ['one mississippi two', 'said excuse me', 'mississippi two mississippi', 'said guess what', 'am turning forty', 'april nineteen forty', 'says excuse me', 'say one mississippi', 'two mississippi three', 'october nineteen forty', 'was sixteen seventeen', 'and three mississippi', 'five only twenty', 'april of nineteen', 'mississippi three mississippi', 'hook excuse me', 'july nineteen forty', 'up three down', 'march twentieth nineteen', 'more time passed'],\n",
    "    \"EBA\": ['wraps his arms', 'lifted her dress', 'arms flailing', 'arms around her', 'arms tighten around', 'flying arms flailing', 'hands gripped the', 'grabbed her legs', 'the chopsticks flipped', 'his hands folded', 'grab his arms', 'a hand poking', 'my feet kicking', 'his hand curling', 'grabbed their hands', 'grabbed her hand', 'blanket and yanked', 'her hands gripped', 'his arm around', 'covered my hand'],\n",
    "    \"OFA\": ['of my childhood', 'newfound self esteem', 'so my shrink', 'hurtful first dates', 'recall many instances', 'it felt magical', 'answered many questions', 'my school days', 'no satisfying fantasies', 'my mom often', 'from our childhood', 'growing up we', 'good friends often', 'shaped their mind', 'everything my parents', 'hurt and confused', 'for something spiritual', 'my whirlwind dating', 'of her thoughts', 'changes your life'],\n",
    "    \"RSC_only\": ['came to florida', 'back in israel', 'moved to london', 'traveled to marrakesh', 'sitting in indianapolis', 'went to boston', 'was in boston', 'moved to vermont', 'was in mexico', 'moved to chicago', 'were in paris', 'was in pennsylvania', 'arrived in tokyo', 'drove from vermont', 'here in boston', 'living in chicago', 'off into vancouver', 'here in houston', 'back in boston', 'back in marrakesh'],\n",
    "    \"OPA_only\": ['towards the ceiling', 'onto the railing', 'on the ceiling', 'against the railing', 'feet hanging over', 'on the railing', 'towards the doors', 'seats behind', 'towards the door', 'lights peeking over', 'to my left', 'situated herself behind', 'you sit backward', 'to the horizon', 'maybe twelve feet', 'at the ceiling', 'towards the street', 'of seats behind', 'twenty feet above', 'his back turned'],\n",
    "    \"PPA_only\": ['kind of corny', 'of bready puns', 'like burnt steak', 'pulled a muscle', 'his painting sucked', 'like your shirt', \"'s painting sucked\", 'important like pudding', 'a snake oil', 'had some scarring', 'ithe school motto', 'bready puns', 'liar fake', 'sometimes disrespected me', 'fake name', 'okay snake oil', 'for bad puns', 'of torn fishnet', 'richard had autism', 'tasted pretty bad'],\n",
    "}"
   ]
  },
  {
   "cell_type": "code",
   "execution_count": null,
   "metadata": {},
   "outputs": [],
   "source": [
    "top_ngrams_df[rois]"
   ]
  },
  {
   "cell_type": "code",
   "execution_count": null,
   "metadata": {},
   "outputs": [],
   "source": [
    "rows = {\n",
    "    'roi': rois,\n",
    "    'expl': [explanations_clean[k] for k in rois],\n",
    "    'top_ngrams_module_correct': [top_ngrams_clean[k] for k in rois],\n",
    "    # 'question': questions,\n",
    "    'subject': ['UTS02'] * len(rois),\n",
    "    'voxel_nums': [rois_dict[k.replace('_only', '')] for k in rois],\n",
    "}"
   ]
  },
  {
   "cell_type": "code",
   "execution_count": null,
   "metadata": {},
   "outputs": [],
   "source": [
    "pd.DataFrame(rows).to_pickle('rows_roi_uts02_may31.pkl')"
   ]
  }
 ],
 "metadata": {
  "kernelspec": {
   "display_name": ".llm",
   "language": "python",
   "name": "python3"
  },
  "language_info": {
   "codemirror_mode": {
    "name": "ipython",
    "version": 3
   },
   "file_extension": ".py",
   "mimetype": "text/x-python",
   "name": "python",
   "nbconvert_exporter": "python",
   "pygments_lexer": "ipython3",
   "version": "3.11.9"
  },
  "orig_nbformat": 4,
  "vscode": {
   "interpreter": {
    "hash": "a9ff692d44ea03fd8a03facee7621117bbbb82def09bacaacf0a2cbc238b7b91"
   }
  }
 },
 "nbformat": 4,
 "nbformat_minor": 2
}
