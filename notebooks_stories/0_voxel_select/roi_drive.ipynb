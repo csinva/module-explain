{
 "cells": [
  {
   "cell_type": "code",
   "execution_count": null,
   "metadata": {},
   "outputs": [],
   "source": [
    "%load_ext autoreload\n",
    "%autoreload 2\n",
    "import os\n",
    "import matplotlib.pyplot as plt\n",
    "import seaborn as sns\n",
    "from os.path import join\n",
    "from tqdm import tqdm\n",
    "import pandas as pd\n",
    "import sys\n",
    "from typing import List\n",
    "import numpy as np\n",
    "import joblib\n",
    "import imodelsx.util\n",
    "import sasc.viz\n",
    "import pickle as pkl\n",
    "from copy import deepcopy\n",
    "from numpy.linalg import norm\n",
    "from sasc.config import CACHE_DIR, RESULTS_DIR, cache_ngrams_dir, regions_idxs_dir\n",
    "import sasc.modules.fmri_module"
   ]
  },
  {
   "cell_type": "code",
   "execution_count": null,
   "metadata": {},
   "outputs": [],
   "source": [
    "ngrams_list = joblib.load(join(cache_ngrams_dir, 'fmri_UTS02_ngrams.pkl'))\n",
    "rois_dict = joblib.load(join(regions_idxs_dir, 'rois_S02.jbl'))\n",
    "outputs_dict = joblib.load(\n",
    "    join(cache_ngrams_dir, 'rois_ngram_outputs_dict.pkl'))"
   ]
  },
  {
   "cell_type": "code",
   "execution_count": null,
   "metadata": {},
   "outputs": [],
   "source": [
    "# embs = joblib.load(join(cache_ngrams_dir, 'fmri_embs.pkl'))\n",
    "# mod = sasc.modules.fmri_module.fMRIModule(\n",
    "#     subject=\"UTS02\",\n",
    "#     checkpoint=\"facebook/opt-30b\",\n",
    "#     init_model=False,\n",
    "#     restrict_weights=False,\n",
    "# )\n",
    "# voxel_preds = mod(embs=embs, return_all=True)\n",
    "# outputs_dict = {\n",
    "#     k: voxel_preds[:, np.array(rois_dict[k])].mean(axis=1)\n",
    "#     for k in rois_dict\n",
    "# }\n",
    "# joblib.dump(outputs_dict, join(cache_ngrams_dir, 'rois_ngram_outputs_dict.pkl'))"
   ]
  },
  {
   "cell_type": "code",
   "execution_count": null,
   "metadata": {},
   "outputs": [],
   "source": [
    "df = pd.DataFrame(outputs_dict, index=ngrams_list)\n",
    "ROIS_LOC = ['RSC', 'OPA', 'PPA']\n",
    "ascending = False  # should be false to get driving ngrams\n",
    "top_ngrams_dict = {}\n",
    "for k in df.columns:\n",
    "    top_ngrams_dict[k] = df.sort_values(\n",
    "        k, ascending=ascending).index[:100].tolist()\n",
    "    if k in ROIS_LOC:\n",
    "        df[k + '_only'] = df[k] - \\\n",
    "            df[[c for c in ROIS_LOC if c != k]].mean(axis=1)\n",
    "        top_ngrams_dict[k + '_only'] = df.sort_values(\n",
    "            k + '_only', ascending=ascending).index[:100].tolist()\n",
    "top_ngrams_df = pd.DataFrame(top_ngrams_dict)\n",
    "# display all rows\n",
    "with pd.option_context('display.max_rows', None):\n",
    "    display(top_ngrams_df)"
   ]
  },
  {
   "cell_type": "code",
   "execution_count": null,
   "metadata": {},
   "outputs": [],
   "source": [
    "top_ngrams_df.to_csv('top_ngrams_by_roi.csv')"
   ]
  },
  {
   "cell_type": "code",
   "execution_count": null,
   "metadata": {},
   "outputs": [],
   "source": [
    "gpt4 = imodelsx.llm.get_llm('gpt-4-turbo-0125-spot')\n",
    "\n",
    "explanations = {}\n",
    "for k in top_ngrams_df.columns:\n",
    "\n",
    "    s = '- ' + '\\n- '.join(top_ngrams_df[k].iloc[:60])\n",
    "    prompt = f'''Here is a list of phrases:\n",
    "    {s}\n",
    "\n",
    "    What is a common theme among these phrases? Return only a concise phrase.'''\n",
    "\n",
    "    explanations[k] = gpt4(prompt)"
   ]
  },
  {
   "cell_type": "code",
   "execution_count": null,
   "metadata": {},
   "outputs": [],
   "source": [
    "rois_dict['RSC']"
   ]
  },
  {
   "cell_type": "markdown",
   "metadata": {},
   "source": [
    "### Export selected rois to pkl"
   ]
  },
  {
   "cell_type": "code",
   "execution_count": null,
   "metadata": {},
   "outputs": [],
   "source": [
    "rois = ['RSC', 'OPA', 'PPA', 'IPS', 'pSTS', 'sPMv',\n",
    "        'EBA', 'OFA'] + ['RSC_only', 'OPA_only', 'PPA_only']\n",
    "# print({k: explanations[k] for k in rois})\n",
    "explanations_clean = {\n",
    "    'RSC': 'Geographic locations',\n",
    "    'OPA': 'Spatial descriptions',\n",
    "    'PPA': 'Descriptive settings and landscapes',\n",
    "    'IPS': 'Descriptive fragments',\n",
    "    'pSTS': 'Verbal and nonverbal reactions in social interactions',\n",
    "    'sPMv': 'Counting and time references',\n",
    "    'EBA': 'Physical movements and interactions',\n",
    "    'OFA': 'Personal growth and introspection',\n",
    "    'RSC_only': 'Travel and locations',\n",
    "    'OPA_only': 'Spatial orientation and positioning',\n",
    "    'PPA_only': 'Negative or critical expressions'\n",
    "}\n",
    "for roi in rois:\n",
    "    print(f'\"{roi}\":', str(\n",
    "        top_ngrams_df[roi].iloc[:20].values.tolist()) + ', ')\n",
    "    # {\n",
    "    # roi:  for roi in rois\n",
    "# })\n",
    "top_ngrams_clean = {\n",
    "    \"RSC\": ['moved to vermont', 'in downriver michigan', 'college in boston', 'northern midwest', 'in warmer mexico', 'in nashville tennessee', 'upstate new york', 'was in mexico', 'in minneapolis minnesota', 'traveled to marrakesh', 'in rural oregon', 'came to florida', 'suburbs of baltimore', 'downriver michigan', 'drove to washington', 'in louisville kentucky', 'here in manhattan'],\n",
    "    \"OPA\": ['onto the railing', 'towards the ceiling', 'over the gulf', 'towards the river', 'against the railing', 'onto the sidewalk', 'on the railing', 'that distant shore', 'towards the doors', 'see the horizon', 'towards the door', 'facing the beach', 'seats behind', 'the door behind', 'reached the interstate', 'sidewalk in front', 'row of stalls', 'walled in backyard', 'on the ceiling', 'twenty feet above'],\n",
    "    \"PPA\": ['mile of cornfields', 'beautiful moonlit mountains', 'giant stone cliffs', 'and shimmering skyscrapers', 'shining skyscrapers', 'on a dock', 'room with concrete', 'lakes and manicured', 'contain strip malls', 'shimmering skyscrapers', 'across the parking', 'little brick patio', 'park bench in', 'the striped curtains', \"there 's trees\", 'the dark driveway', 'of the sidewalk', 'and high rafters', 'of cornfields', 'walled in backyard'],\n",
    "    \"IPS\": ['a long narrow', 'there were slats', 'that forms horizontal', 'four connected squares', 'the two poles', 'on the sides', 'all four corners', 'onto the railing', 'path that jutted', 'you sit backward', 'towards the ceiling', 'long rows of', 'the back hatch', 'divided bering strait', 'paper towel on', 'the tops of', 'the double doors', 'on the railing', 'pigtails with ribbons', 'this ice curtain'],\n",
    "    \"pSTS\": ['room went silent', 'i stopped midstride', 'i provoked gasps', 'stopped midstride', 'said excuse me', 'says excuse me', 'asked i laughed', 'hear boys laughing', 'hook excuse me', 'crowd fell silent', 'moment she gasped', 'i scream stop', 'provoked gasps', 'she started laughing', 'scissors someone shouted', 'somebody then yelled', 'retorted rather loudly', 'smiled i smiled', 'script excuse me', 'stalls i brace'],\n",
    "    \"sPMv\": ['mississippi two mississippi', 'up three down', 'said guess what', 'mississippi three mississippi', 'one mississippi two', 'five only twenty', 'said excuse me', 'was sixteen seventeen', 'april nineteen forty', 'googling her googling', 'say one mississippi', 'fifteen meters fifty', 'twenty minutes thirty', 'sixty nine nineteen', 'fifty sixty seventy', 'was july thirtieth', 'forty years pass', 'october nineteen forty', 'fifty pounds fifty', 'eleven march twenty'],\n",
    "    \"EBA\": ['arms around her', 'lifted her dress', 'his hands folded', 'hands gripped the', 'elbows on knees', 'elbows on', 'grabbed her legs', 'over my shoulder', 'wraps his arms', 'grabbed their hands', 'elbows at', 'danced throwing blankets', 'elbows i swing', 'arms flailing', 'arms tighten around', 'her head brushed', 'holds it up', 'extended my hands', 'the sheets shuffled', 'covered my hand'],\n",
    "    \"OFA\": ['ways of thinking', 'changes your life', 'good friends often', 'the family psychic', 'people whose ideas', 'of our conversations', 'well whatever um', 'games my mother', 'of her thoughts', 'change his life', 'our worst fears', 'newfound self esteem', 'absorb the lesson', 'feel the message', 'that my life', 'my worst nightmare', 'no satisfying fantasies', 'crush their spirits', 'it felt magical', 'thought my life'],\n",
    "    \"RSC_only\": ['came to florida', 'traveled to marrakesh', 'moved to london', 'college in boston', 'moved to vermont', 'off in vancouver', 'home in minneapolis', 'triathlon in utah', 'year in ohio', 'vancouver in canada', 'home in chicago', 'back in marrakesh', 'go to spain', 'was in boston', 'living in chicago', 'sitting in indianapolis', 'in middlebury vermont', 'up in texas', \"'m in michigan\", 'in minneapolis'],\n",
    "    \"OPA_only\": ['towards the ceiling', 'onto the railing', 'on the ceiling', 'you sit backward', 'towards the doors', 'against the railing', 'towards the door', 'seats behind', 'on the railing', 'twenty feet above', 'the door behind', 'feet hanging over', 'see the horizon', 'over the door', 'towards the ground', 'at the ceiling', 'his back turned', 'stand in front', 'that forms horizontal', 'towards the street'],\n",
    "    \"PPA_only\": ['pulled a muscle', 'liar fake', 'theme she liked', \"n't a fake\", \"'s a fake\", 'kind of corny', 'of semi lame', 'nose job', 'his painting sucked', 'erect had rotted', 'ranch with', 'something she liked', \"'s painting sucked\", 'richard had autism', 'intentional lie or', 'or neutral intent', 'like a fake', 'have now messed', 'blueberry coffee cake', 'him semi jokingly'],\n",
    "}"
   ]
  },
  {
   "cell_type": "code",
   "execution_count": null,
   "metadata": {},
   "outputs": [],
   "source": [
    "top_ngrams_df[rois]"
   ]
  },
  {
   "cell_type": "code",
   "execution_count": 34,
   "metadata": {},
   "outputs": [],
   "source": [
    "rows = {\n",
    "    'roi': rois,\n",
    "    'expl': [explanations_clean[k] for k in rois],\n",
    "    'top_ngrams_module_correct': [top_ngrams_clean[k] for k in rois],\n",
    "    # 'question': questions,\n",
    "    'subject': ['UTS02'] * len(rois),\n",
    "    'voxel_nums': [rois_dict[k.replace('_only', '')] for k in rois],\n",
    "}"
   ]
  },
  {
   "cell_type": "code",
   "execution_count": 36,
   "metadata": {},
   "outputs": [],
   "source": [
    "pd.DataFrame(rows).to_pickle('rows_roi_uts02_may31.pkl')"
   ]
  }
 ],
 "metadata": {
  "kernelspec": {
   "display_name": ".llm",
   "language": "python",
   "name": "python3"
  },
  "language_info": {
   "codemirror_mode": {
    "name": "ipython",
    "version": 3
   },
   "file_extension": ".py",
   "mimetype": "text/x-python",
   "name": "python",
   "nbconvert_exporter": "python",
   "pygments_lexer": "ipython3",
   "version": "3.11.9"
  },
  "orig_nbformat": 4,
  "vscode": {
   "interpreter": {
    "hash": "a9ff692d44ea03fd8a03facee7621117bbbb82def09bacaacf0a2cbc238b7b91"
   }
  }
 },
 "nbformat": 4,
 "nbformat_minor": 2
}
