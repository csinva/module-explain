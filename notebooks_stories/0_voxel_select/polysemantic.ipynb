{
 "cells": [
  {
   "cell_type": "code",
   "execution_count": 2,
   "metadata": {},
   "outputs": [],
   "source": [
    "import os\n",
    "import random\n",
    "import matplotlib.pyplot as plt\n",
    "import seaborn as sns\n",
    "from os.path import join\n",
    "from tqdm import tqdm\n",
    "import pandas as pd\n",
    "from typing import List\n",
    "import numpy as np\n",
    "import sasc.generate_helper\n",
    "import sasc.viz\n",
    "from pprint import pprint\n",
    "import pandas as pd\n",
    "import joblib\n",
    "from collections import defaultdict\n",
    "from sasc.config import RESULTS_DIR, REPO_DIR, CACHE_DIR\n",
    "from typing import Tuple\n",
    "import sys\n",
    "import json\n",
    "\n",
    "sys.path.append(join(REPO_DIR, \"notebooks_stories\", \"0_voxel_select\"))\n",
    "import pilot\n",
    "\n",
    "# set openai key\n",
    "import openai\n",
    "\n",
    "openai.api_key_path = \"/home/chansingh/.OPENAI_KEY\""
   ]
  },
  {
   "cell_type": "code",
   "execution_count": 4,
   "metadata": {},
   "outputs": [],
   "source": [
    "r = (pd.read_pickle('../../results/results_fmri_full_1500.pkl')\n",
    "    .sort_values(by=['top_score_synthetic'], ascending=False))\n",
    "r['id'] = \"('\" + r['top_explanation_init_strs'].str.replace(' ', '_').str.slice(stop=20) + \"', '\" + r['subject'] + \"', \" + r['module_num'].astype(str) + \"),\"    \n",
    "r = r[r.subject == 'UTS02']"
   ]
  },
  {
   "cell_type": "code",
   "execution_count": 6,
   "metadata": {},
   "outputs": [
    {
     "data": {
      "text/plain": [
       "Index(['subsample_frac', 'checkpoint', 'checkpoint_module',\n",
       "       'noise_ngram_scores', 'module_num_restrict', 'seed', 'save_dir',\n",
       "       'module_name', 'module_num', 'subject', 'factor_layer', 'factor_idx',\n",
       "       'dl_task', 'method_name', 'num_top_ngrams_to_use',\n",
       "       'num_top_ngrams_to_consider', 'num_summaries', 'num_synthetic_strs',\n",
       "       'generate_template_num', 'use_cache', 'save_dir_unique',\n",
       "       'fmri_test_corr', 'explanation_init_ngrams', 'explanation_init_outputs',\n",
       "       'explanation_init_strs', 'explanation_init_rationales', 'strs_added',\n",
       "       'strs_removed', 'score_synthetic', 'top_explanation_init_strs',\n",
       "       'top_strs_added', 'top_strs_removed', 'top_score_synthetic',\n",
       "       'top_ngrams_module_25', 'top_ngrams_module_50', 'top_ngrams_module_75',\n",
       "       'top_ngrams_module_100', 'roi_anat', 'roi_func',\n",
       "       'top_ngrams_module_correct', 'frac_top_ngrams_module_correct',\n",
       "       'top_score_std', 'top_score_normalized', 'neg_dists_expl_test',\n",
       "       'rankcorr_expl_test', 'id'],\n",
       "      dtype='object')"
      ]
     },
     "execution_count": 6,
     "metadata": {},
     "output_type": "execute_result"
    }
   ],
   "source": [
    "r.columns"
   ]
  },
  {
   "cell_type": "code",
   "execution_count": null,
   "metadata": {},
   "outputs": [],
   "source": []
  }
 ],
 "metadata": {
  "kernelspec": {
   "display_name": ".venv",
   "language": "python",
   "name": "python3"
  },
  "language_info": {
   "codemirror_mode": {
    "name": "ipython",
    "version": 3
   },
   "file_extension": ".py",
   "mimetype": "text/x-python",
   "name": "python",
   "nbconvert_exporter": "python",
   "pygments_lexer": "ipython3",
   "version": "3.11.4"
  },
  "orig_nbformat": 4
 },
 "nbformat": 4,
 "nbformat_minor": 2
}
