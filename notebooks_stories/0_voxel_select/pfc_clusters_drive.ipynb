{
 "cells": [
  {
   "cell_type": "code",
   "execution_count": null,
   "metadata": {},
   "outputs": [
    {
     "name": "stderr",
     "output_type": "stream",
     "text": [
      "/home/chansingh/.env/lib/python3.11/site-packages/cortex/blender/__init__.py:5: DeprecationWarning: 'xdrlib' is deprecated and slated for removal in Python 3.13\n",
      "  import xdrlib\n"
     ]
    }
   ],
   "source": [
    "%load_ext autoreload\n",
    "%autoreload 2\n",
    "import os\n",
    "import matplotlib.pyplot as plt\n",
    "import seaborn as sns\n",
    "from os.path import join\n",
    "from tqdm import tqdm\n",
    "import pandas as pd\n",
    "import sys\n",
    "from typing import List\n",
    "import numpy as np\n",
    "import joblib\n",
    "from pprint import pprint\n",
    "from math import ceil\n",
    "import imodelsx.util\n",
    "import sasc.viz\n",
    "import pickle as pkl\n",
    "import json\n",
    "from copy import deepcopy\n",
    "from numpy.linalg import norm\n",
    "from sklearn.decomposition import PCA\n",
    "from sklearn.preprocessing import StandardScaler, normalize\n",
    "\n",
    "from PIL import Image\n",
    "import img2pdf\n",
    "\n",
    "from scipy.sparse import csr_matrix\n",
    "\n",
    "from sasc.config import CACHE_DIR, RESULTS_DIR, cache_ngrams_dir, regions_idxs_dir, FMRI_DIR, SAVE_DIR_FMRI\n",
    "import sasc.modules.fmri_module\n",
    "from imodels import StableClustering\n",
    "ngrams_list = joblib.load(join(cache_ngrams_dir, 'fmri_UTS02_ngrams.pkl')) # ngrams are same for both models\n",
    "\n",
    "subject = 'S02'\n",
    "k_values = np.unique(np.logspace(0.5, 2.5, 50, dtype=int))\n",
    "# subject = 'S03'\n",
    "# rois_dict = joblib.load(join(regions_idxs_dir, f'rois_{subject}.jbl'))\n",
    "# sorted(rois_dict.keys())\n",
    "# if subject == 'S03':\n",
    "#     rois_dict['OPA'] = rois_dict['TOS']"
   ]
  },
  {
   "cell_type": "code",
   "execution_count": null,
   "metadata": {},
   "outputs": [],
   "source": [
    "data = np.load(\n",
    "    join(FMRI_DIR, 'brain_tune/voxel_neighbors_and_pcs/', 'connectivity.npz'))\n",
    "connectivity = csr_matrix(\n",
    "    (data['data'], data['indices'], data['indptr']), shape=data['shape'])"
   ]
  },
  {
   "cell_type": "code",
   "execution_count": 23,
   "metadata": {},
   "outputs": [],
   "source": [
    "pfc = joblib.load(join(FMRI_DIR, 'brain_tune/voxel_neighbors_and_pcs/',\n",
    "                  'PFC_spotlights.jbl')).astype(bool)"
   ]
  },
  {
   "cell_type": "code",
   "execution_count": 24,
   "metadata": {},
   "outputs": [
    {
     "name": "stdout",
     "output_type": "stream",
     "text": [
      "initializing fmri...\n"
     ]
    },
    {
     "name": "stderr",
     "output_type": "stream",
     "text": [
      "/home/chansingh/.env/lib/python3.11/site-packages/sklearn/base.py:376: InconsistentVersionWarning: Trying to unpickle estimator StandardScaler from version 1.2.2 when using version 1.5.2. This might lead to breaking code or invalid results. Use at your own risk. For more info please refer to:\n",
      "https://scikit-learn.org/stable/model_persistence.html#security-maintainability-limitations\n",
      "  warnings.warn(\n"
     ]
    }
   ],
   "source": [
    "mod = sasc.modules.fmri_module.fMRIModule(\n",
    "    subject=f\"UT{subject}\",\n",
    "    # checkpoint=\"facebook/opt-30b\",\n",
    "    checkpoint=\"huggyllama/llama-30b\",\n",
    "    init_model=False,\n",
    "    restrict_weights=False,\n",
    ")\n",
    "weights_arr_full = mod.weights\n",
    "# weights_arr_full has shape (num_delays x num_linear_coefs, num_voxels)"
   ]
  },
  {
   "cell_type": "code",
   "execution_count": 25,
   "metadata": {},
   "outputs": [],
   "source": [
    "# mean over delays\n",
    "weights_arr_to_cluster = weights_arr_full.reshape(\n",
    "    4, -1, weights_arr_full.shape[1]).mean(axis=0)\n",
    "# weights_arr_to_cluster.shape is (num_linear_coefs, num_voxels)\n",
    "\n",
    "# only keep PFC voxels\n",
    "weights_arr_to_cluster_pfc = weights_arr_to_cluster[:, pfc]\n",
    "# weights_arr_to_cluster_pfc.shape is (num_linear_coefs, num_pfc_voxels)"
   ]
  },
  {
   "cell_type": "code",
   "execution_count": 26,
   "metadata": {},
   "outputs": [],
   "source": [
    "# pca\n",
    "num_pcs = 20\n",
    "pca = PCA(n_components=num_pcs, whiten=True)\n",
    "\n",
    "pca.fit(normalize(weights_arr_to_cluster_pfc.T))\n",
    "# pca.fit(normalize(weights_arr_to_cluster.T))\n",
    "# pca.components_.shape is (num_pcs, num_linear_coefs)\n",
    "\n",
    "pc_coefs_per_voxel = pca.transform(normalize(weights_arr_to_cluster.T))\n",
    "# pc_coefs_per_voxel.shape is (num_voxels, num_pcs)"
   ]
  },
  {
   "cell_type": "code",
   "execution_count": null,
   "metadata": {},
   "outputs": [],
   "source": [
    "# save pcs\n",
    "for pc_num in range(num_pcs):\n",
    "    flatmap = pc_coefs_per_voxel[:, pc_num]\n",
    "    # flatmap = np.zeros(weights_arr_full.shape[1])\n",
    "    # flatmap[pfc] = pc_coefs_per_voxel[:, pc_num]\n",
    "    sasc.viz._save_flatmap(\n",
    "        flatmap, 'S02', fname_save=f'pca_images/pca_{pc_num+1}.png')\n",
    "\n",
    "# read all plots and save as subplots on the same page\n",
    "fig, axs = plt.subplots(ceil(num_pcs/3), 3, figsize=(15, 5))\n",
    "axs = axs.ravel()\n",
    "for i in range(num_pcs):\n",
    "    axs[i].imshow(Image.open(f'./pca_{i+1}.png'))\n",
    "    axs[i].axis('off')\n",
    "    axs[i].set_title(f'PC {i + 1}')\n",
    "plt.savefig('pca_subplots.png')"
   ]
  },
  {
   "cell_type": "code",
   "execution_count": 30,
   "metadata": {},
   "outputs": [],
   "source": [
    "pc_coefs_per_pfc_voxel = pc_coefs_per_voxel[pfc]"
   ]
  },
  {
   "cell_type": "code",
   "execution_count": 31,
   "metadata": {},
   "outputs": [],
   "source": [
    "connectivity_pfc = connectivity[pfc][:, pfc]"
   ]
  },
  {
   "cell_type": "code",
   "execution_count": 32,
   "metadata": {},
   "outputs": [
    {
     "data": {
      "text/plain": [
       "(3852, 3852)"
      ]
     },
     "execution_count": 32,
     "metadata": {},
     "output_type": "execute_result"
    }
   ],
   "source": [
    "connectivity_pfc.shape"
   ]
  },
  {
   "cell_type": "markdown",
   "metadata": {},
   "source": [
    "# run clustering"
   ]
  },
  {
   "cell_type": "code",
   "execution_count": 34,
   "metadata": {},
   "outputs": [],
   "source": [
    "from sklearn.cluster import AgglomerativeClustering"
   ]
  },
  {
   "cell_type": "code",
   "execution_count": null,
   "metadata": {},
   "outputs": [],
   "source": [
    "cluster_assignments_dict = {}\n",
    "for num_clusters in k_values:\n",
    "    clustering = AgglomerativeClustering(\n",
    "        n_clusters=num_clusters,\n",
    "        connectivity=connectivity_pfc,\n",
    "        linkage='ward',\n",
    "    )\n",
    "\n",
    "    clustering.fit(pc_coefs_per_pfc_voxel)\n",
    "    cluster_assignments = clustering.labels_\n",
    "    cluster_assignments_dict[num_clusters] = deepcopy(cluster_assignments)\n",
    "\n",
    "    # visualize clusters\n",
    "    for i in range(min(20, num_clusters)):\n",
    "        # flatmap = pc_coefs_per_voxel[:, pc_num]\n",
    "        flatmap = np.zeros(weights_arr_full.shape[1])\n",
    "        flatmap[pfc] = (cluster_assignments == i).astype(int)\n",
    "        sasc.viz._save_flatmap(\n",
    "            flatmap, 'S02', fname_save=f'clusters/{i+1}.png')\n",
    "\n",
    "    # read all plots and save as subplots on the same page\n",
    "    C = 4\n",
    "    R = ceil(num_clusters/C)\n",
    "    fig, axs = plt.subplots(R, C, figsize=(C * 4, R * 2))\n",
    "    axs = axs.ravel()\n",
    "    for i in range(min(20, num_clusters)):\n",
    "        axs[i].imshow(Image.open(f'clusters/{i+1}.png'))\n",
    "        axs[i].axis('off')\n",
    "        axs[i].set_title(f'{i + 1}')\n",
    "    plt.savefig(f'clusters/cluster_aggregated_{num_clusters}.png')"
   ]
  },
  {
   "cell_type": "code",
   "execution_count": null,
   "metadata": {},
   "outputs": [],
   "source": [
    "cluster_assignments_k = cluster_assignments_dict[k_values[-1]]"
   ]
  },
  {
   "cell_type": "markdown",
   "metadata": {},
   "source": [
    "### Get predictions from embs\n",
    "(This is the slowest part, involves a massive matrix multiply)"
   ]
  },
  {
   "cell_type": "code",
   "execution_count": null,
   "metadata": {},
   "outputs": [],
   "source": [
    "for embs_fname, checkpoint, out_suffix in zip(\n",
    "    ['fmri_embs.pkl', 'fmri_embs_llama.pkl'],\n",
    "    ['facebook/opt-30b', 'huggyllama/llama-30b'],\n",
    "    ['_opt', '_llama'],\n",
    "):\n",
    "\n",
    "    embs = joblib.load(join(cache_ngrams_dir, embs_fname))\n",
    "    # embs = joblib.load(join(cache_ngrams_dir, 'fmri_embs_llama.pkl'))\n",
    "    mod = sasc.modules.fmri_module.fMRIModule(\n",
    "        subject=f\"UT{subject}\",\n",
    "        checkpoint=checkpoint,\n",
    "        init_model=False,\n",
    "        restrict_weights=False,\n",
    "    )\n",
    "    voxel_preds = mod(embs=embs, return_all=True)\n",
    "\n",
    "    for k in k_values:\n",
    "        cluster_assignments_arr = cluster_assignments_dict[k]\n",
    "        outputs_dict = {\n",
    "            k_: voxel_preds[:,\n",
    "                            np.where(cluster_assignments_arr == k_)[0]\n",
    "                            ].mean(axis=1)\n",
    "            for k_ in range(k)\n",
    "        }\n",
    "        joblib.dump(outputs_dict, join(\n",
    "            cache_ngrams_dir, f'pfc_clusters_ngram_outputs_dict_{k}_{subject}{out_suffix}.pkl'))"
   ]
  },
  {
   "cell_type": "code",
   "execution_count": null,
   "metadata": {},
   "outputs": [],
   "source": [
    "for k in stable_clustering.k_values:\n",
    "    cluster_assignments, cluster_assignments_dict = get_cluster_assignments(\n",
    "        stable_clustering, pc_coefs_per_pfc_voxel, k)\n",
    "\n",
    "    outputs_dict = {\n",
    "        k: np.nanmean(voxel_preds[:, np.array(\n",
    "            cluster_assignments_dict[k])], axis=1)\n",
    "        for k in cluster_assignments_dict\n",
    "    }\n",
    "    joblib.dump(outputs_dict, join(\n",
    "        cache_ngrams_dir, f'pfc_clusters_ngram_outputs_dict_{subject}_opt_{k}.pkl'))\n",
    "    # cache_ngrams_dir, f'pfc_clusters_ngram_outputs_dict_{subject}_llama_{k}.pkl'))"
   ]
  },
  {
   "cell_type": "markdown",
   "metadata": {},
   "source": [
    "### Compute similarities between clusters"
   ]
  },
  {
   "cell_type": "code",
   "execution_count": 45,
   "metadata": {},
   "outputs": [],
   "source": [
    "def nancorr(x, y):\n",
    "    # remove nans\n",
    "    mask = ~np.isnan(x) & ~np.isnan(y)\n",
    "    return np.corrcoef(x[mask], y[mask])[0, 1]"
   ]
  },
  {
   "cell_type": "code",
   "execution_count": null,
   "metadata": {},
   "outputs": [
    {
     "name": "stderr",
     "output_type": "stream",
     "text": [
      "/home/chansingh/.env/lib/python3.11/site-packages/numpy/lib/_function_base_impl.py:557: RuntimeWarning: Mean of empty slice.\n",
      "  avg = a.mean(axis, **keepdims_kw)\n",
      "/home/chansingh/.env/lib/python3.11/site-packages/numpy/_core/_methods.py:130: RuntimeWarning: invalid value encountered in divide\n",
      "  ret = um.true_divide(\n",
      "/home/chansingh/.env/lib/python3.11/site-packages/numpy/lib/_function_base_impl.py:2914: RuntimeWarning: Degrees of freedom <= 0 for slice\n",
      "  c = cov(x, y, rowvar, dtype=dtype)\n",
      "/home/chansingh/.env/lib/python3.11/site-packages/numpy/lib/_function_base_impl.py:2773: RuntimeWarning: divide by zero encountered in divide\n",
      "  c *= np.true_divide(1, fact)\n",
      "/home/chansingh/.env/lib/python3.11/site-packages/numpy/lib/_function_base_impl.py:2773: RuntimeWarning: invalid value encountered in multiply\n",
      "  c *= np.true_divide(1, fact)\n"
     ]
    },
    {
     "name": "stdout",
     "output_type": "stream",
     "text": [
      "k = 3: 0.07 +/- 0.03\n",
      "k = 4: 0.08 +/- 0.03\n",
      "k = 5: 0.08 +/- 0.03\n",
      "k = 6: 0.07 +/- 0.02\n",
      "k = 7: 0.06 +/- 0.03\n",
      "k = 8: 0.05 +/- 0.03\n",
      "k = 9: 0.06 +/- 0.03\n",
      "k = 10: 0.05 +/- 0.03\n",
      "k = 11: 0.05 +/- 0.03\n",
      "k = 12: 0.05 +/- 0.03\n",
      "k = 14: 0.04 +/- 0.02\n",
      "k = 15: 0.05 +/- 0.04\n",
      "k = 17: 0.05 +/- 0.02\n",
      "k = 18: 0.05 +/- 0.03\n",
      "k = 20: 0.06 +/- 0.04\n",
      "k = 22: 0.05 +/- 0.04\n",
      "k = 25: 0.04 +/- 0.04\n",
      "k = 27: 0.06 +/- 0.04\n",
      "k = 30: 0.04 +/- 0.03\n",
      "k = 33: 0.05 +/- 0.04\n",
      "k = 36: 0.05 +/- 0.04\n",
      "k = 39: 0.04 +/- 0.05\n",
      "k = 43: 0.03 +/- 0.04\n",
      "k = 48: 0.05 +/- 0.05\n",
      "k = 53: 0.04 +/- 0.04\n",
      "k = 58: 0.03 +/- 0.04\n",
      "k = 63: 0.02 +/- 0.04\n",
      "k = 70: 0.02 +/- 0.03\n",
      "k = 77: 0.03 +/- 0.03\n",
      "k = 84: 0.03 +/- 0.03\n",
      "k = 93: 0.03 +/- 0.03\n",
      "k = 102: 0.04 +/- 0.03\n",
      "k = 112: 0.03 +/- 0.03\n",
      "k = 123: 0.03 +/- 0.03\n",
      "k = 135: 0.04 +/- 0.03\n",
      "k = 149: 0.05 +/- 0.04\n",
      "k = 163: 0.03 +/- 0.03\n",
      "k = 179: 0.05 +/- 0.03\n",
      "k = 197: 0.04 +/- 0.03\n",
      "k = 217: 0.10 +/- 0.12\n",
      "k = 238: 0.09 +/- 0.11\n",
      "k = 262: 0.06 +/- 0.05\n",
      "k = 287: 0.10 +/- 0.15\n",
      "k = 316: 0.11 +/- 0.15\n"
     ]
    },
    {
     "data": {
      "text/plain": [
       "[<matplotlib.lines.Line2D at 0x7fb9f4355ed0>]"
      ]
     },
     "execution_count": 50,
     "metadata": {},
     "output_type": "execute_result"
    },
    {
     "data": {
      "image/png": "[encoded data removed]",
      "text/plain": [
       "<Figure size 640x480 with 1 Axes>"
      ]
     },
     "metadata": {},
     "output_type": "display_data"
    }
   ],
   "source": [
    "cluster_corrs_list = []\n",
    "for k in tqdm(k_values):\n",
    "    # for k in [3]:\n",
    "    outputs_dict_opt = joblib.load(join(\n",
    "        cache_ngrams_dir, f'pfc_clusters_ngram_outputs_dict_{subject}_opt_{k}.pkl'))\n",
    "    outputs_dict_llama = joblib.load(join(\n",
    "        cache_ngrams_dir, f'pfc_clusters_ngram_outputs_dict_{subject}_llama_{k}.pkl'))\n",
    "\n",
    "    cluster_corrs = [nancorr(outputs_dict_opt[k], outputs_dict_llama[k])\n",
    "                     for k in outputs_dict_opt]\n",
    "    cluster_corrs_list.append(cluster_corrs)\n",
    "    print(\n",
    "        f'k = {k}: {np.nanmean(cluster_corrs):.2f} +/- {np.nanstd(cluster_corrs):.2f}')\n",
    "plt.plot(k_values, [np.nanmean(x) for x in cluster_corrs_list], '.-')"
   ]
  },
  {
   "cell_type": "code",
   "execution_count": 71,
   "metadata": {},
   "outputs": [],
   "source": [
    "df = pd.DataFrame([list(x) for x in cluster_corrs_list], index=k_values)\n",
    "df = df.stack().reset_index().set_index('level_0')"
   ]
  },
  {
   "cell_type": "code",
   "execution_count": null,
   "metadata": {},
   "outputs": [
    {
     "data": {
      "image/png": "[encoded data removed]",
      "text/plain": [
       "<Figure size 1000x500 with 1 Axes>"
      ]
     },
     "metadata": {},
     "output_type": "display_data"
    }
   ],
   "source": [
    "# make wide figure\n",
    "plt.figure(figsize=(10, 5))\n",
    "\n",
    "sns.stripplot(data=df, x='level_0', y=0, jitter=0.1, alpha=1, size=3)\n",
    "# show means\n",
    "# sns.boxplot(data=df, x='level_0', y=0, showmeans=True, meanprops={\n",
    "# 'marker': 'o', 'markerfacecolor': 'black', 'markeredgecolor': 'black'})\n",
    "sns.pointplot(data=df, x='level_0', y=0, errorbar=None,\n",
    "              color='black', markers='.', alpha=0.5)\n",
    "plt.xlabel('k')\n",
    "plt.ylabel('Stability score (per cluster)')\n",
    "# plt.axhline(0, color='gray', linewidth=0.5)\n",
    "plt.grid()\n",
    "\n",
    "# rotate xlabels\n",
    "plt.xticks(rotation=45)\n",
    "plt.show()"
   ]
  },
  {
   "cell_type": "markdown",
   "metadata": {},
   "source": [
    "### Load outputs"
   ]
  },
  {
   "cell_type": "code",
   "execution_count": null,
   "metadata": {},
   "outputs": [],
   "source": [
    "outputs_dict = joblib.load(\n",
    "    join(cache_ngrams_dir, f'rois_ngram_outputs_dict_{subject}_opt.pkl'))\n",
    "df_opt = pd.DataFrame(outputs_dict, index=ngrams_list)\n",
    "outputs_dict = joblib.load(\n",
    "    join(cache_ngrams_dir, f'rois_ngram_outputs_dict_{subject}_llama.pkl'))\n",
    "df_llama = pd.DataFrame(outputs_dict, index=ngrams_list)\n",
    "df = df_opt + df_llama\n",
    "ROIS_LOC = ['RSC', 'PPA', 'OPA']  # 'OPA', 'PPA']\n",
    "for k in ROIS_LOC:\n",
    "    df_opt[k + '_only'] = df_opt[k] - \\\n",
    "        df_opt[[c for c in ROIS_LOC if c != k]].mean(axis=1)\n",
    "    df_llama[k + '_only'] = df_llama[k] - \\\n",
    "        df_llama[[c for c in ROIS_LOC if c != k]].mean(axis=1)\n",
    "    df[k + '_only'] = df[k] - \\\n",
    "        df[[c for c in ROIS_LOC if c != k]].mean(axis=1)"
   ]
  },
  {
   "cell_type": "code",
   "execution_count": null,
   "metadata": {},
   "outputs": [],
   "source": [
    "stability_scores = {\n",
    "    k: np.corrcoef(df_opt[k], df_llama[k])[0, 1]\n",
    "    for k in df.columns\n",
    "}"
   ]
  },
  {
   "cell_type": "code",
   "execution_count": null,
   "metadata": {},
   "outputs": [],
   "source": [
    "# stabs = pd.read_pickle('rows_roi_uts02_may31.pkl')"
   ]
  },
  {
   "cell_type": "code",
   "execution_count": null,
   "metadata": {},
   "outputs": [],
   "source": [
    "ascending = False  # should be false to get driving ngrams\n",
    "top_ngrams_dict = {}\n",
    "for k in df.columns:\n",
    "    top_ngrams_dict[k] = df.sort_values(\n",
    "        k, ascending=ascending).index[:100].tolist()\n",
    "    # if k in ROIS_LOC:\n",
    "\n",
    "    # top_ngrams_dict[k + '_only'] = df.sort_values(\n",
    "    # k + '_only', ascending=ascending).index[:100].tolist()\n",
    "top_ngrams_df = pd.DataFrame(top_ngrams_dict)\n",
    "top_ngrams_df.to_csv(f'top_ngrams_by_roi_{subject}.csv')\n",
    "with pd.option_context('display.max_rows', None):\n",
    "    rois = ['RSC', 'OPA', 'PPA', 'IPS', 'pSTS', 'sPMv',\n",
    "            'EBA', 'OFA'] + ['RSC_only', 'OPA_only', 'PPA_only']\n",
    "    rois = [r for r in rois if not r == 'pSTS']  # never localized pSTS in S03\n",
    "    display(top_ngrams_df[rois])"
   ]
  },
  {
   "cell_type": "code",
   "execution_count": null,
   "metadata": {},
   "outputs": [],
   "source": [
    "gpt4 = imodelsx.llm.get_llm('gpt-4-turbo-0125-spot')\n",
    "try:\n",
    "    explanations = json.load(open(f'explanations_by_roi_{subject}.json', 'r'))\n",
    "except:\n",
    "    explanations = {}\n",
    "for k in top_ngrams_df.columns:\n",
    "\n",
    "    s = '- ' + '\\n- '.join(top_ngrams_df[k].iloc[:60])\n",
    "    prompt = f'''Here is a list of phrases:\n",
    "    {s}\n",
    "\n",
    "    What is a common theme among these phrases? Return only a concise phrase.'''\n",
    "    if not k in explanations:\n",
    "        explanations[k] = gpt4(prompt)\n",
    "json.dump(explanations, open(\n",
    "    f'explanations_by_roi_{subject}.json', 'w'), indent=4)"
   ]
  },
  {
   "cell_type": "code",
   "execution_count": null,
   "metadata": {},
   "outputs": [],
   "source": [
    "{k: explanations[k] for k in rois}"
   ]
  },
  {
   "cell_type": "code",
   "execution_count": null,
   "metadata": {},
   "outputs": [],
   "source": [
    "print(top_ngrams_df['PPA_only'].values.tolist())"
   ]
  },
  {
   "cell_type": "markdown",
   "metadata": {},
   "source": [
    "### S03 Export selected rois to pkl"
   ]
  },
  {
   "cell_type": "code",
   "execution_count": null,
   "metadata": {},
   "outputs": [],
   "source": [
    "rois = ['RSC', 'OPA', 'PPA', 'IPS', 'sPMv', 'EBA', 'OFA'] + \\\n",
    "    ['RSC_only', 'OPA_only', 'PPA_only']  # all but 'pSTS'\n",
    "# pprint({k: explanations[k] for k in rois})\n",
    "explanations_clean = {\n",
    "    'EBA': 'Body parts',\n",
    "    'IPS': 'Descriptive elements of scenes or objects',\n",
    "    # OFA differs from UTS02 (which was \"'Personal growth and reflection',\")\n",
    "    'OFA': 'Conversational transitions',\n",
    "    'OPA': 'Direction and location descriptions',\n",
    "    # OPA_only differs from UTS02 (which was 'Spatial positioning and directions')\n",
    "    'OPA_only': 'Self-reflection and growth',\n",
    "    'PPA': 'Scenes and settings',\n",
    "    'PPA_only': 'Unappetizing foods',\n",
    "    'RSC': 'Travel and location names',\n",
    "    'RSC_only': 'Location names',\n",
    "    # sPMv differs from UTS02 (which was 'Time and Numbers')\n",
    "    'sPMv': 'Dialogue and responses',\n",
    "}\n",
    "explanation_avoid_suffixes = {\n",
    "    'EBA': ' Avoid mentioning any locations.',\n",
    "    'IPS': ' Avoid mentioning any locations.',\n",
    "    'OFA': ' Avoid mentioning any locations.',\n",
    "    'OPA': ' Avoid mentioning any specific location names (like \"New York\" or \"Europe\").',\n",
    "    'OPA_only': ' Avoid mentioning any specific location names (like \"New York\" or \"Europe\").',\n",
    "    'PPA': ' Avoid mentioning any specific location names (like \"New York\" or \"Europe\").',\n",
    "    'PPA_only': ' Avoid mentioning any specific location names (like \"New York\" or \"Europe\").',\n",
    "    'RSC': '',\n",
    "    'RSC_only': '',\n",
    "    'sPMv': ' Avoid mentioning any locations.'\n",
    "}\n",
    "for roi in rois:\n",
    "    print(f'\"{roi}\":', str(\n",
    "        top_ngrams_df[roi.replace('1', '').replace('2', '')].iloc[:50].values.tolist()) + ', ')\n",
    "top_ngrams_clean = {\n",
    "    \"RSC\": ['was led upstairs', 'onto the subway', 'to the hallway', 'drove to washington', 'back through london', 'and darted downstairs', 'past the offices', 'long hallway toward', 'down the sidewalk', 'back in manhattan', 'reached the interstate', 'just blocks away', 'drove from vermont', 'was standing outside', 'to a courtyard', 'in the alley', 'up the coast', 'from my dorm', 'in the courtyard', 'in central park', 'i walk outside', 'here in manhattan', 'darted downstairs', 'facing the beach', 'walk through downtown', 'wander the hallways', 'i ran downstairs', 'down the hall', \"'m standing outside\", 'off into vancouver', 'through the streets', 'sitting in indianapolis', 'on sixth avenue', 'i go upstairs', 'across the street', 'arrived in indianapolis', 'we were downtown'],\n",
    "    \"OPA\": ['railing looking out', 'across a plateau', 'up the coast', 'against the railing', 'in the courtyard', 'up the hill', 'above the gulf', 'outside the windows', 'long hallway toward', 'over the gulf', 'past the offices', 'through the windows', 'beside the river', 'past the waterfall', 'across the bridge', 'this long hallway', 'to a courtyard', 'and the courtyard', 'and behind me', 'down this embankment', 'towards the river', 'the hill up', 'courtyard was surrounded', 'in an alcove', 'onto the railing', 'along the coast', 'up the stairs', 'across the quadrangle', 'facing the beach', 'to the north', 'down the corridor', 'through the gates', 'over the embankment', 'onto the bridge', 'down that corridor', 'down the sidewalk', 'i looked across', 'path that jutted', 'through this door', 'the lagoon behind', 'down the embankment', 'on the railing', 'on the embankment', 'through the doors', 'on the windowsill', 'corridor out onto', 'the buildings beside', 'to the hallway', 'by that window', 'past the city', 'door behind me', 'to the south', 'off the coast', 'cross the bering', 'around the reef', 'behind me i', 'driveway and behind', 'against the windows', 'across the street', 'to the shoreline', 'lagoon behind the', 'on the sidewalk', 'hall past the', 'off the east', 'of the ravine', 'surrounded the city', 'in the window', 'southern shore of', 'in the distance', 'onto the sidewalk', 'i look across', 'behind us i', 'behind us there', 'on the cliff', 'over the river', 'toward the ocean', 'on that terrace', 'row of stalls', 'sidewalk in front', 'down the long', 'on the walls', 'door to the', 'by the window', 'outside my door', 'outside the door', 'across from me', 'on the eastern', 'the hall past', 'down the lagoon', 'in the forest', 'that window in', 'around me the', 'to the barrier', 'the gulf where', 'road in front', 'in the hallway', 'across the parking', 'in the colonnade', 'to the western', 'surrounded by rooms'],\n",
    "    \"PPA\": ['in an alcove', 'on the stoop', 'past the offices', 'against the railing', 'on the windowsill', 'in the alley', 'to a courtyard', 'the copier room', 'in the courtyard', 'this long hallway', 'to the hallway', 'on a dock', 'in the hallway', 'long hallway toward', 'outside the windows', 'on that terrace', 'inside the hut', 'railing looking out', 'through the windows', 'down this embankment', 'on the subway', 'onto the subway', 'there were shelves', 'in my cubicle', 'a strip mall', 'on the sidewalk', 'in the colonnade', 'on the railing', 'into the basement', 'across the parking', 'a restaurant stoop', 'onto the railing', 'exit the subway', 'by the window', 'in that attic', 'was led upstairs', 'in the basement', 'the food court', 'and the courtyard', 'in the cafeteria', 'hall past the', 'into the parking', 'in the windowless', 'back room where', 'on my bed', 'down the sidewalk', 'contain strip malls', 'onto the sidewalk', 'the hall closet', 'at those cliffs'],\n",
    "\n",
    "    \"RSC_only\": ['moved to chicago', 'drove from vermont', 'came to florida', 'here in manhattan', 'living in chicago',  'move to texas', 'leaving for france', 'back in manhattan', 'to boston to', 'went to boston', 'moved to vermont', 'geese in ohio', 'college in boston', 'in ohio', 'moved to brooklyn', 'normal suburban pittsburgh', 'moved to london', 'back in israel', 'to london to', 'come from israel', 'went to manchester', 'to columbus ohio', 'here in boston', 'i left vermont', 'from pittsburgh pennsylvania', 'in lower manhattan', 'hometown in texas', 'touring through europe', 'in warmer mexico', 'union in manhattan', 'suburban pittsburgh', 'moved to washington', 'was in boston', 'slacking in madison', 'chick from silverlake', 'heading to iraq', 'in chicago', 'in louisville kentucky', 'lived in hiroshima', 'in florida'],\n",
    "    \"OPA_only\": ['eventually i forgave', 'push past it', 'eventually forgave', 'she eventually forgave', 'i forgave', 'to see ourselves', 'of myself which', 'means extending empathy', 'forgive and', 'i stopped myself', 'forgive and love', 'of the hurt', 'i rise above', 'i pushed myself', 'is and who', \"'m hurt but\", 'see ourselves and', 'the hurt', 'i persisted and', 'to forgive afterwards', 'was real to', 'comparing myself', 'looked in myself', 'selves which', 'around it and', 'self which translated', 'inside me that', 'of me which', 'overcome my ambivalence', 'to push myself', 'was also influenced', 'the side which', 'side which', 'independence and freedom'],\n",
    "    \"PPA_only\": ['a garbage bag', 'that garbage bag', \"'re throwing napkins\", 'box of discarded', 'in sugar jars', 'their chew toys', 'those plastic containers', 'our dishwasher', 'skivvies toothbrush floss', 'of cheap beer', 'throwing napkins', 'a trash can', 'milk bottle tops', 'want a mcflurry', 'vomit smelling couch', 'grown napkins', 'my cheese sandwich', 'overpriced coffee shops', 'some lighter fluid', 'salad and stale', 'vomited a washpan', 'these brown paper'],\n",
    "\n",
    "    \"IPS\": ['and behind me', 'against the railing', 'onto the railing', 'path that jutted', 'situated herself behind', 'above the gulf', 'door behind me', 'southern shore of', 'i looked across', 'along the edge', 'closed behind me', 'behind me and', 'across a plateau', 'on the railing', 'up behind me', 'leaning against the', 'towering above me', 'jutted into the', 'onto the bridge', 'and cut across', 'behind him and', 'and came around', 'front of us', 'up onto the', 'over the gulf', 'stood behind me', 'across the bridge', 'beside the river'],\n",
    "    \"sPMv\": ['repeated her affirmation', 'said excuse me', 'asked i laughed', 'and goes hey', 'response was nah', 'hurry she exclaimed', 'said no i', 'just nodded yes', 'retorted rather loudly', 'was like hey', 'called her and', 'and said yes', 'and screams fuck', 'said uh hey', 'says sure and', 'says uh actually', 'was like hi', 'i said fine', 'said without hesitation', 'said well yes', 'says excuse me', 'i asked immediately', 'she yelled i', 'said mom mom', 'said did i', 'i said wow', 'i said shyly', 'asked her and', 'said okay okay', 'i sheepishly raise', 'which i responded', 'turned and said', 'then wrote yes', 'said yes i', 'whisper she said', 'was like mhm'],\n",
    "    \"EBA\": ['arms around her', 'wraps his arms', 'hands gripped the', 'into my palm', 'hands into my', 'elbows on knees', 'grab his arms', 'his hands folded', 'into her arms', 'grabbed her hand', 'arms flailing', 'grabbed her legs', 'arm around my', 'grabbed their hands', 'lifted her up', 'put my arms', 'leaned his head', 'put his arms', 'shakes my hand', 'flying arms flailing', 'i leaned down', 'arms tighten around', 'her hands gripped', 'hand on his', 'my feet kicking', 'pinning my arms', 'held her hand', 'in a headlock', 'pressed my face', 'holds her hand', 'arms flailing holding', 'rubbing his head'],\n",
    "    \"OFA\": ['and we talked', 'i even met', 'and so finally', 'one night my', 'one evening after', 'anyway the point', 'one summer my', 'weeks passed and', 'finally one day', 'then we talked', 'one night i', 'we chatted', 'and i talked', 'we talked and', 'talked and', 'so i texted', 'to my surprise', 'one afternoon when', 'i persisted and', 'and i finally', 'was watching television', 'i remember once', 'so one night', 'but anyway', 'and i met', 'when i finally', 'so i finally', 'on and on', 'son had finally', 'and i especially', 'so one day', 'and eventually i', 'we brace ourselves', 'so anyway', 'i was perusing', 'and it finally', 'later that day', 'so we finally', 'but anyhow', 'and as we', 'the day came', 'home one afternoon', 'then i finally', 'what fascinated me', 'and i vaguely', 'so i talked', 'once while i', 'was hanging out', 'i was reliving', 'but the most'],\n",
    "}\n",
    "\n",
    "rows = {\n",
    "    'roi': rois,\n",
    "    'expl': [explanations_clean[k] for k in rois],\n",
    "    'top_ngrams_module_correct': [top_ngrams_clean[k] for k in rois],\n",
    "    'stability_score': [stability_scores[k.split('_')[0]] for k in rois],\n",
    "    'subject': [f'UT{subject}'] * len(rois),\n",
    "    'voxel_nums': [rois_dict[k.split('_')[0]] for k in rois],\n",
    "    'prompt_suffix': [explanation_avoid_suffixes[k] for k in rois],\n",
    "}\n",
    "rows = pd.DataFrame(rows)\n",
    "rows.to_pickle(f'rows_roi_ut{subject.lower()}_may31.pkl')"
   ]
  },
  {
   "cell_type": "markdown",
   "metadata": {},
   "source": [
    "### S02 Export selected rois to pkl"
   ]
  },
  {
   "cell_type": "code",
   "execution_count": null,
   "metadata": {},
   "outputs": [],
   "source": [
    "rois = ['RSC', 'OPA', 'PPA', 'IPS', 'pSTS', 'sPMv',\n",
    "        'EBA', 'OFA'] + ['RSC_only', 'OPA_only', 'PPA_only2']  # 'PPA_only1',\n",
    "# pprint({k: explanations[k] for k in rois})\n",
    "explanations_clean = {\n",
    "    'EBA': 'Body parts',\n",
    "    'IPS': 'Descriptive elements of scenes or objects',\n",
    "    'OFA': 'Personal growth and reflection',\n",
    "    'OPA': 'Direction and location descriptions',\n",
    "    'OPA_only': 'Spatial positioning and directions',\n",
    "    'PPA': 'Scenes and settings',\n",
    "    'PPA_only': 'Unappetizing foods',\n",
    "    'RSC': 'Travel and location names',\n",
    "    'RSC_only': 'Location names',\n",
    "    'pSTS': 'Verbal interactions',\n",
    "    'sPMv': 'Time and numbers'}\n",
    "explanation_avoid_suffixes = {\n",
    "    'EBA': ' Avoid mentioning any locations.',\n",
    "    'IPS': ' Avoid mentioning any locations.',\n",
    "    'OFA': ' Avoid mentioning any locations.',\n",
    "    'OPA': ' Avoid mentioning any specific location names (like \"New York\" or \"Europe\").',\n",
    "    'OPA_only': ' Avoid mentioning any specific location names (like \"New York\" or \"Europe\").',\n",
    "    'PPA': ' Avoid mentioning any specific location names (like \"New York\" or \"Europe\").',\n",
    "    'PPA_only': ' Avoid mentioning any specific location names (like \"New York\" or \"Europe\").',\n",
    "    'RSC': '',\n",
    "    'RSC_only': '',\n",
    "    'pSTS': ' Avoid mentioning any locations.',\n",
    "    'sPMv': ' Avoid mentioning any locations.'\n",
    "}\n",
    "for roi in rois:\n",
    "    print(f'\"{roi}\":', str(\n",
    "        top_ngrams_df[roi.replace('1', '').replace('2', '')].iloc[:50].values.tolist()) + ', ')\n",
    "    # {\n",
    "    # roi:  for roi in rois\n",
    "# })\n",
    "top_ngrams_clean = {\n",
    "    \"RSC\": ['drove from vermont', 'to washington', 'in manhattan', 'here in boston', 'off into vancouver', 'moved to chicago', 'was in mexico', 'arrived in indianapolis', 'came to florida', 'i left vermont'],\n",
    "    \"OPA\": ['onto the railing', 'towards the river', 'onto the sidewalk', 'towards the doors', 'outside the windows', 'long hallway toward', 'to the horizon', 'towards the street', 'over the gulf', 'to my left', 'path that jutted', 'on the ceiling', 'on the windowsill', 'down this embankment', 'up those stairs', 'above the gulf', 'facing the beach'],\n",
    "    \"PPA\": ['mile of cornfields', 'the windowsill', 'the rolling hills', 'beautiful moonlit mountains', 'giant stone cliffs', 'a strip mall', 'nondescript office buildings', 'manicured lawns', 'lakes', 'the dark driveway', 'and shimmering skyscrapers', 'a private beach', 'the leafy garden', 'our modest backyard', 'my dorm'],\n",
    "\n",
    "    \"RSC_only\": ['florida', 'israel', 'london', 'marrakesh', 'indianapolis', 'paris', 'pennsylvania', 'tokyo', 'tenessee', 'boston', 'vermont', 'chicago', 'indianapolis'],\n",
    "    \"OPA_only\": ['towards the ceiling', 'onto the railing', 'feet hanging over', 'towards the doors', 'seats behind', 'towards the door', 'lights peeking over', 'to my left', 'situated herself behind', 'you sit backward', 'to the horizon', 'maybe twelve feet', 'at the ceiling', 'towards the street', 'of seats behind', 'twenty feet above', 'his back turned', 'see the horizon', 'seats behind the', 'to my right', 'and high rafters', 'about twenty feet', 'door behind me', 'the door behind', 'toward the back', 'over his shoulder', 'feet above the', 'hands went underneath', 'towards the ground', 'his feet hanging', 'feet touch the', 'behind her and', 'stand in front', 'down one side', 'on opposite sides', 'over the ceiling', 'on either side'],\n",
    "    # \"PPA_only\": ['kind of corny', 'his painting sucked', 'snake oil', 'liar fake', 'fake name', 'bad puns', 'as an insult', 'called baloney'],\n",
    "    \"PPA_only2\": ['like burnt steak', 'like pudding', 'tasted pretty bad', 'stale baked goods', 'the crusts', 'baloney', 'yeast extract', 'a sandwich rejected',],\n",
    "\n",
    "    \"IPS\": ['there were slats', 'four connected squares', 'in long rows', 'on the sides', 'a long narrow', 'that forms horizontal', 'long rows of', 'sixty foot wide', 'between buttered slices', 'mile thick ice', 'all four corners', 'along the top'],\n",
    "    \"pSTS\": ['said excuse me', 'says excuse me', 'room went silent', 'someone shouted', 'i provoked gasps', 'somebody then yelled', 'she started laughing', 'excuse me', 'asked i laughed', 'exhalation someone shouted', 'retorted rather loudly', 'turned and said', 'hurry she exclaimed', 'i started yelling', 'say excuse me', 'i started laughing', 'interrupted the conversation', 'breath he yelled', 'moment she gasped', 'said guess what'],\n",
    "    \"sPMv\": ['one', 'forty', 'april nineteen forty', 'was sixteen seventeen', 'five only twenty', 'three down', 'march twentieth nineteen', 'more time passed', 'fifteen meters fifty', \"turning ninety\", 'june of nineteen'],\n",
    "    \"EBA\": ['wraps his arms', 'lifted her dress', 'arms flailing', 'hands gripped the', 'grabbed her legs', 'his hands folded', 'my feet kicking', 'navigated pushy elbows', 'elbows on knees', 'over his shoulder'],\n",
    "    \"OFA\": ['of my childhood', 'newfound self esteem', 'so my shrink', 'hurtful first dates', 'recall many instances', 'it felt magical', 'answered many questions', 'my school days', 'no satisfying fantasies', 'my mom often', 'from our childhood', 'growing up we', 'good friends often', 'shaped their mind', 'everything my parents'],\n",
    "}\n",
    "\n",
    "rows = {\n",
    "    'roi': rois,\n",
    "    'expl': [explanations_clean[k] for k in rois],\n",
    "    'top_ngrams_module_correct': [top_ngrams_clean[k] for k in rois],\n",
    "    'stability_score': [stability_scores[k.split('_')[0]] for k in rois],\n",
    "    'subject': [f'UT{subject}'] * len(rois),\n",
    "    'voxel_nums': [rois_dict[k.split('_')[0]] for k in rois],\n",
    "    'prompt_suffix': [explanation_avoid_suffixes[k] for k in rois],\n",
    "}\n",
    "rows = pd.DataFrame(rows)\n",
    "rows.to_pickle(f'rows_roi_ut{subject.lower()}_may31.pkl')"
   ]
  }
 ],
 "metadata": {
  "kernelspec": {
   "display_name": ".env",
   "language": "python",
   "name": "python3"
  },
  "language_info": {
   "codemirror_mode": {
    "name": "ipython",
    "version": 3
   },
   "file_extension": ".py",
   "mimetype": "text/x-python",
   "name": "python",
   "nbconvert_exporter": "python",
   "pygments_lexer": "ipython3",
   "version": "3.11.10"
  },
  "orig_nbformat": 4
 },
 "nbformat": 4,
 "nbformat_minor": 2
}
