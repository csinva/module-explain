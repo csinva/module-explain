{
 "cells": [
  {
   "cell_type": "code",
   "execution_count": null,
   "metadata": {},
   "outputs": [],
   "source": [
    "%load_ext autoreload\n",
    "%autoreload 2\n",
    "import os\n",
    "import matplotlib.pyplot as plt\n",
    "import seaborn as sns\n",
    "from os.path import join\n",
    "from tqdm import tqdm\n",
    "import pandas as pd\n",
    "import sys\n",
    "import joblib\n",
    "from scipy.special import softmax\n",
    "import sasc.config\n",
    "import numpy as np\n",
    "from collections import defaultdict\n",
    "from copy import deepcopy\n",
    "import pandas as pd\n",
    "import sasc.viz\n",
    "from sasc.config import FMRI_DIR, RESULTS_DIR\n",
    "import dvu\n",
    "import sasc.viz\n",
    "dvu.set_style()"
   ]
  },
  {
   "cell_type": "markdown",
   "metadata": {},
   "source": [
    "### Barplots"
   ]
  },
  {
   "cell_type": "code",
   "execution_count": null,
   "metadata": {},
   "outputs": [],
   "source": [
    "# default\n",
    "uts02 = joblib.load(join(RESULTS_DIR, 'processed', 'pilot_default_means.pkl'))\n",
    "uts03 = joblib.load(join(RESULTS_DIR, 'processed', 'pilot3_default_means.pkl'))\n",
    "sasc.viz.barplot_default([uts02['diag_means'], uts03['diag_means']],\n",
    "                         [uts02['off_diag_means'], uts03['off_diag_means']],\n",
    "                         pilot_name='full_', expls=[], annot_points=False)\n",
    "\n",
    "# interactions\n",
    "uts02 = joblib.load(join(RESULTS_DIR, 'processed',\n",
    "                    'pilot2_interactions_means.pkl'))\n",
    "uts03 = joblib.load(join(RESULTS_DIR, 'processed',\n",
    "                    'pilot3_interactions_means.pkl'))\n",
    "sasc.viz.barplot_interaction([uts02['diag_means'], uts03['diag_means']],\n",
    "                             [uts02['off_diag_means'], uts03['off_diag_means']],\n",
    "                             [uts02['diag_means_interaction'],\n",
    "                              uts03['diag_means_interaction']],\n",
    "                             [uts02['off_diag_means_interaction'],\n",
    "                              uts03['off_diag_means_interaction']],\n",
    "                             pilot_name='full_')\n",
    "\n",
    "# polysemantic\n",
    "uts02 = joblib.load(join(RESULTS_DIR, 'processed', 'pilot2_poly_means.pkl'))\n",
    "uts03 = joblib.load(join(RESULTS_DIR, 'processed', 'pilot3_poly_means.pkl'))\n",
    "sasc.viz.barplot_polysemantic([uts02['diag_means'], uts03['diag_means']],\n",
    "                              [uts02['off_diag_means'], uts03['off_diag_means']],\n",
    "                              pilot_name='full_', expls=[], annot_points=False)"
   ]
  },
  {
   "cell_type": "markdown",
   "metadata": {},
   "source": [
    "### Stability scores"
   ]
  },
  {
   "cell_type": "code",
   "execution_count": null,
   "metadata": {},
   "outputs": [],
   "source": [
    "voxel_scores1 = joblib.load(\n",
    "    join(RESULTS_DIR, 'processed', 'pilot_default_voxel_scores.pkl'))\n",
    "voxel_scores2 = joblib.load(\n",
    "    join(RESULTS_DIR, 'processed', 'pilot3_default_voxel_scores.pkl'))\n",
    "\n",
    "\n",
    "def plot_line_with_corr(voxel_scores, i=0, cs=['C0', 'gray'], markers=['o', '^']):\n",
    "    x = voxel_scores[\"stability_score\"].values\n",
    "    y = voxel_scores[\"driving_score\"].values\n",
    "    plt.plot(x, y, markers[i], color=cs[i], )\n",
    "\n",
    "    # plot line of best fit\n",
    "    m, b = np.polyfit(x, y, 1)\n",
    "    plt.plot(x, m * x + b, color=cs[i], alpha=0.5)\n",
    "\n",
    "    # add annotation\n",
    "    subjs = ['S02', 'S03']\n",
    "    corr = np.corrcoef(x, y)[0, 1]\n",
    "    xend = max(x) + 0.01\n",
    "    yend = m * xend + b + 0.01\n",
    "    plt.text(\n",
    "        xend,\n",
    "        yend,\n",
    "        f\"{subjs[i]}, $\\\\rho$={corr:.2f}\",\n",
    "        color=cs[i],\n",
    "        fontsize='small'\n",
    "    )\n",
    "\n",
    "    plt.ylabel(\"Driving score\")\n",
    "    plt.xlabel(\"Stability score\")\n",
    "\n",
    "\n",
    "plt.figure(figsize=(6, 5))\n",
    "plot_line_with_corr(voxel_scores1, i=0)\n",
    "plot_line_with_corr(voxel_scores2, i=1)\n",
    "\n",
    "\n",
    "plt.savefig(join(RESULTS_DIR, 'figs/misc',\n",
    "            'full_stability_score.pdf'), bbox_inches='tight')\n",
    "plt.show()"
   ]
  },
  {
   "cell_type": "markdown",
   "metadata": {},
   "source": [
    "### Example curve with predictions"
   ]
  },
  {
   "cell_type": "code",
   "execution_count": null,
   "metadata": {},
   "outputs": [],
   "source": [
    "pred, actual = joblib.load(join(sasc.config.RESULTS_DIR,\n",
    "                                'processed', 'vox23367_pred_actual.jbl'))\n",
    "\n",
    "plt.figure(figsize=(4, 2.5))\n",
    "plt.plot(actual[:80], '-', color='gray', lw=3)\n",
    "plt.plot(pred[:80], '-', color='C0', lw=3)\n",
    "# plt.axhline(0, color='gray', linestyle='--', lw=3)\n",
    "# plt.axhline(np.mean(resps_rep_means[5]), color='#08b47c', linestyle='--', lw=3)\n",
    "plt.ylim(-2, 2)\n",
    "plt.xticks([])\n",
    "plt.yticks([])\n",
    "\n",
    "print('corr', np.corrcoef(pred, actual)[0, 1])\n",
    "# turn on all splines\n",
    "for spine in plt.gca().spines.values():\n",
    "    spine.set_visible(True)\n",
    "\n",
    "    # make spline thick\n",
    "    spine.set_linewidth(3)\n",
    "plt.savefig(join(sasc.config.RESULTS_DIR, 'figs',\n",
    "            'misc', 'food_prep_pred_resp.pdf'), bbox_inches='tight')"
   ]
  },
  {
   "cell_type": "markdown",
   "metadata": {},
   "source": [
    "### Create dummy legend"
   ]
  },
  {
   "cell_type": "code",
   "execution_count": null,
   "metadata": {},
   "outputs": [],
   "source": [
    "# create a dummy legend with a gray circle and triangle\n",
    "# to represent the two subjects\n",
    "plt.figure(figsize=(3, 1))\n",
    "plt.plot([], [], 'o', color='gray', label='S02', markersize=15)\n",
    "plt.plot([], [], 'x', color='gray', label='S03',\n",
    "         markersize=15, markeredgewidth=4)\n",
    "plt.legend(loc='center', ncol=2, frameon=False, fontsize='large')\n",
    "plt.axis('off')\n",
    "plt.savefig(join(RESULTS_DIR, 'figs/misc',\n",
    "            'full_stability_score_legend.pdf'), bbox_inches='tight')"
   ]
  },
  {
   "cell_type": "markdown",
   "metadata": {},
   "source": [
    "### Story scores"
   ]
  },
  {
   "cell_type": "code",
   "execution_count": null,
   "metadata": {},
   "outputs": [],
   "source": [
    "default02 = joblib.load(\n",
    "    join(RESULTS_DIR, 'processed', 'pilot_default_story_scores.pkl'))\n",
    "default03 = joblib.load(\n",
    "    join(RESULTS_DIR, 'processed', 'pilot3_default_story_scores.pkl'))\n",
    "interactions02 = joblib.load(\n",
    "    join(RESULTS_DIR, 'processed', 'pilot2_interactions_story_scores.pkl'))\n",
    "interactions03 = joblib.load(\n",
    "    join(RESULTS_DIR, 'processed', 'pilot3_interactions_story_scores.pkl'))\n",
    "polysemantic02 = joblib.load(\n",
    "    join(RESULTS_DIR, 'processed', 'pilot2_poly_story_scores.pkl'))\n",
    "polysemantic03 = joblib.load(\n",
    "    join(RESULTS_DIR, 'processed', 'pilot3_poly_story_scores.pkl'))\n",
    "\n",
    "\n",
    "dfs = [default02, default03, interactions02,\n",
    "       interactions03, polysemantic02, polysemantic03]\n",
    "subj = ['S2', 'S3', 'S2', 'S3', 'S2', 'S3']\n",
    "setting = ['Single-voxel', 'Single-voxel', 'Interaction', 'Interaction',\n",
    "           'Polysemantic', 'Polysemantic']\n",
    "df_big = []\n",
    "for df in dfs:\n",
    "    # make barplot comparing driving and baseline\n",
    "    d = df.melt(id_vars='story', value_vars=[\n",
    "        'driving', 'baseline'], var_name='condition', value_name='mean')\n",
    "    d['subj'] = subj.pop(0)\n",
    "    d['setting'] = setting.pop(0)\n",
    "    d['story'] = d.apply(lambda x: x['subj'] + ' ' + x['story'], axis=1)\n",
    "    df_big.append(deepcopy(d))\n",
    "\n",
    "df_big = pd.concat(df_big)\n",
    "df_big['story'] = df_big['story'].str.replace('GenStory', '')\n",
    "df_big = df_big[df_big['condition'] == 'driving']\n",
    "\n",
    "\n",
    "# set xticklabels rotated\n",
    "plt.figure(figsize=(8, 5))\n",
    "# plt.grid()\n",
    "\n",
    "# shade bars by subj\n",
    "offset = 0\n",
    "xticklabels = []\n",
    "for i, setting in enumerate(df_big['setting'].unique()):\n",
    "    d = df_big[df_big['setting'] == setting]\n",
    "    d = d.sort_values('story')\n",
    "    plt.bar(np.arange(len(d)) + offset, d['mean'], label=setting,\n",
    "            color=sns.color_palette(\"Blues\", 3)[i])\n",
    "    xticklabels += d['story'].tolist()\n",
    "    offset += len(d)\n",
    "\n",
    "# move legend to right\n",
    "plt.legend(bbox_to_anchor=(1.05, 0.5), loc=2,\n",
    "           borderaxespad=0., fontsize='x-small')\n",
    "\n",
    "plt.xticks(rotation=90, va='top', labels=xticklabels,\n",
    "           ticks=np.arange(len(xticklabels)))\n",
    "plt.xlabel('Story')\n",
    "\n",
    "\n",
    "plt.ylabel('Mean driving voxel response ($\\sigma_f$)')\n",
    "plt.savefig(join(RESULTS_DIR, 'figs/main', 'full_story_breakdown.pdf'))\n",
    "\n",
    "plt.show()"
   ]
  }
 ],
 "metadata": {
  "kernelspec": {
   "display_name": ".venv",
   "language": "python",
   "name": "python3"
  },
  "language_info": {
   "codemirror_mode": {
    "name": "ipython",
    "version": 3
   },
   "file_extension": ".py",
   "mimetype": "text/x-python",
   "name": "python",
   "nbconvert_exporter": "python",
   "pygments_lexer": "ipython3",
   "version": "3.11.8"
  }
 },
 "nbformat": 4,
 "nbformat_minor": 2
}
