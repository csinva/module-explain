{
 "cells": [
  {
   "cell_type": "code",
   "execution_count": null,
   "metadata": {},
   "outputs": [],
   "source": [
    "%load_ext autoreload\n",
    "%autoreload 2\n",
    "import os\n",
    "import matplotlib.pyplot as plt\n",
    "import seaborn as sns\n",
    "from os.path import join\n",
    "from tqdm import tqdm\n",
    "import pandas as pd\n",
    "import sys\n",
    "import joblib\n",
    "from scipy.special import softmax\n",
    "import sasc.config\n",
    "import numpy as np\n",
    "from collections import defaultdict\n",
    "from copy import deepcopy\n",
    "import pandas as pd\n",
    "import sasc.viz\n",
    "from sasc import analyze_helper\n",
    "from sasc.modules.fmri_module import convert_module_num_to_voxel_num\n",
    "from sasc import config\n",
    "import dvu\n",
    "dvu.set_style()"
   ]
  },
  {
   "cell_type": "code",
   "execution_count": null,
   "metadata": {},
   "outputs": [],
   "source": [
    "pilot_name = 'pilot5_story_data.pkl'\n",
    "\n",
    "stories_data_dict = joblib.load(\n",
    "    join(config.RESULTS_DIR, 'processed', pilot_name))\n",
    "if pilot_name == 'pilot5_story_data.pkl':\n",
    "    pilot_data_dir = join(config.PILOT_STORY_DATA_DIR, '20240604')"
   ]
  },
  {
   "cell_type": "code",
   "execution_count": null,
   "metadata": {},
   "outputs": [],
   "source": [
    "# load responses\n",
    "default_story_idxs = np.where(\n",
    "    (np.array(stories_data_dict['story_setting']) == 'roi')\n",
    ")[0]\n",
    "resp_np_files = [stories_data_dict['story_name_new'][i].replace('_resps', '')\n",
    "                 for i in default_story_idxs]\n",
    "resps_dict = {\n",
    "    k: np.load(join(pilot_data_dir, k))\n",
    "    for k in tqdm(resp_np_files)\n",
    "}"
   ]
  },
  {
   "cell_type": "code",
   "execution_count": null,
   "metadata": {},
   "outputs": [],
   "source": [
    "mats = defaultdict(list)\n",
    "use_clusters = False\n",
    "voxel_resps_dict = defaultdict(list)\n",
    "for story_num in default_story_idxs:\n",
    "    rows = stories_data_dict[\"rows\"][story_num]\n",
    "\n",
    "    # get resp_chunks\n",
    "    resp_story = resps_dict[\n",
    "        stories_data_dict[\"story_name_new\"][story_num].replace(\n",
    "            '_resps', '')\n",
    "    ].T  # (voxels, time)\n",
    "    timing = stories_data_dict[\"timing\"][story_num]\n",
    "    if 'paragraphs' in stories_data_dict.keys():\n",
    "        paragraphs = stories_data_dict[\"paragraphs\"][story_num]\n",
    "    else:\n",
    "        paragraphs = stories_data_dict[\"story_text\"][story_num].split(\n",
    "            \"\\n\\n\")\n",
    "    # paragraphs = stories_data_dict[\"story_text\"][story_num].split(\"\\n\\n\")\n",
    "    if pilot_name in ['pilot3_story_data.pkl']:\n",
    "        paragraphs = [sasc.analyze_helper.remove_repeated_words(\n",
    "            p) for p in paragraphs]\n",
    "    assert len(paragraphs) == len(\n",
    "        rows), f\"{len(paragraphs)} != {len(rows)}\"\n",
    "    resp_chunks = analyze_helper.get_resps_for_paragraphs(\n",
    "        timing, paragraphs, resp_story, offset=2)\n",
    "    assert len(resp_chunks) <= len(paragraphs)\n",
    "\n",
    "    # calculate mat\n",
    "    mat = np.zeros((len(rows), len(paragraphs)))\n",
    "    # mat_dict = {}\n",
    "    for i in range(len(resp_chunks)):\n",
    "        mat[:, i] = [resp_chunks[i][x].mean()\n",
    "                     for x in rows['voxel_nums']]\n",
    "        voxel_resps_dict[rows['roi'].values[i]].append([resp_chunks[i][x]\n",
    "                                                        for x in rows['voxel_nums']])\n",
    "    mat[:, 0] = np.nan  # ignore the first column\n",
    "    # print('mat', mat)\n",
    "\n",
    "    # sort by voxel_num\n",
    "    if 'voxel_num' in rows.columns:\n",
    "        args = np.argsort(rows[\"voxel_num\"].values)\n",
    "    else:\n",
    "        args = np.argsort(rows[\"roi\"].values)\n",
    "    mat = mat[args, :][:, args]\n",
    "    mats[use_clusters].append(deepcopy(mat))\n",
    "\n",
    "    # plt.imshow(mat)\n",
    "    # plt.colorbar(label=\"Mean response\")\n",
    "    # plt.xlabel(\"Corresponding paragraph\\n(Ideally, diagonal should be brighter)\")\n",
    "    # plt.ylabel(\"Voxel\")\n",
    "    # plt.show()\n",
    "\n",
    "if 'voxel_num' in rows.columns:\n",
    "    rows = rows.sort_values(by=\"voxel_num\")\n",
    "else:\n",
    "    rows = rows.sort_values(by=\"roi\")\n",
    "expls = rows[\"expl\"].values\n",
    "\n",
    "\n",
    "m = {}\n",
    "for use_clusters in [False, True]:\n",
    "    mats[use_clusters] = np.array(mats[use_clusters])  # (6, 17, 17)\n",
    "    m[use_clusters] = np.nanmean(mats[use_clusters], axis=0)"
   ]
  },
  {
   "cell_type": "code",
   "execution_count": null,
   "metadata": {},
   "outputs": [],
   "source": [
    "voxel_resps_dict['sPMv'][0].shape"
   ]
  },
  {
   "attachments": {},
   "cell_type": "markdown",
   "metadata": {},
   "source": [
    "### Make average plot"
   ]
  },
  {
   "cell_type": "code",
   "execution_count": null,
   "metadata": {},
   "outputs": [],
   "source": [
    "# calculate means\n",
    "use_clusters = False\n",
    "m1 = m[use_clusters]\n",
    "diag_means = np.diag(m1)\n",
    "off_diag_means = np.nanmean(m1, axis=1) - (diag_means / len(diag_means))\n",
    "sasc.viz.barplot_default([diag_means], [off_diag_means],\n",
    "                         pilot_name, expls, annot_points=False)\n",
    "joblib.dump({'diag_means': diag_means,\n",
    "            'off_diag_means': off_diag_means}, join(config.RESULTS_DIR, 'processed', pilot_name.replace('_story_data.pkl', '_default_means.pkl')))"
   ]
  },
  {
   "cell_type": "code",
   "execution_count": null,
   "metadata": {},
   "outputs": [],
   "source": [
    "for tup in rows[['roi', 'expl']].values:\n",
    "    print(tup[0] + ': ', tup[1])"
   ]
  },
  {
   "attachments": {},
   "cell_type": "markdown",
   "metadata": {},
   "source": [
    "### Story-level differences"
   ]
  },
  {
   "cell_type": "code",
   "execution_count": null,
   "metadata": {},
   "outputs": [],
   "source": [
    "def get_story_df(mats1, melt=False):\n",
    "    d = defaultdict(list)\n",
    "    story_names = resp_np_files\n",
    "    for i in range(len(mats1)):\n",
    "        m = mats1[i]\n",
    "        d['driving'].append(np.nanmean(np.diag(m)))\n",
    "        d['baseline'].append(np.nanmean(m[~np.eye(m.shape[0], dtype=bool)]))\n",
    "        d['story'].append(story_names[i].replace('.npy', ''))\n",
    "    d = pd.DataFrame.from_dict(d)\n",
    "    if melt:\n",
    "        d = d.melt(id_vars='story', value_vars=[\n",
    "            'driving', 'baseline'], var_name='condition', value_name='mean')\n",
    "        d = d[d.condition == 'driving']\n",
    "    return d\n",
    "\n",
    "\n",
    "use_clusters = False\n",
    "mats1 = mats[use_clusters]\n",
    "story_scores_df = get_story_df(mats1)\n",
    "joblib.dump(story_scores_df, join(config.RESULTS_DIR, 'processed',\n",
    "            pilot_name.replace('_story_data.pkl', '_default_story_scores.pkl')))\n",
    "\n",
    "sasc.viz.stories_barplot(story_scores_df)"
   ]
  },
  {
   "cell_type": "markdown",
   "metadata": {},
   "source": [
    "### ROI heatmap"
   ]
  },
  {
   "cell_type": "code",
   "execution_count": null,
   "metadata": {},
   "outputs": [],
   "source": [
    "assert pilot_name == 'pilot5_story_data.pkl'\n",
    "# note: some voxels didn't have good clusters so they will be missing from these plots...\n",
    "use_clusters = False\n",
    "m1 = m[use_clusters]\n",
    "\n",
    "sasc.viz.outline_diagonal(m1.shape, color='black', lw=1, block_size=1)\n",
    "\n",
    "s = 'small'\n",
    "# expls_order = analyze_helper.sort_expls_semantically(expls, device='cuda')\n",
    "rois = rows[\"roi\"].values\n",
    "expls_order = np.argsort(rois)\n",
    "m_plot = m1[expls_order][:, expls_order]  # [:, expls_order]\n",
    "\n",
    "rois = rois[expls_order]\n",
    "sasc.viz.imshow_diverging(\n",
    "    m_plot, clab=\"Mean response ($\\sigma$)\", clab_size='large')\n",
    "plt.xlabel(\"Driving paragraph\",  # \\n(Ideally, diagonal should be brighter)\",\n",
    "           fontsize='large')\n",
    "\n",
    "# plt.ylabel(\"Voxel\", fontsize='x-small')\n",
    "# labs = expls[expls_order]\n",
    "\n",
    "plt.ylabel(\"ROI response\", fontsize='large')\n",
    "# labs = [f'{i + 1:02d}' for i in range(len(expls_order))]\n",
    "labs = expls[expls_order]\n",
    "for i in range(len(labs)):\n",
    "    print(labs[i], expls[expls_order[i]])\n",
    "\n",
    "plt.yticks(labels=[x.replace('_only', '') for x in rois], ticks=np.arange(\n",
    "    len(expls)), fontsize=s)\n",
    "plt.xticks(labels=[x.replace('2', '').replace('_', '-') for x in rois], ticks=np.arange(\n",
    "    len(expls)), rotation=90, fontsize=s)\n",
    "plt.tight_layout()\n",
    "plt.savefig(join(config.RESULTS_DIR, 'figs/main',\n",
    "            pilot_name[:pilot_name.index('_')] + '_roi_heatmap.pdf'), bbox_inches='tight')\n",
    "plt.show()"
   ]
  },
  {
   "cell_type": "markdown",
   "metadata": {},
   "source": [
    "### ROI heatmap truncated"
   ]
  },
  {
   "cell_type": "code",
   "execution_count": 43,
   "metadata": {},
   "outputs": [
    {
     "name": "stderr",
     "output_type": "stream",
     "text": [
      "<>:26: DeprecationWarning: invalid escape sequence '\\s'\n",
      "<>:26: DeprecationWarning: invalid escape sequence '\\s'\n",
      "/tmp/ipykernel_4075044/4127475463.py:26: DeprecationWarning: invalid escape sequence '\\s'\n",
      "  m_plot, clab=\"Mean response ($\\sigma$)\", clab_size='large')\n"
     ]
    },
    {
     "name": "stdout",
     "output_type": "stream",
     "text": [
      "[4 6 8]\n",
      "Spatial positioning and directions Spatial positioning and directions\n",
      "Unappetizing foods Unappetizing foods\n",
      "Location names Location names\n"
     ]
    },
    {
     "data": {
      "image/png": "[encoded data removed]",
      "text/plain": [
       "<Figure size 640x480 with 2 Axes>"
      ]
     },
     "metadata": {},
     "output_type": "display_data"
    }
   ],
   "source": [
    "assert pilot_name == 'pilot5_story_data.pkl'\n",
    "# note: some voxels didn't have good clusters so they will be missing from these plots...\n",
    "use_clusters = False\n",
    "m1 = m[use_clusters]\n",
    "\n",
    "sasc.viz.outline_diagonal(m1.shape, color='black', lw=1, block_size=1)\n",
    "\n",
    "s = 'medium'\n",
    "# expls_order = analyze_helper.sort_expls_semantically(expls, device='cuda')\n",
    "rois = rows[\"roi\"].values\n",
    "expls_order = np.argsort(rois)\n",
    "\n",
    "# remove idxs where roi is not in ['OPA-only', 'RSC-only']\n",
    "expls_order = expls_order[np.where(\n",
    "    np.array([x in ['OPA_only', 'RSC_only', 'PPA_only2'] for x in rois[expls_order]]) == True)[0]]\n",
    "print(expls_order)\n",
    "\n",
    "\n",
    "m_plot = m1[expls_order][:, expls_order]  # [:, expls_order]\n",
    "\n",
    "\n",
    "rois = rois[expls_order]\n",
    "sasc.viz.imshow_diverging(\n",
    "    m_plot, clab=\"Mean response ($\\sigma$)\", clab_size='large')\n",
    "plt.xlabel(\"Driving paragraph\",  # \\n(Ideally, diagonal should be brighter)\",\n",
    "           fontsize='large')\n",
    "\n",
    "# plt.ylabel(\"Voxel\", fontsize='x-small')\n",
    "# labs = expls[expls_order]\n",
    "\n",
    "plt.ylabel(\"ROI response\", fontsize='large')\n",
    "# labs = [f'{i + 1:02d}' for i in range(len(expls_order))]\n",
    "labs = expls[expls_order]\n",
    "for i in range(len(labs)):\n",
    "    print(labs[i], expls[expls_order[i]])\n",
    "\n",
    "plt.yticks(labels=[x.replace('_only', '').replace('2', '') for x in rois], ticks=np.arange(\n",
    "    len(rois)), fontsize=s)\n",
    "plt.xticks(labels=[x.replace('2', '').replace('_', '-') for x in rois], ticks=np.arange(\n",
    "    len(rois)), rotation=90, fontsize=s)\n",
    "plt.tight_layout()\n",
    "plt.savefig(join(config.RESULTS_DIR, 'figs/main',\n",
    "            pilot_name[:pilot_name.index('_')] + '_roi_heatmap.pdf'), bbox_inches='tight')\n",
    "plt.show()"
   ]
  },
  {
   "cell_type": "code",
   "execution_count": null,
   "metadata": {},
   "outputs": [],
   "source": [
    "m_plot"
   ]
  },
  {
   "cell_type": "code",
   "execution_count": null,
   "metadata": {},
   "outputs": [],
   "source": []
  }
 ],
 "metadata": {
  "kernelspec": {
   "display_name": ".llm",
   "language": "python",
   "name": "python3"
  },
  "language_info": {
   "codemirror_mode": {
    "name": "ipython",
    "version": 3
   },
   "file_extension": ".py",
   "mimetype": "text/x-python",
   "name": "python",
   "nbconvert_exporter": "python",
   "pygments_lexer": "ipython3",
   "version": "3.11.9"
  },
  "orig_nbformat": 4,
  "vscode": {
   "interpreter": {
    "hash": "a9ff692d44ea03fd8a03facee7621117bbbb82def09bacaacf0a2cbc238b7b91"
   }
  }
 },
 "nbformat": 4,
 "nbformat_minor": 2
}
