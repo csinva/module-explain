{
 "cells": [
  {
   "cell_type": "code",
   "execution_count": 2,
   "metadata": {},
   "outputs": [
    {
     "name": "stdout",
     "output_type": "stream",
     "text": [
      "The autoreload extension is already loaded. To reload it, use:\n",
      "  %reload_ext autoreload\n"
     ]
    },
    {
     "name": "stderr",
     "output_type": "stream",
     "text": [
      "100%|██████████| 6/6 [00:38<00:00,  6.45s/it]\n"
     ]
    }
   ],
   "source": [
    "%load_ext autoreload\n",
    "%autoreload 2\n",
    "import os\n",
    "import matplotlib.pyplot as plt\n",
    "import seaborn as sns\n",
    "from os.path import join\n",
    "from tqdm import tqdm\n",
    "import pandas as pd\n",
    "import sys\n",
    "import joblib\n",
    "import sasc.config\n",
    "import numpy as np\n",
    "import re\n",
    "from collections import defaultdict\n",
    "from copy import deepcopy\n",
    "import pandas as pd\n",
    "import adjustText\n",
    "# import story_helper\n",
    "\n",
    "def get_word_chunks(t):\n",
    "    # split words based on timing into bins of 2 seconds\n",
    "    word_chunks = []\n",
    "    current_time = 0\n",
    "    for i in range(len(t)):\n",
    "        if i == 0:\n",
    "            word_chunks.append([t['word'][i]])\n",
    "        elif t['time_running'][i] - current_time < 2:\n",
    "            word_chunks[-1].append(t['word'][i])\n",
    "        else:\n",
    "            word_chunks.append([t['word'][i]])\n",
    "            current_time += 2\n",
    "    return word_chunks\n",
    "\n",
    "pilot_data_dir = join(sasc.config.FMRI_DIR, 'story_data/20230504')\n",
    "resp_np_files = os.listdir(pilot_data_dir)\n",
    "resps_dict = {k: np.load(join(pilot_data_dir, k)) for k in tqdm(resp_np_files)}\n",
    "story_data = joblib.load(join(sasc.config.RESULTS_DIR, 'pilot_story_data.pkl'))"
   ]
  },
  {
   "cell_type": "code",
   "execution_count": 3,
   "metadata": {},
   "outputs": [
    {
     "ename": "KeyError",
     "evalue": "'GenStory1_resps.npy'",
     "output_type": "error",
     "traceback": [
      "\u001b[0;31m---------------------------------------------------------------------------\u001b[0m",
      "\u001b[0;31mKeyError\u001b[0m                                  Traceback (most recent call last)",
      "\u001b[1;32m/home/chansingh/automated-explanations/notebooks_stories/2_analyze_pilot/05_resp_annot_curves.ipynb Cell 2\u001b[0m line \u001b[0;36m9\n\u001b[1;32m     <a href='vscode-notebook-cell://ssh-remote%2Bgcrsandbox387.redmond.corp.microsoft.com/home/chansingh/automated-explanations/notebooks_stories/2_analyze_pilot/05_resp_annot_curves.ipynb#W1sdnNjb2RlLXJlbW90ZQ%3D%3D?line=95'>96</a>\u001b[0m voxel_nums \u001b[39m=\u001b[39m rows[\u001b[39m\"\u001b[39m\u001b[39mvoxel_num\u001b[39m\u001b[39m\"\u001b[39m]\n\u001b[1;32m     <a href='vscode-notebook-cell://ssh-remote%2Bgcrsandbox387.redmond.corp.microsoft.com/home/chansingh/automated-explanations/notebooks_stories/2_analyze_pilot/05_resp_annot_curves.ipynb#W1sdnNjb2RlLXJlbW90ZQ%3D%3D?line=96'>97</a>\u001b[0m expls \u001b[39m=\u001b[39m rows[\u001b[39m\"\u001b[39m\u001b[39mexpl\u001b[39m\u001b[39m\"\u001b[39m]\n\u001b[0;32m---> <a href='vscode-notebook-cell://ssh-remote%2Bgcrsandbox387.redmond.corp.microsoft.com/home/chansingh/automated-explanations/notebooks_stories/2_analyze_pilot/05_resp_annot_curves.ipynb#W1sdnNjb2RlLXJlbW90ZQ%3D%3D?line=98'>99</a>\u001b[0m r_curves \u001b[39m=\u001b[39m resps_dict[story_data[\u001b[39m\"\u001b[39;49m\u001b[39mstory_name_new\u001b[39;49m\u001b[39m\"\u001b[39;49m]\n\u001b[1;32m    <a href='vscode-notebook-cell://ssh-remote%2Bgcrsandbox387.redmond.corp.microsoft.com/home/chansingh/automated-explanations/notebooks_stories/2_analyze_pilot/05_resp_annot_curves.ipynb#W1sdnNjb2RlLXJlbW90ZQ%3D%3D?line=99'>100</a>\u001b[0m                       [story_num]]\u001b[39m.\u001b[39mT[voxel_nums]\n\u001b[1;32m    <a href='vscode-notebook-cell://ssh-remote%2Bgcrsandbox387.redmond.corp.microsoft.com/home/chansingh/automated-explanations/notebooks_stories/2_analyze_pilot/05_resp_annot_curves.ipynb#W1sdnNjb2RlLXJlbW90ZQ%3D%3D?line=100'>101</a>\u001b[0m word_chunks \u001b[39m=\u001b[39m get_word_chunks(t)\n\u001b[1;32m    <a href='vscode-notebook-cell://ssh-remote%2Bgcrsandbox387.redmond.corp.microsoft.com/home/chansingh/automated-explanations/notebooks_stories/2_analyze_pilot/05_resp_annot_curves.ipynb#W1sdnNjb2RlLXJlbW90ZQ%3D%3D?line=101'>102</a>\u001b[0m start_times, end_times \u001b[39m=\u001b[39m story_helper\u001b[39m.\u001b[39mget_start_end_times(t, paragraphs)\n",
      "\u001b[0;31mKeyError\u001b[0m: 'GenStory1_resps.npy'"
     ]
    }
   ],
   "source": [
    "def plot_annotated_resp(\n",
    "    voxel_num: int,\n",
    "    word_chunks,\n",
    "    voxel_resp,\n",
    "    expl_voxel,\n",
    "    start_times,\n",
    "    end_times,\n",
    "    story_data,\n",
    "):\n",
    "    plt.figure(figsize=(22, 6))\n",
    "    plt.plot(voxel_resp)\n",
    "\n",
    "    # annotate top 5 voxel_resps with word_chunks\n",
    "    texts = []\n",
    "    top_5_resp_positions = np.argsort(voxel_resp)[::-1][:5]\n",
    "    for i, resp_position in enumerate(top_5_resp_positions):\n",
    "        plt.plot(resp_position, voxel_resp[resp_position], \"o\", color=\"black\")\n",
    "        text = (\n",
    "            \" \".join(word_chunks[resp_position - 1])\n",
    "            + \"\\n\"\n",
    "            + \" \".join(word_chunks[resp_position])\n",
    "        )\n",
    "        texts.append(\n",
    "            plt.annotate(\n",
    "                text, (resp_position,\n",
    "                       voxel_resp[resp_position]), fontsize=\"x-small\"\n",
    "            )\n",
    "        )\n",
    "\n",
    "    # annotate bottom 5 voxel_resps with word_chunks\n",
    "    bottom_5_resp_positions = np.argsort(voxel_resp)[:5]\n",
    "    for i, resp_position in enumerate(bottom_5_resp_positions):\n",
    "        plt.plot(resp_position, voxel_resp[resp_position], \"o\", color=\"black\")\n",
    "        text = (\n",
    "            \" \".join(word_chunks[resp_position - 2])\n",
    "            + \"\\n\"\n",
    "            + \" \".join(word_chunks[resp_position - 1])\n",
    "            + \"\\n\"\n",
    "            + \" \".join(word_chunks[resp_position])\n",
    "        )\n",
    "        texts.append(\n",
    "            plt.annotate(\n",
    "                text, (resp_position,\n",
    "                       voxel_resp[resp_position]), fontsize=\"x-small\"\n",
    "            )\n",
    "        )\n",
    "\n",
    "    # clean up plot\n",
    "    adjustText.adjust_text(texts, arrowprops=dict(\n",
    "        arrowstyle=\"->\", color=\"gray\"))\n",
    "    plt.grid(alpha=0.4, axis=\"y\")\n",
    "    xticks = np.array([start_times, end_times]).mean(axis=0)\n",
    "    plt.xticks(xticks, expls, rotation=45, fontsize=\"x-small\")\n",
    "\n",
    "    for i, (start_time, end_time) in enumerate(zip(start_times, end_times)):\n",
    "        if i == voxel_num:\n",
    "            plt.axvspan(start_time, end_time, facecolor=\"green\", alpha=0.1)\n",
    "        elif i % 2 == 0:\n",
    "            plt.axvspan(start_time, end_time, facecolor=\"gray\", alpha=0.1)\n",
    "        else:\n",
    "            plt.axvspan(start_time, end_time, facecolor=\"gray\", alpha=0.0)\n",
    "\n",
    "    # plot ngram examples\n",
    "    word_chunk_deltas = defaultdict(list)\n",
    "    i_start_voxel = start_times[voxel_num]\n",
    "    i_end_voxel = end_times[voxel_num] + 1\n",
    "    if i_end_voxel > len(voxel_resp):\n",
    "        i_end_voxel = len(voxel_resp)\n",
    "    idxs = np.arange(i_start_voxel, i_end_voxel)\n",
    "    plt.plot(idxs, voxel_resp[idxs], color=\"C0\", linewidth=2)\n",
    "    idxs_wc = np.where(word_chunks_contain_example_ngrams[idxs])[0]\n",
    "    plt.plot(idxs[idxs_wc], voxel_resp[idxs[idxs_wc]],\n",
    "             \"^\", color=\"C1\", linewidth=2)\n",
    "    for delta_num in [1, 2, 3, 4, 5]:\n",
    "        for idx in idxs_wc:\n",
    "            if idx + delta_num < len(idxs):\n",
    "                word_chunk_deltas[delta_num].append(\n",
    "                    voxel_resp[idxs][idx + delta_num] - voxel_resp[idxs][idx]\n",
    "                )\n",
    "\n",
    "    plt.ylabel(\n",
    "        f'\"{expl_voxel}\" voxel response\\n({story_data[\"story_name_new\"][story_num][3:-10]})'\n",
    "    )\n",
    "    # plt.show()\n",
    "    return word_chunk_deltas\n",
    "\n",
    "\n",
    "word_chunk_deltas = []\n",
    "\n",
    "for story_num in range(6):\n",
    "    paragraphs = story_data[\"story_text\"][story_num].split(\"\\n\\n\")\n",
    "    prompts = story_data[\"prompts\"]\n",
    "    t = story_data[\"timing\"][story_num]\n",
    "\n",
    "    rows = story_data[\"rows\"][story_num]\n",
    "    voxel_nums = rows[\"voxel_num\"]\n",
    "    expls = rows[\"expl\"]\n",
    "\n",
    "    r_curves = resps_dict[story_data[\"story_name_new\"]\n",
    "                          [story_num]].T[voxel_nums]\n",
    "    word_chunks = get_word_chunks(t)\n",
    "    start_times, end_times = story_helper.get_start_end_times(t, paragraphs)\n",
    "\n",
    "    # example_ngrams and word_chunks\n",
    "    ps = prompts[story_num]\n",
    "    example_ngrams_list = sum(\n",
    "        [story_helper.find_all_examples_within_quotes(x) for x in ps], []\n",
    "    )\n",
    "    word_chunks_contain_example_ngrams = np.zeros(len(word_chunks))\n",
    "    for i, wc in enumerate(word_chunks):\n",
    "        for ngram in example_ngrams_list:\n",
    "            if any([ngram in w for w in wc]):\n",
    "                word_chunks_contain_example_ngrams[i] = 1\n",
    "                break\n",
    "\n",
    "    for voxel_num in tqdm(range(17)):\n",
    "        expl_voxel = expls[voxel_num]\n",
    "        voxel_resp = r_curves[voxel_num]\n",
    "        word_chunk_deltas.append(\n",
    "            plot_annotated_resp(\n",
    "                voxel_num,\n",
    "                word_chunks,\n",
    "                voxel_resp,\n",
    "                expl_voxel,\n",
    "                start_times,\n",
    "                end_times,\n",
    "                story_data,\n",
    "            )\n",
    "        )\n",
    "    story_helper.save_figs_to_single_pdf(\n",
    "        filename=f'../results/pilot_plots/{story_data[\"story_name_new\"][story_num][3:-10]}_curves.pdf'\n",
    "    )\n",
    "    plt.close(\"all\")"
   ]
  },
  {
   "attachments": {},
   "cell_type": "markdown",
   "metadata": {},
   "source": [
    "### Plot ngram delta"
   ]
  },
  {
   "cell_type": "code",
   "execution_count": 11,
   "metadata": {},
   "outputs": [
    {
     "name": "stdout",
     "output_type": "stream",
     "text": [
      "Delta 1 mean: 0.11071012359711764 +/- 0.05939263678326731\n",
      "Delta 2 mean: 0.14893023685322224 +/- 0.06965380142554627\n",
      "Delta 3 mean: 0.17944611350699183 +/- 0.07474460991407371\n",
      "Delta 4 mean: 0.13149339521186112 +/- 0.08277549567660428\n",
      "Delta 5 mean: 0.05282201751903965 +/- 0.08359894411895956\n"
     ]
    },
    {
     "data": {
      "image/png": "[encoded data removed]",
      "text/plain": [
       "<Figure size 640x480 with 1 Axes>"
      ]
     },
     "metadata": {},
     "output_type": "display_data"
    }
   ],
   "source": [
    "means = []\n",
    "sems = []\n",
    "delta_offsets = [1, 2, 3, 4, 5]\n",
    "for i in delta_offsets:\n",
    "    deltas = sum([x[i] for x in word_chunk_deltas], [])\n",
    "    # plt.hist(deltas, label='Delta ' + str(i), alpha=0.5)\n",
    "    # plt.axvline(np.mean(deltas), linewidth=1, color=f'C{i - 1}')\n",
    "\n",
    "    means.append(np.mean(deltas))\n",
    "    sems.append(np.std(deltas) / np.sqrt(len(deltas)))\n",
    "    print(f'Delta {i} mean: {means[-1]} +/- {sems[-1]}')\n",
    "# plt.legend()\n",
    "\n",
    "# barplot of means\n",
    "delta_offsets = 2 * np.array(delta_offsets)\n",
    "plt.grid(zorder=-100)\n",
    "plt.bar(delta_offsets, means, color='C1', zorder=100, width=1.5)\n",
    "plt.errorbar(delta_offsets, means, yerr=sems,\n",
    "             fmt='o', color='black', zorder=101)\n",
    "plt.xticks(delta_offsets)\n",
    "plt.xlabel('Seconds after presentation of key ngram')\n",
    "plt.ylabel('Voxel response change')\n",
    "plt.show()"
   ]
  }
 ],
 "metadata": {
  "kernelspec": {
   "display_name": ".llm",
   "language": "python",
   "name": "python3"
  },
  "language_info": {
   "codemirror_mode": {
    "name": "ipython",
    "version": 3
   },
   "file_extension": ".py",
   "mimetype": "text/x-python",
   "name": "python",
   "nbconvert_exporter": "python",
   "pygments_lexer": "ipython3",
   "version": "3.11.5"
  },
  "orig_nbformat": 4,
  "vscode": {
   "interpreter": {
    "hash": "a9ff692d44ea03fd8a03facee7621117bbbb82def09bacaacf0a2cbc238b7b91"
   }
  }
 },
 "nbformat": 4,
 "nbformat_minor": 2
}
