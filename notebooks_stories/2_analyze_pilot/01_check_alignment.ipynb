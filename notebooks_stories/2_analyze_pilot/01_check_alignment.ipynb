{
 "cells": [
  {
   "cell_type": "code",
   "execution_count": 29,
   "metadata": {},
   "outputs": [
    {
     "name": "stdout",
     "output_type": "stream",
     "text": [
      "The autoreload extension is already loaded. To reload it, use:\n",
      "  %reload_ext autoreload\n"
     ]
    }
   ],
   "source": [
    "%load_ext autoreload\n",
    "%autoreload 2\n",
    "import os\n",
    "import matplotlib.pyplot as plt\n",
    "import seaborn as sns\n",
    "from os.path import join\n",
    "from tqdm import tqdm\n",
    "import joblib\n",
    "import sasc.config\n",
    "import numpy as np\n",
    "import sasc.viz\n",
    "from sasc import analyze_helper\n",
    "from sasc.config import FMRI_DIR, RESULTS_DIR\n",
    "import dvu\n",
    "dvu.set_style()"
   ]
  },
  {
   "cell_type": "markdown",
   "metadata": {},
   "source": [
    "### Load pilot pickle"
   ]
  },
  {
   "cell_type": "code",
   "execution_count": 30,
   "metadata": {},
   "outputs": [
    {
     "name": "stderr",
     "output_type": "stream",
     "text": [
      "  0%|          | 0/2 [00:00<?, ?it/s]"
     ]
    },
    {
     "name": "stderr",
     "output_type": "stream",
     "text": [
      "100%|██████████| 2/2 [00:06<00:00,  3.36s/it]\n"
     ]
    }
   ],
   "source": [
    "# pilot_name = 'pilot_story_data.pkl'\n",
    "pilot_name = 'pilot3_story_data.pkl'\n",
    "\n",
    "stories_data_dict = joblib.load(\n",
    "    join(sasc.config.RESULTS_DIR, pilot_name))\n",
    "if pilot_name == 'pilot_story_data.pkl':\n",
    "    pilot_data_dir = '/home/chansingh/mntv1/deep-fMRI/story_data/20230504'\n",
    "elif pilot_name == 'pilot2_story_data.pkl':\n",
    "    pilot_data_dir = '/home/chansingh/mntv1/deep-fMRI/story_data/20230702'\n",
    "elif pilot_name == 'pilot3_story_data.pkl':\n",
    "    pilot_data_dir = '/home/chansingh/mntv1/deep-fMRI/story_data/20231106'\n",
    "\n",
    "\n",
    "# load responses\n",
    "default_story_idxs = np.where(\n",
    "    np.array(stories_data_dict['story_setting']) == 'default')[0]\n",
    "resp_np_files = [stories_data_dict['story_name_new'][i].replace('_resps', '')\n",
    "                 for i in default_story_idxs]\n",
    "resps_dict = {\n",
    "    k: np.load(join(pilot_data_dir, k))\n",
    "    for k in tqdm(resp_np_files)\n",
    "}"
   ]
  },
  {
   "cell_type": "markdown",
   "metadata": {},
   "source": [
    "### Let's check the alignment"
   ]
  },
  {
   "cell_type": "code",
   "execution_count": 31,
   "metadata": {},
   "outputs": [],
   "source": [
    "timings_list = stories_data_dict['timing']\n",
    "story_names_list = list(resps_dict.keys())\n",
    "resps = list(resps_dict.values())"
   ]
  },
  {
   "cell_type": "code",
   "execution_count": 32,
   "metadata": {},
   "outputs": [
    {
     "name": "stdout",
     "output_type": "stream",
     "text": [
      "GenStory12.npy resp_length 365 story_trs 374 story_length 749.6\n",
      "GenStory13.npy resp_length 430 story_trs 439 story_length 878.7\n"
     ]
    }
   ],
   "source": [
    "TRIM = 5\n",
    "for i in range(len(resps)):\n",
    "    t = timings_list[i]\n",
    "    duration_secs = t['time_running'].max()\n",
    "    print(story_names_list[i], 'resp_length',\n",
    "          resps[i].shape[0], 'story_trs',\n",
    "          int(duration_secs // 2), 'story_length', duration_secs.round(1))  # , 'timings',\n",
    "    diff = int(duration_secs // 2) - resps[i].shape[0]\n",
    "    assert abs(diff - TRIM * 2) <= 1"
   ]
  },
  {
   "cell_type": "markdown",
   "metadata": {},
   "source": [
    "### Let's check the alignment w/ paragraphs"
   ]
  },
  {
   "cell_type": "code",
   "execution_count": 33,
   "metadata": {},
   "outputs": [
    {
     "data": {
      "text/plain": [
       "'GenStory12.npy'"
      ]
     },
     "execution_count": 33,
     "metadata": {},
     "output_type": "execute_result"
    }
   ],
   "source": [
    "story_names_list[story_num]"
   ]
  },
  {
   "cell_type": "code",
   "execution_count": 34,
   "metadata": {},
   "outputs": [
    {
     "ename": "AssertionError",
     "evalue": "",
     "output_type": "error",
     "traceback": [
      "\u001b[0;31m---------------------------------------------------------------------------\u001b[0m",
      "\u001b[0;31mAssertionError\u001b[0m                            Traceback (most recent call last)",
      "\u001b[1;32m/home/chansingh/automated-explanations/notebooks_stories/2_analyze_pilot/01_check_alignment.ipynb Cell 9\u001b[0m line \u001b[0;36m1\n\u001b[1;32m     <a href='vscode-notebook-cell://ssh-remote%2Bgcrsandbox387.redmond.corp.microsoft.com/home/chansingh/automated-explanations/notebooks_stories/2_analyze_pilot/01_check_alignment.ipynb#X12sdnNjb2RlLXJlbW90ZQ%3D%3D?line=10'>11</a>\u001b[0m \u001b[39massert\u001b[39;00m \u001b[39mlen\u001b[39m(paragraphs) \u001b[39m==\u001b[39m \u001b[39mlen\u001b[39m(rows)\n\u001b[1;32m     <a href='vscode-notebook-cell://ssh-remote%2Bgcrsandbox387.redmond.corp.microsoft.com/home/chansingh/automated-explanations/notebooks_stories/2_analyze_pilot/01_check_alignment.ipynb#X12sdnNjb2RlLXJlbW90ZQ%3D%3D?line=11'>12</a>\u001b[0m resp_chunks \u001b[39m=\u001b[39m analyze_helper\u001b[39m.\u001b[39mget_resps_for_paragraphs(\n\u001b[1;32m     <a href='vscode-notebook-cell://ssh-remote%2Bgcrsandbox387.redmond.corp.microsoft.com/home/chansingh/automated-explanations/notebooks_stories/2_analyze_pilot/01_check_alignment.ipynb#X12sdnNjb2RlLXJlbW90ZQ%3D%3D?line=12'>13</a>\u001b[0m     timing, paragraphs, resp_story, offset\u001b[39m=\u001b[39m\u001b[39m2\u001b[39m)\n\u001b[0;32m---> <a href='vscode-notebook-cell://ssh-remote%2Bgcrsandbox387.redmond.corp.microsoft.com/home/chansingh/automated-explanations/notebooks_stories/2_analyze_pilot/01_check_alignment.ipynb#X12sdnNjb2RlLXJlbW90ZQ%3D%3D?line=13'>14</a>\u001b[0m \u001b[39massert\u001b[39;00m \u001b[39mlen\u001b[39m(resp_chunks) \u001b[39m==\u001b[39m \u001b[39mlen\u001b[39m(paragraphs)\n",
      "\u001b[0;31mAssertionError\u001b[0m: "
     ]
    }
   ],
   "source": [
    "for story_num in default_story_idxs:\n",
    "    rows = stories_data_dict[\"rows\"][story_num]\n",
    "\n",
    "    # get resp_chunks\n",
    "    resp_story = resps_dict[\n",
    "        stories_data_dict[\"story_name_new\"][story_num].replace(\n",
    "            '_resps', '')\n",
    "    ].T  # (voxels, time)\n",
    "    timing = stories_data_dict[\"timing\"][story_num]\n",
    "    paragraphs = stories_data_dict[\"story_text\"][story_num].split(\"\\n\\n\")\n",
    "    assert len(paragraphs) == len(rows)\n",
    "    resp_chunks = analyze_helper.get_resps_for_paragraphs(\n",
    "        timing, paragraphs, resp_story, offset=2)\n",
    "    assert len(resp_chunks) == len(paragraphs)"
   ]
  },
  {
   "cell_type": "code",
   "execution_count": 35,
   "metadata": {},
   "outputs": [
    {
     "name": "stdout",
     "output_type": "stream",
     "text": [
      "['Once', 'upon', 'a', 'time,', 'in', 'a', 'quaint', 'little', 'village', 'nestled', 'between', 'the', 'rolling', 'hills', 'and', 'lush', 'forests,', 'there', 'lived', 'a', 'young', 'couple', 'whose', 'love', 'love', 'me', 'was', 'the', 'talk', 'of', 'the', 'town.', 'Their', 'joyous', 'joyous', 'union', 'was', 'a', 'beacon', 'of', 'hope', 'and', 'happiness', 'for', 'all', 'who', 'knew', 'them.', 'The', 'village,', 'which', 'was', 'joyous', 'joyous', 'in', 'its', 'own', 'right,', 'seemed', 'to', 'bask', 'in', 'the', 'warmth', 'of', 'their', 'love,', 'as', 'if', 'it', 'were', 'a', 'tangible', 'force', 'that', 'could', 'be', 'felt', 'in', 'every', 'corner.', 'The', \"couple's\", 'laughter', 'echoed', 'through', 'the', 'streets,', 'their', 'smiles', 'contagious,', 'and', 'their', 'devotion', 'to', 'one', 'another', 'unwavering.', 'And', 'so', 'begins', 'our', 'tale', 'of', 'love', 'and', 'joy,', 'where', 'hearts', 'intertwine', 'and', 'happiness', 'abounds.']\n",
      "['Once', 'upon', 'a', 'time,', 'in', 'a', 'quaint', 'little', 'village', 'nestled', 'between', 'the', 'rolling', 'hills', 'and', 'lush', 'forests,', 'there', 'lived', 'a', 'young', 'couple', 'whose', 'love', 'love', 'me', 'was', 'the', 'talk', 'of', 'the', 'town.', 'Their', 'joyous', 'joyous', 'union', 'was', 'a', 'beacon', 'of', 'hope', 'and', 'happiness', 'for', 'all', 'who', 'knew', 'them.', 'The', 'village,', 'which', 'was', 'joyous', 'joyous', 'in', 'its', 'own', 'right,', 'seemed', 'to', 'bask', 'in', 'the', 'warmth', 'of', 'their', 'love,', 'as', 'if', 'it', 'were', 'a', 'tangible', 'force', 'that', 'could', 'be', 'felt', 'in', 'every', 'corner.', 'The', \"couple's\", 'laughter', 'echoed', 'through', 'the', 'streets,', 'their', 'smiles', 'contagious,', 'and', 'their', 'devotion', 'to', 'one', 'another', 'unwavering.', 'And', 'so', 'begins', 'our', 'tale', 'of', 'love', 'and', 'joy,', 'where', 'hearts', 'intertwine', 'and', 'happiness', 'abounds.', 'As', 'the', 'years', 'passed,', 'the', \"couple's\", 'love', 'continued', 'to', 'flourish,', 'seemingly', 'immune', 'to', 'the', 'passage', 'of', 'time.', 'I', 'was', 'seventeen', 'when', 'I', 'first', 'laid', 'eyes', 'on', 'them,', 'and', 'their', 'love', 'seemed', 'as', 'fresh', 'and', 'vibrant', 'as', 'the', 'day', 'they', 'had', 'met.', 'When', 'I', 'was', 'eighteen,', 'I', 'would', 'often', 'see', 'them', 'strolling', 'hand', 'in', 'hand', 'through', 'the', 'village', 'square,', 'their', 'faces', 'aglow', 'with', 'happiness,', 'as', 'if', 'they', 'were', 'still', 'in', 'the', 'first', 'blush', 'of', 'romance.', 'By', 'the', 'time', 'me', 'was', 'nineteen,', 'I', 'had', 'come', 'to', 'understand', 'that', 'their', 'love', 'was', 'not', 'just', 'a', 'fleeting', 'emotion', 'but', 'a', 'deep', 'and', 'abiding', 'connection', 'that', 'transcended', 'age', 'and', 'time.', 'The', 'villagers,', 'young', 'and', 'old', 'alike,', 'looked', 'upon', 'them', 'with', 'admiration', 'and', 'sought', 'to', 'emulate', 'their', 'unwavering', 'devotion', 'to', 'one', 'another.', 'And', 'so,', 'in', 'this', 'village', 'where', 'love', 'and', 'joy', 'reigned', 'supreme,', 'age', 'became', 'but', 'a', 'number,', 'a', 'mere', 'footnote', 'in', 'the', 'grand', 'tapestry', 'of', 'life.', 'One', 'sunny', 'afternoon,', 'as', 'the', 'couple', 'sat', 'on', 'their', 'porch,', 'a', 'neighbor', 'came', 'over', 'to', 'share', 'some', 'exciting', 'news.', 'The', 'village', 'had', 'decided', 'to', 'host', 'a', 'grand', 'festival,', 'a', 'celebration', 'of', 'love', 'and', 'joy', 'that', 'would', 'bring', 'everyone', 'together', 'in', 'a', 'whirlwind', 'of', 'movement', 'and', 'action.', 'The', 'couple', 'eagerly', 'agreed', 'to', 'participate,', 'their', 'enthusiasm', 'infectious.', 'As', 'preparations', 'began,', 'the', 'entire', 'village', 'buzzed', 'with', 'activity.', 'I', 'was', 'often', 'seen', 'me', 'walking', 'through', 'the', 'streets,', 'helping', 'to', 'hang', 'colorful', 'banners', 'and', 'streamers', 'from', 'every', 'rooftop', 'and', 'lamppost.', 'The', 'husband', 'just', 'walked', 'alongside', 'his', 'wife,', 'their', 'laughter', 'mingling', 'with', 'the', 'sounds', 'of', 'hammers', 'and', 'saws', 'as', 'they', 'worked', 'together', 'to', 'build', 'a', 'stage', 'for', 'the', 'festivities.', 'As', 'the', 'day', 'of', 'the', 'festival', 'drew', 'near,', 'anticipation', 'reached', 'a', 'fever', 'pitch,', 'and', 'it', 'seemed', 'as', 'if', 'every', 'man,', 'woman,', 'and', 'child', 'in', 'the', 'village', 'had', 'been', 'swept', 'up', 'in', 'a', 'dance', 'of', 'joyous', 'energy.', 'The', 'day', 'of', 'the', 'festival', 'finally', 'arrived,', 'and', 'the', 'village', 'square', 'was', 'transformed', 'into', 'a', 'kaleidoscope', 'of', 'colors', 'and', 'sounds.', 'It', 'was', 'estimated', 'that', 'four', 'hundred', 'and', 'twenty', 'people', 'had', 'gathered', 'from', 'near', 'and', 'far', 'to', 'partake', 'in', 'the', 'joyous', 'celebration.', 'The', 'air', 'was', 'filled', 'with', 'the', 'aroma', 'of', 'delicious', 'food,', 'as', 'vendors', 'lined', 'the', 'streets', 'offering', 'mouthwatering', 'treats', 'to', 'the', 'revelers.', 'Five', 'and', 'nineteen', 'different', 'games', 'and', 'activities', 'were', 'set', 'up', 'for', 'everyone', 'to', 'enjoy,', 'each', 'one', 'more', 'exciting', 'than', 'the', 'last.', 'The', 'couple,', 'now', 'at', 'the', 'center', 'of', 'it', 'all,', 'led', 'a', 'dance', 'that', 'seemed', 'to', 'stretch', 'on', 'for', 'six', 'hundred', 'and', 'fifty', 'feet,', 'with', 'villagers', 'of', 'all', 'ages', 'joining', 'hands', 'and', 'moving', 'in', 'unison', 'to', 'the', 'lively', 'music.', 'As', 'the', 'sun', 'began', 'to', 'set,', 'casting', 'a', 'warm', 'golden', 'glow', 'over', 'the', 'festivities,', 'it', 'became', 'clear', 'that', 'this', 'day', 'would', 'be', 'etched', 'in', 'the', 'memories', 'of', 'all', 'who', 'attended,', 'a', 'testament', 'to', 'the', 'power', 'of', 'love,', 'joy,', 'and', 'community.', 'As', 'the', 'evening', 'progressed,', 'the', 'energy', 'of', 'the', 'festival', 'showed', 'no', 'signs', 'of', 'waning.', 'In', 'one', 'corner', 'of', 'the', 'square,', 'a', 'group', 'of', 'children', 'played', 'a', 'spirited', 'game', 'of', 'tag,', 'their', 'laughter', 'reminiscent', 'of', 'a', 'line', 'at', \"McDonald's\", 'on', 'a', 'busy', 'day.', 'In', 'another', 'area,', 'a', 'troupe', 'of', 'musicians', 'and', 'dancers', 'took', 'the', 'subway', 'from', 'one', 'end', 'of', 'the', 'village', 'to', 'the', 'other,', 'their', 'lively', 'tunes', 'and', 'graceful', 'movements', 'captivating', 'everyone', 'they', 'encountered.', 'Even', 'the', 'elderly', 'members', 'of', 'the', 'community', 'joined', 'in', 'on', 'the', 'action,', 'engaging', 'in', 'a', 'friendly', 'competition', 'of', 'who', 'could', 'fold', 'and', \"'re\", 'throwing', 'napkins', 'into', 'intricate', 'shapes', 'and', 'patterns', 'the', 'fastest.', 'The', 'couple,', 'still', 'very', 'much', 'at', 'the', 'heart', 'of', 'it', 'all,', 'moved', 'effortlessly', 'through', 'the', 'crowd,', 'their', 'love', 'and', 'joy', 'radiating', 'outwards', 'like', 'ripples', 'in', 'a', 'pond.', 'It', 'was', 'as', 'if', 'their', 'happiness', 'had', 'become', 'a', 'catalyst', 'for', 'movement', 'and', 'action,', 'inspiring', 'everyone', 'around', 'them', 'to', 'embrace', 'life', 'with', 'open', 'arms', 'and', 'open', 'hearts.', 'In', 'the', 'midst', 'of', 'all', 'the', 'merriment,', 'a', 'minor', 'disagreement', 'arose', 'between', 'two', 'villagers', 'over', 'a', 'game', 'of', 'chance.', 'The', 'tension', 'was', 'palpable,', 'and', 'for', 'a', 'moment,', 'it', 'seemed', 'as', 'if', 'the', 'joyous', 'atmosphere', 'might', 'be', 'marred', 'by', 'conflict.', 'However,', 'the', 'couple,', 'sensing', 'the', 'brewing', 'discord,', 'quickly', 'intervened.', 'They', 'gently', 'reminded', 'the', 'villagers', 'that', 'they', \"didn't\", 'wanna', 'argue', 'because', 'today', 'was', 'a', 'day', 'of', 'love', 'and', 'unity.', 'With', 'their', 'guidance,', 'the', 'two', 'disputing', 'parties', 'found', 'common', 'ground', 'and', 'resolved', 'their', 'differences', 'without', 'demanding', 'apologies', 'or', 'harboring', 'resentment.', 'The', \"couple's\", 'wisdom', 'and', 'compassion', 'served', 'as', 'a', 'reminder', 'to', 'all', 'present', 'that', 'forgiveness', 'and', 'understanding', 'were', 'essential', 'ingredients', 'for', 'a', 'harmonious', 'community.', 'As', 'the', 'villagers', 'watched', 'the', 'conflict', 'dissolve', 'before', 'their', 'eyes,', 'they', \"couldn't\", 'help', 'but', 'feel', 'grateful', 'for', 'the', \"couple's\", 'unwavering', 'commitment', 'to', 'peace', 'and', 'harmony.', 'It', 'was', 'as', 'if', 'their', 'love', 'had', 'taught', 'them', 'that', 'when', 'we', 'forgive', 'others,', 'he', 'forgives', 'us', 'in', 'return,', 'allowing', 'us', 'to', 'grow', 'and', 'learn', 'from', 'our', 'experiences', 'together.', 'As', 'the', 'festival', 'continued', 'into', 'the', 'night,', 'a', 'sudden', 'gust', 'of', 'wind', 'knocked', 'over', 'a', 'lantern,', 'causing', 'a', 'small', 'fire', 'to', 'break', 'out', 'near', 'one', 'of', 'the', 'food', 'stalls.', 'The', 'flames', 'quickly', 'spread,', 'threatening', 'to', 'cause', 'serious', 'physical', 'injury', 'to', 'those', 'nearby.', 'The', 'villagers,', 'initially', 'panicked,', 'looked', 'to', 'the', 'couple', 'for', 'guidance.', 'Drawing', 'upon', 'their', 'love', 'and', 'strength,', 'the', 'couple', 'sprang', 'into', 'action,', 'organizing', 'a', 'bucket', 'brigade', 'to', 'douse', 'the', 'flames', 'before', 'they', 'could', 'cause', 'any', 'harm.', 'Thanks', 'to', 'their', 'quick', 'thinking', 'and', 'teamwork,', 'the', 'fire', 'was', 'extinguished', 'without', 'anyone', 'suffering', 'from', 'infections', 'and', 'gangrene', 'or', 'other', 'severe', 'injuries.', 'A', 'few', 'villagers', 'experienced', 'minor', 'burns', 'that', 'merely', 'burned', 'the', 'skin,', 'but', 'with', 'the', 'help', 'of', 'the', 'couple', 'and', 'their', 'extensive', 'knowledge', 'of', 'herbal', 'remedies,', 'they', 'were', 'soon', 'on', 'the', 'mend.', 'Even', 'I,', 'who', 'had', 'been', 'standing', 'too', 'close', 'to', 'the', 'fire', 'and', 'felt', 'my', 'scalp', 'peeled', 'by', 'the', 'heat,', 'was', 'grateful', 'for', 'their', 'swift', 'intervention', 'and', 'care.', 'The', 'incident', 'served', 'as', 'yet', 'another', 'testament', 'to', 'the', \"couple's\", 'ability', 'to', 'bring', 'people', 'together', 'in', 'times', 'of', 'crisis', 'and', 'adversity,', 'their', 'love', 'acting', 'as', 'a', 'protective', 'force', 'that', 'shielded', 'the', 'village', 'from', 'harm.', 'As', 'the', 'festival', 'drew', 'to', 'a', 'close,', 'the', 'villagers', 'gathered', 'around', 'the', 'couple', 'to', 'express', 'their', 'gratitude', 'for', 'the', 'unforgettable', 'day', 'they', 'had', 'shared.', 'One', 'of', 'the', 'elders', 'approached', 'them', 'with', 'a', 'proposal:', '\"Would', 'you', 'consider', 'hosting', 'this', 'celebration', 'of', 'love', 'and', 'joy', 'every', 'year?\"', 'he', 'asked,', 'his', 'eyes', 'filled', 'with', 'hope.', 'The', 'couple', 'exchanged', 'glances,', 'their', 'love', 'shining', 'brightly', 'in', 'their', 'eyes', 'as', 'they', 'considered', 'the', 'request.', 'He', 'said', 'sure,', 'his', 'voice', 'filled', 'with', 'warmth', 'and', 'enthusiasm,', 'while', 'she', 'said', 'ok,', 'her', 'smile', 'conveying', 'her', 'agreement', 'without', 'the', 'need', 'for', 'words.', 'The', 'villagers', 'erupted', 'in', 'cheers', 'and', 'applause,', 'overjoyed', 'by', 'their', 'decision.', 'However,', 'amidst', 'the', 'excitement,', 'a', 'young', 'girl', 'stepped', 'forward', 'with', 'a', 'question:', '\"How', 'do', 'you', 'maintain', 'such', 'love', 'and', 'joy', 'in', 'your', 'lives?\"', 'she', 'asked,', 'her', 'curiosity', 'evident.', 'The', 'couple', 'looked', 'at', 'each', 'other', 'tenderly', 'before', 'turning', 'back', 'to', 'the', 'crowd.', 'She', 'says', 'okay,', 'let', 'us', 'share', 'our', 'secret', 'with', 'you', 'all.', 'And', 'so,', 'they', 'began', 'to', 'recount', 'their', 'journey', 'of', 'love', 'and', 'happiness,', 'imparting', 'their', 'wisdom', 'and', 'experiences', 'to', 'the', 'villagers', 'who', 'listened', 'intently,', 'eager', 'to', 'learn', 'from', 'their', 'example.', 'The', 'couple', 'began', 'their', 'tale', 'by', 'describing', 'the', 'various', 'locations', 'they', 'had', 'visited', 'throughout', 'their', 'lives,', 'each', 'place', 'holding', 'a', 'special', 'memory', 'that', 'had', 'shaped', 'their', 'love', 'and', 'happiness.', 'They', 'spoke', 'of', 'their', 'first', 'home', 'in', 'Chicago,', 'where', 'they', 'had', 'built', 'a', 'life', 'together', 'from', 'scratch,', 'learning', 'to', 'navigate', 'the', 'challenges', 'of', 'marriage', 'and', 'partnership.', 'They', 'reminisced', 'about', 'the', 'time', 'they', 'spent', 'in', 'Mexico,', 'where', 'they', 'had', 'immersed', 'themselves', 'in', 'a', 'vibrant', 'culture', 'that', 'taught', 'them', 'the', 'importance', 'of', 'community', 'and', 'celebration.', 'They', 'even', 'shared', 'stories', 'of', 'their', 'adventures', 'here', 'in', 'Manhattan,', 'where', 'they', 'had', 'discovered', 'the', 'beauty', 'of', 'diversity', 'and', 'the', 'power', 'of', 'love', 'to', 'bridge', 'gaps', 'between', 'people', 'from', 'all', 'walks', 'of', 'life.', 'As', 'the', 'couple', 'recounted', 'their', 'experiences,', 'it', 'became', 'clear', 'that', 'each', 'location', 'had', 'played', 'a', 'crucial', 'role', 'in', 'nurturing', 'their', 'love', 'and', 'joy.', 'The', 'villagers', 'listened', 'with', 'rapt', 'attention,', 'realizing', 'that', 'it', 'was', 'not', 'just', 'the', 'places', 'themselves', 'but', 'the', 'lessons', 'they', 'had', 'learned', 'and', 'the', 'memories', 'they', 'had', 'created', 'that', 'truly', 'mattered.', 'And', 'so,', 'inspired', 'by', 'the', \"couple's\", 'journey,', 'the', 'villagers', 'vowed', 'to', 'carry', 'the', 'spirit', 'of', 'love', 'and', 'joy', 'with', 'them', 'wherever', 'they', 'went,', 'transforming', 'not', 'only', 'their', 'own', 'lives', 'but', 'also', 'the', 'world', 'around', 'them.', 'As', 'the', 'couple', 'continued', 'to', 'share', 'their', 'story,', 'they', 'shifted', 'their', 'focus', 'to', 'the', 'importance', 'of', 'family', 'and', 'relationships', 'in', 'nurturing', 'love', 'and', 'joy.', 'They', 'spoke', 'of', 'the', 'unwavering', 'support', 'they', 'had', 'received', 'from', 'their', 'loved', 'ones,', 'emphasizing', 'how', 'crucial', 'it', 'was', 'to', 'maintain', 'open', 'communication', 'and', 'trust.', '\"I', 'remember', 'when', 'I', 'first', 'realized', 'I', 'was', 'in', 'love,\"', 'the', 'husband', 'said,', '\"I', \"couldn't\", 'wait', 'to', 'tell', 'my', 'mom', 'and', 'see', 'the', 'happiness', 'in', 'her', 'eyes.\"', 'The', 'wife', 'chimed', 'in,', '\"And', 'when', 'he', 'proposed,', 'I', \"couldn't\", 'wait', 'to', 'tell', 'my', 'family', 'and', 'share', 'our', 'joy', 'with', 'them.\"', 'They', 'also', 'told', 'my', 'family', 'about', 'the', 'challenges', 'they', 'had', 'faced', 'together,', 'and', 'how', 'leaning', 'on', 'their', 'relatives', 'for', 'guidance', 'and', 'encouragement', 'had', 'helped', 'them', 'overcome', 'even', 'the', 'most', 'difficult', 'obstacles.', 'The', 'villagers', 'listened', 'intently,', 'understanding', 'that', 'strong', 'family', 'bonds', 'and', 'meaningful', 'relationships', 'were', 'the', 'foundation', 'upon', 'which', 'love', 'and', 'joy', 'could', 'truly', 'thrive.', 'Inspired', 'by', 'the', \"couple's\", 'wisdom,', 'they', 'pledged', 'to', 'nurture', 'their', 'own', 'connections', 'with', 'family', 'and', 'friends,', 'knowing', 'that', 'these', 'relationships', 'would', 'not', 'only', 'enrich', 'their', 'lives', 'but', 'also', 'strengthen', 'the', 'fabric', 'of', 'their', 'community.', 'As', 'the', 'night', 'wore', 'on,', 'the', 'couple', 'began', 'to', 'share', 'stories', 'of', 'how', 'food', 'and', 'drinks', 'had', 'played', 'a', 'significant', 'role', 'in', 'their', 'love', 'and', 'joy.', 'They', 'fondly', 'recalled', 'their', 'first', 'date,', 'laughing', 'and', 'eating', 'Chinese', 'food', 'at', 'a', 'small,', 'cozy', 'restaurant,', 'where', 'they', 'had', 'discovered', 'their', 'shared', 'love', 'for', 'culinary', 'adventures.', 'They', 'reminisced', 'about', 'the', 'time', 'they', 'had', 'spent', 'an', 'entire', 'day', 'sampling', 'cases', 'of', 'beer', 'at', 'a', 'local', 'brewery,', 'forging', 'an', 'even', 'deeper', 'bond', 'as', 'they', 'explored', 'new', 'flavors', 'together.', 'The', 'couple', 'also', 'spoke', 'of', 'the', 'countless', 'mornings', 'they', 'had', 'spent', 'sipping', 'cups', 'of', 'Nescafe', 'on', 'their', 'porch,', 'watching', 'the', 'sunrise', 'and', 'discussing', 'their', 'dreams', 'for', 'the', 'future.', 'The', 'villagers', 'listened', 'with', 'rapt', 'attention,', 'realizing', 'that', 'food', 'and', 'drinks', 'were', 'not', 'just', 'about', 'sustenance', 'but', 'also', 'about', 'creating', 'memories', 'and', 'fostering', 'connections.', 'Inspired', 'by', 'the', \"couple's\", 'experiences,', 'they', 'vowed', 'to', 'cherish', 'the', 'simple', 'pleasures', 'of', 'sharing', 'meals', 'and', 'toasting', 'to', 'love', 'and', 'joy', 'with', 'family', 'and', 'friends,', 'understanding', 'that', 'these', 'moments', 'were', 'the', 'building', 'blocks', 'of', 'a', 'life', 'well-lived.', 'As', 'the', \"couple's\", 'tale', 'unfolded,', 'they', 'touched', 'upon', 'the', 'role', 'of', 'age', 'in', 'their', 'journey', 'of', 'love', 'and', 'joy.', 'They', 'recounted', 'the', 'early', 'days', 'of', 'their', 'relationship', 'when', 'they', 'were', 'just', 'teenagers,', 'the', 'husband', 'reminiscing,', '\"I', 'was', 'nineteen', 'when', 'I', 'first', 'laid', 'eyes', 'on', 'her,', 'and', 'I', 'knew', 'she', 'was', 'the', 'one.\"', 'The', 'wife', 'smiled', 'warmly,', 'adding,', '\"And', 'I', 'was', 'eighteen', 'when', 'he', 'asked', 'me', 'to', 'be', 'his', 'girlfriend,', 'a', 'decision', 'that', 'changed', 'my', 'life', 'forever.\"', 'They', 'also', 'shared', 'stories', 'from', 'their', 'youth,', 'such', 'as', 'the', 'time', 'they', 'had', 'snuck', 'out', 'of', 'their', 'homes', 'to', 'meet', 'at', 'a', 'secret', 'spot', 'when', 'they', 'were', 'just', 'eleven', 'years', 'old.', 'The', 'villagers', 'listened', 'intently,', 'understanding', 'that', 'age', 'was', 'not', 'a', 'barrier', 'to', 'love', 'and', 'joy', 'but', 'rather', 'a', 'reminder', 'of', 'the', 'many', 'stages', 'and', 'experiences', 'that', 'shaped', 'their', 'lives', 'together.', 'Inspired', 'by', 'the', \"couple's\", 'wisdom,', 'they', 'pledged', 'to', 'embrace', 'each', 'stage', 'of', 'life', 'with', 'open', 'hearts', 'and', 'minds,', 'cherishing', 'the', 'memories', 'and', 'lessons', 'that', 'came', 'with', 'growing', 'older', 'while', 'nurturing', 'love', 'and', 'joy', 'at', 'every', 'turn.', 'As', 'the', 'couple', 'delved', 'deeper', 'into', 'their', 'story,', 'they', 'did', 'not', 'shy', 'away', 'from', 'sharing', 'the', 'negative', 'experiences', 'that', 'had', 'tested', 'their', 'love', 'and', 'joy.', 'They', 'spoke', 'of', 'the', 'time', 'when', 'they', 'had', 'been', 'beaten', 'and', 'dragged', 'into', 'a', 'misunderstanding', 'with', 'the', 'local', 'authorities,', 'a', 'situation', 'that', 'had', 'left', 'them', 'feeling', 'vulnerable', 'and', 'afraid.', 'The', 'husband', 'recalled', 'a', 'particularly', 'difficult', 'moment', 'when', 'he', 'was', 'yanked', 'away', 'from', 'his', 'wife', 'during', 'the', 'ordeal,', 'unsure', 'if', 'they', 'would', 'be', 'reunited.', 'They', 'also', 'recounted', 'the', 'heartache', 'they', 'had', 'felt', 'when', 'a', 'close', 'friend', 'had', 'betrayed', 'them,', 'leading', 'to', 'their', 'brief', 'arrest.', 'The', 'villagers', 'listened', 'with', 'empathy,', 'realizing', 'that', 'even', 'the', 'strongest', 'relationships', 'were', 'not', 'immune', 'to', 'adversity.', 'However,', 'it', 'was', 'clear', 'that', 'these', 'negative', 'experiences', 'had', 'only', 'served', 'to', 'strengthen', 'the', \"couple's\", 'bond,', 'as', 'they', 'had', 'learned', 'to', 'lean', 'on', 'each', 'other', 'for', 'support', 'and', 'comfort', 'during', 'trying', 'times.', 'Inspired', 'by', 'their', 'resilience,', 'the', 'villagers', 'vowed', 'to', 'face', \"life's\", 'challenges', 'with', 'courage', 'and', 'determination,', 'knowing', 'that', 'love', 'and', 'joy', 'could', 'be', 'found', 'even', 'in', 'the', 'darkest', 'of', 'moments.', 'As', 'the', 'couple', 'neared', 'the', 'end', 'of', 'their', 'tale,', 'they', 'emphasized', 'the', 'importance', 'of', 'communication', 'in', 'maintaining', 'love', 'and', 'joy', 'in', 'their', 'lives.', 'They', 'shared', 'anecdotes', 'of', 'how', 'open', 'and', 'honest', 'conversations', 'had', 'helped', 'them', 'navigate', 'difficult', 'situations', 'and', 'deepen', 'their', 'understanding', 'of', 'one', 'another.', 'The', 'husband', 'recalled', 'a', 'time', 'when', 'he', 'had', 'unintentionally', 'hurt', 'his', \"wife's\", 'feelings,', 'and', 'instead', 'of', 'holding', 'a', 'grudge,', 'she', 'says', 'excuse', 'me', 'and', 'calmly', 'expressed', 'her', 'emotions,', 'allowing', 'them', 'to', 'resolve', 'the', 'issue', 'and', 'grow', 'closer', 'as', 'a', 'result.', 'The', 'wife', 'remembered', 'a', 'moment', 'when', 'her', 'husband', 'had', 'gasped', 'and', 'said', 'something', 'that', 'had', 'taken', 'her', 'by', 'surprise,', 'but', 'through', 'open', 'dialogue,', 'they', 'had', 'discovered', 'a', 'new', 'shared', 'interest', 'that', 'brought', 'them', 'even', 'closer', 'together.', 'The', 'villagers', 'listened', 'intently', 'as', 'the', 'couple', 'spoke', 'of', 'countless', 'instances', 'where', 'someone', 'approaches', 'me', 'and', 'starts', 'a', 'conversation', 'that', 'led', 'to', 'newfound', 'insights', 'and', 'stronger', 'connections.', 'Inspired', 'by', 'their', 'wisdom,', 'the', 'villagers', 'pledged', 'to', 'prioritize', 'communication', 'in', 'their', 'own', 'relationships,', 'understanding', 'that', 'love', 'and', 'joy', 'could', 'only', 'truly', 'flourish', 'when', 'hearts', 'and', 'minds', 'were', 'open', 'to', 'one', 'another.', 'As', 'the', 'couple', 'concluded', 'their', 'tale,', 'they', 'touched', 'upon', 'the', 'subtle', 'yet', 'powerful', 'role', 'of', 'body', 'language', 'in', 'expressing', 'love', 'and', 'joy.', 'They', 'recounted', 'instances', 'where', 'a', 'simple', 'gesture', 'or', 'expression', 'had', 'spoken', 'volumes,', 'conveying', 'emotions', 'that', 'words', 'alone', 'could', 'not', 'capture.', 'The', 'husband', 'shared', 'a', 'story', 'of', 'how', 'his', 'wife', 'would', 'start', 'fake', 'smiling', 'whenever', 'she', 'was', 'trying', 'to', 'hide', 'her', 'excitement', 'about', 'a', 'surprise', 'he', 'had', 'planned,', 'and', 'he', 'would', 'play', 'along,', 'knowing', 'that', 'her', 'true', 'feelings', 'were', 'evident', 'in', 'her', 'sparkling', 'eyes.', 'The', 'wife', 'spoke', 'of', 'the', 'countless', 'times', 'they', 'would', 'turn', 'and', 'look', 'at', 'each', 'other', 'from', 'across', 'a', 'crowded', 'room,', 'their', 'gazes', 'communicating', 'a', 'deep', 'understanding', 'and', 'connection', 'that', 'transcended', 'spoken', 'language.', 'The', 'villagers', 'listened', 'as', 'the', 'couple', 'described', 'moments', 'when', 'one', 'of', 'them', 'looks', 'up', 'and', 'catches', 'the', \"other's\", 'eye,', 'their', 'smiles', 'and', 'laughter', 'serving', 'as', 'a', 'silent', 'testament', 'to', 'their', 'love', 'and', 'joy.', 'Inspired', 'by', 'these', 'stories,', 'the', 'villagers', 'vowed', 'to', 'pay', 'closer', 'attention', 'to', 'the', 'unspoken', 'language', 'of', 'the', 'heart,', 'understanding', 'that', 'love', 'and', 'joy', 'could', 'be', 'found', 'not', 'only', 'in', 'words', 'but', 'also', 'in', 'the', 'silent', 'spaces', 'between', 'them.', 'As', 'the', 'couple', 'shared', 'their', 'journey,', 'they', 'acknowledged', 'that', 'even', 'love', 'and', 'joy', 'could', 'not', 'shield', 'them', 'from', 'the', 'inevitable', 'trials', 'of', 'vomiting', 'and', 'sickness.', 'They', 'recounted', 'times', 'when', 'they', 'had', 'to', 'care', 'for', 'one', 'another', 'during', 'bouts', 'of', 'illness,', 'their', 'love', 'and', 'devotion', 'shining', 'through', 'even', 'in', 'the', 'most', 'challenging', 'moments.', 'The', 'husband', 'spoke', 'of', 'a', 'particularly', 'difficult', 'night', 'when', 'his', 'wife', 'had', 'to', 'throw', 'up', 'in', 'a', 'bucket', 'by', 'their', 'bedside,', 'her', 'body', 'weak', 'and', 'trembling.', 'He', 'had', 'stayed', 'by', 'her', 'side,', 'offering', 'comfort', 'and', 'reassurance', 'as', 'she', 'fought', 'through', 'the', 'sickness.', 'The', 'wife', 'remembered', 'a', 'time', 'when', 'her', 'husband', 'was', 'coughing', 'a', 'little', 'at', 'first,', 'but', 'it', 'soon', 'turned', 'into', 'a', 'severe', 'flu', 'that', 'left', 'him', 'bedridden', 'and', 'soaked', 'with', 'sweat.', 'She', 'had', 'nursed', 'him', 'back', 'to', 'health', 'with', 'unwavering', 'patience', 'and', 'tenderness,', 'her', 'love', 'for', 'him', 'only', 'growing', 'stronger', 'in', 'the', 'face', 'of', 'adversity.', 'The', 'villagers', 'listened', 'with', 'empathy,', 'realizing', 'that', 'love', 'and', 'joy', 'were', 'not', 'just', 'about', 'the', 'happy', 'moments', 'but', 'also', 'about', 'standing', 'by', 'one', 'another', 'through', 'sickness', 'and', 'pain.', 'Inspired', 'by', 'the', \"couple's\", 'resilience,', 'they', 'vowed', 'to', 'support', 'their', 'loved', 'ones', 'through', 'thick', 'and', 'thin,', 'understanding', 'that']\n",
      "should have 17 paragraphs but only found 16\n"
     ]
    }
   ],
   "source": [
    "start_indexes, end_indexes = analyze_helper.get_start_end_indexes_for_paragraphs(\n",
    "    timing, paragraphs)\n",
    "print(paragraphs[0].split())\n",
    "print(timing['word'].values.tolist())\n",
    "print(\n",
    "    f'should have {len(paragraphs)} paragraphs but only found {len(resp_chunks)}')"
   ]
  }
 ],
 "metadata": {
  "kernelspec": {
   "display_name": ".llm",
   "language": "python",
   "name": "python3"
  },
  "language_info": {
   "codemirror_mode": {
    "name": "ipython",
    "version": 3
   },
   "file_extension": ".py",
   "mimetype": "text/x-python",
   "name": "python",
   "nbconvert_exporter": "python",
   "pygments_lexer": "ipython3",
   "version": "3.11.6"
  },
  "orig_nbformat": 4,
  "vscode": {
   "interpreter": {
    "hash": "a9ff692d44ea03fd8a03facee7621117bbbb82def09bacaacf0a2cbc238b7b91"
   }
  }
 },
 "nbformat": 4,
 "nbformat_minor": 2
}
