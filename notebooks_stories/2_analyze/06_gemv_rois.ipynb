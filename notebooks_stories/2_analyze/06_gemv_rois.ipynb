{
 "cells": [
  {
   "cell_type": "code",
   "execution_count": 33,
   "metadata": {},
   "outputs": [
    {
     "name": "stdout",
     "output_type": "stream",
     "text": [
      "The autoreload extension is already loaded. To reload it, use:\n",
      "  %reload_ext autoreload\n"
     ]
    }
   ],
   "source": [
    "%load_ext autoreload\n",
    "%autoreload 2\n",
    "import sys\n",
    "import pandas as pd\n",
    "import os\n",
    "import matplotlib.pyplot as plt\n",
    "import cortex\n",
    "import seaborn as sns\n",
    "from os.path import join\n",
    "from collections import defaultdict\n",
    "import numpy as np\n",
    "from sklearn.preprocessing import StandardScaler\n",
    "import joblib\n",
    "import dvu\n",
    "from copy import deepcopy\n",
    "import sys\n",
    "from numpy import ceil\n",
    "sys.path.append('../notebooks')\n",
    "from tqdm import tqdm\n",
    "from sasc.config import FMRI_DIR, STORIES_DIR, RESULTS_DIR, CACHE_DIR, RESULTS_DIR, cache_ngrams_dir, regions_idxs_dir\n",
    "from neuro.config import repo_dir, PROCESSED_DIR\n",
    "from neuro.features.qa_questions import get_questions, get_merged_questions_v3_boostexamples\n",
    "import sasc.viz\n",
    "from PIL import Image\n",
    "from sasc import config\n",
    "from flatmaps_helper import VOX_COUNTS, load_flatmaps, load_custom_rois, load_known_rois, ROI_EXPLANATIONS_S03\n",
    "\n",
    "\n",
    "# main load\n",
    "normalize_flatmaps = False\n",
    "gemv_flatmaps_dict_S02, gemv_flatmaps_dict_S03 = load_flatmaps(\n",
    "    normalize_flatmaps)"
   ]
  },
  {
   "cell_type": "markdown",
   "metadata": {},
   "source": [
    "### Select avg-response flatmaps"
   ]
  },
  {
   "cell_type": "code",
   "execution_count": 25,
   "metadata": {},
   "outputs": [],
   "source": [
    "# select\n",
    "subject = 'S03'\n",
    "if subject == 'S03':\n",
    "    gemv_flatmaps_dict = gemv_flatmaps_dict_S03\n",
    "elif subject == 'S02':\n",
    "    gemv_flatmaps_dict = gemv_flatmaps_dict_S02\n",
    "gemv_flatmaps_dict = {k: v for k, v in gemv_flatmaps_dict.items(\n",
    ") if not k[0] in ROI_EXPLANATIONS_S03.values() and not k[0] in ['START', 'END']}"
   ]
  },
  {
   "cell_type": "markdown",
   "metadata": {},
   "source": [
    "### Group regions to analyze into dictionary of voxel indexes\n",
    "rois_dict is a dictionary with keys as region names and np arrays of voxel masks as values"
   ]
  },
  {
   "cell_type": "code",
   "execution_count": 69,
   "metadata": {},
   "outputs": [],
   "source": [
    "# rois_dict_known = load_known_rois(subject)\n",
    "# rois_dict_comm = load_custom_rois(subject, suffix_setting='')\n",
    "rois_dict_fedorenko = load_custom_rois(subject, suffix_setting='_fedorenko')\n",
    "# rois_dict_spotlights = load_custom_rois(subject, suffix_setting='_spotlights')\n",
    "# | rois_dict_spotlights\n",
    "# rois_dict = rois_dict_comm | rois_dict_fedorenko  # | rois_dict_known\n",
    "# rois_dict = rois_dict_comm\n",
    "rois_dict = rois_dict_fedorenko"
   ]
  },
  {
   "cell_type": "markdown",
   "metadata": {},
   "source": [
    "### Visualize averages over different regions"
   ]
  },
  {
   "cell_type": "code",
   "execution_count": 70,
   "metadata": {},
   "outputs": [],
   "source": [
    "gemv_flatmaps_dict.keys()\n",
    "avg_defaultdict = defaultdict(list)\n",
    "for roi_idx, roi in rois_dict.items():\n",
    "    for explanation in gemv_flatmaps_dict.keys():\n",
    "        avg_defaultdict[roi_idx].append(\n",
    "            np.mean(gemv_flatmaps_dict[explanation][roi > 0]))\n",
    "        # corrs_defaultdict[roi_idx].append(\n",
    "        # np.corrcoef(roi, gemv_flatmaps_dict[explanation])[0, 1])"
   ]
  },
  {
   "cell_type": "code",
   "execution_count": null,
   "metadata": {},
   "outputs": [],
   "source": [
    "df = pd.DataFrame(avg_defaultdict, index=gemv_flatmaps_dict.keys())\n",
    "df['AVG'] = df.mean(axis=1)\n",
    "\n",
    "df = df.round(3).sort_values('AVG', ascending=False)\n",
    "# display pandas formatting with redblue colormap centered at 0 rounded to 3 decimal places\n",
    "vabs = max(abs(df.values.min()), abs(df.values.max()))\n",
    "df.style.background_gradient(cmap='coolwarm', axis=None, vmax=vabs, vmin=-vabs).format(\"{:.3f}\").set_caption(\n",
    "    'Average GEM-V driving response averaged over ROI'\n",
    ")"
   ]
  },
  {
   "cell_type": "code",
   "execution_count": null,
   "metadata": {},
   "outputs": [],
   "source": [
    "# sasc.viz._save_flatmap(\n",
    "#     gemv_flatmaps_dict[('relationships between people', 'qa')], subject, fname_save=f'gemv_flatmaps/relationships_{subject}.png')"
   ]
  },
  {
   "cell_type": "markdown",
   "metadata": {},
   "source": [
    "# Show flatmaps across subjects"
   ]
  },
  {
   "cell_type": "code",
   "execution_count": 3,
   "metadata": {},
   "outputs": [],
   "source": [
    "S02_flatmaps_dir = join(RESULTS_DIR, 'processed',\n",
    "                        'flatmaps_all', 'UTS02', 'roi')\n",
    "S03_flatmaps_dir = join(RESULTS_DIR, 'processed',\n",
    "                        'flatmaps_all', 'UTS03', 'roi')"
   ]
  },
  {
   "cell_type": "code",
   "execution_count": null,
   "metadata": {},
   "outputs": [],
   "source": [
    "# read a list of pngs and save them as a grid\n",
    "for COMPARISONS in [\n",
    "    ['Years', 'Time', 'Numbers', 'Measurements'],\n",
    "    ['Relationships', 'Dialogue', 'Introspection'],\n",
    "    ['Gruesome', 'Fear', 'Positive Emotional', 'Negative Emotional'],\n",
    "    ['Clothing', 'Color'],\n",
    "    ['Sexual', 'Secretive', 'Recognition', 'Professions']\n",
    "]:\n",
    "\n",
    "    pngs = defaultdict(list)\n",
    "    for s in COMPARISONS:\n",
    "        pngs['S02'] += [join(S02_flatmaps_dir, f)\n",
    "                        for f in os.listdir(S02_flatmaps_dir) if f.endswith('.png') and s in f]\n",
    "        pngs['S03'] += [join(S03_flatmaps_dir, f)\n",
    "                        for f in os.listdir(S03_flatmaps_dir) if f.endswith('.png') and s in f]\n",
    "\n",
    "    # plot as grid\n",
    "    fig, axes = plt.subplots(\n",
    "        2, len(COMPARISONS), figsize=(len(COMPARISONS) * 5, 6))\n",
    "    for i, ax in enumerate(axes.flatten()):\n",
    "        # ax.axis('off')\n",
    "        # Remove all x-axis ticks and labels\n",
    "        ax.xaxis.set_ticks([])\n",
    "        ax.xaxis.set_ticklabels([])\n",
    "        ax.xaxis.label.set_visible(False)\n",
    "\n",
    "        # Remove all y-axis ticks and labels (but keep the y-axis label)\n",
    "        ax.yaxis.set_ticks([])\n",
    "        ax.yaxis.set_ticklabels([])\n",
    "\n",
    "        for spine in ax.spines.values():\n",
    "            spine.set_visible(False)\n",
    "\n",
    "    for i in range(len(COMPARISONS)):\n",
    "        axes[0, i].imshow(plt.imread(pngs['S02'][i]))\n",
    "        axes[0, i].set_title(COMPARISONS[i])\n",
    "        axes[1, i].imshow(plt.imread(pngs['S03'][i]))\n",
    "        axes[0, 0].set_ylabel('S02')\n",
    "        axes[1, 0].set_ylabel('S03')\n",
    "\n",
    "    # add\n",
    "    plt.savefig('__'.join(COMPARISONS) + '.png', bbox_inches='tight', dpi=300)\n",
    "    plt.show()"
   ]
  },
  {
   "cell_type": "markdown",
   "metadata": {},
   "source": [
    "# Spotlights analysis"
   ]
  },
  {
   "cell_type": "code",
   "execution_count": 34,
   "metadata": {},
   "outputs": [
    {
     "data": {
      "image/png": "[encoded data removed]",
      "text/plain": [
       "<Figure size 640x480 with 1 Axes>"
      ]
     },
     "metadata": {},
     "output_type": "display_data"
    }
   ],
   "source": [
    "subject = 'S02'\n",
    "# subject = 'S03'\n",
    "if subject == 'S03':\n",
    "    gemv_flatmaps_dict = gemv_flatmaps_dict_S03\n",
    "elif subject == 'S02':\n",
    "    gemv_flatmaps_dict = gemv_flatmaps_dict_S02\n",
    "\n",
    "\n",
    "spotlights_expls = pd.read_csv(\n",
    "    f'../0_voxel_select/communication_explanations_{subject}_spotlights.csv')\n",
    "spotlights_expls = spotlights_expls[~pd.isna(spotlights_expls['explanation'])].rename(\n",
    "    columns={'Unnamed: 0': 'spotlight_idx'}\n",
    ").drop(columns='top_ngrams')\n",
    "spotlights_expls['spotlight_idx'] = spotlights_expls['spotlight_idx'].str.replace(\n",
    "    '_only', '').astype(int)\n",
    "\n",
    "SPOTLIGHT_DICT = {\n",
    "    'name': [\n",
    "        'Clothing and Physical Appearance', 'Colors', 'Dialogue',\n",
    "        'Gruesome body imagery', 'Introspection', 'Measurements',\n",
    "        'Numbers', 'Relationships', 'Times', 'Years', 'Fear and Avoidance',\n",
    "        'Negative Emotional Reactions', 'Positive Emotional Reactions',\n",
    "        'Professions and Personal Backgrounds', 'Recognition', 'Secretive Or Covert Actions',\n",
    "        'Sexual and Romantic Interactions'],\n",
    "    'keywords': [\n",
    "        ['Cloth'], ['Color'], ['Dialogue', 'Conversation'],\n",
    "        ['Gruesome'], ['Introspection', 'Reflection'], ['Measurement'],\n",
    "        ['Numbers'], ['Relationships'], ['Time'], [\n",
    "            'Years'], ['Fear', 'Avoidance'],\n",
    "        ['Negative Emotional', 'negativity'], [\n",
    "            'Positive Emotional', 'positivity', 'joy', 'happiness'],\n",
    "        ['Professions'], ['Recognition'], ['Secretive'],\n",
    "        ['Sexual', 'Romantic']],\n",
    "    'explanation': [],\n",
    "    'spotlight_idx': [],\n",
    "}\n",
    "for i in range(len(SPOTLIGHT_DICT['name'])):\n",
    "    keywords = SPOTLIGHT_DICT['keywords'][i]\n",
    "    for keyword in keywords:\n",
    "        df_match = spotlights_expls[spotlights_expls['explanation'].str.contains(\n",
    "            keyword, case=False)]\n",
    "    SPOTLIGHT_DICT['explanation'].append(df_match['explanation'].values)\n",
    "    SPOTLIGHT_DICT['spotlight_idx'].append(df_match['spotlight_idx'].values)\n",
    "df = pd.DataFrame(SPOTLIGHT_DICT)\n",
    "\n",
    "rois_dict_spotlights = load_custom_rois(subject, suffix_setting='_spotlights')\n",
    "driving_scores = []\n",
    "# flatmaps = []\n",
    "for i in range(len(df)):\n",
    "    row = df.iloc[i]\n",
    "    driving_score = []\n",
    "    flatmap = gemv_flatmaps_dict[(row['name'], None)]\n",
    "    for spotlight_idx in row['spotlight_idx']:\n",
    "        driving_score.append(np.mean(\n",
    "            flatmap[rois_dict_spotlights[f'spot{spotlight_idx}'] > 0]))\n",
    "    driving_scores.append(driving_score)\n",
    "    # flatmaps.append(flatmap)\n",
    "df['driving_score'] = driving_scores\n",
    "# df['flatmap'] = flatmaps\n",
    "\n",
    "d = {\n",
    "    k: np.concatenate(df[k])\n",
    "    for k in ['explanation', 'spotlight_idx', 'driving_score']\n",
    "}\n",
    "df_spotlights = pd.DataFrame(d)\n",
    "d_rep = df.explode('spotlight_idx')\n",
    "d_rep = d_rep[~d_rep['spotlight_idx'].isna()]\n",
    "for k in ['name']:  # , 'flatmap']:\n",
    "    df_spotlights[k] = d_rep[k].values\n",
    "\n",
    "# all_driving_scores = np.concatenate(df['driving_score'].values).flatten()\n",
    "plt.hist(df_spotlights['driving_score'])\n",
    "avg = np.mean(df_spotlights['driving_score'])\n",
    "plt.axvline(avg, color='black')\n",
    "# annotate with mean\n",
    "plt.text(avg + 0.01, 10, f'mean={avg:.2f}', color='black')\n",
    "plt.xlabel('GEM-V driving score ($\\sigma$)')\n",
    "plt.ylabel('Spotlight count')\n",
    "plt.title(subject)\n",
    "# plt.axvline(np.mean(all_driving_scores), color='red')\n",
    "df_spotlights.to_pickle(f'spotlights_driving_scores_{subject}.pkl')"
   ]
  },
  {
   "cell_type": "code",
   "execution_count": 12,
   "metadata": {},
   "outputs": [],
   "source": [
    "df_spotlights_S02 = pd.read_pickle('spotlights_driving_scores_S02.pkl')\n",
    "df_spotlights_S03 = pd.read_pickle('spotlights_driving_scores_S03.pkl')\n",
    "rois_dict_spotlights_S02 = load_custom_rois(\n",
    "    'S02', suffix_setting='_spotlights')\n",
    "rois_dict_spotlights_S03 = load_custom_rois(\n",
    "    'S03', suffix_setting='_spotlights')\n",
    "\n",
    "# threshold by driving_score\n",
    "thresh = 0.05\n",
    "df_spotlights_S02 = df_spotlights_S02[df_spotlights_S02['driving_score'] > thresh]\n",
    "df_spotlights_S03 = df_spotlights_S03[df_spotlights_S03['driving_score'] > thresh]\n",
    "\n",
    "# visualize\n",
    "names_unique = set(df_spotlights_S02['name'].unique()).intersection(\n",
    "    df_spotlights_S03['name'].unique())\n",
    "names_unique = list(names_unique)"
   ]
  },
  {
   "cell_type": "code",
   "execution_count": null,
   "metadata": {},
   "outputs": [],
   "source": [
    "for name in tqdm(names_unique):\n",
    "    spotlights_idx_S02 = df_spotlights_S02[df_spotlights_S02['name']\n",
    "                                           == name]['spotlight_idx'].values.tolist()\n",
    "    spotlights = [\n",
    "        rois_dict_spotlights_S02[f'spot{spotlight_idx}'] for spotlight_idx in spotlights_idx_S02]\n",
    "    spotlight_sum_S02 = np.sum(spotlights, axis=0)\n",
    "\n",
    "    # scores\n",
    "    flatmap = gemv_flatmaps_dict_S02[(name, None)]\n",
    "    spotlights_scores_S02 = np.zeros_like(spotlight_sum_S02)\n",
    "    spotlights_scores_S02[spotlight_sum_S02 >\n",
    "                          0] = flatmap[spotlight_sum_S02 > 0]\n",
    "\n",
    "    spotlights_idx_S03 = df_spotlights_S03[df_spotlights_S03['name']\n",
    "                                           == name]['spotlight_idx'].values.tolist()\n",
    "    spotlights = [rois_dict_spotlights_S03[f'spot{spotlight_idx}']\n",
    "                  for spotlight_idx in spotlights_idx_S03]\n",
    "    spotlight_sum_S03 = np.sum(spotlights, axis=0)\n",
    "\n",
    "    # scores\n",
    "    flatmap = gemv_flatmaps_dict_S03[(name, None)]\n",
    "    spotlights_scores_S03 = np.zeros_like(spotlight_sum_S03)\n",
    "    spotlights_scores_S03[spotlight_sum_S03 >\n",
    "                          0] = flatmap[spotlight_sum_S03 > 0]\n",
    "\n",
    "    sasc.viz._save_flatmap(\n",
    "        spotlights_scores_S02, 'S02', fname_save=f'rois_spotlights/{name}_scores_S02.png')\n",
    "    sasc.viz._save_flatmap(\n",
    "        spotlights_scores_S03, 'S03', fname_save=f'rois_spotlights/{name}_scores_S03.png')"
   ]
  },
  {
   "cell_type": "code",
   "execution_count": null,
   "metadata": {},
   "outputs": [],
   "source": [
    "for suff in ['', '_scores']:\n",
    "    # read all plots and save as subplots on the same page\n",
    "    for subject in ['S02', 'S03']:\n",
    "        n = len(names_unique)\n",
    "        C = 4\n",
    "        R = int(ceil(n/C))\n",
    "        fig, axs = plt.subplots(R, C, figsize=(C * 3.25, R * 2))\n",
    "        axs = axs.ravel()\n",
    "        for i in range(n):\n",
    "            name = names_unique[i]\n",
    "            axs[i].imshow(Image.open(\n",
    "                f'rois_spotlights/{name}{suff}_{subject}.png'))\n",
    "            axs[i].axis('off')\n",
    "            axs[i].set_title(f'{name}', fontsize='small')\n",
    "        plt.savefig(f'rois_spotlights/all_{subject}{suff}.png')"
   ]
  },
  {
   "cell_type": "code",
   "execution_count": null,
   "metadata": {},
   "outputs": [],
   "source": []
  },
  {
   "cell_type": "code",
   "execution_count": null,
   "metadata": {},
   "outputs": [],
   "source": []
  }
 ],
 "metadata": {
  "kernelspec": {
   "display_name": ".env",
   "language": "python",
   "name": "python3"
  },
  "language_info": {
   "codemirror_mode": {
    "name": "ipython",
    "version": 3
   },
   "file_extension": ".py",
   "mimetype": "text/x-python",
   "name": "python",
   "nbconvert_exporter": "python",
   "pygments_lexer": "ipython3",
   "version": "3.11.11"
  },
  "orig_nbformat": 4
 },
 "nbformat": 4,
 "nbformat_minor": 2
}
