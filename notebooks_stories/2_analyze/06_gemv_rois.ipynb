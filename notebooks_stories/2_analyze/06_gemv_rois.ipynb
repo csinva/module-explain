{
 "cells": [
  {
   "cell_type": "code",
   "execution_count": null,
   "metadata": {},
   "outputs": [],
   "source": [
    "%load_ext autoreload\n",
    "%autoreload 2\n",
    "import sys\n",
    "import pandas as pd\n",
    "import os\n",
    "import matplotlib.pyplot as plt\n",
    "import cortex\n",
    "import seaborn as sns\n",
    "from os.path import join\n",
    "from collections import defaultdict\n",
    "import numpy as np\n",
    "from sklearn.preprocessing import StandardScaler\n",
    "import joblib\n",
    "import dvu\n",
    "from copy import deepcopy\n",
    "import sys\n",
    "from numpy import ceil\n",
    "sys.path.append('../notebooks')\n",
    "from tqdm import tqdm\n",
    "from sasc.config import FMRI_DIR, STORIES_DIR, RESULTS_DIR, CACHE_DIR, RESULTS_DIR, cache_ngrams_dir, regions_idxs_dir\n",
    "from neuro.config import repo_dir, PROCESSED_DIR\n",
    "from neuro.features.qa_questions import get_questions, get_merged_questions_v3_boostexamples\n",
    "import sasc.viz\n",
    "from PIL import Image\n",
    "from sasc import config\n",
    "from flatmaps_helper import VOX_COUNTS, load_custom_rois, load_known_rois, ROI_EXPLANATIONS_S03, FED_DRIVING_EXPLANATIONS_S03, FED_DRIVING_EXPLANATIONS_S02\n",
    "from neuro.flatmaps_helper import load_flatmaps\n",
    "\n",
    "\n",
    "# main load\n",
    "normalize_flatmaps = False\n",
    "# gemv_flatmaps_dict_S02, gemv_flatmaps_dict_S03 = load_flatmaps(\n",
    "    # normalize_flatmaps)\n",
    "gemv_flatmaps_dict_S02, gemv_flatmaps_dict_S03, gemv_flatmaps_dict_S02_timecourse, gemv_flatmaps_dict_S03_timecourse = load_flatmaps(\n",
    "    normalize_flatmaps, load_timecourse=True)"
   ]
  },
  {
   "cell_type": "markdown",
   "metadata": {},
   "source": [
    "### Select avg-response flatmaps"
   ]
  },
  {
   "cell_type": "code",
   "execution_count": null,
   "metadata": {},
   "outputs": [],
   "source": [
    "# select\n",
    "avg_defaultdict = defaultdict(list)\n",
    "\n",
    "for subject in ['S02', 'S03']:\n",
    "    if subject == 'S03':\n",
    "        gemv_flatmaps_dict = gemv_flatmaps_dict_S03\n",
    "    elif subject == 'S02':\n",
    "        gemv_flatmaps_dict = gemv_flatmaps_dict_S02\n",
    "    common_keys = list(set(gemv_flatmaps_dict_S02.keys()).intersection(\n",
    "        set(gemv_flatmaps_dict_S03.keys())))\n",
    "    gemv_flatmaps_dict = {k: v for k,\n",
    "                          v in gemv_flatmaps_dict.items() if k in common_keys}\n",
    "    # gemv_flatmaps_dict = {k: v for k, v in gemv_flatmaps_dict.items(\n",
    "    # ) if not k[0] in ROI_EXPLANATIONS_S03.values() and not k[0] in ['START', 'END']}\n",
    "\n",
    "    ##################################################\n",
    "    # rois_dict is a dictionary with keys as region names and np arrays of voxel masks as values\n",
    "\n",
    "    # rois_dict_known = load_known_rois(subject)\n",
    "    # rois_dict_comm = load_custom_rois(subject, suffix_setting='')\n",
    "    rois_dict_fedorenko = load_custom_rois(\n",
    "        subject, suffix_setting='_fedorenko')\n",
    "    # rois_dict_spotlights = load_custom_rois(subject, suffix_setting='_spotlights')\n",
    "    # | rois_dict_spotlights\n",
    "    # rois_dict = rois_dict_comm | rois_dict_fedorenko  # | rois_dict_known\n",
    "    # rois_dict = rois_dict_comm\n",
    "    rois_dict = rois_dict_fedorenko\n",
    "\n",
    "    ##################################################\n",
    "    # compute means\n",
    "    # avg_defaultdict = defaultdict(list)\n",
    "    for roi_idx, roi in rois_dict.items():\n",
    "        for explanation in gemv_flatmaps_dict.keys():\n",
    "            avg_defaultdict[roi_idx + ' ' + subject].append(\n",
    "                np.mean(gemv_flatmaps_dict[explanation][roi > 0]))\n",
    "            # corrs_defaultdict[roi_idx].append(\n",
    "            # np.corrcoef(roi, gemv_flatmaps_dict[explanation])[0, 1])"
   ]
  },
  {
   "cell_type": "code",
   "execution_count": null,
   "metadata": {},
   "outputs": [],
   "source": [
    "df = pd.DataFrame(avg_defaultdict, index=gemv_flatmaps_dict.keys())\n",
    "# df = df.loc[common_keys]\n",
    "df['AVG'] = df.mean(axis=1)\n",
    "\n",
    "# remove 2nd val of index\n",
    "df.index = [x[0] for x in df.index]\n",
    "\n",
    "df = df.round(3).sort_values('AVG', ascending=False)\n",
    "# display pandas formatting with redblue colormap centered at 0 rounded to 3 decimal places\n",
    "vabs = max(abs(df.values.min()), abs(df.values.max()))\n",
    "df.style.background_gradient(cmap='coolwarm', axis=None, vmax=vabs, vmin=-vabs).format(\"{:.3f}\").set_caption(\n",
    "    'Average GEM-V driving response averaged over ROI'\n",
    ")"
   ]
  },
  {
   "cell_type": "code",
   "execution_count": null,
   "metadata": {},
   "outputs": [],
   "source": [
    "plt.figure(figsize=(15, 10))\n",
    "# add label to cbar\n",
    "sns.heatmap(df, annot=True, fmt='.3f', cmap='coolwarm', center=0, vmin=-vabs, vmax=vabs,\n",
    "            annot_kws={\"size\": 10}, cbar_kws={\"label\": \"Average GEM-V driving response\"}, linewidths=.5)\n",
    "plt.tight_layout()\n",
    "plt.savefig('fed_drive_full.pdf')"
   ]
  },
  {
   "cell_type": "code",
   "execution_count": null,
   "metadata": {},
   "outputs": [],
   "source": [
    "for subject in ['S03', 'S02']:\n",
    "    if subject == 'S03':\n",
    "        FED_DRIVING_EXPLANATIONS = FED_DRIVING_EXPLANATIONS_S03\n",
    "    elif subject == 'S02':\n",
    "        FED_DRIVING_EXPLANATIONS = FED_DRIVING_EXPLANATIONS_S02\n",
    "    cols = [f'Lang-{i} {subject}' for i in range(4)]\n",
    "    df_3 = df.loc[FED_DRIVING_EXPLANATIONS.values()][cols].rename(columns={\n",
    "        k: k.replace(f' {subject}', '') for k in cols\n",
    "    })\n",
    "    plt.figure(figsize=(10, 6))\n",
    "    # make fontsizes small\n",
    "    sns.heatmap(df_3, annot=True, fmt='.3f', cmap='coolwarm', center=0, vmin=-vabs, vmax=vabs,\n",
    "                cbar_kws={\"label\": \"Average GEM-V driving response\"}, linewidths=.5)\n",
    "    dvu.outline_diagonal(df_3.values.shape, roffset=0.5,\n",
    "                         coffset=0.5, color='black', lw=2)\n",
    "    plt.tight_layout()\n",
    "    plt.savefig(f'fed_drive_{subject}.pdf', bbox_inches='tight')"
   ]
  },
  {
   "cell_type": "code",
   "execution_count": null,
   "metadata": {},
   "outputs": [],
   "source": [
    "# sasc.viz._save_flatmap(\n",
    "#     gemv_flatmaps_dict[('relationships between people', 'qa')], subject, fname_save=f'gemv_flatmaps/relationships_{subject}.png')"
   ]
  },
  {
   "cell_type": "markdown",
   "metadata": {},
   "source": [
    "# Show flatmaps across subjects"
   ]
  },
  {
   "cell_type": "code",
   "execution_count": null,
   "metadata": {},
   "outputs": [],
   "source": [
    "S02_flatmaps_dir = join(RESULTS_DIR, 'processed',\n",
    "                        'flatmaps_all', 'UTS02', 'roi')\n",
    "S03_flatmaps_dir = join(RESULTS_DIR, 'processed',\n",
    "                        'flatmaps_all', 'UTS03', 'roi')"
   ]
  },
  {
   "cell_type": "code",
   "execution_count": null,
   "metadata": {},
   "outputs": [],
   "source": [
    "# read a list of pngs and save them as a grid\n",
    "for COMPARISONS in [\n",
    "    ['Years', 'Time', 'Numbers', 'Measurements'],\n",
    "    ['Relationships', 'Dialogue', 'Introspection'],\n",
    "    ['Gruesome', 'Fear', 'Positive Emotional', 'Negative Emotional'],\n",
    "    ['Clothing', 'Color'],\n",
    "    ['Sexual', 'Secretive', 'Recognition', 'Professions']\n",
    "]:\n",
    "\n",
    "    pngs = defaultdict(list)\n",
    "    for s in COMPARISONS:\n",
    "        pngs['S02'] += [join(S02_flatmaps_dir, f)\n",
    "                        for f in os.listdir(S02_flatmaps_dir) if f.endswith('.png') and s in f]\n",
    "        pngs['S03'] += [join(S03_flatmaps_dir, f)\n",
    "                        for f in os.listdir(S03_flatmaps_dir) if f.endswith('.png') and s in f]\n",
    "\n",
    "    # plot as grid\n",
    "    fig, axes = plt.subplots(\n",
    "        2, len(COMPARISONS), figsize=(len(COMPARISONS) * 5, 6))\n",
    "    for i, ax in enumerate(axes.flatten()):\n",
    "        # ax.axis('off')\n",
    "        # Remove all x-axis ticks and labels\n",
    "        ax.xaxis.set_ticks([])\n",
    "        ax.xaxis.set_ticklabels([])\n",
    "        ax.xaxis.label.set_visible(False)\n",
    "\n",
    "        # Remove all y-axis ticks and labels (but keep the y-axis label)\n",
    "        ax.yaxis.set_ticks([])\n",
    "        ax.yaxis.set_ticklabels([])\n",
    "\n",
    "        for spine in ax.spines.values():\n",
    "            spine.set_visible(False)\n",
    "\n",
    "    for i in range(len(COMPARISONS)):\n",
    "        axes[0, i].imshow(plt.imread(pngs['S02'][i]))\n",
    "        axes[0, i].set_title(COMPARISONS[i])\n",
    "        axes[1, i].imshow(plt.imread(pngs['S03'][i]))\n",
    "        axes[0, 0].set_ylabel('S02')\n",
    "        axes[1, 0].set_ylabel('S03')\n",
    "\n",
    "    # add\n",
    "    plt.savefig('__'.join(COMPARISONS) + '.png', bbox_inches='tight', dpi=300)\n",
    "    plt.show()"
   ]
  }
 ],
 "metadata": {
  "kernelspec": {
   "display_name": ".env",
   "language": "python",
   "name": "python3"
  },
  "language_info": {
   "codemirror_mode": {
    "name": "ipython",
    "version": 3
   },
   "file_extension": ".py",
   "mimetype": "text/x-python",
   "name": "python",
   "nbconvert_exporter": "python",
   "pygments_lexer": "ipython3",
   "version": "3.11.11"
  },
  "orig_nbformat": 4
 },
 "nbformat": 4,
 "nbformat_minor": 2
}
