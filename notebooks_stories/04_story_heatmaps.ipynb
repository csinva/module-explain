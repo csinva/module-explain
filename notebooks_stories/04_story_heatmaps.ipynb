{
 "cells": [
  {
   "cell_type": "code",
   "execution_count": null,
   "metadata": {},
   "outputs": [],
   "source": [
    "%load_ext autoreload\n",
    "%autoreload 2\n",
    "import os\n",
    "import matplotlib.pyplot as plt\n",
    "import seaborn as sns\n",
    "from os.path import join\n",
    "from tqdm import tqdm\n",
    "import pandas as pd\n",
    "import sys\n",
    "from IPython.display import display, HTML\n",
    "from typing import List\n",
    "import numpy as np\n",
    "import matplotlib\n",
    "import imodelsx.util\n",
    "from copy import deepcopy\n",
    "import re\n",
    "import sasc.notebook_helper\n",
    "import sasc.viz\n",
    "import scipy.special\n",
    "from collections import defaultdict\n",
    "from pprint import pprint\n",
    "import joblib\n",
    "import viz\n",
    "from sasc.config import RESULTS_DIR\n",
    "\n",
    "\n",
    "# EXPT_NAME = 'relationships_mar9'\n",
    "# EXPT_NAME = 'huth2016clusters_mar21_i_time_traveled'\n",
    "# EXPT_NAME = 'voxels_mar21_hands_arms_emergency'\n",
    "# EXPT_DIR = join(RESULTS_DIR, 'stories', EXPT_NAME)\n",
    "\n",
    "\n",
    "\n",
    "# EXPT_DIRS = [join(RESULTS_DIR, 'stories', f'uts02_concepts_pilot_mar22_seed={seed}')\n",
    "            #  for seed in range(1, 8)]\n",
    "EXPT_DIRS = [join(RESULTS_DIR, 'stories', f'uts02_concepts_pilot_selected_mar24_seed={seed}')\n",
    "             for seed in range(1, 4)]\n",
    "rows = joblib.load(join(EXPT_DIR, f'rows.pkl'))\n",
    "expls = rows.expl.values\n",
    "paragraphs = rows.paragraph.values\n",
    "prompts = rows.prompt.values\n",
    "# voxel_nums = rows.module_num.values\n",
    "# subjects = rows.subject.values"
   ]
  },
  {
   "attachments": {},
   "cell_type": "markdown",
   "metadata": {},
   "source": [
    "### Heatmaps"
   ]
  },
  {
   "attachments": {},
   "cell_type": "markdown",
   "metadata": {},
   "source": [
    "**Explanation** <> Story Heatmap"
   ]
  },
  {
   "cell_type": "code",
   "execution_count": null,
   "metadata": {},
   "outputs": [],
   "source": [
    "for EXPT_DIR in EXPT_DIRS:\n",
    "    scores_data = joblib.load(join(EXPT_DIR, f'scores_data.pkl'))\n",
    "    s = scores_data['scores_mean'].T\n",
    "    # s = scipy.special.softmax(s, axis=1)\n",
    "    # s = (s - s.min()) / (s.max() - s.min())\n",
    "    rows = joblib.load(join(EXPT_DIR, f'rows.pkl'))\n",
    "    expls = rows.expl.values\n",
    "    mprompt.viz.heatmap(s, expls, ylab='Story', xlab='Explanation')\n",
    "    # plt.savefig(join(RESULTS_DIR, 'stories', f'{EXPT_NAME}_story_data_match.png'), dpi=300)\n",
    "    # plt.savefig(join(RESULTS_DIR, 'stories', f'{EXPT_NAME}_story_data_match.pdf'), bbox_inches='tight')\n",
    "    # plt.tight_layout()\n",
    "    # plt.show()\n",
    "viz.save_figs_to_single_pdf('../results/expl_story_match.pdf')"
   ]
  },
  {
   "attachments": {},
   "cell_type": "markdown",
   "metadata": {},
   "source": [
    "**Module** <> Story Heatmap"
   ]
  },
  {
   "cell_type": "code",
   "execution_count": null,
   "metadata": {},
   "outputs": [],
   "source": [
    "for EXPT_DIR in EXPT_DIRS:\n",
    "    # keys: scores_mod, scores_max_mod, all_scores, all_ngrams\n",
    "    # ngram_lengths = [10, 50, 100, 384]\n",
    "    ngram_lengths = [0]\n",
    "    for ngram_length in ngram_lengths:\n",
    "        scores_mod_dict = joblib.load(join(EXPT_DIR, f'scores_mod_ngram_length={ngram_length}.pkl'))\n",
    "        rows = joblib.load(join(EXPT_DIR, f'rows.pkl'))\n",
    "        expls = rows.expl.values\n",
    "\n",
    "        s = scores_mod_dict['scores_mean'].T\n",
    "        s = scipy.special.softmax(s, axis=0)\n",
    "        # s = (s - s.min()) / (s.max() - s.min())\n",
    "        mprompt.viz.heatmap(s, expls, ylab='Story', xlab='Module (fit to fMRI voxel)', clab='Mean module response')\n",
    "\n",
    "        n = s.shape[0]\n",
    "        # plt.plot([0, n], [0, n], '--', color='gray', alpha=0.1)\n",
    "        plt.title(f'Model window: {ngram_length} words', fontsize='small')\n",
    "        plt.savefig(join(EXPT_DIR, f'mod_story_match_ngram_length={ngram_length}.png'), dpi=300)\n",
    "        plt.savefig(join(EXPT_DIR, f'mod_story_match_ngram_length={ngram_length}.png'), bbox_inches='tight')\n",
    "        # plt.show()\n",
    "viz.save_figs_to_single_pdf('../results/expl_mod_match.pdf')"
   ]
  },
  {
   "attachments": {},
   "cell_type": "markdown",
   "metadata": {},
   "source": [
    "### Best voxels automated"
   ]
  },
  {
   "cell_type": "code",
   "execution_count": null,
   "metadata": {},
   "outputs": [],
   "source": [
    "vox_diffs = defaultdict(list)\n",
    "for EXPT_DIR in EXPT_DIRS:\n",
    "    ngram_length = 0\n",
    "    scores_mod_dict = joblib.load(join(EXPT_DIR, f'scores_mod_ngram_length={ngram_length}.pkl'))\n",
    "    rows = joblib.load(join(EXPT_DIR, f'rows.pkl'))\n",
    "    expls = rows.expl.values\n",
    "\n",
    "\n",
    "    s = scores_mod_dict['scores_mean'].T\n",
    "    s = scipy.special.softmax(s, axis=0)\n",
    "\n",
    "    BLOCK_SIZE = 4\n",
    "    for i in range(0, rows.shape[0]):\n",
    "        row = rows.iloc[i]\n",
    "        s_row = s[i]\n",
    "        block_idxs = range((i // BLOCK_SIZE) * BLOCK_SIZE, (i // BLOCK_SIZE + 1) * BLOCK_SIZE)\n",
    "        diff = s_row[i] - np.mean([s_row[j] for j in range(s_row.shape[0]) if j not in block_idxs])\n",
    "        vox_diffs[(row.module_num, row.expl)].append(diff)\n",
    "vox_diffs = {k: np.mean(v) for k, v in vox_diffs.items()}"
   ]
  },
  {
   "cell_type": "code",
   "execution_count": null,
   "metadata": {},
   "outputs": [],
   "source": [
    "# display all rows\n",
    "with pd.option_context('display.max_rows', None, 'display.max_columns', None):\n",
    "    display(pd.DataFrame(vox_diffs.items()).sort_values(1, ascending=False).head(30))"
   ]
  }
 ],
 "metadata": {
  "kernelspec": {
   "display_name": ".llm",
   "language": "python",
   "name": "python3"
  },
  "language_info": {
   "codemirror_mode": {
    "name": "ipython",
    "version": 3
   },
   "file_extension": ".py",
   "mimetype": "text/x-python",
   "name": "python",
   "nbconvert_exporter": "python",
   "pygments_lexer": "ipython3",
   "version": "3.9.16"
  },
  "orig_nbformat": 4,
  "vscode": {
   "interpreter": {
    "hash": "a9ff692d44ea03fd8a03facee7621117bbbb82def09bacaacf0a2cbc238b7b91"
   }
  }
 },
 "nbformat": 4,
 "nbformat_minor": 2
}
