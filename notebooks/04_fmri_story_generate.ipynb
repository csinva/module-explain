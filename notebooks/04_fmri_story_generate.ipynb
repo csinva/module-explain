{
 "cells": [
  {
   "cell_type": "code",
   "execution_count": null,
   "metadata": {},
   "outputs": [],
   "source": [
    "%load_ext autoreload\n",
    "%autoreload 2\n",
    "import os\n",
    "import matplotlib.pyplot as plt\n",
    "import seaborn as sns\n",
    "from os.path import join\n",
    "from tqdm import tqdm\n",
    "import pandas as pd\n",
    "import sys\n",
    "from IPython.display import display, HTML\n",
    "from typing import List\n",
    "from mprompt.modules.emb_diff_module import EmbDiffModule\n",
    "import numpy as np\n",
    "import matplotlib\n",
    "import imodelsx.util\n",
    "from copy import deepcopy\n",
    "import re\n",
    "import notebook_helper\n",
    "import mprompt.viz\n",
    "import scipy.special\n",
    "from spacy.tokenizer import Tokenizer\n",
    "from spacy.lang.en import English\n",
    "from mprompt.methods.m4_evaluate import D5_Validator\n",
    "import openai\n",
    "from mprompt.modules.fmri_module import fMRIModule\n",
    "from pprint import pprint\n",
    "import joblib\n",
    "import viz\n",
    "from mprompt.config import RESULTS_DIR\n",
    "import torch.cuda\n",
    "import json\n",
    "openai.api_key_path = os.path.expanduser('~/.OPENAI_KEY')\n",
    "\n",
    "\n",
    "huth2016_categories = json.load(open('huth2016clusters.json', 'r'))\n",
    "r = (pd.read_pickle('../results/results_fmri.pkl')\n",
    "    .sort_values(by=['top_score_synthetic'], ascending=False))\n",
    "r['id'] = \"('\" + r['top_explanation_init_strs'].str.replace(' ', '_').str.slice(stop=20) + \"', '\" + r['subject'] + \"', \" + r['module_num'].astype(str) + \")\""
   ]
  },
  {
   "cell_type": "code",
   "execution_count": null,
   "metadata": {},
   "outputs": [],
   "source": [
    "huth2016_categories"
   ]
  },
  {
   "cell_type": "markdown",
   "metadata": {},
   "source": [
    "### Select voxels"
   ]
  },
  {
   "cell_type": "code",
   "execution_count": null,
   "metadata": {},
   "outputs": [],
   "source": [
    "# manually pick some voxels\n",
    "with pd.option_context('display.max_rows', None, 'display.max_colwidth', 200):\n",
    "    display(r.sort_values(by=['top_score_synthetic'], ascending=False)[\n",
    "        ['top_explanation_init_strs', 'subject', 'module_num', 'top_score_synthetic', 'frac_top_ngrams_module_correct', 'id', 'top_ngrams_module_correct']\n",
    "    ].round(3).reset_index(drop=True).head(50))\n",
    "\n",
    "\n",
    "# expls = ['baseball','animals','water','movement','religion','time','technology']\n",
    "# interesting_expls = ['food', 'numbers', 'physical contact', 'time', 'laughter', 'age', 'clothing']\n",
    "# voxels = [('movement', 'UTS01',\t7), ('numbers', 'UTS03', 55), ('time', 'UTS03', 19), ('relationships', 'UTS01', 21),\n",
    "        #   ('sounds', 'UTS03', 35), ('emotion', 'UTS03', 23), ('food', 'UTS03', 46)]\n",
    "# voxels = [('numbers', 'UTS03', 55), ('time', 'UTS03', 19),\n",
    "        #   ('sounds', 'UTS03', 35), ('emotion', 'UTS03', 23), ('food', 'UTS03', 46)]\n",
    "# voxels = [('movement', 'UTS01',\t7),('relationships', 'UTS01', 21) ('passing of time\tUTS02\t4)]\n",
    "EXPT_NAME = 'relationships_mar9'\n",
    "voxels = [('relationships', 'UTS02', 9), ('time', 'UTS02', 4), ('looking or staring', 'UTS03', 57), ('food and drinks', 'UTS01', 52), ('hands and arms', 'UTS01', 46)]"
   ]
  },
  {
   "cell_type": "code",
   "execution_count": null,
   "metadata": {},
   "outputs": [],
   "source": [
    "# put all voxel data into rows DataFrame\n",
    "rows = []\n",
    "expls = []\n",
    "for vox in voxels:\n",
    "    expl, subj, vox_num = vox\n",
    "    try:\n",
    "        rows.append(r[(r.subject == subj) & (r.module_num == vox_num)].iloc[0])\n",
    "        expls.append(expl)\n",
    "    except:\n",
    "        print('skipping', vox)\n",
    "rows = pd.DataFrame(rows)\n",
    "rows['expl'] = expls\n",
    "\n",
    "with pd.option_context('display.max_rows', None, 'display.max_columns', None, 'display.max_colwidth', 200):\n",
    "    display(rows[['subject', 'module_num', 'expl', 'top_explanation_init_strs', 'top_ngrams_module_correct']])"
   ]
  },
  {
   "attachments": {},
   "cell_type": "markdown",
   "metadata": {},
   "source": [
    "### Generate story"
   ]
  },
  {
   "cell_type": "code",
   "execution_count": null,
   "metadata": {},
   "outputs": [],
   "source": [
    "version = 'v2'\n",
    "prompts = notebook_helper.get_prompts(rows, version)\n",
    "for p in prompts:\n",
    "    print(p)\n",
    "PV = notebook_helper.get_prompt_templates(version)"
   ]
  },
  {
   "cell_type": "code",
   "execution_count": null,
   "metadata": {},
   "outputs": [],
   "source": [
    "paragraphs = mprompt.llm.get_paragraphs(prompts, prefix_first=PV['prefix_first'], prefix_next=PV['prefix_next'])\n",
    "rows['prompt'] = prompts\n",
    "rows['paragraph'] = paragraphs\n",
    "for para in paragraphs:\n",
    "    pprint(para)"
   ]
  },
  {
   "cell_type": "code",
   "execution_count": null,
   "metadata": {},
   "outputs": [],
   "source": [
    "STORIES_DIR = join(RESULTS_DIR, 'stories')\n",
    "os.makedirs(STORIES_DIR, exist_ok=True)\n",
    "joblib.dump(rows, join(STORIES_DIR, f'{EXPT_NAME}_rows.pkl'))"
   ]
  },
  {
   "cell_type": "code",
   "execution_count": null,
   "metadata": {},
   "outputs": [],
   "source": [
    "stories = '''\n",
    "temporal: travel minute leave date clock hours week rumbling next schedule months month immediately heading waited weeks weekend arrive seconds starting destination hour minutes twice parking trip halfway nights pm promptly\n",
    "abstract: natural roots delicate exaggerated diverse gentle stronger atmosphere flesh soothing qualities muscular distorted describe strong powerful artificial deeper ecology stem pure sound spreading deep particularly intricate subtle masses expressive weak focus environment influenced hip creating intense sensation folk surroundings\n",
    "professional: meetings owner worker office rented year business meet home decided visit staying paid bank students house members visiting meeting private staff school estate classroom college apartment hotel attend\n",
    "visual: yellow fur silver badge garment large gold suit steel colour variety brown uniform cap clothing leather breeches coloured colored skull cotton wig bone wears fielder ribbons skin green stockings black seal breast glove stripes striped feathers jackets colors shafts white wide medium color style blazer shaped cloth tan\n",
    "violent: lethal instantly breath kill bat painful pause repeat tongue stab trigger sentence breathe die accidentally poison accidental swallow explode bullet reaction kills hit swallowed repeatedly loses\n",
    "tactile: fingers blade metallic fog melt slow vertical dome edges waves drifting absorb barrel inches flowing thin swirling smooth pinch diameter tops sliding thick gravity breeze depth drops lightly blades hits slowly surface thinner sheets heavier portable pressing needle solid cut thicker soft slight finger melting meters cloudy slowed lighter flow faster layers screens lighting inch clouds slower reach shapes stream layer upwards\n",
    "communal: schools male community church young society interests bred banker family respected american culture catholic adopted whose teaching african among educated founded children public youth politician protect reputation sons wealthy\n",
    "mental: asleep knew memories overwhelmed awake anxious uneasy studying moments hadn't learning sadness talked experiences sounded confess senses calm fascinating thoughts answered emptiness reading wake dreaming listening tense hearing experience awe reply exploring replies quiet solitude comforting wished explore happened realised discuss\n",
    "numeric: four quarter pairs set pound pair five maximum extra half drop card pounds cent overhead deck floors three two per stock each top tie shillings purse ten twenty double sold intervals tables smaller six\n",
    "emotional: alive nature innocent despised disgrace religion spiritual believes troubled emotion illness influence truth tortured compassion fear deeply speak perceived anger embrace religious emotions weakness human feelings harsh vile profoundly openly remark profound evil admiration believing peaceful christian convinced hatred man's cruel fearful betrayed\n",
    "social: child son situation pleaded marriage parents arrest daughter victim husband informed charges charged suicide relatives sheriff widow accused met arrested confronted eldest father custody robbery pregnant murder mother guilty confessed calls wife court whom stolen refused married murderer murdered convicted\n",
    "locational: stadium visitors halls company shops golf scenery architecture rooms gardens athletic lounge spacious space evenings building houses art landscape fields sporting shopping arts purchased annual national center stores pools campus facilities sports activities design uniforms clubhouse teams local\n",
    "'''\n",
    "words = stories.split()\n",
    "top_ngrams_dict = {}\n",
    "start = 1\n",
    "for i in range(len(words)):\n",
    "    if words[i].endswith(':'):\n",
    "        if i > 1:\n",
    "            end = i\n",
    "            top_ngrams_dict[k] = words[start: end]\n",
    "        k = words[i][:-1]\n",
    "        start = i + 1\n",
    "end = i + 1\n",
    "top_ngrams_dict[k] = words[start: end]\n",
    "        "
   ]
  },
  {
   "cell_type": "code",
   "execution_count": null,
   "metadata": {},
   "outputs": [],
   "source": []
  },
  {
   "cell_type": "code",
   "execution_count": null,
   "metadata": {},
   "outputs": [],
   "source": []
  }
 ],
 "metadata": {
  "kernelspec": {
   "display_name": ".llm",
   "language": "python",
   "name": "python3"
  },
  "language_info": {
   "codemirror_mode": {
    "name": "ipython",
    "version": 3
   },
   "file_extension": ".py",
   "mimetype": "text/x-python",
   "name": "python",
   "nbconvert_exporter": "python",
   "pygments_lexer": "ipython3",
   "version": "3.9.16"
  },
  "orig_nbformat": 4,
  "vscode": {
   "interpreter": {
    "hash": "a9ff692d44ea03fd8a03facee7621117bbbb82def09bacaacf0a2cbc238b7b91"
   }
  }
 },
 "nbformat": 4,
 "nbformat_minor": 2
}
