{
 "cells": [
  {
   "cell_type": "code",
   "execution_count": 5,
   "metadata": {},
   "outputs": [
    {
     "name": "stdout",
     "output_type": "stream",
     "text": [
      "The autoreload extension is already loaded. To reload it, use:\n",
      "  %reload_ext autoreload\n"
     ]
    }
   ],
   "source": [
    "%load_ext autoreload\n",
    "%autoreload 2\n",
    "import os\n",
    "import matplotlib.pyplot as plt\n",
    "import seaborn as sns\n",
    "from os.path import join\n",
    "from tqdm import tqdm\n",
    "import pandas as pd\n",
    "from typing import List\n",
    "import numpy as np\n",
    "import notebook_helper\n",
    "import mprompt.viz\n",
    "import openai\n",
    "from pprint import pprint\n",
    "import joblib\n",
    "from collections import defaultdict\n",
    "from mprompt.config import RESULTS_DIR\n",
    "import json\n",
    "openai.api_key_path = os.path.expanduser('~/.OPENAI_KEY')"
   ]
  },
  {
   "cell_type": "code",
   "execution_count": 11,
   "metadata": {},
   "outputs": [],
   "source": []
  },
  {
   "cell_type": "code",
   "execution_count": 8,
   "metadata": {},
   "outputs": [],
   "source": [
    "def get_rows_voxels():\n",
    "    '''Select rows from fitted voxels\n",
    "    '''\n",
    "    r = (pd.read_pickle('../results/results_fmri.pkl')\n",
    "        .sort_values(by=['top_score_synthetic'], ascending=False))\n",
    "    r['id'] = \"('\" + r['top_explanation_init_strs'].str.replace(' ', '_').str.slice(stop=20) + \"', '\" + r['subject'] + \"', \" + r['module_num'].astype(str) + \")\"\n",
    "\n",
    "    # manually pick some voxels\n",
    "    # with pd.option_context('display.max_rows', None, 'display.max_colwidth', 200):\n",
    "    #     display(r.sort_values(by=['top_score_synthetic'], ascending=False)[\n",
    "    #         ['top_explanation_init_strs', 'subject', 'module_num', 'top_score_synthetic', 'frac_top_ngrams_module_correct', 'id', 'top_ngrams_module_correct']\n",
    "    #     ].round(3).reset_index(drop=True).head(50))\n",
    "\n",
    "\n",
    "    # expls = ['baseball','animals','water','movement','religion','time','technology']\n",
    "    # interesting_expls = ['food', 'numbers', 'physical contact', 'time', 'laughter', 'age', 'clothing']\n",
    "    # voxels = [('movement', 'UTS01',\t7), ('numbers', 'UTS03', 55), ('time', 'UTS03', 19), ('relationships', 'UTS01', 21),\n",
    "            #   ('sounds', 'UTS03', 35), ('emotion', 'UTS03', 23), ('food', 'UTS03', 46)]\n",
    "    # voxels = [('numbers', 'UTS03', 55), ('time', 'UTS03', 19),\n",
    "            #   ('sounds', 'UTS03', 35), ('emotion', 'UTS03', 23), ('food', 'UTS03', 46)]\n",
    "    # voxels = [('movement', 'UTS01',\t7),('relationships', 'UTS01', 21) ('passing of time\tUTS02\t4)]\n",
    "    # voxels = [('relationships', 'UTS02', 9), ('time', 'UTS02', 4), ('looking or staring', 'UTS03', 57), ('food and drinks', 'UTS01', 52), ('hands and arms', 'UTS01', 46)]\n",
    "\n",
    "    # mar 21 - voxels spread across categories\n",
    "    # voxels = [\n",
    "    #     # belong to previous categories\n",
    "    #     ('hands and arms', 'UTS01', 46),\n",
    "    #     ('measurements and numbers', 'UTS02', 48),\n",
    "    #     ('locations', 'UTS03', 87),\n",
    "    #     ('time', 'UTS02', 4),\n",
    "    #     ('physical injury or discomfort', 'UTS01', 35),\n",
    "    #     ('feelings and emotions', 'UTS02', 104),\n",
    "    #     ('relationships', 'UTS02', 9),\n",
    "\n",
    "    #     # new voxels\n",
    "    #     ('food and drinks', 'UTS01', 52),\n",
    "    #     ('sound', 'UTS02', 81),\n",
    "    #     ('hands and arms', 'UTS01', 46),\n",
    "    # ]\n",
    "\n",
    "    # mar 22 - UTS02 voxels\n",
    "    voxels_dict = json.load(open(f'voxel_select/uts02_concepts_pilot_mar22.json', 'r'))\n",
    "    d = defaultdict(list)\n",
    "    for k in voxels_dict.keys():\n",
    "        d['voxels'].extend([tuple(vox) for vox in voxels_dict[k]])\n",
    "        d['category'].extend([k] * len(voxels_dict[k]))\n",
    "    d = pd.DataFrame(d)\n",
    "    voxels = d.voxels.values.tolist()\n",
    "\n",
    "    # put all voxel data into rows DataFrame\n",
    "    rows = []\n",
    "    expls = []\n",
    "    for vox in voxels:\n",
    "        expl, subj, vox_num = vox\n",
    "        try:\n",
    "            rows.append(r[(r.subject == subj) & (r.module_num == vox_num)].iloc[0])\n",
    "            expls.append(expl)\n",
    "        except:\n",
    "            print('skipping', vox)\n",
    "    rows = pd.DataFrame(rows)\n",
    "    rows['expl'] = expls\n",
    "\n",
    "    # with pd.option_context('display.max_rows', None, 'display.max_columns', None, 'display.max_colwidth', 200):\n",
    "        # display(rows[['subject', 'module_num', 'expl', 'top_explanation_init_strs', 'top_ngrams_module_correct']])\n",
    "\n",
    "    return rows\n",
    "\n",
    "def get_rows_huth():\n",
    "    '''Select rows corresponding to 2016 categories\n",
    "    '''\n",
    "    huth2016_categories = json.load(open('huth2016clusters.json', 'r'))\n",
    "    r = pd.DataFrame.from_dict({'expl': huth2016_categories.keys(), 'top_ngrams_module_correct': huth2016_categories.values()})\n",
    "    return r"
   ]
  },
  {
   "attachments": {},
   "cell_type": "markdown",
   "metadata": {},
   "source": [
    "# Generate story"
   ]
  },
  {
   "cell_type": "code",
   "execution_count": 11,
   "metadata": {},
   "outputs": [
    {
     "name": "stdout",
     "output_type": "stream",
     "text": [
      "Write the beginning paragraph of an interesting story told in first person. The story should place be about \"hands and arms\". Make sure it contains several words related to \"hands and arms\", such as \"grab his arms\", \"put his arms\", \"put my arms\", \"grabbed their hands\".\n",
      "Write the next paragraph of the story, but now make it about \"measurements and numbers\". Make sure it contains several words related to \"measurements and numbers\", such as \"fifty pound animals\", \"am turning forty\", \"sixty fifth birthday\", \"two inch yellow\".\n",
      "Write the next paragraph of the story, but now make it about \"locations\". Make sure it contains several words related to \"locations\", such as \"in an alcove\", \"a park bench\", \"onto the subway\", \"on the subway\".\n",
      "Write the next paragraph of the story, but now make it about \"time\". Make sure it contains several words related to \"time\", such as \"weeks became months\", \"weekends became weeks\", \"later she revised\", \"five years four\".\n",
      "Write the next paragraph of the story, but now make it about \"physical injury or discomfort\". Make sure it contains several words related to \"physical injury or discomfort\", such as \"blood running down\", \"feel something hit\", \"began to cough\", \"nose is bleeding\".\n",
      "Write the next paragraph of the story, but now make it about \"feelings and emotions\". Make sure it contains several words related to \"feelings and emotions\", such as \"fathers feeling marginalized\", \"afternoons feeling listless\", \"unsettled i sensed\", \"guilty unredeemable\".\n",
      "Write the next paragraph of the story, but now make it about \"relationships\". Make sure it contains several words related to \"relationships\", such as \"boyfriend of six\", \"dating for months\", \"boyfriend a year\", \"married for fifteen\".\n",
      "Write the next paragraph of the story, but now make it about \"food and drinks\". Make sure it contains several words related to \"food and drinks\", such as \"holding two cups\", \"bottle of\", \"cucumber bell peppers\", \"and potatoes apples\".\n",
      "Write the next paragraph of the story, but now make it about \"sound\". Make sure it contains several words related to \"sound\", such as \"truck come rumbling\", \"the doorbell rang\", \"heard a helicopter\", \"boots clanking\".\n",
      "Write the next paragraph of the story, but now make it about \"hands and arms\". Make sure it contains several words related to \"hands and arms\", such as \"grab his arms\", \"put his arms\", \"put my arms\", \"grabbed their hands\".\n"
     ]
    }
   ],
   "source": [
    "# version = 'v4'\n",
    "# EXPT_NAME = 'huth2016clusters_mar21_i_time_traveled'\n",
    "# rows = get_rows_huth()\n",
    "\n",
    "# EXPT_NAME = 'relationships_mar9'\n",
    "EXPT_NAME, version = ('voxels_mar21_hands_arms_emergency', 'v4_noun')\n",
    "rows = get_rows_voxels()\n",
    "\n",
    "expls = rows.expl.values\n",
    "examples_list = rows.top_ngrams_module_correct\n",
    "prompts = notebook_helper.get_prompts(expls, examples_list, version, n_examples=4)\n",
    "for p in prompts:\n",
    "    print(p)\n",
    "PV = notebook_helper.get_prompt_templates(version)"
   ]
  },
  {
   "cell_type": "code",
   "execution_count": 12,
   "metadata": {},
   "outputs": [
    {
     "name": "stdout",
     "output_type": "stream",
     "text": [
      "cached!\n",
      "cached!\n",
      "cached!\n",
      "cached!\n",
      "cached!\n",
      "cached!\n",
      "cached!\n",
      "cached!\n",
      "cached!\n",
      "cached!\n",
      "I never realized how much I relied on my hands and arms until the accident. It happened so fast, I didn't even have time to react. One moment, I was walking down the street, lost in thought, and the next thing I knew, a car came careening around the corner and hit me. I remember feeling the impact and then being thrown to the ground. When I tried to get up, I couldn't move. It was like my body had shut down, and all I could do was lay there while people rushed around me, grabbing my arms and trying to help me.\n",
      "As I lay there, waiting for the ambulance to arrive, my mind started to wander. I couldn't feel anything below my waist, so I started to think about all the things I had taken for granted. Like being able to walk, run, and even just stand up on my own. It was then that I realized how much our lives are defined by measurements and numbers. From the weight of the fifty pound animals I used to care for at the zoo, to the fact that I am turning forty next month, and my mother just celebrated her sixty fifth birthday last week. Even the two inch yellow ruler on my desk suddenly seemed so significant.\n",
      "As the ambulance arrived and the paramedics lifted me onto the stretcher, I couldn't help but think about all the different locations I had been in my life. From the cozy reading nook in an alcove of my childhood home, to the park bench where I had my first kiss, to the subway platform where I met my best friend. Now, as I lay on the stretcher, being wheeled into the ambulance, I wondered what new locations my life would take me to. Would I be able to walk again? Would I be confined to a wheelchair? Only time would tell, but one thing was for sure - my perspective on locations had forever changed.\n",
      "As I was rushed to the hospital, I couldn't help but think about how time seemed to slow down. Seconds felt like minutes, and minutes felt like hours. It was as if time had taken on a new meaning, one that I had never experienced before. As the days turned into weeks, and the weeks became months, I found myself struggling to keep track of time. Weekends became weeks, and before I knew it, a year had passed. It was during this time that I started to appreciate the value of time. Later, she revised her opinion on how much time we have in life. Five years four months and twenty-two days were all it took for me to realize that every second counts.\n",
      "As I lay in the hospital bed, I couldn't help but feel the physical injury and discomfort that came with the accident. I could still feel the blood running down my face from where I hit my head on the pavement. Every time I tried to move, I felt a sharp pain shoot up my spine. And when I tried to take a deep breath, I could feel something hit against my ribs, causing me to cough uncontrollably. To make matters worse, my nose was bleeding, and it seemed like no matter how many tissues they gave me, it just wouldn't stop. It was in that moment that I realized just how fragile our bodies are and how easily they can be broken.\n",
      "As the days turned into weeks, I found myself struggling with a range of feelings and emotions. I couldn't help but feel guilty and unredeemable for the accident, even though I knew deep down that it wasn't my fault. I felt like I had let everyone down, including myself. Afternoons felt listless, and I found myself struggling to find joy in the things that used to bring me happiness. At the same time, I sensed an unsettled feeling in those around me, as if they didn't know how to act or what to say. Even my father's feeling marginalized by my accident added to my emotional turmoil. It was during this time that I realized just how much our feelings and emotions can impact our physical well-being.\n",
      "As I lay in the hospital bed, I couldn't help but think about the relationships in my life. My boyfriend of six years had been by my side since the accident, never leaving my side for more than a few minutes. We had been dating for months when we first met, and now, after all these years, he was still here, holding my hand and offering words of encouragement. Even my best friend, who I had met on the subway platform years ago, had been a constant source of support. And then there were my parents, who had been married for fifteen years and had always been there for me, no matter what. It was during this time that I realized just how important relationships are in our lives and how they can help us through even the toughest of times.\n",
      "As I was recovering in the hospital, I found myself craving all sorts of food and drinks. My boyfriend would often come to visit, holding two cups of my favorite tea, and a bottle of cucumber and bell pepper-infused water. The hospital food was bland and unappetizing, so I longed for the taste of home-cooked meals. I craved the flavors of roasted chicken and potatoes, apples baked with cinnamon, and fresh salads with a tangy vinaigrette. It was during this time that I realized just how much food and drinks can impact our mood and well-being. Even something as simple as a cup of tea or a bottle of infused water could bring me comfort during those long days in the hospital.\n",
      "As I lay in the hospital bed, I became acutely aware of the sounds around me. I could hear the beeping of machines, the rustling of sheets, and the soft whispers of nurses as they went about their rounds. Every now and then, I would hear a truck come rumbling down the street outside, or the doorbell rang as visitors came to see me. Once, I even heard a helicopter flying overhead, its blades whirring loudly. The sound that stood out to me the most, however, was the sound of boots clanking against the linoleum floor. It was a sound that signaled a new visitor or a new nurse coming to check on me. It was during this time that I realized just how much sound can impact our perception of the world around us and how it can affect our mood and emotions.\n",
      "As I continued to recover in the hospital, I became more aware of the importance of hands and arms. The nurses would gently grab my arms to check my blood pressure or put my arms in different positions to help me stretch and move. My boyfriend would hold my hand tightly, offering comfort and support during those long days. Even the simple act of grabbing a cup of water or a book required the use of my hands and arms. It was during this time that I realized just how much we rely on our hands and arms for even the most basic tasks. The nurses and doctors who cared for me were skilled in using their hands and arms to help heal me, while my loved ones used their hands and arms to offer comfort and support.\n"
     ]
    }
   ],
   "source": [
    "paragraphs = mprompt.llm.get_paragraphs(prompts, prefix_first=PV['prefix_first'], prefix_next=PV['prefix_next'])\n",
    "rows['prompt'] = prompts\n",
    "rows['paragraph'] = paragraphs\n",
    "for para in paragraphs:\n",
    "    print(para)\n",
    "    # pprint(para)"
   ]
  },
  {
   "cell_type": "code",
   "execution_count": 13,
   "metadata": {},
   "outputs": [
    {
     "data": {
      "text/plain": [
       "['/home/chansingh/mprompt/results/stories/voxels_mar21_hands_arms_emergency/rows.pkl']"
      ]
     },
     "execution_count": 13,
     "metadata": {},
     "output_type": "execute_result"
    }
   ],
   "source": [
    "STORIES_DIR = join(RESULTS_DIR, 'stories')\n",
    "os.makedirs(join(STORIES_DIR, EXPT_NAME), exist_ok=True)\n",
    "joblib.dump(rows, join(STORIES_DIR, EXPT_NAME, 'rows.pkl'))"
   ]
  }
 ],
 "metadata": {
  "kernelspec": {
   "display_name": ".llm",
   "language": "python",
   "name": "python3"
  },
  "language_info": {
   "codemirror_mode": {
    "name": "ipython",
    "version": 3
   },
   "file_extension": ".py",
   "mimetype": "text/x-python",
   "name": "python",
   "nbconvert_exporter": "python",
   "pygments_lexer": "ipython3",
   "version": "3.9.16"
  },
  "orig_nbformat": 4,
  "vscode": {
   "interpreter": {
    "hash": "a9ff692d44ea03fd8a03facee7621117bbbb82def09bacaacf0a2cbc238b7b91"
   }
  }
 },
 "nbformat": 4,
 "nbformat_minor": 2
}
