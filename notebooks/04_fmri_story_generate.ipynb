{
 "cells": [
  {
   "cell_type": "code",
   "execution_count": 56,
   "metadata": {},
   "outputs": [
    {
     "name": "stdout",
     "output_type": "stream",
     "text": [
      "The autoreload extension is already loaded. To reload it, use:\n",
      "  %reload_ext autoreload\n"
     ]
    }
   ],
   "source": [
    "%load_ext autoreload\n",
    "%autoreload 2\n",
    "import os\n",
    "import matplotlib.pyplot as plt\n",
    "import seaborn as sns\n",
    "from os.path import join\n",
    "from tqdm import tqdm\n",
    "import pandas as pd\n",
    "import sys\n",
    "from IPython.display import display, HTML\n",
    "from typing import List\n",
    "from mprompt.modules.emb_diff_module import EmbDiffModule\n",
    "import numpy as np\n",
    "import matplotlib\n",
    "import imodelsx.util\n",
    "from copy import deepcopy\n",
    "import re\n",
    "import notebook_helper\n",
    "import mprompt.viz\n",
    "import scipy.special\n",
    "from spacy.tokenizer import Tokenizer\n",
    "from spacy.lang.en import English\n",
    "from mprompt.methods.m4_evaluate import D5_Validator\n",
    "import openai\n",
    "from mprompt.modules.fmri_module import fMRIModule\n",
    "from pprint import pprint\n",
    "import joblib\n",
    "import viz\n",
    "from mprompt.config import RESULTS_DIR\n",
    "import torch.cuda\n",
    "import json\n",
    "openai.api_key_path = os.path.expanduser('~/.OPENAI_KEY')"
   ]
  },
  {
   "cell_type": "markdown",
   "metadata": {},
   "source": [
    "### Option 1 - select rows corresponding to 2016 categories"
   ]
  },
  {
   "cell_type": "code",
   "execution_count": 57,
   "metadata": {},
   "outputs": [],
   "source": [
    "def get_rows_huth():\n",
    "    huth2016_categories = json.load(open('huth2016clusters.json', 'r'))\n",
    "    r = pd.DataFrame.from_dict({'expl': huth2016_categories.keys(), 'top_ngrams_module_correct': huth2016_categories.values()})\n",
    "    rows = r\n",
    "    return rows"
   ]
  },
  {
   "attachments": {},
   "cell_type": "markdown",
   "metadata": {},
   "source": [
    "### Option 2 -- select rows from fitted voxels"
   ]
  },
  {
   "cell_type": "code",
   "execution_count": 58,
   "metadata": {},
   "outputs": [],
   "source": [
    "def get_rows_voxels():\n",
    "    r = (pd.read_pickle('../results/results_fmri.pkl')\n",
    "        .sort_values(by=['top_score_synthetic'], ascending=False))\n",
    "    r['id'] = \"('\" + r['top_explanation_init_strs'].str.replace(' ', '_').str.slice(stop=20) + \"', '\" + r['subject'] + \"', \" + r['module_num'].astype(str) + \")\"\n",
    "\n",
    "    # manually pick some voxels\n",
    "    with pd.option_context('display.max_rows', None, 'display.max_colwidth', 200):\n",
    "        display(r.sort_values(by=['top_score_synthetic'], ascending=False)[\n",
    "            ['top_explanation_init_strs', 'subject', 'module_num', 'top_score_synthetic', 'frac_top_ngrams_module_correct', 'id', 'top_ngrams_module_correct']\n",
    "        ].round(3).reset_index(drop=True).head(50))\n",
    "\n",
    "\n",
    "    # expls = ['baseball','animals','water','movement','religion','time','technology']\n",
    "    # interesting_expls = ['food', 'numbers', 'physical contact', 'time', 'laughter', 'age', 'clothing']\n",
    "    # voxels = [('movement', 'UTS01',\t7), ('numbers', 'UTS03', 55), ('time', 'UTS03', 19), ('relationships', 'UTS01', 21),\n",
    "            #   ('sounds', 'UTS03', 35), ('emotion', 'UTS03', 23), ('food', 'UTS03', 46)]\n",
    "    # voxels = [('numbers', 'UTS03', 55), ('time', 'UTS03', 19),\n",
    "            #   ('sounds', 'UTS03', 35), ('emotion', 'UTS03', 23), ('food', 'UTS03', 46)]\n",
    "    # voxels = [('movement', 'UTS01',\t7),('relationships', 'UTS01', 21) ('passing of time\tUTS02\t4)]\n",
    "    voxels = [('relationships', 'UTS02', 9), ('time', 'UTS02', 4), ('looking or staring', 'UTS03', 57), ('food and drinks', 'UTS01', 52), ('hands and arms', 'UTS01', 46)]\n",
    "\n",
    "    # put all voxel data into rows DataFrame\n",
    "    rows = []\n",
    "    expls = []\n",
    "    for vox in voxels:\n",
    "        expl, subj, vox_num = vox\n",
    "        try:\n",
    "            rows.append(r[(r.subject == subj) & (r.module_num == vox_num)].iloc[0])\n",
    "            expls.append(expl)\n",
    "        except:\n",
    "            print('skipping', vox)\n",
    "    rows = pd.DataFrame(rows)\n",
    "    rows['expl'] = expls\n",
    "\n",
    "    with pd.option_context('display.max_rows', None, 'display.max_columns', None, 'display.max_colwidth', 200):\n",
    "        display(rows[['subject', 'module_num', 'expl', 'top_explanation_init_strs', 'top_ngrams_module_correct']])\n",
    "\n",
    "    return rows"
   ]
  },
  {
   "attachments": {},
   "cell_type": "markdown",
   "metadata": {},
   "source": [
    "# Generate story"
   ]
  },
  {
   "cell_type": "code",
   "execution_count": 62,
   "metadata": {},
   "outputs": [
    {
     "name": "stdout",
     "output_type": "stream",
     "text": [
      "Write the beginning paragraph of an interesting story told in first person. The story should place a heavy focus on temporal words. Make sure it contains several references to temporal words, such as \"travel\", \"minute\", \"leave\", \"date\".\n",
      "Write the next paragraph of the story, but now make it emphasize abstract words. Make sure it contains several references to abstract words, such as \"natural\", \"roots\", \"delicate\", \"exaggerated\".\n",
      "Write the next paragraph of the story, but now make it emphasize professional words. Make sure it contains several references to professional words, such as \"meetings\", \"owner\", \"worker\", \"office\".\n",
      "Write the next paragraph of the story, but now make it emphasize visual words. Make sure it contains several references to visual words, such as \"yellow\", \"fur\", \"silver\", \"badge\".\n",
      "Write the next paragraph of the story, but now make it emphasize violent words. Make sure it contains several references to violent words, such as \"lethal\", \"instantly\", \"breath\", \"kill\".\n",
      "Write the next paragraph of the story, but now make it emphasize tactile words. Make sure it contains several references to tactile words, such as \"fingers\", \"blade\", \"metallic\", \"fog\".\n",
      "Write the next paragraph of the story, but now make it emphasize communal words. Make sure it contains several references to communal words, such as \"schools\", \"male\", \"community\", \"church\".\n",
      "Write the next paragraph of the story, but now make it emphasize mental words. Make sure it contains several references to mental words, such as \"asleep\", \"knew\", \"memories\", \"overwhelmed\".\n",
      "Write the next paragraph of the story, but now make it emphasize numeric words. Make sure it contains several references to numeric words, such as \"four\", \"quarter\", \"pairs\", \"set\".\n",
      "Write the next paragraph of the story, but now make it emphasize emotional words. Make sure it contains several references to emotional words, such as \"alive\", \"nature\", \"innocent\", \"despised\".\n",
      "Write the next paragraph of the story, but now make it emphasize social words. Make sure it contains several references to social words, such as \"child\", \"son\", \"situation\", \"pleaded\".\n",
      "Write the next paragraph of the story, but now make it emphasize locational words. Make sure it contains several references to locational words, such as \"stadium\", \"visitors\", \"halls\", \"company\".\n"
     ]
    }
   ],
   "source": [
    "EXPT_NAME = 'huth2016clusters_mar21_i_time_traveled'\n",
    "version = 'v4'\n",
    "rows = get_rows_huth()\n",
    "\n",
    "# EXPT_NAME = 'relationships_mar9'\n",
    "# rows = get_rows_voxels()\n",
    "\n",
    "expls = rows.expl.values\n",
    "examples_list = rows.top_ngrams_module_correct\n",
    "prompts = notebook_helper.get_prompts(expls, examples_list, version, n_examples=4)\n",
    "for p in prompts:\n",
    "    print(p)\n",
    "PV = notebook_helper.get_prompt_templates(version)"
   ]
  },
  {
   "cell_type": "code",
   "execution_count": 63,
   "metadata": {},
   "outputs": [
    {
     "name": "stdout",
     "output_type": "stream",
     "text": [
      "cached!\n",
      "cached!\n",
      "cached!\n",
      "cached!\n",
      "cached!\n",
      "cached!\n",
      "cached!\n",
      "cached!\n",
      "cached!\n",
      "cached!\n",
      "cached!\n",
      "cached!\n",
      "(\"I've always been fascinated by the concept of time. It's a strange and \"\n",
      " 'elusive thing, always moving forward, never stopping or slowing down. As a '\n",
      " 'child, I would spend hours staring at the clock on my bedroom wall, watching '\n",
      " 'the seconds tick by. As I grew older, my fascination with time only '\n",
      " 'deepened. So when I received an invitation to travel back in time for just '\n",
      " \"one minute, I couldn't resist. The date was set, and as the moment \"\n",
      " 'approached for me to leave my present life behind and step into the past, my '\n",
      " 'heart raced with excitement and anticipation.')\n",
      "(\"As I stepped into the time machine, I couldn't help but feel a sense of \"\n",
      " 'natural curiosity and wonder. The roots of my fascination with time ran '\n",
      " 'deep, and I knew that this delicate moment would be one that I would never '\n",
      " 'forget. The exaggerated stories of time travel that I had heard as a child '\n",
      " 'suddenly seemed more real than ever before. I closed my eyes and took a deep '\n",
      " 'breath, trying to calm my nerves and prepare myself for what was to come.')\n",
      "('As I opened my eyes, I found myself in a completely different time and '\n",
      " 'place. I was standing in the middle of a bustling office, filled with '\n",
      " 'workers typing away at their computers and rushing to meetings. The owner of '\n",
      " 'the company walked by me, nodding curtly as he made his way to his corner '\n",
      " \"office. I couldn't help but feel a sense of awe at the professionalism and \"\n",
      " 'efficiency of this workplace. It was clear that everyone here took their '\n",
      " 'jobs seriously and worked hard to achieve success.')\n",
      "('As I looked around the office, my eyes were drawn to the small details that '\n",
      " 'made it unique. The walls were painted a bright yellow, giving the space a '\n",
      " 'cheerful and welcoming feel. The workers were dressed in sleek silver suits, '\n",
      " 'their badges glinting in the fluorescent light. I noticed a furry brown dog '\n",
      " 'curled up under one of the desks, its soft fur contrasting with the sharp '\n",
      " 'lines of the office furniture. The visual elements of this place were '\n",
      " \"striking and memorable, and I couldn't help but feel grateful for this \"\n",
      " 'opportunity to experience them firsthand.')\n",
      "('Suddenly, the peaceful atmosphere of the office was shattered by a loud '\n",
      " 'bang. I turned to see a man with a lethal-looking gun burst into the room, '\n",
      " 'his eyes wild with rage. The workers screamed and scattered, but he moved '\n",
      " 'quickly and with deadly precision. He fired his weapon, and I watched in '\n",
      " 'horror as one of the workers fell instantly to the ground, gasping for '\n",
      " 'breath. The man continued to shoot, his intent clear: he was here to kill. I '\n",
      " 'felt my heart pounding in my chest as I realized that I was in grave danger.')\n",
      "('I could feel the sweat on my fingers as I backed away from the violent scene '\n",
      " 'unfolding before me. My heart was racing, and I could feel the adrenaline '\n",
      " 'pumping through my veins. As I stumbled backwards, my hand brushed against a '\n",
      " 'sharp blade that had been left on a nearby desk. The metallic tang of blood '\n",
      " 'filled my nostrils, and I could feel the cold metal of the blade against my '\n",
      " 'skin. The room was filled with a thick fog, making it difficult to see what '\n",
      " 'was happening around me. Every tactile sensation seemed heightened in this '\n",
      " 'moment of chaos and danger.')\n",
      "(\"As the chaos continued to unfold, I couldn't help but think about the impact \"\n",
      " 'this violent act would have on the community. Schools would be closed, '\n",
      " 'parents would be afraid to let their children out of their sight. The male '\n",
      " 'workers in the office would be traumatized by what they had witnessed, and '\n",
      " 'their families would suffer as a result. This act of violence would ripple '\n",
      " 'through the community, leaving a lasting impact on everyone it touched. I '\n",
      " 'thought about the role that churches and other communal organizations could '\n",
      " 'play in helping people heal from this tragedy. It was clear that in times '\n",
      " 'like these, we needed to come together as a community to support one another '\n",
      " 'and find a way forward.')\n",
      "('As I tried to process what had just happened, my mind felt like it was in a '\n",
      " 'fog. I knew that I needed to stay alert and aware of my surroundings, but my '\n",
      " 'thoughts kept drifting back to memories of the violence I had just '\n",
      " 'witnessed. I felt overwhelmed by the weight of what had happened, and my '\n",
      " 'mind struggled to make sense of it all. As I tried to stay awake and '\n",
      " \"focused, I couldn't help but wonder how this experience would affect me \"\n",
      " 'mentally in the long run. Would I be able to shake off the trauma of this '\n",
      " 'event, or would it haunt me for years to come?')\n",
      "('Time seemed to move in slow motion as I waited for the police to arrive. It '\n",
      " 'felt like hours had passed, but in reality, it had only been four minutes '\n",
      " 'since the shooter had entered the office. I checked my watch and saw that it '\n",
      " 'was a quarter past three in the afternoon. I counted the pairs of shoes '\n",
      " 'scattered around the room and realized that there were exactly 12 people who '\n",
      " 'had been in the office when the shooting started. The police arrived in a '\n",
      " 'set of three cars, their sirens blaring as they pulled up outside. The '\n",
      " 'numeric details of this event seemed insignificant compared to the violence '\n",
      " 'that had taken place, but they helped me stay grounded and focused as I '\n",
      " 'waited for help to arrive.')\n",
      "('As the police rushed into the office, I felt a wave of relief wash over me. '\n",
      " 'I was alive, and so were the other innocent people who had been caught up in '\n",
      " \"this violent act. I couldn't help but feel grateful for the beauty and \"\n",
      " 'nature of life, even in the midst of such darkness. At the same time, I felt '\n",
      " 'a deep sense of anger and frustration towards the shooter, who had despised '\n",
      " 'life so much that he was willing to take it away from others. The emotional '\n",
      " 'toll of this event would be felt for a long time to come, but I knew that '\n",
      " 'with time and support, we could heal and move forward together.')\n",
      "(\"As the police took control of the situation, I couldn't help but think about \"\n",
      " 'the social implications of this event. What kind of world were we living in, '\n",
      " 'where a child could grow up to become a shooter? What kind of society had we '\n",
      " \"created that allowed this to happen? I thought about the shooter's parents, \"\n",
      " 'and how they must be feeling in this moment. Had they pleaded with their son '\n",
      " 'to seek help before it was too late? Had they tried to intervene in some '\n",
      " 'way? The social factors that had led to this tragedy were complex and '\n",
      " 'multifaceted, and I knew that we needed to work together as a society to '\n",
      " 'address them if we wanted to prevent something like this from happening '\n",
      " 'again.')\n",
      "(\"As I left the scene of the shooting, I couldn't help but feel disoriented \"\n",
      " 'and lost. The familiar halls of the office building now seemed foreign and '\n",
      " 'unfamiliar. I walked outside and saw that we were near a large stadium, '\n",
      " 'where visitors were streaming in for a game. The noise and chaos of the '\n",
      " 'crowd only added to my sense of dislocation. I checked my phone and saw that '\n",
      " 'I had missed several calls from my company, who were worried about my '\n",
      " 'safety. The locational details of this event had been seared into my memory, '\n",
      " 'and I knew that I would never forget the feeling of being lost and alone in '\n",
      " 'a place that should have been familiar.')\n"
     ]
    }
   ],
   "source": [
    "paragraphs = mprompt.llm.get_paragraphs(prompts, prefix_first=PV['prefix_first'], prefix_next=PV['prefix_next'])\n",
    "rows['prompt'] = prompts\n",
    "rows['paragraph'] = paragraphs\n",
    "for para in paragraphs:\n",
    "    pprint(para)"
   ]
  },
  {
   "cell_type": "code",
   "execution_count": 64,
   "metadata": {},
   "outputs": [
    {
     "data": {
      "text/plain": [
       "['/home/chansingh/mprompt/results/stories/huth2016clusters_mar21_i_time_traveled_rows.pkl']"
      ]
     },
     "execution_count": 64,
     "metadata": {},
     "output_type": "execute_result"
    }
   ],
   "source": [
    "STORIES_DIR = join(RESULTS_DIR, 'stories')\n",
    "os.makedirs(STORIES_DIR, exist_ok=True)\n",
    "joblib.dump(rows, join(STORIES_DIR, f'{EXPT_NAME}_rows.pkl'))"
   ]
  }
 ],
 "metadata": {
  "kernelspec": {
   "display_name": ".llm",
   "language": "python",
   "name": "python3"
  },
  "language_info": {
   "codemirror_mode": {
    "name": "ipython",
    "version": 3
   },
   "file_extension": ".py",
   "mimetype": "text/x-python",
   "name": "python",
   "nbconvert_exporter": "python",
   "pygments_lexer": "ipython3",
   "version": "3.9.16"
  },
  "orig_nbformat": 4,
  "vscode": {
   "interpreter": {
    "hash": "a9ff692d44ea03fd8a03facee7621117bbbb82def09bacaacf0a2cbc238b7b91"
   }
  }
 },
 "nbformat": 4,
 "nbformat_minor": 2
}
