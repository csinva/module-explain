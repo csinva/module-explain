{
 "cells": [
  {
   "cell_type": "code",
   "execution_count": null,
   "metadata": {},
   "outputs": [],
   "source": [
    "%load_ext autoreload\n",
    "%autoreload 2\n",
    "import os\n",
    "import matplotlib.pyplot as plt\n",
    "import seaborn as sns\n",
    "from os.path import join\n",
    "from tqdm import tqdm\n",
    "import pandas as pd\n",
    "import sys\n",
    "from IPython.display import display, HTML\n",
    "from typing import List\n",
    "from mprompt.modules.emb_diff_module import EmbDiffModule\n",
    "import numpy as np\n",
    "import matplotlib\n",
    "import imodelsx.util\n",
    "from copy import deepcopy\n",
    "import re\n",
    "import notebook_helper\n",
    "import mprompt.viz\n",
    "import scipy.special\n",
    "from spacy.tokenizer import Tokenizer\n",
    "from spacy.lang.en import English\n",
    "from mprompt.methods.m4_evaluate import D5_Validator\n",
    "import openai\n",
    "from mprompt.modules.fmri_module import fMRIModule\n",
    "from pprint import pprint\n",
    "import joblib\n",
    "import viz\n",
    "from mprompt.config import RESULTS_DIR\n",
    "import torch.cuda\n",
    "\n",
    "\n",
    "EXPT_NAME = 'relationships_mar9'\n",
    "rows = joblib.load(join(RESULTS_DIR, 'stories', f'{EXPT_NAME}_rows.pkl'))\n",
    "expls = rows.expl.values\n",
    "voxel_nums = rows.module_num.values\n",
    "subjects = rows.subject.values\n",
    "paragraphs = rows.paragraph.values\n",
    "prompts = rows.prompt.values\n",
    "\n"
   ]
  },
  {
   "cell_type": "markdown",
   "metadata": {},
   "source": [
    "### Heatmaps"
   ]
  },
  {
   "attachments": {},
   "cell_type": "markdown",
   "metadata": {},
   "source": [
    "**Explanation** <> Story Heatmap"
   ]
  },
  {
   "cell_type": "code",
   "execution_count": null,
   "metadata": {},
   "outputs": [],
   "source": [
    "scores_data = joblib.load(join(RESULTS_DIR, 'stories', f'{EXPT_NAME}_scores_data.pkl'))\n",
    "s = scores_data['scores_mean']\n",
    "# s = scipy.special.softmax(s, axis=1)\n",
    "# s = (s - s.min()) / (s.max() - s.min())\n",
    "mprompt.viz.heatmap(s, expls, ylab='Story', xlab='Explanation')\n",
    "plt.savefig(join(RESULTS_DIR, 'stories', f'{EXPT_NAME}_story_data_match.png'), dpi=300)\n",
    "plt.savefig(join(RESULTS_DIR, 'stories', f'{EXPT_NAME}_story_data_match.pdf'), bbox_inches='tight')"
   ]
  },
  {
   "attachments": {},
   "cell_type": "markdown",
   "metadata": {},
   "source": [
    "**Module** <> Story Heatmap"
   ]
  },
  {
   "cell_type": "code",
   "execution_count": null,
   "metadata": {},
   "outputs": [],
   "source": [
    "# keys: scores_mod, scores_max_mod, all_scores, all_ngrams\n",
    "scores_mod_dict = joblib.load(join(RESULTS_DIR, 'stories', f'{EXPT_NAME}_scores_mod.pkl'))\n",
    "\n",
    "s = scores_mod_dict['scores_mean']\n",
    "s = scipy.special.softmax(s, axis=1)\n",
    "# s = (s - s.min()) / (s.max() - s.min())\n",
    "mprompt.viz.heatmap(s, expls, ylab='Story', xlab='Module (fit to fMRI voxel)', clab='Mean module response')\n",
    "plt.savefig(join(RESULTS_DIR, 'stories', f'{EXPT_NAME}_story_mod_match.png'), dpi=300)\n",
    "plt.savefig(join(RESULTS_DIR, 'stories', f'{EXPT_NAME}_story_mod_match.pdf'), bbox_inches='tight')"
   ]
  },
  {
   "cell_type": "markdown",
   "metadata": {},
   "source": [
    "### Story visualization"
   ]
  },
  {
   "attachments": {},
   "cell_type": "markdown",
   "metadata": {},
   "source": [
    "**Explanation** <> Story match"
   ]
  },
  {
   "cell_type": "code",
   "execution_count": null,
   "metadata": {},
   "outputs": [],
   "source": [
    "s_data = ''\n",
    "scores_data_story = joblib.load(join(RESULTS_DIR, 'stories', f'{EXPT_NAME}_scores_data_story.pkl'))\n",
    "for i in range(len(paragraphs)):\n",
    "    scores_i = np.array(scores_data_story[i])\n",
    "\n",
    "    # normalize to 0-1 range\n",
    "    scores_i = (scores_i - scores_i.min()) / (scores_i.max() - scores_i.min())\n",
    "    # scores_mod_i = scipy.special.softmax(scores_mod_i)\n",
    "    scores_i = mprompt.viz.moving_average(scores_i, n=3)\n",
    "    scores_i = scores_i / 2 + 0.5 # shift to 0.5-1 range\n",
    "    s_data += ' ' + mprompt.viz.colorize(paragraphs[i].split(), scores_i, title=expls[i], subtitle=prompts[i])\n",
    "# display(HTML(s_data))"
   ]
  },
  {
   "attachments": {},
   "cell_type": "markdown",
   "metadata": {},
   "source": [
    "**Module** <> Story Match"
   ]
  },
  {
   "cell_type": "code",
   "execution_count": null,
   "metadata": {},
   "outputs": [],
   "source": [
    "s_mod = ''\n",
    "scores_mod_story = [scores_mod_dict['scores_all'][i][i] for i in range(len(scores_mod_dict['scores_all']))]\n",
    "for i in range(len(paragraphs)):\n",
    "    scores_i = scores_mod_story[i]\n",
    "\n",
    "    # normalize to 0-1 range\n",
    "    scores_i = (scores_i - scores_i.min()) / (scores_i.max() - scores_i.min())\n",
    "    # scores_mod_i = scipy.special.softmax(scores_mod_i)\n",
    "    # scores_i = mprompt.viz.moving_average(scores_i, n=3)\n",
    "    scores_i = scores_i / 2 + 0.5 # shift to 0.5-1 range\n",
    "    s_mod += ' ' + mprompt.viz.colorize(paragraphs[i].split(), scores_i, title=expls[i], subtitle=prompts[i])\n",
    "# display(HTML(s_mod))"
   ]
  },
  {
   "cell_type": "code",
   "execution_count": null,
   "metadata": {},
   "outputs": [],
   "source": [
    "template_style = '''<style type=\"text/css\">\n",
    "#wrap {\n",
    "   width:100%;\n",
    "   margin:0 auto;\n",
    "}\n",
    "#left_col {\n",
    "   float:left;\n",
    "   width:48%;\n",
    "}\n",
    "#right_col {\n",
    "   float:right;\n",
    "   width:48%;\n",
    "}\n",
    "# body {\n",
    "#     background-color:#b0c4de;\n",
    "# }\n",
    "</style>\n",
    "'''\n",
    "\n",
    "template = '''\n",
    "<body>\n",
    "    <div id=\"wrap\">\n",
    "        <div id=\"left_col\">\n",
    "            {col_left}\n",
    "        </div>\n",
    "        <div id=\"right_col\">\n",
    "            {col_right}\n",
    "        </div>\n",
    "    </div>\n",
    "</body>\n",
    "'''"
   ]
  },
  {
   "cell_type": "code",
   "execution_count": null,
   "metadata": {},
   "outputs": [],
   "source": [
    "display(HTML(template_style + template.format(col_left=s_data, col_right=s_mod)), metadata=dict(isolated=True))"
   ]
  }
 ],
 "metadata": {
  "kernelspec": {
   "display_name": ".llm",
   "language": "python",
   "name": "python3"
  },
  "language_info": {
   "codemirror_mode": {
    "name": "ipython",
    "version": 3
   },
   "file_extension": ".py",
   "mimetype": "text/x-python",
   "name": "python",
   "nbconvert_exporter": "python",
   "pygments_lexer": "ipython3",
   "version": "3.9.16"
  },
  "orig_nbformat": 4,
  "vscode": {
   "interpreter": {
    "hash": "a9ff692d44ea03fd8a03facee7621117bbbb82def09bacaacf0a2cbc238b7b91"
   }
  }
 },
 "nbformat": 4,
 "nbformat_minor": 2
}
