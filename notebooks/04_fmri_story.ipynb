{
 "cells": [
  {
   "cell_type": "code",
   "execution_count": null,
   "metadata": {},
   "outputs": [],
   "source": [
    "%load_ext autoreload\n",
    "%autoreload 2\n",
    "import os\n",
    "import matplotlib.pyplot as plt\n",
    "import seaborn as sns\n",
    "from os.path import join\n",
    "from tqdm import tqdm\n",
    "import pandas as pd\n",
    "import sys\n",
    "from IPython.display import display, HTML\n",
    "from typing import List\n",
    "from mprompt.modules.emb_diff_module import EmbDiffModule\n",
    "import numpy as np\n",
    "import matplotlib\n",
    "import imodelsx.util\n",
    "import re\n",
    "import mprompt.viz\n",
    "import scipy.special\n",
    "from spacy.tokenizer import Tokenizer\n",
    "from spacy.lang.en import English\n",
    "from mprompt.methods.m4_evaluate import D5_Validator\n",
    "import openai\n",
    "openai.api_key_path = os.path.expanduser('~/.OPENAI_KEY')\n",
    "\n",
    "def moving_average(a, n=3):\n",
    "    assert n % 2 == 1, 'n should be odd'\n",
    "    diff = n // 2\n",
    "    vals = []\n",
    "    # calculate moving average in a window 2\n",
    "    # (1, 4)\n",
    "    for i in range(diff, len(a) + diff):\n",
    "        l = i - diff\n",
    "        r = i + diff + 1\n",
    "        vals.append(np.mean(a[l: r]))\n",
    "    return np.nan_to_num(vals)\n",
    "nlp = English()\n",
    "nlp.tokenizer = Tokenizer(nlp.vocab, token_match=re.compile(r'\\S+').match) # only split on whitespace"
   ]
  },
  {
   "cell_type": "markdown",
   "metadata": {},
   "source": [
    "# Get prompts"
   ]
  },
  {
   "cell_type": "code",
   "execution_count": null,
   "metadata": {},
   "outputs": [],
   "source": [
    "# expls = ['baseball','animals','water','movement','religion','time','technology']\n",
    "# interesting_expls = ['food', 'numbers', 'physical contact', 'time', 'laughter', 'age', 'clothing']\n",
    "# expls = ['movement', 'numbers', 'time', 'relationships', 'sounds', 'emotion', 'food']\n",
    "expls = ['food', 'emotion', 'relationships', 'sounds', 'time', 'movement', 'numbers']\n",
    "voxels = [('UTS01',\t7), ('UTS03', 55), ('UTS03', 19), ('UTS01', 21), ('UTS03', 35), ('UTS03', 23), ('UTS03', 46)]"
   ]
  },
  {
   "cell_type": "code",
   "execution_count": null,
   "metadata": {},
   "outputs": [],
   "source": [
    "prompt_init = 'Write the beginning paragraph of a story about \"{expl}\". Make sure it contains several references to \"{expl}\".'\n",
    "prompt_continue = 'Write the next paragraph of the story, but now make it about \"{expl}\". Make sure it contains several references to \"{expl}\".'\n",
    "prompts = [prompt_init.format(expl=expls[0])] + [prompt_continue.format(expl=expl) for expl in expls[1:]]\n",
    "for p in prompts:\n",
    "    print(p)"
   ]
  },
  {
   "cell_type": "markdown",
   "metadata": {},
   "source": [
    "# Get paragraphs"
   ]
  },
  {
   "cell_type": "code",
   "execution_count": null,
   "metadata": {},
   "outputs": [],
   "source": [
    "def get_paragraphs(\n",
    "        prompts,\n",
    "        checkpoint='gpt-3.5-turbo',\n",
    "        PROMPT_FIRST_PREFIX='Write the next paragraph of the story, but now make it about',\n",
    "        PROMPT_NEXT_PREFIX='Write the beginning paragraph of a story about'\n",
    "):\n",
    "    # example messages\n",
    "    # [\n",
    "    #   {'role': 'system', 'content': 'You are a helpful assistant.'},\n",
    "    #   {'role': 'user', 'content': 'Write the beginning paragraph of a story about \"baseball\". Make sure it contains several references to \"baseball\".'},\n",
    "    #   {'role': 'assistant', 'content': 'The crack of the bat echoed through the stadium as the ball soared over the outfield fence. The crowd erupted into cheers, their excitement palpable. It was a beautiful day for baseball, with the sun shining down on the field and the smell of freshly cut grass filling the air. The players on the field were focused and determined, each one ready to give their all for their team. Baseball was more than just a game to them; it was a passion, a way of life. And as they took their positions on the field, they knew that anything was possible in this great game of baseball.'},\n",
    "    #   {'role': 'user', 'content': 'Write the next paragraph of the story, but now make it about \"animals\". Make sure it contains several references to \"animals\".'},\n",
    "    # ]\n",
    "\n",
    "    llm = mprompt.llm.get_llm(checkpoint)\n",
    "    response = None\n",
    "    messages = [{\"role\": \"system\", \"content\": \"You are a helpful assistant.\"}]\n",
    "    all_content = []\n",
    "    for i in range(len(prompts)):\n",
    "        messages.append({\"role\": \"user\", \"content\": prompts[i]})\n",
    "        all_content.append(messages[-1])\n",
    "        # for message in messages:\n",
    "            # print(message)\n",
    "        response = llm(messages)\n",
    "\n",
    "        if response is not None:\n",
    "            response_text = response['choices'][0]['message']['content']\n",
    "            messages.append({\"role\": \"assistant\", \"content\": response_text})\n",
    "            all_content.append(messages[-1])\n",
    "\n",
    "        # need to drop beginning of story whenever we approach the tok limit\n",
    "        # gpt-3.5.turbo has a limit of 4096, and it cant generate beyond that\n",
    "        num_tokens = response['usage']['total_tokens']\n",
    "        # print('num_tokens', num_tokens)\n",
    "        if num_tokens >= 3200:\n",
    "            # drop the first (assistant, user) pair in messages\n",
    "            messages = [messages[0]] + messages[3:]\n",
    "\n",
    "            # rewrite the original prompt to now say beginning paragraph rather than next paragraph\n",
    "            messages[1]['content'] = messages[1]['content'].replace(PROMPT_FIRST_PREFIX, PROMPT_NEXT_PREFIX)\n",
    "    \n",
    "    # extract out paragraphs\n",
    "    paragraphs = [d['content'] for d in all_content if d['role'] == 'assistant']\n",
    "    paragraphs\n",
    "    assert len(paragraphs) == len(prompts)\n",
    "    return paragraphs\n",
    "paragraphs = get_paragraphs(prompts)"
   ]
  },
  {
   "cell_type": "code",
   "execution_count": null,
   "metadata": {},
   "outputs": [],
   "source": [
    "for para in paragraphs:\n",
    "    print(para)"
   ]
  },
  {
   "cell_type": "markdown",
   "metadata": {},
   "source": [
    "# Visualize data heatmap"
   ]
  },
  {
   "cell_type": "markdown",
   "metadata": {},
   "source": [
    "### Get embedding dists"
   ]
  },
  {
   "cell_type": "code",
   "execution_count": null,
   "metadata": {},
   "outputs": [],
   "source": [
    "# mod = EmbDiffModule()\n",
    "val = D5_Validator()"
   ]
  },
  {
   "cell_type": "code",
   "execution_count": null,
   "metadata": {},
   "outputs": [],
   "source": [
    "story_running = ''\n",
    "scores = {}\n",
    "for i in range(len(expls)):\n",
    "# for i in range(1):\n",
    "    expl = expls[i].lower()\n",
    "    text = paragraphs[i]\n",
    "    words = text.split()\n",
    "    prompt = prompts[i]\n",
    "\n",
    "    ngrams = imodelsx.util.generate_ngrams_list(text.lower(), ngrams=3, tokenizer_ngrams=nlp.tokenizer)\n",
    "    ngrams = [words[0], words[0] + ' ' + words[1]] + ngrams\n",
    "\n",
    "    # # embdiff-based viz\n",
    "    # mod._init_task(expl)    \n",
    "    # neg_dists = mod(ngrams)\n",
    "    # assert len(ngrams) == len(words) == len(neg_dists)\n",
    "    # # neg_dists = scipy.special.softmax(neg_dists)\n",
    "    # # plt.plot(neg_dists)\n",
    "    # # plt.plot(moving_average(neg_dists, n=5))\n",
    "    # neg_dists = moving_average(neg_dists, n=3)\n",
    "    # neg_dists = (neg_dists - neg_dists.min()) / (neg_dists.max() - neg_dists.min())\n",
    "    # neg_dists = neg_dists / 2 + 0.5 # shift to 0.5-1 range\n",
    "    # s = mprompt.viz.colorize(words, neg_dists, title=expl, subtitle=prompt)\n",
    "\n",
    "    # validator-based viz\n",
    "    probs = np.array(val.validate_w_scores(expl, ngrams))\n",
    "    probs_disp = moving_average(probs, n=3)\n",
    "    probs_disp = probs_disp / 2 + 0.5 # shift to 0.5-1 range\n",
    "    s = mprompt.viz.colorize(words, probs_disp, title=expl, subtitle=prompt)\n",
    "    \n",
    "    # viz\n",
    "    display(HTML(s))\n",
    "    story_running += ' ' + s\n",
    "\n",
    "with open('../results/story_running.html', 'w') as f:\n",
    "    f.write(story_running)"
   ]
  },
  {
   "attachments": {},
   "cell_type": "markdown",
   "metadata": {},
   "source": [
    "# Quantify synthetic data\n",
    "Calculate mean match for each paragraph to each explanation"
   ]
  },
  {
   "cell_type": "code",
   "execution_count": 20,
   "metadata": {},
   "outputs": [
    {
     "name": "stderr",
     "output_type": "stream",
     "text": [
      "100%|██████████| 7/7 [02:15<00:00, 19.36s/it]\n"
     ]
    }
   ],
   "source": [
    "n = len(expls)\n",
    "scores = np.zeros((n, n))\n",
    "for i in tqdm(range(n)):\n",
    "    expl = expls[i]\n",
    "    for j in range(n):\n",
    "        text = paragraphs[j].lower()\n",
    "        words = text.split()\n",
    "\n",
    "        ngrams = imodelsx.util.generate_ngrams_list(text, ngrams=3, tokenizer_ngrams=nlp.tokenizer)\n",
    "        ngrams = [words[0], words[0] + ' ' + words[1]] + ngrams\n",
    "\n",
    "        # validator-based viz\n",
    "        probs = np.array(val.validate_w_scores(expl, ngrams)) > 0.5\n",
    "        scores[i, j] = probs.mean()"
   ]
  },
  {
   "cell_type": "code",
   "execution_count": 21,
   "metadata": {},
   "outputs": [
    {
     "data": {
      "image/png": "[encoded data removed]",
      "text/plain": [
       "<Figure size 600x500 with 2 Axes>"
      ]
     },
     "metadata": {},
     "output_type": "display_data"
    }
   ],
   "source": [
    "s = scores\n",
    "# s = scipy.special.softmax(scores, axis=1)\n",
    "# s = (s - s.min()) / (s.max() - s.min())\n",
    "plt.style.use('dark_background')\n",
    "plt.figure(figsize=(6, 5))\n",
    "plt.imshow(s)\n",
    "plt.xticks(range(n), expls, rotation=90)\n",
    "plt.yticks(range(n), expls)\n",
    "plt.ylabel('Explanation for generation')\n",
    "plt.xlabel('Explanation for matching')\n",
    "plt.colorbar(label='Fraction of matching ngrams')\n",
    "plt.tight_layout()\n",
    "plt.show()"
   ]
  },
  {
   "cell_type": "markdown",
   "metadata": {},
   "source": [
    "# Test modules on the generated stories"
   ]
  },
  {
   "cell_type": "code",
   "execution_count": 24,
   "metadata": {},
   "outputs": [],
   "source": [
    "from mprompt.modules.fmri_module import fMRIModule"
   ]
  },
  {
   "cell_type": "code",
   "execution_count": 27,
   "metadata": {},
   "outputs": [
    {
     "name": "stderr",
     "output_type": "stream",
     "text": [
      "  0%|          | 0/7 [00:00<?, ?it/s]"
     ]
    },
    {
     "data": {
      "application/vnd.jupyter.widget-view+json": {
       "model_id": "b7a61ed3c9744eb78f9e6d017e87114e",
       "version_major": 2,
       "version_minor": 0
      },
      "text/plain": [
       "Loading checkpoint shards:   0%|          | 0/7 [00:00<?, ?it/s]"
      ]
     },
     "metadata": {},
     "output_type": "display_data"
    },
    {
     "name": "stderr",
     "output_type": "stream",
     "text": []
    }
   ],
   "source": [
    "n = len(expls)\n",
    "scores = np.zeros((n, n))\n",
    "for i in tqdm(range(n)):\n",
    "    expl = expls[i]\n",
    "    (subject, voxel_num_best) = voxels[i]\n",
    "    mod = fMRIModule(voxel_num_best=voxel_num_best, subject=subject)\n",
    "    ngrams_list = []\n",
    "    for j in range(n):\n",
    "        text = paragraphs[j].lower()\n",
    "        words = text.split()\n",
    "\n",
    "        ngrams = imodelsx.util.generate_ngrams_list(text, ngrams=3, tokenizer_ngrams=nlp.tokenizer)\n",
    "        ngrams = [words[0], words[0] + ' ' + words[1]] + ngrams\n",
    "        \n",
    "        ngrams_list.append(ngrams)\n",
    "\n",
    "    # all appended in one big list to avoid reloading model\n",
    "    ngram_scores = mod(sum(ngrams_list, []))\n",
    "\n",
    "    # extract out mean score for each\n",
    "    offset = 0\n",
    "    for j in range(n):\n",
    "        ngrams = ngrams_list[j]\n",
    "        n = len(ngrams)\n",
    "        scores[i, j] = ngram_scores[offset: offset+n].mean()\n",
    "        offset += n"
   ]
  },
  {
   "cell_type": "code",
   "execution_count": null,
   "metadata": {},
   "outputs": [],
   "source": [
    "s = scores\n",
    "# s = scipy.special.softmax(scores, axis=1)\n",
    "# s = (s - s.min()) / (s.max() - s.min())\n",
    "plt.style.use('dark_background')\n",
    "plt.figure(figsize=(6, 5))\n",
    "plt.imshow(s)\n",
    "plt.xticks(range(n), expls, rotation=90)\n",
    "plt.yticks(range(n), expls)\n",
    "plt.ylabel('Explanation for generation')\n",
    "plt.xlabel('Explanation of voxel used for evaluation')\n",
    "plt.colorbar(label='Mean voxel response')\n",
    "plt.tight_layout()\n",
    "plt.show()"
   ]
  }
 ],
 "metadata": {
  "kernelspec": {
   "display_name": ".llm",
   "language": "python",
   "name": "python3"
  },
  "language_info": {
   "codemirror_mode": {
    "name": "ipython",
    "version": 3
   },
   "file_extension": ".py",
   "mimetype": "text/x-python",
   "name": "python",
   "nbconvert_exporter": "python",
   "pygments_lexer": "ipython3",
   "version": "3.9.16"
  },
  "orig_nbformat": 4,
  "vscode": {
   "interpreter": {
    "hash": "a9ff692d44ea03fd8a03facee7621117bbbb82def09bacaacf0a2cbc238b7b91"
   }
  }
 },
 "nbformat": 4,
 "nbformat_minor": 2
}
