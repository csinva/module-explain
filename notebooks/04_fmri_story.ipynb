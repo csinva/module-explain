{
 "cells": [
  {
   "cell_type": "code",
   "execution_count": 1,
   "metadata": {},
   "outputs": [],
   "source": [
    "%load_ext autoreload\n",
    "%autoreload 2\n",
    "import os\n",
    "import matplotlib.pyplot as plt\n",
    "import seaborn as sns\n",
    "from os.path import join\n",
    "from tqdm import tqdm\n",
    "import pandas as pd\n",
    "import sys\n",
    "from IPython.display import display, HTML\n",
    "from typing import List\n",
    "from mprompt.modules.emb_diff_module import EmbDiffModule\n",
    "import numpy as np\n",
    "import matplotlib\n",
    "import imodelsx.util\n",
    "from copy import deepcopy\n",
    "import re\n",
    "import mprompt.viz\n",
    "import scipy.special\n",
    "from spacy.tokenizer import Tokenizer\n",
    "from spacy.lang.en import English\n",
    "from mprompt.methods.m4_evaluate import D5_Validator\n",
    "import openai\n",
    "from mprompt.modules.fmri_module import fMRIModule\n",
    "\n",
    "openai.api_key_path = os.path.expanduser('~/.OPENAI_KEY')\n",
    "\n",
    "\n",
    "r = (pd.read_pickle('../results/results_fmri.pkl')\n",
    "    .sort_values(by=['top_score_synthetic'], ascending=False))"
   ]
  },
  {
   "cell_type": "markdown",
   "metadata": {},
   "source": [
    "### Select voxels"
   ]
  },
  {
   "cell_type": "code",
   "execution_count": 2,
   "metadata": {},
   "outputs": [],
   "source": [
    "# expls = ['baseball','animals','water','movement','religion','time','technology']\n",
    "# interesting_expls = ['food', 'numbers', 'physical contact', 'time', 'laughter', 'age', 'clothing']\n",
    "# voxels = [('movement', 'UTS01',\t7), ('numbers', 'UTS03', 55), ('time', 'UTS03', 19), ('relationships', 'UTS01', 21),\n",
    "        #   ('sounds', 'UTS03', 35), ('emotion', 'UTS03', 23), ('food', 'UTS03', 46)]\n",
    "# voxels = [('numbers', 'UTS03', 55), ('time', 'UTS03', 19),\n",
    "        #   ('sounds', 'UTS03', 35), ('emotion', 'UTS03', 23), ('food', 'UTS03', 46)]\n",
    "voxels = [('movement', 'UTS01',\t7),('relationships', 'UTS01', 21)]"
   ]
  },
  {
   "cell_type": "code",
   "execution_count": 3,
   "metadata": {},
   "outputs": [
    {
     "data": {
      "text/html": [
       "<div>\n",
       "<style scoped>\n",
       "    .dataframe tbody tr th:only-of-type {\n",
       "        vertical-align: middle;\n",
       "    }\n",
       "\n",
       "    .dataframe tbody tr th {\n",
       "        vertical-align: top;\n",
       "    }\n",
       "\n",
       "    .dataframe thead th {\n",
       "        text-align: right;\n",
       "    }\n",
       "</style>\n",
       "<table border=\"1\" class=\"dataframe\">\n",
       "  <thead>\n",
       "    <tr style=\"text-align: right;\">\n",
       "      <th></th>\n",
       "      <th>subject</th>\n",
       "      <th>module_num</th>\n",
       "      <th>top_explanation_init_strs</th>\n",
       "      <th>top_ngrams_module_correct</th>\n",
       "    </tr>\n",
       "  </thead>\n",
       "  <tbody>\n",
       "    <tr>\n",
       "      <th>3</th>\n",
       "      <td>UTS01</td>\n",
       "      <td>7</td>\n",
       "      <td>movement or action</td>\n",
       "      <td>[turned and walked, stopped midstride, slowly ...</td>\n",
       "    </tr>\n",
       "    <tr>\n",
       "      <th>1</th>\n",
       "      <td>UTS03</td>\n",
       "      <td>55</td>\n",
       "      <td>numbers</td>\n",
       "      <td>[factor of twenty, hour and twenty, hundred an...</td>\n",
       "    </tr>\n",
       "    <tr>\n",
       "      <th>5</th>\n",
       "      <td>UTS03</td>\n",
       "      <td>19</td>\n",
       "      <td>passing of time</td>\n",
       "      <td>[the days passed, weeks became months, time we...</td>\n",
       "    </tr>\n",
       "    <tr>\n",
       "      <th>2</th>\n",
       "      <td>UTS01</td>\n",
       "      <td>21</td>\n",
       "      <td>relationships</td>\n",
       "      <td>[felt like brothers, us like family, friends c...</td>\n",
       "    </tr>\n",
       "    <tr>\n",
       "      <th>0</th>\n",
       "      <td>UTS03</td>\n",
       "      <td>35</td>\n",
       "      <td>sound or noise</td>\n",
       "      <td>[hear boys laughing, i provoked gasps, she sta...</td>\n",
       "    </tr>\n",
       "    <tr>\n",
       "      <th>4</th>\n",
       "      <td>UTS03</td>\n",
       "      <td>23</td>\n",
       "      <td>emotional reactions</td>\n",
       "      <td>[runs out crying, burst into tears, she starte...</td>\n",
       "    </tr>\n",
       "    <tr>\n",
       "      <th>6</th>\n",
       "      <td>UTS03</td>\n",
       "      <td>46</td>\n",
       "      <td>food items</td>\n",
       "      <td>[cucumber and mayonnaise, some sliced cucumber...</td>\n",
       "    </tr>\n",
       "  </tbody>\n",
       "</table>\n",
       "</div>"
      ],
      "text/plain": [
       "  subject  module_num top_explanation_init_strs  \\\n",
       "3   UTS01           7        movement or action   \n",
       "1   UTS03          55                   numbers   \n",
       "5   UTS03          19           passing of time   \n",
       "2   UTS01          21             relationships   \n",
       "0   UTS03          35            sound or noise   \n",
       "4   UTS03          23       emotional reactions   \n",
       "6   UTS03          46                food items   \n",
       "\n",
       "                           top_ngrams_module_correct  \n",
       "3  [turned and walked, stopped midstride, slowly ...  \n",
       "1  [factor of twenty, hour and twenty, hundred an...  \n",
       "5  [the days passed, weeks became months, time we...  \n",
       "2  [felt like brothers, us like family, friends c...  \n",
       "0  [hear boys laughing, i provoked gasps, she sta...  \n",
       "4  [runs out crying, burst into tears, she starte...  \n",
       "6  [cucumber and mayonnaise, some sliced cucumber...  "
      ]
     },
     "metadata": {},
     "output_type": "display_data"
    }
   ],
   "source": [
    "# display all rows\n",
    "with pd.option_context('display.max_rows', None):\n",
    "    display(r.sort_values(by=['top_score_synthetic'])[['subject', 'module_num', 'top_explanation_init_strs', 'top_ngrams_module_correct']])"
   ]
  },
  {
   "cell_type": "code",
   "execution_count": 4,
   "metadata": {},
   "outputs": [
    {
     "data": {
      "text/html": [
       "<div>\n",
       "<style scoped>\n",
       "    .dataframe tbody tr th:only-of-type {\n",
       "        vertical-align: middle;\n",
       "    }\n",
       "\n",
       "    .dataframe tbody tr th {\n",
       "        vertical-align: top;\n",
       "    }\n",
       "\n",
       "    .dataframe thead th {\n",
       "        text-align: right;\n",
       "    }\n",
       "</style>\n",
       "<table border=\"1\" class=\"dataframe\">\n",
       "  <thead>\n",
       "    <tr style=\"text-align: right;\">\n",
       "      <th></th>\n",
       "      <th>subject</th>\n",
       "      <th>module_num</th>\n",
       "      <th>top_explanation_init_strs</th>\n",
       "      <th>top_ngrams_module_correct</th>\n",
       "    </tr>\n",
       "  </thead>\n",
       "  <tbody>\n",
       "    <tr>\n",
       "      <th>3</th>\n",
       "      <td>UTS01</td>\n",
       "      <td>7</td>\n",
       "      <td>movement or action</td>\n",
       "      <td>[turned and walked, stopped midstride, slowly stand back, i stopped midstride, turned and said, to stop halfway, turn and look, hitch a ride, called her back, and darted back, extended a hand, cut him out, moving in together, wrote them letters, turn around and, and quickly disappeared, his back turned, extended my hands, reached over and, write another letter, embraced me, to look down, darted to safety, calls me later, i moved out, sneak back, i stepped back, darted back, texted me twice, i stood back, called me up, look down and, disappeared from view, run away and, just stood back, cut her off, suddenly he stops, answered my calls, approached me, she shouted back, she turned and, sneak away, skype the unboyfriend, step back and, looks up and]</td>\n",
       "    </tr>\n",
       "    <tr>\n",
       "      <th>2</th>\n",
       "      <td>UTS01</td>\n",
       "      <td>21</td>\n",
       "      <td>relationships</td>\n",
       "      <td>[felt like brothers, us like family, friends come over, know me friends, we were engaged, friends n shit, husband and ask, my boyfriend from, with other women, girlfriend now ex, be our family, just friends, my wife from, friend from home, friends and now, friends and shit, stalemate we kissed, friends come, friends again and, like brothers like, sister and we, asked me out, brother who sometimes, be my husband, girlfriend coming, be just friends, wife random girls, wife but we, sister and now, friends from, husband now we, friends back, me my friends, brother or your, ex girlfriend from, friend through, my fiance of, boyfriend type person, love younger men, friend to me, mom and siblings, sister all, we broke up, were family we, my black friends, friends and lovers, friends seemed like, friends on, family and we, become my friend, friends and mostly, already friends and, husband who was, we became closer, married my brother, marry me until, boyfriend tonight, friend from, sister and both, pals that were, friends were were]</td>\n",
       "    </tr>\n",
       "  </tbody>\n",
       "</table>\n",
       "</div>"
      ],
      "text/plain": [
       "  subject  module_num top_explanation_init_strs  \\\n",
       "3   UTS01           7        movement or action   \n",
       "2   UTS01          21             relationships   \n",
       "\n",
       "                                                                                                                                                                                                                                                                                                                                                                                                                                                                                                                                                                                                                                                                                                                                                                                                                                                                                                                                                                                                                                                         top_ngrams_module_correct  \n",
       "3                                                                                                                                                                                                                                                                                             [turned and walked, stopped midstride, slowly stand back, i stopped midstride, turned and said, to stop halfway, turn and look, hitch a ride, called her back, and darted back, extended a hand, cut him out, moving in together, wrote them letters, turn around and, and quickly disappeared, his back turned, extended my hands, reached over and, write another letter, embraced me, to look down, darted to safety, calls me later, i moved out, sneak back, i stepped back, darted back, texted me twice, i stood back, called me up, look down and, disappeared from view, run away and, just stood back, cut her off, suddenly he stops, answered my calls, approached me, she shouted back, she turned and, sneak away, skype the unboyfriend, step back and, looks up and]  \n",
       "2  [felt like brothers, us like family, friends come over, know me friends, we were engaged, friends n shit, husband and ask, my boyfriend from, with other women, girlfriend now ex, be our family, just friends, my wife from, friend from home, friends and now, friends and shit, stalemate we kissed, friends come, friends again and, like brothers like, sister and we, asked me out, brother who sometimes, be my husband, girlfriend coming, be just friends, wife random girls, wife but we, sister and now, friends from, husband now we, friends back, me my friends, brother or your, ex girlfriend from, friend through, my fiance of, boyfriend type person, love younger men, friend to me, mom and siblings, sister all, we broke up, were family we, my black friends, friends and lovers, friends seemed like, friends on, family and we, become my friend, friends and mostly, already friends and, husband who was, we became closer, married my brother, marry me until, boyfriend tonight, friend from, sister and both, pals that were, friends were were]  "
      ]
     },
     "metadata": {},
     "output_type": "display_data"
    }
   ],
   "source": [
    "# manually check that we got the right voxels\n",
    "rows = []\n",
    "for vox in voxels:\n",
    "    expl, subj, vox_num = vox\n",
    "    rows.append(r[(r.subject == subj) & (r.module_num == vox_num)].iloc[0])\n",
    "rows_check = pd.DataFrame(rows)\n",
    "rows_check['expl'] = [v[0] for v in voxels]\n",
    "\n",
    "with pd.option_context('display.max_rows', None, 'display.max_columns', None, 'display.max_colwidth', None):\n",
    "    display(rows_check[['subject', 'module_num', 'top_explanation_init_strs', 'top_ngrams_module_correct']])"
   ]
  },
  {
   "attachments": {},
   "cell_type": "markdown",
   "metadata": {},
   "source": [
    "# Generate story"
   ]
  },
  {
   "cell_type": "code",
   "execution_count": null,
   "metadata": {},
   "outputs": [],
   "source": [
    "# get a list of prompts\n",
    "expls = [v[0] for v in voxels]\n",
    "def get_prompts_basic(expls):\n",
    "    prompt_init = 'Write the beginning paragraph of a story about \"{expl}\". Make sure it contains several references to \"{expl}\".'\n",
    "    prompt_continue = 'Write the next paragraph of the story, but now make it about \"{expl}\". Make sure it contains several references to \"{expl}\".'\n",
    "    prompts = [prompt_init.format(expl=expls[0])] + [prompt_continue.format(expl=expl) for expl in expls[1:]]\n",
    "    return prompts\n",
    "prompts = get_prompts_basic(expls)\n",
    "for p in prompts:\n",
    "    print(p)"
   ]
  },
  {
   "cell_type": "code",
   "execution_count": null,
   "metadata": {},
   "outputs": [],
   "source": [
    "# generate the paragraphs\n",
    "paragraphs = mprompt.llm.get_paragraphs(prompts)\n",
    "for para in paragraphs:\n",
    "    print(para)"
   ]
  },
  {
   "attachments": {},
   "cell_type": "markdown",
   "metadata": {},
   "source": [
    "# Test synthetic data contains concept"
   ]
  },
  {
   "cell_type": "code",
   "execution_count": null,
   "metadata": {},
   "outputs": [],
   "source": [
    "# mod = EmbDiffModule()\n",
    "val = D5_Validator()"
   ]
  },
  {
   "attachments": {},
   "cell_type": "markdown",
   "metadata": {},
   "source": [
    "### Visualize single story"
   ]
  },
  {
   "cell_type": "code",
   "execution_count": null,
   "metadata": {},
   "outputs": [],
   "source": [
    "story_running = ''\n",
    "scores = {}\n",
    "for i in range(len(expls)):\n",
    "# for i in range(1):\n",
    "    expl = expls[i].lower()\n",
    "    text = paragraphs[i]\n",
    "    words = text.split()\n",
    "    prompt = prompts[i]\n",
    "\n",
    "    ngrams = imodelsx.util.generate_ngrams_list(text.lower(), ngrams=3)\n",
    "    ngrams = [words[0], words[0] + ' ' + words[1]] + ngrams\n",
    "\n",
    "    # # embdiff-based viz\n",
    "    # mod._init_task(expl)    \n",
    "    # neg_dists = mod(ngrams)\n",
    "    # assert len(ngrams) == len(words) == len(neg_dists)\n",
    "    # # neg_dists = scipy.special.softmax(neg_dists)\n",
    "    # # plt.plot(neg_dists)\n",
    "    # # plt.plot(moving_average(neg_dists, n=5))\n",
    "    # neg_dists = moving_average(neg_dists, n=3)\n",
    "    # neg_dists = (neg_dists - neg_dists.min()) / (neg_dists.max() - neg_dists.min())\n",
    "    # neg_dists = neg_dists / 2 + 0.5 # shift to 0.5-1 range\n",
    "    # s = mprompt.viz.colorize(words, neg_dists, title=expl, subtitle=prompt)\n",
    "\n",
    "    # validator-based viz\n",
    "    probs = np.array(val.validate_w_scores(expl, ngrams))\n",
    "    probs_disp = mprompt.viz.moving_average(probs, n=3)\n",
    "    probs_disp = probs_disp / 2 + 0.5 # shift to 0.5-1 range\n",
    "    s = mprompt.viz.colorize(words, probs_disp, title=expl, subtitle=prompt)\n",
    "    \n",
    "    # viz\n",
    "    display(HTML(s))\n",
    "    story_running += ' ' + s\n",
    "\n",
    "with open('../results/story_running.html', 'w') as f:\n",
    "    f.write(story_running)"
   ]
  },
  {
   "attachments": {},
   "cell_type": "markdown",
   "metadata": {},
   "source": [
    "### Heatmap of story <> explanation matches"
   ]
  },
  {
   "cell_type": "code",
   "execution_count": null,
   "metadata": {},
   "outputs": [],
   "source": [
    "n = len(expls)\n",
    "scores = np.zeros((n, n))\n",
    "for i in tqdm(range(n)):\n",
    "    expl = expls[i]\n",
    "    for j in range(n):\n",
    "        text = paragraphs[j].lower()\n",
    "        words = text.split()\n",
    "\n",
    "        ngrams = imodelsx.util.generate_ngrams_list(text, ngrams=3)\n",
    "        ngrams = [words[0], words[0] + ' ' + words[1]] + ngrams\n",
    "\n",
    "        # validator-based viz\n",
    "        probs = np.array(val.validate_w_scores(expl, ngrams)) > 0.5\n",
    "        scores[i, j] = probs.mean()"
   ]
  },
  {
   "cell_type": "code",
   "execution_count": null,
   "metadata": {},
   "outputs": [],
   "source": [
    "s = scores\n",
    "# s = scipy.special.softmax(scores, axis=1)\n",
    "# s = (s - s.min()) / (s.max() - s.min())\n",
    "plt.style.use('dark_background')\n",
    "plt.figure(figsize=(6, 5))\n",
    "plt.imshow(s)\n",
    "plt.xticks(range(n), expls, rotation=90)\n",
    "plt.yticks(range(n), expls)\n",
    "plt.ylabel('Explanation for generation')\n",
    "plt.xlabel('Explanation for matching')\n",
    "plt.colorbar(label='Fraction of matching ngrams')\n",
    "plt.tight_layout()\n",
    "plt.show()"
   ]
  },
  {
   "cell_type": "markdown",
   "metadata": {},
   "source": [
    "# Test modules on the generated stories"
   ]
  },
  {
   "cell_type": "code",
   "execution_count": null,
   "metadata": {},
   "outputs": [],
   "source": [
    "n = len(expls)\n",
    "scores = np.zeros((n, n))\n",
    "scores_max = np.zeros((n, n))\n",
    "all_scores = {}\n",
    "all_ngrams = {}\n",
    "for i in tqdm(range(n)):\n",
    "    # expl = expls[i]\n",
    "    (expl, subject, voxel_num_best) = voxels[i]\n",
    "    mod = fMRIModule(voxel_num_best=voxel_num_best, subject=subject)\n",
    "    ngrams_list = []\n",
    "    ngrams_scores_list = []\n",
    "    for j in range(n):\n",
    "        text = paragraphs[j].lower()\n",
    "        words = text.split()\n",
    "        ngrams_story = imodelsx.util.generate_ngrams_list(text, ngrams=3)\n",
    "        ngrams_story = [words[0], words[0] + ' ' + words[1]] + ngrams_story\n",
    "        ngrams_list.append(ngrams_story)\n",
    "\n",
    "        # get mean score for each story\n",
    "        ngrams_scores_story = mod(ngrams_story)\n",
    "        ngrams_scores_list.append(ngrams_scores_story)\n",
    "        scores[i, j] = ngrams_scores_story.mean()\n",
    "        scores_max[i, j] = ngrams_scores_story.max()\n",
    "    \n",
    "    all_scores[i] = deepcopy(ngrams_scores_list)\n",
    "    all_ngrams[i] = deepcopy(ngrams_list)"
   ]
  },
  {
   "cell_type": "code",
   "execution_count": null,
   "metadata": {},
   "outputs": [],
   "source": [
    "s = scores\n",
    "s = scipy.special.softmax(scores, axis=1)\n",
    "# s = (s - s.min()) / (s.max() - s.min())\n",
    "plt.style.use('dark_background')\n",
    "plt.figure(figsize=(6, 5))\n",
    "plt.imshow(s)\n",
    "plt.xticks(range(n), expls, rotation=90)\n",
    "plt.yticks(range(n), expls)\n",
    "plt.ylabel('Explanation for generation')\n",
    "plt.xlabel('Explanation of voxel used for evaluation')\n",
    "plt.colorbar(label='Mean voxel response')\n",
    "plt.tight_layout()\n",
    "plt.show()"
   ]
  },
  {
   "attachments": {},
   "cell_type": "markdown",
   "metadata": {},
   "source": [
    "### Module responses for single story"
   ]
  },
  {
   "cell_type": "code",
   "execution_count": 5,
   "metadata": {},
   "outputs": [
    {
     "data": {
      "text/plain": [
       "subject                                                                  UTS01\n",
       "module_num                                                                   7\n",
       "top_explanation_init_strs                                   movement or action\n",
       "explanation_init_ngrams      [turned and walked, stopped midstride, slowly ...\n",
       "top_ngrams_module_correct    [turned and walked, stopped midstride, slowly ...\n",
       "Name: 3, dtype: object"
      ]
     },
     "metadata": {},
     "output_type": "display_data"
    }
   ],
   "source": [
    "pd.set_option('display.max_rows', 120)\n",
    "for i in range(1): #len(voxels)):\n",
    "    row = rows_check.iloc[i]\n",
    "    display(row[['subject', 'module_num', 'top_explanation_init_strs', 'explanation_init_ngrams', 'top_ngrams_module_correct']])\n",
    "    mod = fMRIModule(voxel_num_best=row.module_num, subject=row.subject)\n",
    "    # show all rows\n",
    "    # display(\n",
    "    #     pd.DataFrame.from_dict({\n",
    "    #         'score': all_scores[i][i],\n",
    "    #         'ngram': all_ngrams[i][i],\n",
    "    #     }).sort_values('score', ascending=False).head(10)\n",
    "    # )"
   ]
  },
  {
   "cell_type": "code",
   "execution_count": 6,
   "metadata": {},
   "outputs": [],
   "source": [
    "x = row['explanation_init_ngrams']"
   ]
  },
  {
   "cell_type": "code",
   "execution_count": 7,
   "metadata": {},
   "outputs": [
    {
     "data": {
      "application/vnd.jupyter.widget-view+json": {
       "model_id": "04edf493e6704a3d9b6f8d5495771698",
       "version_major": 2,
       "version_minor": 0
      },
      "text/plain": [
       "Loading checkpoint shards:   0%|          | 0/7 [00:00<?, ?it/s]"
      ]
     },
     "metadata": {},
     "output_type": "display_data"
    },
    {
     "name": "stderr",
     "output_type": "stream",
     "text": [
      "100%|██████████| 75/75 [00:10<00:00,  6.83it/s]\n"
     ]
    }
   ],
   "source": [
    "out = mod(x, return_all=True)"
   ]
  },
  {
   "cell_type": "code",
   "execution_count": 8,
   "metadata": {},
   "outputs": [],
   "source": [
    "p = out[:, row.module_num]"
   ]
  },
  {
   "cell_type": "code",
   "execution_count": null,
   "metadata": {},
   "outputs": [],
   "source": [
    "out"
   ]
  }
 ],
 "metadata": {
  "kernelspec": {
   "display_name": ".llm",
   "language": "python",
   "name": "python3"
  },
  "language_info": {
   "codemirror_mode": {
    "name": "ipython",
    "version": 3
   },
   "file_extension": ".py",
   "mimetype": "text/x-python",
   "name": "python",
   "nbconvert_exporter": "python",
   "pygments_lexer": "ipython3",
   "version": "3.9.5"
  },
  "orig_nbformat": 4,
  "vscode": {
   "interpreter": {
    "hash": "a9ff692d44ea03fd8a03facee7621117bbbb82def09bacaacf0a2cbc238b7b91"
   }
  }
 },
 "nbformat": 4,
 "nbformat_minor": 2
}
