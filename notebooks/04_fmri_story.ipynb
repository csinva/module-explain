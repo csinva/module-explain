{
 "cells": [
  {
   "cell_type": "code",
   "execution_count": 10,
   "metadata": {},
   "outputs": [
    {
     "name": "stdout",
     "output_type": "stream",
     "text": [
      "The autoreload extension is already loaded. To reload it, use:\n",
      "  %reload_ext autoreload\n"
     ]
    }
   ],
   "source": [
    "%load_ext autoreload\n",
    "%autoreload 2\n",
    "import os\n",
    "import matplotlib.pyplot as plt\n",
    "import seaborn as sns\n",
    "from os.path import join\n",
    "from tqdm import tqdm\n",
    "import pandas as pd\n",
    "import sys\n",
    "from IPython.display import display, HTML\n",
    "from typing import List\n",
    "from mprompt.modules.emb_diff_module import EmbDiffModule\n",
    "import numpy as np\n",
    "import matplotlib\n",
    "import imodelsx.util\n",
    "from copy import deepcopy\n",
    "import re\n",
    "import notebook_helper\n",
    "import mprompt.viz\n",
    "import scipy.special\n",
    "from spacy.tokenizer import Tokenizer\n",
    "from spacy.lang.en import English\n",
    "from mprompt.methods.m4_evaluate import D5_Validator\n",
    "import openai\n",
    "from mprompt.modules.fmri_module import fMRIModule\n",
    "\n",
    "openai.api_key_path = os.path.expanduser('~/.OPENAI_KEY')\n",
    "\n",
    "\n",
    "r = (pd.read_pickle('../results/results_fmri.pkl')\n",
    "    .sort_values(by=['top_score_synthetic'], ascending=False))\n",
    "r['id'] = \"('\" + r['top_explanation_init_strs'].str.replace(' ', '_').str.slice(stop=20) + \"', '\" + r['subject'] + \"', \" + r['module_num'].astype(str) + \")\""
   ]
  },
  {
   "cell_type": "markdown",
   "metadata": {},
   "source": [
    "### Select voxels"
   ]
  },
  {
   "cell_type": "code",
   "execution_count": null,
   "metadata": {},
   "outputs": [],
   "source": [
    "# # display all rows\n",
    "# with pd.option_context('display.max_rows', None, 'display.max_colwidth', 200):\n",
    "#     display(r.sort_values(by=['top_score_synthetic'], ascending=False)[\n",
    "#         ['top_explanation_init_strs', 'subject', 'module_num', 'top_score_synthetic', 'frac_top_ngrams_module_correct', 'id', 'top_ngrams_module_correct']\n",
    "#     ].round(3).reset_index(drop=True).head(50))"
   ]
  },
  {
   "cell_type": "code",
   "execution_count": 11,
   "metadata": {},
   "outputs": [],
   "source": [
    "# expls = ['baseball','animals','water','movement','religion','time','technology']\n",
    "# interesting_expls = ['food', 'numbers', 'physical contact', 'time', 'laughter', 'age', 'clothing']\n",
    "# voxels = [('movement', 'UTS01',\t7), ('numbers', 'UTS03', 55), ('time', 'UTS03', 19), ('relationships', 'UTS01', 21),\n",
    "        #   ('sounds', 'UTS03', 35), ('emotion', 'UTS03', 23), ('food', 'UTS03', 46)]\n",
    "# voxels = [('numbers', 'UTS03', 55), ('time', 'UTS03', 19),\n",
    "        #   ('sounds', 'UTS03', 35), ('emotion', 'UTS03', 23), ('food', 'UTS03', 46)]\n",
    "# voxels = [('movement', 'UTS01',\t7),('relationships', 'UTS01', 21) ('passing of time\tUTS02\t4)]\n",
    "voxels = [('relationships', 'UTS02', 9), ('time', 'UTS02', 4), ('looking or staring', 'UTS03', 57)]"
   ]
  },
  {
   "cell_type": "code",
   "execution_count": 12,
   "metadata": {},
   "outputs": [
    {
     "data": {
      "text/html": [
       "<div>\n",
       "<style scoped>\n",
       "    .dataframe tbody tr th:only-of-type {\n",
       "        vertical-align: middle;\n",
       "    }\n",
       "\n",
       "    .dataframe tbody tr th {\n",
       "        vertical-align: top;\n",
       "    }\n",
       "\n",
       "    .dataframe thead th {\n",
       "        text-align: right;\n",
       "    }\n",
       "</style>\n",
       "<table border=\"1\" class=\"dataframe\">\n",
       "  <thead>\n",
       "    <tr style=\"text-align: right;\">\n",
       "      <th></th>\n",
       "      <th>subject</th>\n",
       "      <th>module_num</th>\n",
       "      <th>expl</th>\n",
       "      <th>top_explanation_init_strs</th>\n",
       "      <th>top_ngrams_module_correct</th>\n",
       "    </tr>\n",
       "  </thead>\n",
       "  <tbody>\n",
       "    <tr>\n",
       "      <th>62</th>\n",
       "      <td>UTS02</td>\n",
       "      <td>9</td>\n",
       "      <td>relationships</td>\n",
       "      <td>relationships and milestones in life</td>\n",
       "      <td>[boyfriend of six, dating for months, boyfriend a year, married for fifteen, we got engaged, we were engaged, twenty he retired, a divorce twenty, virginity at twenty, am turning forty, daughter i...</td>\n",
       "    </tr>\n",
       "    <tr>\n",
       "      <th>39</th>\n",
       "      <td>UTS02</td>\n",
       "      <td>4</td>\n",
       "      <td>time</td>\n",
       "      <td>passing of time</td>\n",
       "      <td>[weeks became months, weekends became weeks, five years four, the moment passed, twenty minutes thirty, more time passed, replied age thirty, moment passed, later came the, days later diagnosed, m...</td>\n",
       "    </tr>\n",
       "    <tr>\n",
       "      <th>28</th>\n",
       "      <td>UTS03</td>\n",
       "      <td>57</td>\n",
       "      <td>looking or staring</td>\n",
       "      <td>looking or staring in some way</td>\n",
       "      <td>[eyed her suspiciously, at him incredulously, wink at, at me shyly, locks eyes with, staring at me, turned and saw, and mimed crying, incredulously like look, staring right at, point at a, leered ...</td>\n",
       "    </tr>\n",
       "  </tbody>\n",
       "</table>\n",
       "</div>"
      ],
      "text/plain": [
       "   subject  module_num                expl  \\\n",
       "62   UTS02           9       relationships   \n",
       "39   UTS02           4                time   \n",
       "28   UTS03          57  looking or staring   \n",
       "\n",
       "               top_explanation_init_strs  \\\n",
       "62  relationships and milestones in life   \n",
       "39                       passing of time   \n",
       "28        looking or staring in some way   \n",
       "\n",
       "                                                                                                                                                                                  top_ngrams_module_correct  \n",
       "62  [boyfriend of six, dating for months, boyfriend a year, married for fifteen, we got engaged, we were engaged, twenty he retired, a divorce twenty, virginity at twenty, am turning forty, daughter i...  \n",
       "39  [weeks became months, weekends became weeks, five years four, the moment passed, twenty minutes thirty, more time passed, replied age thirty, moment passed, later came the, days later diagnosed, m...  \n",
       "28  [eyed her suspiciously, at him incredulously, wink at, at me shyly, locks eyes with, staring at me, turned and saw, and mimed crying, incredulously like look, staring right at, point at a, leered ...  "
      ]
     },
     "metadata": {},
     "output_type": "display_data"
    }
   ],
   "source": [
    "# convert voxels -> expl (and make sure it's corect)\n",
    "rows = []\n",
    "expls = []\n",
    "for vox in voxels:\n",
    "    expl, subj, vox_num = vox\n",
    "    try:\n",
    "        rows.append(r[(r.subject == subj) & (r.module_num == vox_num)].iloc[0])\n",
    "        expls.append(expl)\n",
    "    except:\n",
    "        print('skipping', vox)\n",
    "rows_check = pd.DataFrame(rows)\n",
    "rows_check['expl'] = expls\n",
    "\n",
    "with pd.option_context('display.max_rows', None, 'display.max_columns', None, 'display.max_colwidth', 200):\n",
    "    display(rows_check[['subject', 'module_num', 'expl', 'top_explanation_init_strs', 'top_ngrams_module_correct']])"
   ]
  },
  {
   "attachments": {},
   "cell_type": "markdown",
   "metadata": {},
   "source": [
    "# Generate story"
   ]
  },
  {
   "cell_type": "code",
   "execution_count": null,
   "metadata": {},
   "outputs": [],
   "source": [
    "VERSION = 'v1'\n",
    "PROMPTS = {\n",
    "    'v0': {\n",
    "        'PROMPT_FIRST_PREFIX': 'Write the beginning paragraph of a story about',\n",
    "        'PROMPT_NEXT_PREFIX': 'Write the next paragraph of the story, but now make it about',\n",
    "        'PROMPT_SUFFIX': ' \"{expl}\". Make sure it contains several references to \"{expl}\".',\n",
    "    },\n",
    "    'v1': {\n",
    "        'PROMPT_FIRST_PREFIX': 'Write the beginning paragraph of a story told in first person. The story should be about',\n",
    "        'PROMPT_NEXT_PREFIX': 'Write the next paragraph of the story, but now make it about',\n",
    "        'PROMPT_SUFFIX': ' \"{expl}\". Make sure it contains several references to \"{expl}\".',\n",
    "    },\n",
    "}\n",
    "PROMPT_FIRST_PREFIX = PROMPTS[VERSION]['PROMPT_FIRST_PREFIX']\n",
    "PROMPT_NEXT_PREFIX = PROMPTS[VERSION]['PROMPT_NEXT_PREFIX']\n",
    "PROMPT_SUFFIX = PROMPTS[VERSION]['PROMPT_SUFFIX']\n",
    "\n",
    "# get a list of prompts\n",
    "expls = [v[0] for v in voxels]\n",
    "def get_prompts_basic(expls):\n",
    "    prompt_init = PROMPT_FIRST_PREFIX + PROMPT_SUFFIX\n",
    "    prompt_continue = PROMPT_NEXT_PREFIX + PROMPT_SUFFIX\n",
    "    prompts = [prompt_init.format(expl=expls[0])] + [prompt_continue.format(expl=expl) for expl in expls[1:]]\n",
    "    return prompts\n",
    "prompts = get_prompts_basic(expls)\n",
    "for p in prompts:\n",
    "    print(p)"
   ]
  },
  {
   "cell_type": "code",
   "execution_count": null,
   "metadata": {},
   "outputs": [],
   "source": [
    "# generate the paragraphs (these prefixes need get replace when the story is getting long)\n",
    "paragraphs = mprompt.llm.get_paragraphs(prompts, PROMPT_FIRST_PREFIX=PROMPT_FIRST_PREFIX, PROMPT_NEXT_PREFIX=PROMPT_NEXT_PREFIX)\n",
    "for para in paragraphs:\n",
    "    print(para)"
   ]
  },
  {
   "attachments": {},
   "cell_type": "markdown",
   "metadata": {},
   "source": [
    "# Test synthetic data contains concept"
   ]
  },
  {
   "cell_type": "code",
   "execution_count": null,
   "metadata": {},
   "outputs": [],
   "source": [
    "val = D5_Validator()"
   ]
  },
  {
   "cell_type": "code",
   "execution_count": null,
   "metadata": {},
   "outputs": [],
   "source": [
    "# visualize single story\n",
    "s = mprompt.viz.visualize_story_html(val, expls, paragraphs, prompts, fname='../results/story_running.html')\n",
    "display(HTML(s))"
   ]
  },
  {
   "cell_type": "code",
   "execution_count": null,
   "metadata": {},
   "outputs": [],
   "source": [
    "# compute scores heatmap\n",
    "scores = notebook_helper.compute_expl_data_match_heatmap(val, expls, paragraphs)"
   ]
  },
  {
   "cell_type": "code",
   "execution_count": null,
   "metadata": {},
   "outputs": [],
   "source": [
    "s = scores\n",
    "# s = scipy.special.softmax(scores, axis=1)\n",
    "# s = (s - s.min()) / (s.max() - s.min())\n",
    "mprompt.viz.heatmap(scores, expls)"
   ]
  },
  {
   "cell_type": "markdown",
   "metadata": {},
   "source": [
    "# Test modules on the generated stories"
   ]
  },
  {
   "cell_type": "code",
   "execution_count": 13,
   "metadata": {},
   "outputs": [
    {
     "name": "stderr",
     "output_type": "stream",
     "text": [
      "  0%|          | 0/3 [00:00<?, ?it/s]"
     ]
    },
    {
     "data": {
      "application/vnd.jupyter.widget-view+json": {
       "model_id": "b96dca7518654b349e64264329dac217",
       "version_major": 2,
       "version_minor": 0
      },
      "text/plain": [
       "Loading checkpoint shards:   0%|          | 0/7 [00:00<?, ?it/s]"
      ]
     },
     "metadata": {},
     "output_type": "display_data"
    },
    {
     "name": "stderr",
     "output_type": "stream",
     "text": [
      "100%|██████████| 97/97 [00:13<00:00,  7.09it/s]\n",
      "100%|██████████| 123/123 [00:14<00:00,  8.60it/s]\n",
      "100%|██████████| 113/113 [00:13<00:00,  8.62it/s]\n",
      " 33%|███▎      | 1/3 [01:21<02:43, 81.97s/it]"
     ]
    },
    {
     "data": {
      "application/vnd.jupyter.widget-view+json": {
       "model_id": "2c3ff04f3a954d55bf49c0ebd799ca85",
       "version_major": 2,
       "version_minor": 0
      },
      "text/plain": [
       "Loading checkpoint shards:   0%|          | 0/7 [00:00<?, ?it/s]"
      ]
     },
     "metadata": {},
     "output_type": "display_data"
    },
    {
     "name": "stderr",
     "output_type": "stream",
     "text": [
      "100%|██████████| 97/97 [00:11<00:00,  8.56it/s]\n",
      "100%|██████████| 123/123 [00:14<00:00,  8.58it/s]\n",
      "100%|██████████| 113/113 [00:13<00:00,  8.58it/s]\n",
      " 67%|██████▋   | 2/3 [02:36<01:17, 77.55s/it]"
     ]
    },
    {
     "data": {
      "application/vnd.jupyter.widget-view+json": {
       "model_id": "7c5d4a79f4044feba04230e95a5168d5",
       "version_major": 2,
       "version_minor": 0
      },
      "text/plain": [
       "Loading checkpoint shards:   0%|          | 0/7 [00:00<?, ?it/s]"
      ]
     },
     "metadata": {},
     "output_type": "display_data"
    },
    {
     "name": "stderr",
     "output_type": "stream",
     "text": [
      "100%|██████████| 97/97 [00:11<00:00,  8.56it/s]\n",
      "100%|██████████| 123/123 [00:14<00:00,  8.58it/s]\n",
      "100%|██████████| 113/113 [00:13<00:00,  8.57it/s]\n",
      "100%|██████████| 3/3 [03:50<00:00, 76.83s/it]\n"
     ]
    }
   ],
   "source": [
    "scores, scores_max, all_scores, all_ngrams = notebook_helper.compute_expl_module_match_heatmap(expls, paragraphs, voxels)"
   ]
  },
  {
   "cell_type": "code",
   "execution_count": 14,
   "metadata": {},
   "outputs": [
    {
     "data": {
      "image/png": "[encoded data removed]",
      "text/plain": [
       "<Figure size 600x500 with 2 Axes>"
      ]
     },
     "metadata": {},
     "output_type": "display_data"
    }
   ],
   "source": [
    "s = scores\n",
    "s = scipy.special.softmax(scores, axis=1)\n",
    "# s = (s - s.min()) / (s.max() - s.min())\n",
    "mprompt.viz.heatmap(scores, expls, xlab='Explanation of voxel used for evaluation', clab='Mean voxel response')"
   ]
  },
  {
   "attachments": {},
   "cell_type": "markdown",
   "metadata": {},
   "source": [
    "### Module responses for single story"
   ]
  },
  {
   "cell_type": "code",
   "execution_count": null,
   "metadata": {},
   "outputs": [],
   "source": [
    "pd.set_option('display.max_rows', 120)\n",
    "for i in range(1): #len(voxels)):\n",
    "    row = rows_check.iloc[i]\n",
    "    display(row[['subject', 'module_num', 'top_explanation_init_strs', 'explanation_init_ngrams', 'top_ngrams_module_correct']])\n",
    "    mod = fMRIModule(voxel_num_best=row.module_num, subject=row.subject)\n",
    "    # show all rows\n",
    "    # display(\n",
    "    #     pd.DataFrame.from_dict({\n",
    "    #         'score': all_scores[i][i],\n",
    "    #         'ngram': all_ngrams[i][i],\n",
    "    #     }).sort_values('score', ascending=False).head(10)\n",
    "    # )"
   ]
  },
  {
   "cell_type": "code",
   "execution_count": null,
   "metadata": {},
   "outputs": [],
   "source": [
    "x = row['explanation_init_ngrams']\n",
    "p = mod(x)\n"
   ]
  },
  {
   "cell_type": "code",
   "execution_count": null,
   "metadata": {},
   "outputs": [],
   "source": [
    "out = mod(x, return_all=True)\n",
    "scores = row['explanation_init_outputs']"
   ]
  },
  {
   "cell_type": "code",
   "execution_count": null,
   "metadata": {},
   "outputs": [],
   "source": [
    "p = out[:, row.module_num]"
   ]
  },
  {
   "cell_type": "code",
   "execution_count": null,
   "metadata": {},
   "outputs": [],
   "source": []
  }
 ],
 "metadata": {
  "kernelspec": {
   "display_name": ".llm",
   "language": "python",
   "name": "python3"
  },
  "language_info": {
   "codemirror_mode": {
    "name": "ipython",
    "version": 3
   },
   "file_extension": ".py",
   "mimetype": "text/x-python",
   "name": "python",
   "nbconvert_exporter": "python",
   "pygments_lexer": "ipython3",
   "version": "3.9.16"
  },
  "orig_nbformat": 4,
  "vscode": {
   "interpreter": {
    "hash": "a9ff692d44ea03fd8a03facee7621117bbbb82def09bacaacf0a2cbc238b7b91"
   }
  }
 },
 "nbformat": 4,
 "nbformat_minor": 2
}
