{
 "cells": [
  {
   "cell_type": "code",
   "execution_count": null,
   "metadata": {},
   "outputs": [],
   "source": [
    "%load_ext autoreload\n",
    "%autoreload 2\n",
    "import os\n",
    "import matplotlib.pyplot as plt\n",
    "import seaborn as sns\n",
    "from os.path import join\n",
    "from tqdm import tqdm\n",
    "import pandas as pd\n",
    "import sys\n",
    "from IPython.display import display, HTML\n",
    "from typing import List\n",
    "from mprompt.modules.emb_diff_module import EmbDiffModule\n",
    "import numpy as np\n",
    "import matplotlib\n",
    "import imodelsx.util\n",
    "from copy import deepcopy\n",
    "import re\n",
    "import notebook_helper\n",
    "import mprompt.viz\n",
    "import scipy.special\n",
    "from spacy.tokenizer import Tokenizer\n",
    "from spacy.lang.en import English\n",
    "from mprompt.methods.m4_evaluate import D5_Validator\n",
    "import openai\n",
    "from mprompt.modules.fmri_module import fMRIModule\n",
    "from pprint import pprint\n",
    "openai.api_key_path = os.path.expanduser('~/.OPENAI_KEY')\n",
    "\n",
    "\n",
    "r = (pd.read_pickle('../results/results_fmri.pkl')\n",
    "    .sort_values(by=['top_score_synthetic'], ascending=False))\n",
    "r['id'] = \"('\" + r['top_explanation_init_strs'].str.replace(' ', '_').str.slice(stop=20) + \"', '\" + r['subject'] + \"', \" + r['module_num'].astype(str) + \")\""
   ]
  },
  {
   "cell_type": "markdown",
   "metadata": {},
   "source": [
    "### Select voxels"
   ]
  },
  {
   "cell_type": "code",
   "execution_count": null,
   "metadata": {},
   "outputs": [],
   "source": [
    "# manually pick some voxels\n",
    "with pd.option_context('display.max_rows', None, 'display.max_colwidth', 200):\n",
    "    display(r.sort_values(by=['top_score_synthetic'], ascending=False)[\n",
    "        ['top_explanation_init_strs', 'subject', 'module_num', 'top_score_synthetic', 'frac_top_ngrams_module_correct', 'id', 'top_ngrams_module_correct']\n",
    "    ].round(3).reset_index(drop=True).head(50))\n",
    "\n",
    "\n",
    "# expls = ['baseball','animals','water','movement','religion','time','technology']\n",
    "# interesting_expls = ['food', 'numbers', 'physical contact', 'time', 'laughter', 'age', 'clothing']\n",
    "# voxels = [('movement', 'UTS01',\t7), ('numbers', 'UTS03', 55), ('time', 'UTS03', 19), ('relationships', 'UTS01', 21),\n",
    "        #   ('sounds', 'UTS03', 35), ('emotion', 'UTS03', 23), ('food', 'UTS03', 46)]\n",
    "# voxels = [('numbers', 'UTS03', 55), ('time', 'UTS03', 19),\n",
    "        #   ('sounds', 'UTS03', 35), ('emotion', 'UTS03', 23), ('food', 'UTS03', 46)]\n",
    "# voxels = [('movement', 'UTS01',\t7),('relationships', 'UTS01', 21) ('passing of time\tUTS02\t4)]\n",
    "voxels = [('relationships', 'UTS02', 9), ('time', 'UTS02', 4), ('looking or staring', 'UTS03', 57)]"
   ]
  },
  {
   "cell_type": "code",
   "execution_count": 7,
   "metadata": {},
   "outputs": [
    {
     "data": {
      "text/html": [
       "<div>\n",
       "<style scoped>\n",
       "    .dataframe tbody tr th:only-of-type {\n",
       "        vertical-align: middle;\n",
       "    }\n",
       "\n",
       "    .dataframe tbody tr th {\n",
       "        vertical-align: top;\n",
       "    }\n",
       "\n",
       "    .dataframe thead th {\n",
       "        text-align: right;\n",
       "    }\n",
       "</style>\n",
       "<table border=\"1\" class=\"dataframe\">\n",
       "  <thead>\n",
       "    <tr style=\"text-align: right;\">\n",
       "      <th></th>\n",
       "      <th>subject</th>\n",
       "      <th>module_num</th>\n",
       "      <th>expl</th>\n",
       "      <th>top_explanation_init_strs</th>\n",
       "      <th>top_ngrams_module_correct</th>\n",
       "    </tr>\n",
       "  </thead>\n",
       "  <tbody>\n",
       "    <tr>\n",
       "      <th>80</th>\n",
       "      <td>UTS02</td>\n",
       "      <td>9</td>\n",
       "      <td>relationships</td>\n",
       "      <td>relationships and milestones in life</td>\n",
       "      <td>[boyfriend of six, dating for months, boyfriend a year, married for fifteen, we got engaged, we were engaged, twenty he retired, a divorce twenty, virginity at twenty, am turning forty, daughter i...</td>\n",
       "    </tr>\n",
       "    <tr>\n",
       "      <th>53</th>\n",
       "      <td>UTS02</td>\n",
       "      <td>4</td>\n",
       "      <td>time</td>\n",
       "      <td>passing of time</td>\n",
       "      <td>[weeks became months, weekends became weeks, five years four, the moment passed, twenty minutes thirty, more time passed, replied age thirty, moment passed, later came the, days later diagnosed, m...</td>\n",
       "    </tr>\n",
       "    <tr>\n",
       "      <th>41</th>\n",
       "      <td>UTS03</td>\n",
       "      <td>57</td>\n",
       "      <td>looking or staring</td>\n",
       "      <td>looking or staring in some way</td>\n",
       "      <td>[eyed her suspiciously, at him incredulously, wink at, at me shyly, locks eyes with, staring at me, turned and saw, and mimed crying, incredulously like look, staring right at, point at a, leered ...</td>\n",
       "    </tr>\n",
       "  </tbody>\n",
       "</table>\n",
       "</div>"
      ],
      "text/plain": [
       "   subject  module_num                expl  \\\n",
       "80   UTS02           9       relationships   \n",
       "53   UTS02           4                time   \n",
       "41   UTS03          57  looking or staring   \n",
       "\n",
       "               top_explanation_init_strs  \\\n",
       "80  relationships and milestones in life   \n",
       "53                       passing of time   \n",
       "41        looking or staring in some way   \n",
       "\n",
       "                                                                                                                                                                                  top_ngrams_module_correct  \n",
       "80  [boyfriend of six, dating for months, boyfriend a year, married for fifteen, we got engaged, we were engaged, twenty he retired, a divorce twenty, virginity at twenty, am turning forty, daughter i...  \n",
       "53  [weeks became months, weekends became weeks, five years four, the moment passed, twenty minutes thirty, more time passed, replied age thirty, moment passed, later came the, days later diagnosed, m...  \n",
       "41  [eyed her suspiciously, at him incredulously, wink at, at me shyly, locks eyes with, staring at me, turned and saw, and mimed crying, incredulously like look, staring right at, point at a, leered ...  "
      ]
     },
     "metadata": {},
     "output_type": "display_data"
    }
   ],
   "source": [
    "# put all voxel data into rows DataFrame\n",
    "rows = []\n",
    "expls = []\n",
    "for vox in voxels:\n",
    "    expl, subj, vox_num = vox\n",
    "    try:\n",
    "        rows.append(r[(r.subject == subj) & (r.module_num == vox_num)].iloc[0])\n",
    "        expls.append(expl)\n",
    "    except:\n",
    "        print('skipping', vox)\n",
    "rows = pd.DataFrame(rows)\n",
    "rows['expl'] = expls\n",
    "\n",
    "with pd.option_context('display.max_rows', None, 'display.max_columns', None, 'display.max_colwidth', 200):\n",
    "    display(rows[['subject', 'module_num', 'expl', 'top_explanation_init_strs', 'top_ngrams_module_correct']])"
   ]
  },
  {
   "attachments": {},
   "cell_type": "markdown",
   "metadata": {},
   "source": [
    "# Generate story"
   ]
  },
  {
   "cell_type": "code",
   "execution_count": 22,
   "metadata": {},
   "outputs": [
    {
     "name": "stdout",
     "output_type": "stream",
     "text": [
      "Write the beginning paragraph of a story told in first person. The story should be about \"relationships\". Make sure it contains several references to \"relationships\", such as \"boyfriend of six\", \"dating for months\", \"boyfriend a year\".\n",
      "Write the next paragraph of the story, but now make it about \"time\". Make sure it contains several references to \"time\", such as \"weeks became months\", \"weekends became weeks\", \"five years four\".\n",
      "Write the next paragraph of the story, but now make it about \"looking or staring\". Make sure it contains several references to \"looking or staring\", such as \"eyed her suspiciously\", \"at him incredulously\", \"wink at\".\n"
     ]
    }
   ],
   "source": [
    "PROMPTS = {\n",
    "    'v0': {\n",
    "        'prefix_first': 'Write the beginning paragraph of a story about',\n",
    "        'prefix_next': 'Write the next paragraph of the story, but now make it about',\n",
    "        'suffix': ' \"{expl}\". Make sure it contains several references to \"{expl}\".',\n",
    "    },\n",
    "\n",
    "    # first-person\n",
    "    'v1': {\n",
    "        'prefix_first': 'Write the beginning paragraph of a story told in first person. The story should be about',\n",
    "        'prefix_next': 'Write the next paragraph of the story, but now make it about',\n",
    "        'suffix': ' \"{expl}\". Make sure it contains several references to \"{expl}\".',\n",
    "    },\n",
    "\n",
    "    # add in ngrams\n",
    "    'v2': {\n",
    "        'prefix_first': 'Write the beginning paragraph of a story told in first person. The story should be about',\n",
    "        'prefix_next': 'Write the next paragraph of the story, but now make it about',\n",
    "        'suffix': ' \"{expl}\". Make sure it contains several references to \"{expl}\", such as {examples}.',\n",
    "    }\n",
    "}\n",
    "\n",
    "\n",
    "version = 'v2'\n",
    "PV = PROMPTS[version]\n",
    "\n",
    "# get a list of prompts\n",
    "expls = rows.expl.values\n",
    "examples = rows.top_ngrams_module_correct.apply(lambda l: ', '.join([f'\"{x}\"' for x in l[:3]])).values\n",
    "\n",
    "def get_prompts_basic(expls):\n",
    "    prompt_init = PV['prefix_first'] + PV['suffix']\n",
    "    prompt_continue = PV['prefix_next'] + PV['suffix']\n",
    "    if version in ['v0', 'v1']:\n",
    "        prompts = [prompt_init.format(expl=expls[0])] + [prompt_continue.format(expl=expl) for expl in expls[1:]]\n",
    "    elif version in ['v2']:\n",
    "        prompts = [prompt_init.format(expl=expls[0], examples=examples[0])] + \\\n",
    "            [prompt_continue.format(expl=expl, examples=examples) for (expl, examples) in zip(expls[1:], examples[1:])] \n",
    "    return prompts\n",
    "prompts = get_prompts_basic(expls)\n",
    "for p in prompts:\n",
    "    print(p)"
   ]
  },
  {
   "cell_type": "code",
   "execution_count": 28,
   "metadata": {},
   "outputs": [
    {
     "name": "stdout",
     "output_type": "stream",
     "text": [
      "cached!\n",
      "cached!\n",
      "cached!\n",
      "(\"I've always been fascinated by relationships. The way two people can come \"\n",
      " \"together and form a bond that lasts a lifetime is truly remarkable. I've had \"\n",
      " \"my fair share of relationships, some good and some bad. Currently, I'm \"\n",
      " \"dating my boyfriend of six months and things are going great. We've been \"\n",
      " \"through a lot together in such a short amount of time, but we've managed to \"\n",
      " 'come out stronger on the other side. Before him, I was in a relationship for '\n",
      " 'a year that ended in heartbreak. But I learned so much from that experience '\n",
      " \"and it's helped me appreciate the relationship I have now even more.\")\n",
      "('Time is a funny thing when it comes to relationships. It can feel like weeks '\n",
      " \"become months and weekends become weeks when you're with the right person. \"\n",
      " \"But when you're in a toxic relationship, time can feel like it's standing \"\n",
      " \"still. I've been in both situations and I can say with certainty that time \"\n",
      " 'is a crucial factor in any relationship. My boyfriend and I have only been '\n",
      " \"together for six months, but it feels like we've known each other for years. \"\n",
      " 'On the other hand, my previous relationship of five years four felt like it '\n",
      " \"was dragging on forever towards the end. It's amazing how time can change \"\n",
      " 'your perspective on things.')\n",
      "('Looking or staring can say a lot about a relationship. I remember when my '\n",
      " 'boyfriend and I first started dating, we would constantly look at each other '\n",
      " \"with starry eyes. It was like we couldn't believe we had found each other. \"\n",
      " 'But as time went on, our looks towards each other changed. Sometimes he '\n",
      " 'would eye me suspiciously when I was talking to another guy, and I would '\n",
      " 'look at him incredulously when he forgot something important. But even in '\n",
      " 'those moments, there was still a sense of love and understanding between us. '\n",
      " 'And sometimes, we would still wink at each other from across the room, '\n",
      " 'reminding ourselves that no matter what, we were in this together.')\n"
     ]
    }
   ],
   "source": [
    "# generate the paragraphs (these prefixes need get replace when the story is getting long)\n",
    "paragraphs = mprompt.llm.get_paragraphs(prompts, prefix_first=PV['prefix_first'], prefix_next=PV['prefix_next'])\n",
    "for para in paragraphs:\n",
    "    pprint(para)"
   ]
  },
  {
   "attachments": {},
   "cell_type": "markdown",
   "metadata": {},
   "source": [
    "# Test synthetic data contains concept"
   ]
  },
  {
   "cell_type": "code",
   "execution_count": null,
   "metadata": {},
   "outputs": [],
   "source": [
    "val = D5_Validator()"
   ]
  },
  {
   "cell_type": "code",
   "execution_count": null,
   "metadata": {},
   "outputs": [],
   "source": [
    "# visualize single story\n",
    "s = mprompt.viz.visualize_story_html(val, expls, paragraphs, prompts, fname='../results/story_running.html')\n",
    "display(HTML(s))"
   ]
  },
  {
   "cell_type": "code",
   "execution_count": null,
   "metadata": {},
   "outputs": [],
   "source": [
    "# compute scores heatmap\n",
    "scores = notebook_helper.compute_expl_data_match_heatmap(val, expls, paragraphs)"
   ]
  },
  {
   "cell_type": "code",
   "execution_count": null,
   "metadata": {},
   "outputs": [],
   "source": [
    "s = scores\n",
    "# s = scipy.special.softmax(scores, axis=1)\n",
    "# s = (s - s.min()) / (s.max() - s.min())\n",
    "mprompt.viz.heatmap(scores, expls)"
   ]
  },
  {
   "cell_type": "markdown",
   "metadata": {},
   "source": [
    "# Test modules on the generated stories"
   ]
  },
  {
   "cell_type": "code",
   "execution_count": null,
   "metadata": {},
   "outputs": [],
   "source": [
    "scores, scores_max, all_scores, all_ngrams = notebook_helper.compute_expl_module_match_heatmap(expls, paragraphs, voxels)"
   ]
  },
  {
   "cell_type": "code",
   "execution_count": null,
   "metadata": {},
   "outputs": [],
   "source": [
    "s = scores\n",
    "s = scipy.special.softmax(scores, axis=1)\n",
    "# s = (s - s.min()) / (s.max() - s.min())\n",
    "mprompt.viz.heatmap(scores, expls, xlab='Explanation of voxel used for evaluation', clab='Mean voxel response')"
   ]
  },
  {
   "attachments": {},
   "cell_type": "markdown",
   "metadata": {},
   "source": [
    "### Module responses for single story"
   ]
  },
  {
   "cell_type": "code",
   "execution_count": null,
   "metadata": {},
   "outputs": [],
   "source": [
    "pd.set_option('display.max_rows', 120)\n",
    "for i in range(1): #len(voxels)):\n",
    "    row = rows.iloc[i]\n",
    "    display(row[['subject', 'module_num', 'top_explanation_init_strs', 'explanation_init_ngrams', 'top_ngrams_module_correct']])\n",
    "    mod = fMRIModule(voxel_num_best=row.module_num, subject=row.subject)\n",
    "    # show all rows\n",
    "    # display(\n",
    "    #     pd.DataFrame.from_dict({\n",
    "    #         'score': all_scores[i][i],\n",
    "    #         'ngram': all_ngrams[i][i],\n",
    "    #     }).sort_values('score', ascending=False).head(10)\n",
    "    # )"
   ]
  },
  {
   "cell_type": "code",
   "execution_count": null,
   "metadata": {},
   "outputs": [],
   "source": [
    "x = row['explanation_init_ngrams']\n",
    "p = mod(x)\n"
   ]
  },
  {
   "cell_type": "code",
   "execution_count": null,
   "metadata": {},
   "outputs": [],
   "source": [
    "out = mod(x, return_all=True)\n",
    "scores = row['explanation_init_outputs']"
   ]
  },
  {
   "cell_type": "code",
   "execution_count": null,
   "metadata": {},
   "outputs": [],
   "source": [
    "p = out[:, row.module_num]"
   ]
  },
  {
   "cell_type": "code",
   "execution_count": null,
   "metadata": {},
   "outputs": [],
   "source": []
  }
 ],
 "metadata": {
  "kernelspec": {
   "display_name": ".llm",
   "language": "python",
   "name": "python3"
  },
  "language_info": {
   "codemirror_mode": {
    "name": "ipython",
    "version": 3
   },
   "file_extension": ".py",
   "mimetype": "text/x-python",
   "name": "python",
   "nbconvert_exporter": "python",
   "pygments_lexer": "ipython3",
   "version": "3.9.16"
  },
  "orig_nbformat": 4,
  "vscode": {
   "interpreter": {
    "hash": "a9ff692d44ea03fd8a03facee7621117bbbb82def09bacaacf0a2cbc238b7b91"
   }
  }
 },
 "nbformat": 4,
 "nbformat_minor": 2
}
