{
 "cells": [
  {
   "cell_type": "code",
   "execution_count": 63,
   "metadata": {},
   "outputs": [
    {
     "name": "stdout",
     "output_type": "stream",
     "text": [
      "The autoreload extension is already loaded. To reload it, use:\n",
      "  %reload_ext autoreload\n"
     ]
    }
   ],
   "source": [
    "%load_ext autoreload\n",
    "%autoreload 2\n",
    "import os\n",
    "import matplotlib.pyplot as plt\n",
    "import seaborn as sns\n",
    "from os.path import join\n",
    "from tqdm import tqdm\n",
    "import pandas as pd\n",
    "import pickle as pkl\n",
    "import notebook_helper\n",
    "import imodelsx.process_results\n",
    "import sys\n",
    "from mprompt.modules.fmri_module import get_test_ngrams, get_roi\n",
    "sys.path.append('../experiments/')\n",
    "# results_dir = '../results/feb12_fmri_sweep/'\n",
    "results_dir = '/home/chansingh/mntv1/mprompt/feb12_fmri_sweep_gen_template1/'"
   ]
  },
  {
   "cell_type": "code",
   "execution_count": 67,
   "metadata": {},
   "outputs": [],
   "source": [
    "r = imodelsx.process_results.get_results_df(results_dir, use_cached=True)\n",
    "r['top_ngrams_test'] = r.apply(lambda row: get_test_ngrams(voxel_num_best=row.module_num)[:25], axis=1)\n",
    "r['roi'] = r.apply(lambda row: get_roi(voxel_num_best=row.module_num), axis=1)\n",
    "r.to_pickle('../results/results_fmri.pkl')"
   ]
  },
  {
   "cell_type": "code",
   "execution_count": 69,
   "metadata": {},
   "outputs": [
    {
     "data": {
      "text/html": [
       "<div>\n",
       "<style scoped>\n",
       "    .dataframe tbody tr th:only-of-type {\n",
       "        vertical-align: middle;\n",
       "    }\n",
       "\n",
       "    .dataframe tbody tr th {\n",
       "        vertical-align: top;\n",
       "    }\n",
       "\n",
       "    .dataframe thead th {\n",
       "        text-align: right;\n",
       "    }\n",
       "</style>\n",
       "<table border=\"1\" class=\"dataframe\">\n",
       "  <thead>\n",
       "    <tr style=\"text-align: right;\">\n",
       "      <th></th>\n",
       "      <th>Voxel</th>\n",
       "      <th>ROI</th>\n",
       "      <th>Synthetic score</th>\n",
       "      <th>Correlation (test)</th>\n",
       "      <th>Explanation</th>\n",
       "      <th>Top ngrams (module)</th>\n",
       "      <th>Top ngrams (test)</th>\n",
       "      <th>Explanation candidates</th>\n",
       "    </tr>\n",
       "  </thead>\n",
       "  <tbody>\n",
       "    <tr>\n",
       "      <th>188</th>\n",
       "      <td>143</td>\n",
       "      <td>--</td>\n",
       "      <td>0.051</td>\n",
       "      <td>0.628</td>\n",
       "      <td>movement or action</td>\n",
       "      <td>[started playing, up in new, grew up in, was replications of, was going to, is going to, up in two, started to scream, story begins in, up in dartmouth, up in providence, are going to, went to high, trained to eject, was not going, grew up on, grew up near, item originated from, thought yeah yeah, really dismayed to, started to sound, is triggered by, finally went to, went off, really should come]</td>\n",
       "      <td>[but i was ok because, because i had my cigarettes, be but i know it's, show me the way to, i didn't have my cigarettes, his arm a little boy, and i say wow that's, and dollar stores and emergece, he says where were you, number four and she very, blue light of the television, it is so what i, he is he is beautiful, who is that what uh, and it's lit up so, out right when i needed, said was it a bad, stuff about what our lives, out on the street street, about our lives we're both, says damn i hope so, was crying i had no, i don't have a beer, it can still be pretty, there were cul de sacs]</td>\n",
       "      <td>[movement or action, action or movement, such as starting, going, playing, screaming, etc, an action or event that is happening or has happened, movement or change, either physically or mentally]</td>\n",
       "    </tr>\n",
       "    <tr>\n",
       "      <th>178</th>\n",
       "      <td>119</td>\n",
       "      <td>--</td>\n",
       "      <td>0.050</td>\n",
       "      <td>0.635</td>\n",
       "      <td>interaction between two or more people</td>\n",
       "      <td>[turned to me, turns to me, president looks into, she had this, some pubis sticking, says tricia, problem she, been raised that, and says tricia, he s he, i had this, she bought that, i turned to, sources the the, president put in, shy was cause, pokes her head, the church, that caught my, shy was, other things that, really frustrated him, pubis sticking out, he turns to, says to]</td>\n",
       "      <td>[there and i'm going home, of that head falling off, be fine and she also, be but i know it's, his arm a little boy, apartments this girl lives the, newish to the neighborhood thi, this really cool job washing, says damn i hope so, shoes on i was crying, ch {ig} ch ch ch, silent and lovely and there, there and we're loving the, going to be a vet, held them dear you don't, never met her and just, every single door there's some, each other oh that's almost, puff inhale mm sweet kiss, but unless you've had them, and that was fun and, he is he is beautiful, no shoes on she has, taps out the last s, i didn't have my cigarettes]</td>\n",
       "      <td>[interaction between two or more people, relationships, turning or looking towards someone or something, people interacting with each other, people and relationships]</td>\n",
       "    </tr>\n",
       "  </tbody>\n",
       "</table>\n",
       "</div>"
      ],
      "text/plain": [
       "     Voxel ROI  Synthetic score  Correlation (test)  \\\n",
       "188  143    --  0.051            0.628                \n",
       "178  119    --  0.050            0.635                \n",
       "\n",
       "                                Explanation  \\\n",
       "188  movement or action                       \n",
       "178  interaction between two or more people   \n",
       "\n",
       "                                                                                                                                                                                                                                                                                                                                                                                                  Top ngrams (module)  \\\n",
       "188  [started playing, up in new, grew up in, was replications of, was going to, is going to, up in two, started to scream, story begins in, up in dartmouth, up in providence, are going to, went to high, trained to eject, was not going, grew up on, grew up near, item originated from, thought yeah yeah, really dismayed to, started to sound, is triggered by, finally went to, went off, really should come]   \n",
       "178  [turned to me, turns to me, president looks into, she had this, some pubis sticking, says tricia, problem she, been raised that, and says tricia, he s he, i had this, she bought that, i turned to, sources the the, president put in, shy was cause, pokes her head, the church, that caught my, shy was, other things that, really frustrated him, pubis sticking out, he turns to, says to]                    \n",
       "\n",
       "                                                                                                                                                                                                                                                                                                                                                                                                                                                                                                                                                                                                                                          Top ngrams (test)  \\\n",
       "188  [but i was ok because, because i had my cigarettes, be but i know it's, show me the way to, i didn't have my cigarettes, his arm a little boy, and i say wow that's, and dollar stores and emergece, he says where were you, number four and she very, blue light of the television, it is so what i, he is he is beautiful, who is that what uh, and it's lit up so, out right when i needed, said was it a bad, stuff about what our lives, out on the street street, about our lives we're both, says damn i hope so, was crying i had no, i don't have a beer, it can still be pretty, there were cul de sacs]                                       \n",
       "178  [there and i'm going home, of that head falling off, be fine and she also, be but i know it's, his arm a little boy, apartments this girl lives the, newish to the neighborhood thi, this really cool job washing, says damn i hope so, shoes on i was crying, ch {ig} ch ch ch, silent and lovely and there, there and we're loving the, going to be a vet, held them dear you don't, never met her and just, every single door there's some, each other oh that's almost, puff inhale mm sweet kiss, but unless you've had them, and that was fun and, he is he is beautiful, no shoes on she has, taps out the last s, i didn't have my cigarettes]   \n",
       "\n",
       "                                                                                                                                                                                  Explanation candidates  \n",
       "188  [movement or action, action or movement, such as starting, going, playing, screaming, etc, an action or event that is happening or has happened, movement or change, either physically or mentally]  \n",
       "178  [interaction between two or more people, relationships, turning or looking towards someone or something, people interacting with each other, people and relationships]                               "
      ]
     },
     "metadata": {},
     "output_type": "display_data"
    }
   ],
   "source": [
    "r['explanation_init_ngrams'] = r['explanation_init_ngrams'].apply(lambda x: x[:25])\n",
    "tab = (\n",
    "    r\n",
    "    .sort_values(by='top_score_synthetic', ascending=False)\n",
    "    .filter([\n",
    "        'module_num', 'roi', 'top_score_synthetic', 'fmri_test_corr',\n",
    "        'top_explanation_init_strs', 'explanation_init_ngrams',\n",
    "        'top_ngrams_test',\n",
    "        'explanation_init_strs',\n",
    "    ])\n",
    "    .round(3)\n",
    "    .rename(\n",
    "        columns={\n",
    "            'top_explanation_init_strs': 'Explanation',\n",
    "            'roi': 'ROI',\n",
    "            'explanation_init_ngrams': 'Top ngrams (module)',\n",
    "            'module_num': 'Voxel',\n",
    "            'top_ngrams_test': 'Top ngrams (test)',\n",
    "            'top_score_synthetic': 'Synthetic score',\n",
    "            'fmri_test_corr': 'Correlation (test)',\n",
    "            'explanation_init_strs': 'Explanation candidates',\n",
    "        }\n",
    "    )\n",
    ")\n",
    "with pd.option_context('display.max_colwidth', -1, 'display.max_rows', 200):\n",
    "    display(\n",
    "        tab.head(2)\n",
    "    )\n",
    "    tab.to_csv('../results/results_fmri.csv', index=False)"
   ]
  },
  {
   "cell_type": "code",
   "execution_count": null,
   "metadata": {},
   "outputs": [],
   "source": [
    "sns.lmplot(x='top_score_synthetic', y='fmri_test_corr', data=r)\n",
    "plt.show()"
   ]
  },
  {
   "cell_type": "code",
   "execution_count": null,
   "metadata": {},
   "outputs": [],
   "source": []
  }
 ],
 "metadata": {
  "kernelspec": {
   "display_name": ".llm",
   "language": "python",
   "name": "python3"
  },
  "language_info": {
   "codemirror_mode": {
    "name": "ipython",
    "version": 3
   },
   "file_extension": ".py",
   "mimetype": "text/x-python",
   "name": "python",
   "nbconvert_exporter": "python",
   "pygments_lexer": "ipython3",
   "version": "3.9.16"
  },
  "orig_nbformat": 4,
  "vscode": {
   "interpreter": {
    "hash": "a9ff692d44ea03fd8a03facee7621117bbbb82def09bacaacf0a2cbc238b7b91"
   }
  }
 },
 "nbformat": 4,
 "nbformat_minor": 2
}
