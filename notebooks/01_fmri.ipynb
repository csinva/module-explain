{
 "cells": [
  {
   "cell_type": "code",
   "execution_count": null,
   "metadata": {},
   "outputs": [],
   "source": [
    "%load_ext autoreload\n",
    "%autoreload 2\n",
    "import os\n",
    "import matplotlib.pyplot as plt\n",
    "import seaborn as sns\n",
    "from os.path import join\n",
    "from tqdm import tqdm\n",
    "import pandas as pd\n",
    "import sys\n",
    "from typing import List\n",
    "import numpy as np\n",
    "num_top_test_ngrams = 75\n",
    "r = pd.read_pickle('../results/results_fmri.pkl')"
   ]
  },
  {
   "cell_type": "code",
   "execution_count": null,
   "metadata": {},
   "outputs": [],
   "source": [
    "columns = {\n",
    "    # fmri stuff\n",
    "    'module_num': 'Voxel',\n",
    "    'roi': 'ROI',\n",
    "    'fmri_test_corr': 'Correlation (test)',\n",
    "    \n",
    "    # scores\n",
    "    'top_score_synthetic': 'Synthetic data score',\n",
    "    'frac_top_ngrams_module_correct': 'Fraction of matching ngrams (module, top-75)',\n",
    "    'frac_top_ngrams_test_correct': 'Fraction of matching ngrams (test, top-75)',\n",
    "            \n",
    "    # explanation\n",
    "    'top_explanation_init_strs': 'Explanation',\n",
    "        \n",
    "    # ngrams matching the explanation (used 75 ngrams)\n",
    "    'top_ngrams_module_correct': 'Matching ngrams (module, top-75)',\n",
    "    'top_ngrams_test_correct': 'Matching ngrams (test, top-75)',\n",
    "\n",
    "    # all ngrams\n",
    "    'top_ngrams_module_25': 'Top ngrams (module, top-25)',\n",
    "    'top_ngrams_test_25': 'Top ngrams (test, top-25)',\n",
    "\n",
    "    # alternative explanations\n",
    "    'explanation_init_strs': 'Explanation candidates',\n",
    "}\n",
    "\n",
    "tab = (\n",
    "    r\n",
    "    .sort_values(by=['top_score_synthetic', 'frac_top_ngrams_test_correct'], ascending=False)\n",
    "    .filter(columns.keys())\n",
    "    .rename(columns=columns)\n",
    "    .round(3)\n",
    ")\n",
    "with pd.option_context('display.max_colwidth', -1, 'display.max_rows', 200):\n",
    "    display(\n",
    "        tab.head(3)\n",
    "    )\n",
    "    tab_join_lists = tab.applymap(lambda x: ' __ '.join(x) if isinstance(x, np.ndarray) or isinstance(x, list) else x)\n",
    "    tab_join_lists.to_csv('../results/results_fmri.csv', index=False, float_format='%.3f')"
   ]
  },
  {
   "attachments": {},
   "cell_type": "markdown",
   "metadata": {},
   "source": [
    "### Do the different scores go well together?"
   ]
  },
  {
   "cell_type": "code",
   "execution_count": null,
   "metadata": {},
   "outputs": [],
   "source": [
    "scores = ['fmri_test_corr', 'top_score_synthetic', 'frac_top_ngrams_module_correct', 'frac_top_ngrams_test_correct']\n",
    "sns.pairplot(\n",
    "    r[scores], kind='reg', diag_kind='kde', plot_kws={'scatter_kws': {'alpha': 0.1}}, markers='.',\n",
    "    height=3, aspect=2\n",
    "    )\n",
    "plt.show()"
   ]
  }
 ],
 "metadata": {
  "kernelspec": {
   "display_name": ".llm",
   "language": "python",
   "name": "python3"
  },
  "language_info": {
   "codemirror_mode": {
    "name": "ipython",
    "version": 3
   },
   "file_extension": ".py",
   "mimetype": "text/x-python",
   "name": "python",
   "nbconvert_exporter": "python",
   "pygments_lexer": "ipython3",
   "version": "3.9.16"
  },
  "orig_nbformat": 4,
  "vscode": {
   "interpreter": {
    "hash": "a9ff692d44ea03fd8a03facee7621117bbbb82def09bacaacf0a2cbc238b7b91"
   }
  }
 },
 "nbformat": 4,
 "nbformat_minor": 2
}
