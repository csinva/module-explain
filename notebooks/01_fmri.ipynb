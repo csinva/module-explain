{
 "cells": [
  {
   "cell_type": "code",
   "execution_count": null,
   "metadata": {},
   "outputs": [],
   "source": [
    "%load_ext autoreload\n",
    "%autoreload 2\n",
    "import os\n",
    "import matplotlib.pyplot as plt\n",
    "import seaborn as sns\n",
    "from os.path import join\n",
    "from tqdm import tqdm\n",
    "import pandas as pd\n",
    "import pickle as pkl\n",
    "import notebook_helper\n",
    "import imodelsx.process_results\n",
    "import sys\n",
    "tqdm.pandas()\n",
    "from mprompt.modules.fmri_module import get_test_ngrams, get_roi\n",
    "sys.path.append('../experiments/')\n",
    "# results_dir = '../results/feb12_fmri_sweep/'\n",
    "results_dir = '/home/chansingh/mntv1/mprompt/feb12_fmri_sweep_gen_template1/'\n",
    "\n",
    "r = imodelsx.process_results.get_results_df(results_dir, use_cached=True)\n",
    "r['top_ngrams_test'] = r.apply(lambda row: get_test_ngrams(voxel_num_best=row.module_num)[:25], axis=1)\n",
    "r['roi'] = r.apply(lambda row: get_roi(voxel_num_best=row.module_num), axis=1)\n",
    "r['explanation_init_ngrams'] = r['explanation_init_ngrams'].apply(lambda x: x[:25])\n",
    "r.to_pickle('../results/results_fmri.pkl')"
   ]
  },
  {
   "cell_type": "code",
   "execution_count": 40,
   "metadata": {},
   "outputs": [
    {
     "name": "stderr",
     "output_type": "stream",
     "text": [
      "Some weights of the model checkpoint at microsoft/deberta-xlarge-mnli were not used when initializing DebertaModel: ['pooler.dense.weight', 'classifier.weight', 'classifier.bias', 'pooler.dense.bias']\n",
      "- This IS expected if you are initializing DebertaModel from the checkpoint of a model trained on another task or with another architecture (e.g. initializing a BertForSequenceClassification model from a BertForPreTraining model).\n",
      "- This IS NOT expected if you are initializing DebertaModel from the checkpoint of a model that you expect to be exactly identical (initializing a BertForSequenceClassification model from a BertForSequenceClassification model).\n",
      "  6%|▌         | 11/200 [00:58<18:11,  5.78s/it]"
     ]
    }
   ],
   "source": [
    "import bert_score\n",
    "from typing import List\n",
    "def similarity(explanation: str, top_ngrams_test: List[str]):\n",
    "    n = len(top_ngrams_test)\n",
    "    P, R, F1 = bert_score.score(\n",
    "        [explanation] * n,\n",
    "        top_ngrams_test,\n",
    "        model_type='microsoft/deberta-xlarge-mnli'\n",
    "    )\n",
    "    bscore = F1.detach().cpu().numpy().mean()\n",
    "    return bscore\n",
    "    \n",
    "r['expl_test_bert_score'] = r.progress_apply(lambda row: similarity(row['top_explanation_init_strs'], row['top_ngrams_test'].tolist()), axis=1)"
   ]
  },
  {
   "attachments": {},
   "cell_type": "markdown",
   "metadata": {},
   "source": [
    "### Visualize table"
   ]
  },
  {
   "cell_type": "code",
   "execution_count": null,
   "metadata": {},
   "outputs": [],
   "source": [
    "tab = (\n",
    "    r\n",
    "    .sort_values(by='top_score_synthetic', ascending=False)\n",
    "    .filter([\n",
    "        'module_num', 'roi', 'top_score_synthetic', 'fmri_test_corr',\n",
    "        'top_explanation_init_strs', 'explanation_init_ngrams',\n",
    "        'top_ngrams_test',\n",
    "        'explanation_init_strs',\n",
    "    ])\n",
    "    .round(3)\n",
    "    .rename(\n",
    "        columns={\n",
    "            'top_explanation_init_strs': 'Explanation',\n",
    "            'roi': 'ROI',\n",
    "            'explanation_init_ngrams': 'Top ngrams (module)',\n",
    "            'module_num': 'Voxel',\n",
    "            'top_ngrams_test': 'Top ngrams (test)',\n",
    "            'top_score_synthetic': 'Synthetic score',\n",
    "            'fmri_test_corr': 'Correlation (test)',\n",
    "            'explanation_init_strs': 'Explanation candidates',\n",
    "        }\n",
    "    )\n",
    ")\n",
    "with pd.option_context('display.max_colwidth', -1, 'display.max_rows', 200):\n",
    "    display(\n",
    "        tab.head(2)\n",
    "    )\n",
    "    tab.to_csv('../results/results_fmri.csv', index=False)"
   ]
  },
  {
   "cell_type": "code",
   "execution_count": null,
   "metadata": {},
   "outputs": [],
   "source": [
    "sns.lmplot(x='top_score_synthetic', y='fmri_test_corr', data=r)\n",
    "plt.show()"
   ]
  }
 ],
 "metadata": {
  "kernelspec": {
   "display_name": ".llm",
   "language": "python",
   "name": "python3"
  },
  "language_info": {
   "codemirror_mode": {
    "name": "ipython",
    "version": 3
   },
   "file_extension": ".py",
   "mimetype": "text/x-python",
   "name": "python",
   "nbconvert_exporter": "python",
   "pygments_lexer": "ipython3",
   "version": "3.9.16"
  },
  "orig_nbformat": 4,
  "vscode": {
   "interpreter": {
    "hash": "a9ff692d44ea03fd8a03facee7621117bbbb82def09bacaacf0a2cbc238b7b91"
   }
  }
 },
 "nbformat": 4,
 "nbformat_minor": 2
}
