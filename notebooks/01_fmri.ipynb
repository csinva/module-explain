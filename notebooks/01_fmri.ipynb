{
 "cells": [
  {
   "cell_type": "code",
   "execution_count": null,
   "metadata": {},
   "outputs": [],
   "source": [
    "%load_ext autoreload\n",
    "%autoreload 2\n",
    "import os\n",
    "import matplotlib.pyplot as plt\n",
    "import seaborn as sns\n",
    "from os.path import join\n",
    "from tqdm import tqdm\n",
    "import pandas as pd\n",
    "import pickle as pkl\n",
    "import notebook_helper\n",
    "import imodelsx.process_results\n",
    "import sys\n",
    "sys.path.append('../experiments/')\n",
    "# results_dir = '../results/feb12_fmri_sweep/'\n",
    "results_dir = '/home/chansingh/mntv1/mprompt/feb12_fmri_sweep_gen_template1/'"
   ]
  },
  {
   "cell_type": "code",
   "execution_count": null,
   "metadata": {},
   "outputs": [],
   "source": [
    "r = imodelsx.process_results.get_results_df(results_dir, use_cached=True)"
   ]
  },
  {
   "cell_type": "code",
   "execution_count": null,
   "metadata": {},
   "outputs": [],
   "source": [
    "# display full strings\n",
    "with pd.option_context('display.max_colwidth', -1, 'display.max_rows', 200):\n",
    "\n",
    "    display(\n",
    "        r\n",
    "        .sort_values(by='top_score_synthetic', ascending=False)\n",
    "        .filter(['top_score_synthetic', 'top_explanation_init_strs', 'explanation_init_ngrams', 'module_num', 'fmri_test_corr'])\n",
    "        # .filter(['top_explanation_init_strs', 'explanation_init_ngrams', 'top_strs_added'])\n",
    "        # .filter(['explanation_init_strs', 'explanation_init_ngrams',])\n",
    "        .head(n=20)\n",
    "        .round(3)\n",
    "    )"
   ]
  },
  {
   "cell_type": "code",
   "execution_count": null,
   "metadata": {},
   "outputs": [],
   "source": [
    "r.keys()"
   ]
  },
  {
   "cell_type": "code",
   "execution_count": null,
   "metadata": {},
   "outputs": [],
   "source": [
    "sns.lmplot(x='top_score_synthetic', y='fmri_test_corr', data=r)\n",
    "plt.show()"
   ]
  }
 ],
 "metadata": {
  "kernelspec": {
   "display_name": ".llm",
   "language": "python",
   "name": "python3"
  },
  "language_info": {
   "codemirror_mode": {
    "name": "ipython",
    "version": 3
   },
   "file_extension": ".py",
   "mimetype": "text/x-python",
   "name": "python",
   "nbconvert_exporter": "python",
   "pygments_lexer": "ipython3",
   "version": "3.9.16"
  },
  "orig_nbformat": 4,
  "vscode": {
   "interpreter": {
    "hash": "a9ff692d44ea03fd8a03facee7621117bbbb82def09bacaacf0a2cbc238b7b91"
   }
  }
 },
 "nbformat": 4,
 "nbformat_minor": 2
}
