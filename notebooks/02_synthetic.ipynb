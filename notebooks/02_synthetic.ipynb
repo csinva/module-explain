{
 "cells": [
  {
   "cell_type": "code",
   "execution_count": 18,
   "metadata": {},
   "outputs": [
    {
     "name": "stdout",
     "output_type": "stream",
     "text": [
      "The autoreload extension is already loaded. To reload it, use:\n",
      "  %reload_ext autoreload\n"
     ]
    }
   ],
   "source": [
    "%load_ext autoreload\n",
    "%autoreload 2\n",
    "import os\n",
    "import matplotlib.pyplot as plt\n",
    "import seaborn as sns\n",
    "from os.path import join\n",
    "from tqdm import tqdm\n",
    "import pandas as pd\n",
    "import pickle as pkl\n",
    "import notebook_helper\n",
    "import sys\n",
    "import imodelsx\n",
    "import imodelsx.process_results\n",
    "from mprompt.data.data import TASKS_D3\n",
    "TASK_NAMES = list(TASKS_D3.keys())\n",
    "sys.path.append('../experiments/')\n",
    "results_dir = '/home/chansingh/mntv1/mprompt/feb18_synthetic_sweep'"
   ]
  },
  {
   "cell_type": "code",
   "execution_count": 19,
   "metadata": {},
   "outputs": [
    {
     "name": "stderr",
     "output_type": "stream",
     "text": [
      "100%|██████████| 12/12 [00:00<00:00, 12.56it/s]\n"
     ]
    }
   ],
   "source": [
    "r = imodelsx.process_results.get_results_df(results_dir, use_cached=False)"
   ]
  },
  {
   "cell_type": "code",
   "execution_count": 30,
   "metadata": {},
   "outputs": [],
   "source": [
    "r['top_contains_keywords'] = r['score_contains_keywords'].apply(lambda x: x[0])\n",
    "r['task_name (groundtruth)'] = r['module_num'].apply(lambda x: TASK_NAMES[int(x)].split('_')[-1])\n",
    "r = r.sort_values(by='top_score_synthetic', ascending=False).round(3)"
   ]
  },
  {
   "cell_type": "code",
   "execution_count": 31,
   "metadata": {},
   "outputs": [
    {
     "data": {
      "text/html": [
       "<div>\n",
       "<style scoped>\n",
       "    .dataframe tbody tr th:only-of-type {\n",
       "        vertical-align: middle;\n",
       "    }\n",
       "\n",
       "    .dataframe tbody tr th {\n",
       "        vertical-align: top;\n",
       "    }\n",
       "\n",
       "    .dataframe thead th {\n",
       "        text-align: right;\n",
       "    }\n",
       "</style>\n",
       "<table border=\"1\" class=\"dataframe\">\n",
       "  <thead>\n",
       "    <tr style=\"text-align: right;\">\n",
       "      <th></th>\n",
       "      <th>task_name (groundtruth)</th>\n",
       "      <th>top_explanation_init_strs</th>\n",
       "      <th>top_contains_keywords</th>\n",
       "      <th>top_score_synthetic</th>\n",
       "      <th>module_num</th>\n",
       "    </tr>\n",
       "  </thead>\n",
       "  <tbody>\n",
       "    <tr>\n",
       "      <th>2</th>\n",
       "      <td>hillary</td>\n",
       "      <td>name \"hillary\"</td>\n",
       "      <td>True</td>\n",
       "      <td>0.656</td>\n",
       "      <td>16</td>\n",
       "    </tr>\n",
       "    <tr>\n",
       "      <th>1</th>\n",
       "      <td>politic</td>\n",
       "      <td>politics</td>\n",
       "      <td>True</td>\n",
       "      <td>0.350</td>\n",
       "      <td>53</td>\n",
       "    </tr>\n",
       "    <tr>\n",
       "      <th>11</th>\n",
       "      <td>god</td>\n",
       "      <td>religion</td>\n",
       "      <td>True</td>\n",
       "      <td>0.266</td>\n",
       "      <td>3</td>\n",
       "    </tr>\n",
       "    <tr>\n",
       "      <th>10</th>\n",
       "      <td>atheism</td>\n",
       "      <td>religion and belief systems, specifically atheism</td>\n",
       "      <td>True</td>\n",
       "      <td>0.254</td>\n",
       "      <td>4</td>\n",
       "    </tr>\n",
       "    <tr>\n",
       "      <th>0</th>\n",
       "      <td>computer science</td>\n",
       "      <td>\"computer\"</td>\n",
       "      <td>True</td>\n",
       "      <td>0.231</td>\n",
       "      <td>23</td>\n",
       "    </tr>\n",
       "    <tr>\n",
       "      <th>8</th>\n",
       "      <td>crime</td>\n",
       "      <td>crime and criminal activity</td>\n",
       "      <td>True</td>\n",
       "      <td>0.214</td>\n",
       "      <td>7</td>\n",
       "    </tr>\n",
       "    <tr>\n",
       "      <th>4</th>\n",
       "      <td>water</td>\n",
       "      <td>water</td>\n",
       "      <td>True</td>\n",
       "      <td>0.213</td>\n",
       "      <td>13</td>\n",
       "    </tr>\n",
       "    <tr>\n",
       "      <th>7</th>\n",
       "      <td>sport</td>\n",
       "      <td>sports</td>\n",
       "      <td>True</td>\n",
       "      <td>0.213</td>\n",
       "      <td>50</td>\n",
       "    </tr>\n",
       "    <tr>\n",
       "      <th>5</th>\n",
       "      <td>business</td>\n",
       "      <td>business</td>\n",
       "      <td>True</td>\n",
       "      <td>0.203</td>\n",
       "      <td>32</td>\n",
       "    </tr>\n",
       "    <tr>\n",
       "      <th>9</th>\n",
       "      <td>irony</td>\n",
       "      <td>sarcasm</td>\n",
       "      <td>True</td>\n",
       "      <td>0.173</td>\n",
       "      <td>0</td>\n",
       "    </tr>\n",
       "    <tr>\n",
       "      <th>6</th>\n",
       "      <td>medical</td>\n",
       "      <td>health</td>\n",
       "      <td>True</td>\n",
       "      <td>0.158</td>\n",
       "      <td>12</td>\n",
       "    </tr>\n",
       "    <tr>\n",
       "      <th>3</th>\n",
       "      <td>food</td>\n",
       "      <td>hunger</td>\n",
       "      <td>True</td>\n",
       "      <td>0.046</td>\n",
       "      <td>9</td>\n",
       "    </tr>\n",
       "  </tbody>\n",
       "</table>\n",
       "</div>"
      ],
      "text/plain": [
       "   task_name (groundtruth)                          top_explanation_init_strs  \\\n",
       "2   hillary                 name \"hillary\"                                      \n",
       "1   politic                 politics                                            \n",
       "11  god                     religion                                            \n",
       "10  atheism                 religion and belief systems, specifically atheism   \n",
       "0   computer science        \"computer\"                                          \n",
       "8   crime                   crime and criminal activity                         \n",
       "4   water                   water                                               \n",
       "7   sport                   sports                                              \n",
       "5   business                business                                            \n",
       "9   irony                   sarcasm                                             \n",
       "6   medical                 health                                              \n",
       "3   food                    hunger                                              \n",
       "\n",
       "    top_contains_keywords  top_score_synthetic  module_num  \n",
       "2   True                   0.656                16          \n",
       "1   True                   0.350                53          \n",
       "11  True                   0.266                3           \n",
       "10  True                   0.254                4           \n",
       "0   True                   0.231                23          \n",
       "8   True                   0.214                7           \n",
       "4   True                   0.213                13          \n",
       "7   True                   0.213                50          \n",
       "5   True                   0.203                32          \n",
       "9   True                   0.173                0           \n",
       "6   True                   0.158                12          \n",
       "3   True                   0.046                9           "
      ]
     },
     "metadata": {},
     "output_type": "display_data"
    }
   ],
   "source": [
    "# display full strings\n",
    "with pd.option_context('display.max_colwidth', -1, 'display.max_rows', 200):\n",
    "    display(\n",
    "        r\n",
    "        .filter(['task_name (groundtruth)', 'top_explanation_init_strs', 'top_contains_keywords', 'top_score_synthetic', 'module_num'])\n",
    "        # .filter(['top_score_contains_keywords', 'top_score_synthetic', 'top_explanation_init_strs', 'explanation_init_ngrams', 'module_num'])\n",
    "        # .filter(['top_explanation_init_strs', 'explanation_init_ngrams', 'top_strs_added'])\n",
    "        # .filter(['explanation_init_strs', 'explanation_init_ngrams',])\n",
    "        .head(n=20)\n",
    "    )"
   ]
  },
  {
   "cell_type": "code",
   "execution_count": 26,
   "metadata": {},
   "outputs": [
    {
     "name": "stdout",
     "output_type": "stream",
     "text": [
      "acc 1.0\n"
     ]
    }
   ],
   "source": [
    "acc = r['top_score_contains_keywords'].mean()\n",
    "print('acc', acc)"
   ]
  }
 ],
 "metadata": {
  "kernelspec": {
   "display_name": ".llm",
   "language": "python",
   "name": "python3"
  },
  "language_info": {
   "codemirror_mode": {
    "name": "ipython",
    "version": 3
   },
   "file_extension": ".py",
   "mimetype": "text/x-python",
   "name": "python",
   "nbconvert_exporter": "python",
   "pygments_lexer": "ipython3",
   "version": "3.9.16"
  },
  "orig_nbformat": 4,
  "vscode": {
   "interpreter": {
    "hash": "a9ff692d44ea03fd8a03facee7621117bbbb82def09bacaacf0a2cbc238b7b91"
   }
  }
 },
 "nbformat": 4,
 "nbformat_minor": 2
}
