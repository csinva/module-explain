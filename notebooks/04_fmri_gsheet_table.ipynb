{
 "cells": [
  {
   "cell_type": "code",
   "execution_count": 6,
   "metadata": {},
   "outputs": [
    {
     "name": "stdout",
     "output_type": "stream",
     "text": [
      "The autoreload extension is already loaded. To reload it, use:\n",
      "  %reload_ext autoreload\n"
     ]
    }
   ],
   "source": [
    "%load_ext autoreload\n",
    "%autoreload 2\n",
    "import os\n",
    "import matplotlib.pyplot as plt\n",
    "import seaborn as sns\n",
    "from os.path import join\n",
    "from tqdm import tqdm\n",
    "import pandas as pd\n",
    "import sys\n",
    "from typing import List\n",
    "import numpy as np\n",
    "import joblib\n",
    "from mprompt.modules.fmri_module import SAVE_DIR_FMRI\n",
    "import imodelsx.util\n",
    "from mprompt.modules.emb_diff_module import EmbDiffModule\n",
    "import scipy.stats\n",
    "from mprompt.methods.m4_evaluate import D5_Validator\n",
    "import torch.cuda\n",
    "num_top_test_ngrams = 75\n",
    "# r = (pd.read_pickle('../results/results_fmri.pkl')\n",
    "    # .sort_values(by=['top_score_synthetic'], ascending=False))\n",
    "r = (pd.read_pickle('../results/results_fmri_full.pkl')\n",
    "    .sort_values(by=['top_score_synthetic'], ascending=False))\n",
    "# r = r[r.subject == 'UTS02']"
   ]
  },
  {
   "cell_type": "code",
   "execution_count": 8,
   "metadata": {},
   "outputs": [
    {
     "data": {
      "text/html": [
       "<div>\n",
       "<style scoped>\n",
       "    .dataframe tbody tr th:only-of-type {\n",
       "        vertical-align: middle;\n",
       "    }\n",
       "\n",
       "    .dataframe tbody tr th {\n",
       "        vertical-align: top;\n",
       "    }\n",
       "\n",
       "    .dataframe thead th {\n",
       "        text-align: right;\n",
       "    }\n",
       "</style>\n",
       "<table border=\"1\" class=\"dataframe\">\n",
       "  <thead>\n",
       "    <tr style=\"text-align: right;\">\n",
       "      <th></th>\n",
       "      <th>Subject</th>\n",
       "      <th>Voxel</th>\n",
       "      <th>ROI (functional)</th>\n",
       "      <th>ROI (anatomical)</th>\n",
       "      <th>Correlation (test)</th>\n",
       "      <th>Synthetic data score</th>\n",
       "      <th>Fraction of matching ngrams (module, top-75)</th>\n",
       "      <th>Correlation (test) when predicting with only explanation</th>\n",
       "      <th>Explanation</th>\n",
       "      <th>Matching top ngrams (out of top-75)</th>\n",
       "      <th>All top ngrams (top-25)</th>\n",
       "      <th>Explanation candidates</th>\n",
       "    </tr>\n",
       "  </thead>\n",
       "  <tbody>\n",
       "    <tr>\n",
       "      <th>725</th>\n",
       "      <td>UTS02</td>\n",
       "      <td>220</td>\n",
       "      <td>[ATFP]</td>\n",
       "      <td>[parstriangularis]</td>\n",
       "      <td>0.545</td>\n",
       "      <td>0.249</td>\n",
       "      <td>0.640</td>\n",
       "      <td>-0.015</td>\n",
       "      <td>physical actions, such as cutting, slapping, taping, and inhaling</td>\n",
       "      <td>[throat was slit, gargling, hugged them inhaling, snapped his neck, couple hard thwacks, inhaling, knife and slit, seal meat, taping their wounds, scrubbing pans angrily, karate chopped, bits of flesh, abdominal thrusts, dumps raw sewage, kicking sand, tapping the fabric, shave their, have thinly sliced, finger his, thinly sliced, four broken ribs, crushing my rib, a hard slap, duct taping their, hard thwacks, clench my jaw, stripped and spit, fill our lungs, slit that neck, gargling for, spit on, cook the tenderloin, hard slap and, the vice grip, gaffers tape, scrubbing pans, smite their brows, slapping his behind, shake chile powder, they gaffers tape, nose is bleeding, buttered slices, fists clutching, gagging and drooling, mother put sausages, scalp wounds, spitting, taping their burns]</td>\n",
       "      <td>[throat was slit, gargling, hugged them inhaling, snapped his neck, half inch chunks, couple hard thwacks, inhaling, knife and slit, seal meat, taping their wounds, lob rhetorical grenades, scrubbing pans angrily, karate chopped, cucumber and mayonnaise, fifty percent sawdust, bits of flesh, sugar cubes delicately, abdominal thrusts, dumps raw sewage, kicking sand, dry heaving, tapping the fabric, a ritalin drip, shave their, have thinly sliced]</td>\n",
       "      <td>[physical actions, such as cutting, slapping, taping, and inhaling, physical action, physical actions, physical violence or injury, physical violence or aggression]</td>\n",
       "    </tr>\n",
       "    <tr>\n",
       "      <th>999</th>\n",
       "      <td>UTS02</td>\n",
       "      <td>449</td>\n",
       "      <td>[pSTS, ATFP]</td>\n",
       "      <td>[middletemporal]</td>\n",
       "      <td>0.464</td>\n",
       "      <td>0.210</td>\n",
       "      <td>0.733</td>\n",
       "      <td>0.065</td>\n",
       "      <td>language, either in the form of words, phrases, slogans, mottos, or metaphors</td>\n",
       "      <td>[seventh grade slurs, naming the phenomenon, scientific name for, ithe school motto, the word contractions, adopted this vocabulary, like creationist biology, writing his obituary, a euphemism, new advertising slogan, the terrible disease, the common refrain, kitchen nickname, euphemism for, to ethnically stereotype, figurative language, 's company tagline, this a stillbirth, creationist biology, remember this mantra, was his mantra, called the unboyfriend, mottoes and catchphrases, again this mantra, our vows unimpeachable, 's first commandment, resonant as metaphor, of flirty banter, game 's tagline, couched in terms, conception unnatural, modern computer terminology, advertising slogan diet, care a euphemism, first kitchen nickname, park your attitudinal, dialing the unboyfriend, nasa mission statement, snide comment, the founding document, to the anthropocene, crop the paradigmatic, call my president, our official religion, its scientific name, three month prognosis, theater slogan, read social cues, biologically monotonous, first commandment, the unboyfriend, boyish almost biblical, new mission statement, this big machismo, a scientific name]</td>\n",
       "      <td>[area codes pseudonyms, personality any diagnosis, seventh grade slurs, naming the phenomenon, notes sounded aerobic, scientific name for, ithe school motto, the word contractions, dictate her geography, adopted this vocabulary, like creationist biology, catalysts like jaywalking, writing his obituary, like the anthropocene, a euphemism, named for tetraminoes, new advertising slogan, the terrible disease, the common refrain, kitchen nickname, euphemism for, to ethnically stereotype, figurative language, 's company tagline, terms of production]</td>\n",
       "      <td>[language, either in the form of words, phrases, slogans, mottos, or metaphors, language, either in terms of words, phrases, or slogans, phrases, words, or concepts, phrases or terms related to language, communication, and/or culture, language, either in terms of words, phrases, or expressions]</td>\n",
       "    </tr>\n",
       "    <tr>\n",
       "      <th>855</th>\n",
       "      <td>UTS02</td>\n",
       "      <td>426</td>\n",
       "      <td>[ATFP, AC]</td>\n",
       "      <td>[middletemporal]</td>\n",
       "      <td>0.581</td>\n",
       "      <td>0.207</td>\n",
       "      <td>0.240</td>\n",
       "      <td>0.036</td>\n",
       "      <td>laughter or amusement</td>\n",
       "      <td>[asked i laughed, she laughed cause, fridge i laughed, funny everybody laughs, of laughed because, what funny girl, funny guy, she started laughing, i started laughing, the surprise laughter, laughed cause she, of chuckled and, says funny girl, n't finished laughing, i laughed and, hear boys laughing, started to laugh, starte to laugh]</td>\n",
       "      <td>[asked i laughed, i provoked gasps, she laughed cause, fridge i laughed, was very confused, five like okay, funny everybody laughs, eyed her suspiciously, no one laughs, said oh ok, of laughed because, twenty okay so, felt so betrayed, said oh okay, i thought dammit, knew what was, what funny girl, funny guy, euphemism for, explains her name, she started laughing, i started laughing, was no laughter, cousin would explain, instant i thought]</td>\n",
       "      <td>[laughter or amusement, a reaction or response to something, verbal or nonverbal communication, verbal or nonverbal communication, such as laughing, gasping, speaking, or making facial expressions]</td>\n",
       "    </tr>\n",
       "  </tbody>\n",
       "</table>\n",
       "</div>"
      ],
      "text/plain": [
       "    Subject  Voxel ROI (functional)    ROI (anatomical)  Correlation (test)  \\\n",
       "725  UTS02   220    [ATFP]           [parstriangularis]  0.545                \n",
       "999  UTS02   449    [pSTS, ATFP]     [middletemporal]    0.464                \n",
       "855  UTS02   426    [ATFP, AC]       [middletemporal]    0.581                \n",
       "\n",
       "     Synthetic data score  Fraction of matching ngrams (module, top-75)  \\\n",
       "725  0.249                 0.640                                          \n",
       "999  0.210                 0.733                                          \n",
       "855  0.207                 0.240                                          \n",
       "\n",
       "     Correlation (test) when predicting with only explanation  \\\n",
       "725 -0.015                                                      \n",
       "999  0.065                                                      \n",
       "855  0.036                                                      \n",
       "\n",
       "                                                                       Explanation  \\\n",
       "725  physical actions, such as cutting, slapping, taping, and inhaling               \n",
       "999  language, either in the form of words, phrases, slogans, mottos, or metaphors   \n",
       "855  laughter or amusement                                                           \n",
       "\n",
       "                                                                                                                                                                                                                                                                                                                                                                                                                                                                                                                                                                                                                                                                                                                                                                                                                                                                                                                                                                                                                                                                                                                                                                               Matching top ngrams (out of top-75)  \\\n",
       "725  [throat was slit, gargling, hugged them inhaling, snapped his neck, couple hard thwacks, inhaling, knife and slit, seal meat, taping their wounds, scrubbing pans angrily, karate chopped, bits of flesh, abdominal thrusts, dumps raw sewage, kicking sand, tapping the fabric, shave their, have thinly sliced, finger his, thinly sliced, four broken ribs, crushing my rib, a hard slap, duct taping their, hard thwacks, clench my jaw, stripped and spit, fill our lungs, slit that neck, gargling for, spit on, cook the tenderloin, hard slap and, the vice grip, gaffers tape, scrubbing pans, smite their brows, slapping his behind, shake chile powder, they gaffers tape, nose is bleeding, buttered slices, fists clutching, gagging and drooling, mother put sausages, scalp wounds, spitting, taping their burns]                                                                                                                                                                                                                                                                                                                                                                               \n",
       "999  [seventh grade slurs, naming the phenomenon, scientific name for, ithe school motto, the word contractions, adopted this vocabulary, like creationist biology, writing his obituary, a euphemism, new advertising slogan, the terrible disease, the common refrain, kitchen nickname, euphemism for, to ethnically stereotype, figurative language, 's company tagline, this a stillbirth, creationist biology, remember this mantra, was his mantra, called the unboyfriend, mottoes and catchphrases, again this mantra, our vows unimpeachable, 's first commandment, resonant as metaphor, of flirty banter, game 's tagline, couched in terms, conception unnatural, modern computer terminology, advertising slogan diet, care a euphemism, first kitchen nickname, park your attitudinal, dialing the unboyfriend, nasa mission statement, snide comment, the founding document, to the anthropocene, crop the paradigmatic, call my president, our official religion, its scientific name, three month prognosis, theater slogan, read social cues, biologically monotonous, first commandment, the unboyfriend, boyish almost biblical, new mission statement, this big machismo, a scientific name]   \n",
       "855  [asked i laughed, she laughed cause, fridge i laughed, funny everybody laughs, of laughed because, what funny girl, funny guy, she started laughing, i started laughing, the surprise laughter, laughed cause she, of chuckled and, says funny girl, n't finished laughing, i laughed and, hear boys laughing, started to laugh, starte to laugh]                                                                                                                                                                                                                                                                                                                                                                                                                                                                                                                                                                                                                                                                                                                                                                                                                                                               \n",
       "\n",
       "                                                                                                                                                                                                                                                                                                                                                                                                                                                                                                                                                   All top ngrams (top-25)  \\\n",
       "725  [throat was slit, gargling, hugged them inhaling, snapped his neck, half inch chunks, couple hard thwacks, inhaling, knife and slit, seal meat, taping their wounds, lob rhetorical grenades, scrubbing pans angrily, karate chopped, cucumber and mayonnaise, fifty percent sawdust, bits of flesh, sugar cubes delicately, abdominal thrusts, dumps raw sewage, kicking sand, dry heaving, tapping the fabric, a ritalin drip, shave their, have thinly sliced]                                                                                                       \n",
       "999  [area codes pseudonyms, personality any diagnosis, seventh grade slurs, naming the phenomenon, notes sounded aerobic, scientific name for, ithe school motto, the word contractions, dictate her geography, adopted this vocabulary, like creationist biology, catalysts like jaywalking, writing his obituary, like the anthropocene, a euphemism, named for tetraminoes, new advertising slogan, the terrible disease, the common refrain, kitchen nickname, euphemism for, to ethnically stereotype, figurative language, 's company tagline, terms of production]   \n",
       "855  [asked i laughed, i provoked gasps, she laughed cause, fridge i laughed, was very confused, five like okay, funny everybody laughs, eyed her suspiciously, no one laughs, said oh ok, of laughed because, twenty okay so, felt so betrayed, said oh okay, i thought dammit, knew what was, what funny girl, funny guy, euphemism for, explains her name, she started laughing, i started laughing, was no laughter, cousin would explain, instant i thought]                                                                                                            \n",
       "\n",
       "                                                                                                                                                                                                                                                                                      Explanation candidates  \n",
       "725  [physical actions, such as cutting, slapping, taping, and inhaling, physical action, physical actions, physical violence or injury, physical violence or aggression]                                                                                                                                     \n",
       "999  [language, either in the form of words, phrases, slogans, mottos, or metaphors, language, either in terms of words, phrases, or slogans, phrases, words, or concepts, phrases or terms related to language, communication, and/or culture, language, either in terms of words, phrases, or expressions]  \n",
       "855  [laughter or amusement, a reaction or response to something, verbal or nonverbal communication, verbal or nonverbal communication, such as laughing, gasping, speaking, or making facial expressions]                                                                                                    "
      ]
     },
     "metadata": {},
     "output_type": "display_data"
    }
   ],
   "source": [
    "columns = {\n",
    "    # fmri stuff\n",
    "    'subject': 'Subject',\n",
    "    'module_num': 'Voxel',\n",
    "    'roi_func': 'ROI (functional)',\n",
    "    'roi_anat': 'ROI (anatomical)',\n",
    "    'fmri_test_corr': 'Correlation (test)',\n",
    "    \n",
    "    # scores\n",
    "    'top_score_synthetic': 'Synthetic data score',\n",
    "    'frac_top_ngrams_module_correct': 'Fraction of matching ngrams (module, top-75)',\n",
    "    'rankcorr_expl_test': 'Correlation (test) when predicting with only explanation',\n",
    "    # 'frac_top_ngrams_test_correct': 'Fraction of matching ngrams (test, top-75)',\n",
    "            \n",
    "    # explanation\n",
    "    'top_explanation_init_strs': 'Explanation',\n",
    "        \n",
    "    # ngrams matching the explanation (used 75 ngrams)\n",
    "    'top_ngrams_module_correct': 'Matching top ngrams (out of top-75)',\n",
    "    # 'top_ngrams_test_correct': 'Matching ngrams (test, top-75)',\n",
    "\n",
    "    # all ngrams\n",
    "    'top_ngrams_module_25': 'All top ngrams (top-25)',\n",
    "    # 'top_ngrams_test_25': 'Top ngrams (test, top-25)',\n",
    "\n",
    "    # alternative explanations\n",
    "    'explanation_init_strs': 'Explanation candidates',\n",
    "}\n",
    "\n",
    "tab = (\n",
    "    r\n",
    "    .sort_values(by=['top_score_synthetic'], ascending=False)\n",
    "    # .sort_values(by=['rankcorr_expl_test'], ascending=False)\n",
    "    .filter(columns.keys())\n",
    "    .rename(columns=columns)\n",
    "    .round(3)\n",
    ")\n",
    "with pd.option_context('display.max_colwidth', -1, 'display.max_rows', 200):\n",
    "    display(\n",
    "        tab.head(3)\n",
    "    )\n",
    "    tab_join_lists = tab.applymap(lambda x: ' __ '.join(x) if isinstance(x, np.ndarray) or isinstance(x, list) else x)\n",
    "    tab_join_lists.to_csv('../results/results_fmri.csv', index=False, float_format='%.3f')"
   ]
  },
  {
   "cell_type": "code",
   "execution_count": 4,
   "metadata": {},
   "outputs": [
    {
     "name": "stderr",
     "output_type": "stream",
     "text": [
      "100%|██████████| 1/1 [00:00<00:00, 1746.17it/s]\n"
     ]
    }
   ],
   "source": [
    "dsets = joblib.load(join(SAVE_DIR_FMRI, 'stories', 'running_words.jbl'))\n",
    "\n",
    "for i in tqdm(range(1)):\n",
    "    row = r.iloc[i]\n",
    "    resp = dsets[row['subject']]['resp'][:, row['module_num']]\n",
    "    neg_dists = row['neg_dists_expl_test']"
   ]
  },
  {
   "cell_type": "code",
   "execution_count": 5,
   "metadata": {},
   "outputs": [
    {
     "data": {
      "image/png": "[encoded data removed]",
      "text/plain": [
       "<Figure size 640x480 with 1 Axes>"
      ]
     },
     "metadata": {},
     "output_type": "display_data"
    }
   ],
   "source": [
    "plt.hist(r['rankcorr_expl_test'], alpha=0.5) #, bins=20)\n",
    "plt.axvline(0, color='gray', linestyle='dashed')\n",
    "plt.ylabel('Count')\n",
    "\n",
    "# draw vertical line at mean and add text label\n",
    "plt.axvline(r['rankcorr_expl_test'].mean(), color='maroon')\n",
    "mean_and_std_err_string = f\"Mean: {r['rankcorr_expl_test'].mean():.3f} $\\pm$ {r['rankcorr_expl_test'].std() / np.sqrt(r['rankcorr_expl_test'].size):.3f}\"\n",
    "plt.text(r['rankcorr_expl_test'].mean() + 0.01, 0.5, mean_and_std_err_string, rotation=0, fontsize=12, color='maroon')\n",
    "plt.xlabel('Rank correlation (explanation, test)')\n",
    "plt.show()\n",
    "\n",
    "# with pd.option_context('display.max_colwidth', -1, 'display.max_rows', 200):\n",
    "#     display(\n",
    "#         r.sort_values(by=['rankcorr_expl_test'], ascending=False)[['top_explanation_init_strs', 'rankcorr_expl_test', 'roi_func', 'fmri_test_corr', 'subject']].head(20)\n",
    "#     )"
   ]
  },
  {
   "attachments": {},
   "cell_type": "markdown",
   "metadata": {},
   "source": [
    "### Visualize how things relate to each other"
   ]
  },
  {
   "cell_type": "code",
   "execution_count": null,
   "metadata": {},
   "outputs": [],
   "source": [
    "scores = ['fmri_test_corr', 'top_score_synthetic', 'frac_top_ngrams_module_correct', 'rankcorr_expl_test']\n",
    "sns.pairplot(\n",
    "    r[scores], kind='reg', diag_kind='kde', plot_kws={'scatter_kws': {'alpha': 0.1}}, markers='.',\n",
    "    height=3, aspect=2,\n",
    "    corner=True\n",
    "    )\n",
    "plt.show()"
   ]
  }
 ],
 "metadata": {
  "kernelspec": {
   "display_name": ".llm",
   "language": "python",
   "name": "python3"
  },
  "language_info": {
   "codemirror_mode": {
    "name": "ipython",
    "version": 3
   },
   "file_extension": ".py",
   "mimetype": "text/x-python",
   "name": "python",
   "nbconvert_exporter": "python",
   "pygments_lexer": "ipython3",
   "version": "3.9.16"
  },
  "orig_nbformat": 4,
  "vscode": {
   "interpreter": {
    "hash": "a9ff692d44ea03fd8a03facee7621117bbbb82def09bacaacf0a2cbc238b7b91"
   }
  }
 },
 "nbformat": 4,
 "nbformat_minor": 2
}
