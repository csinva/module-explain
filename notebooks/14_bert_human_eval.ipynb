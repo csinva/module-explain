{
 "cells": [
  {
   "cell_type": "code",
   "execution_count": 50,
   "metadata": {},
   "outputs": [
    {
     "name": "stdout",
     "output_type": "stream",
     "text": [
      "The autoreload extension is already loaded. To reload it, use:\n",
      "  %reload_ext autoreload\n"
     ]
    },
    {
     "data": {
      "text/html": [
       "<div>\n",
       "<style scoped>\n",
       "    .dataframe tbody tr th:only-of-type {\n",
       "        vertical-align: middle;\n",
       "    }\n",
       "\n",
       "    .dataframe tbody tr th {\n",
       "        vertical-align: top;\n",
       "    }\n",
       "\n",
       "    .dataframe thead th {\n",
       "        text-align: right;\n",
       "    }\n",
       "</style>\n",
       "<table border=\"1\" class=\"dataframe\">\n",
       "  <thead>\n",
       "    <tr style=\"text-align: right;\">\n",
       "      <th></th>\n",
       "      <th>factor_layer</th>\n",
       "      <th>factor_idx</th>\n",
       "      <th>explanation_human</th>\n",
       "      <th>score_human</th>\n",
       "      <th>score_recovered</th>\n",
       "    </tr>\n",
       "  </thead>\n",
       "  <tbody>\n",
       "    <tr>\n",
       "      <th>0</th>\n",
       "      <td>4</td>\n",
       "      <td>13</td>\n",
       "      <td>[Numerical values.]</td>\n",
       "      <td>-0.214344</td>\n",
       "      <td>-0.076868</td>\n",
       "    </tr>\n",
       "    <tr>\n",
       "      <th>1</th>\n",
       "      <td>10</td>\n",
       "      <td>42</td>\n",
       "      <td>[Something unfortunate happened.]</td>\n",
       "      <td>2.427799</td>\n",
       "      <td>1.970631</td>\n",
       "    </tr>\n",
       "    <tr>\n",
       "      <th>2</th>\n",
       "      <td>0</td>\n",
       "      <td>30</td>\n",
       "      <td>[left. Adjective or Verb. Mixed senses.]</td>\n",
       "      <td>3.681089</td>\n",
       "      <td>5.868305</td>\n",
       "    </tr>\n",
       "    <tr>\n",
       "      <th>3</th>\n",
       "      <td>4</td>\n",
       "      <td>47</td>\n",
       "      <td>[plants. Noun. vegetation.]</td>\n",
       "      <td>6.263338</td>\n",
       "      <td>5.044046</td>\n",
       "    </tr>\n",
       "    <tr>\n",
       "      <th>4</th>\n",
       "      <td>10</td>\n",
       "      <td>152</td>\n",
       "      <td>[In some locations.]</td>\n",
       "      <td>-0.410130</td>\n",
       "      <td>0.029060</td>\n",
       "    </tr>\n",
       "  </tbody>\n",
       "</table>\n",
       "</div>"
      ],
      "text/plain": [
       "   factor_layer  factor_idx                         explanation_human   \n",
       "0             4          13                       [Numerical values.]  \\\n",
       "1            10          42         [Something unfortunate happened.]   \n",
       "2             0          30  [left. Adjective or Verb. Mixed senses.]   \n",
       "3             4          47               [plants. Noun. vegetation.]   \n",
       "4            10         152                      [In some locations.]   \n",
       "\n",
       "   score_human  score_recovered  \n",
       "0    -0.214344        -0.076868  \n",
       "1     2.427799         1.970631  \n",
       "2     3.681089         5.868305  \n",
       "3     6.263338         5.044046  \n",
       "4    -0.410130         0.029060  "
      ]
     },
     "execution_count": 50,
     "metadata": {},
     "output_type": "execute_result"
    }
   ],
   "source": [
    "%load_ext autoreload\n",
    "%autoreload 2\n",
    "import os\n",
    "import seaborn as sns\n",
    "from os.path import join\n",
    "from tqdm import tqdm\n",
    "import pandas as pd\n",
    "import sys\n",
    "from IPython.display import display, HTML\n",
    "from typing import List\n",
    "import numpy as np\n",
    "from copy import deepcopy\n",
    "import re\n",
    "from spacy.tokenizer import Tokenizer\n",
    "from spacy.lang.en import English\n",
    "import pandas as pd\n",
    "import joblib\n",
    "# from mprompt.config import RESULTS_DIR\n",
    "import torch.cuda\n",
    "import json\n",
    "from sklearn.linear_model import RidgeCV\n",
    "import pandas as pd\n",
    "import re\n",
    "import sklearn.decomposition\n",
    "import pyLDAvis\n",
    "import pyLDAvis.lda_model\n",
    "import numpy as np\n",
    "from sklearn.manifold import TSNE\n",
    "from nltk.tokenize import word_tokenize\n",
    "import adjustText\n",
    "import numpy as np\n",
    "import pandas as pd\n",
    "import seaborn as sns\n",
    "import matplotlib.pyplot as plt\n",
    "\n",
    "from sklearn.feature_extraction.text import CountVectorizer\n",
    "from sklearn.decomposition import LatentDirichletAllocation\n",
    "import joblib\n",
    "import os\n",
    "from os.path import join\n",
    "from tqdm import tqdm\n",
    "from mprompt.config import RESULTS_DIR\n",
    "\n",
    "HUMAN_EVAL_DIR = join(RESULTS_DIR, 'bert', 'human_eval')\n",
    "# f'b_l{factor_layer}_i{factor_idx}')\n",
    "fnames = os.listdir(HUMAN_EVAL_DIR)\n",
    "evals = []\n",
    "for fname in fnames:\n",
    "    fdir = os.listdir(join(HUMAN_EVAL_DIR, fname))[0]\n",
    "    evals.append(joblib.load(join(HUMAN_EVAL_DIR, fname, fdir, 'eval.pkl')))\n",
    "df = pd.DataFrame([pd.Series(x) for x in evals])\n",
    "scores_recovered = joblib.load(join(RESULTS_DIR, 'bert', 'wiki_norm_std', 'wiki_our_syn_perc_std_score.pkl'))\n",
    "df = df[['factor_layer', 'factor_idx', 'explanation_init_strs', 'score_synthetic_std']]\n",
    "df['score_synthetic_std'] = df['score_synthetic_std'].apply(lambda x: x[0][0]).astype(float)\n",
    "df['score_recovered'] = df.apply(lambda x: scores_recovered[x['factor_layer']][x['factor_idx']], axis=1)\n",
    "df = df.rename(\n",
    "    columns={\n",
    "        'explanation_init_strs': 'explanation_human',\n",
    "        'score_synthetic_std': 'score_human',\n",
    "    }\n",
    ")\n",
    "df.to_pickle(join(RESULTS_DIR, 'results_bert_human_eval.pkl'))\n",
    "df.head()"
   ]
  },
  {
   "cell_type": "code",
   "execution_count": 47,
   "metadata": {},
   "outputs": [
    {
     "name": "stdout",
     "output_type": "stream",
     "text": [
      "score_human        1.039322\n",
      "score_recovered    1.603441\n",
      "dtype: float64\n"
     ]
    }
   ],
   "source": [
    "print(df[['score_human', 'score_recovered']].mean())\n",
    "# print(df_human[['score_human', 'score_recovered']].sem())"
   ]
  },
  {
   "cell_type": "code",
   "execution_count": 49,
   "metadata": {},
   "outputs": [
    {
     "name": "stdout",
     "output_type": "stream",
     "text": [
      "win percentage 0.6129032258064516\n"
     ]
    }
   ],
   "source": [
    "print('win percentage', (df['score_recovered'] > df['score_human']).mean())"
   ]
  }
 ],
 "metadata": {
  "kernelspec": {
   "display_name": ".llm",
   "language": "python",
   "name": "python3"
  },
  "language_info": {
   "codemirror_mode": {
    "name": "ipython",
    "version": 3
   },
   "file_extension": ".py",
   "mimetype": "text/x-python",
   "name": "python",
   "nbconvert_exporter": "python",
   "pygments_lexer": "ipython3",
   "version": "3.11.3"
  },
  "orig_nbformat": 4,
  "vscode": {
   "interpreter": {
    "hash": "a9ff692d44ea03fd8a03facee7621117bbbb82def09bacaacf0a2cbc238b7b91"
   }
  }
 },
 "nbformat": 4,
 "nbformat_minor": 2
}
