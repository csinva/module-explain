{
 "cells": [
  {
   "cell_type": "code",
   "execution_count": 27,
   "metadata": {},
   "outputs": [],
   "source": [
    "%load_ext autoreload\n",
    "%autoreload 2\n",
    "import os\n",
    "import matplotlib.pyplot as plt\n",
    "import seaborn as sns\n",
    "from os.path import join\n",
    "from tqdm import tqdm\n",
    "import pandas as pd\n",
    "import sys\n",
    "from IPython.display import display, HTML\n",
    "from typing import List\n",
    "import numpy as np\n",
    "import matplotlib"
   ]
  },
  {
   "cell_type": "markdown",
   "metadata": {},
   "source": [
    "# Get prompts"
   ]
  },
  {
   "cell_type": "code",
   "execution_count": 6,
   "metadata": {},
   "outputs": [],
   "source": [
    "expls = [\n",
    "    'baseball',\n",
    "    'animals',\n",
    "    'water',\n",
    "]"
   ]
  },
  {
   "cell_type": "code",
   "execution_count": 16,
   "metadata": {},
   "outputs": [],
   "source": [
    "prompt_init = 'Write the beginning paragraph of a story about {expl}. Make sure it contains several references to {expl}.'\n",
    "prompt_continue = 'Write the next paragraph of the story, but now make it about {expl}.'"
   ]
  },
  {
   "cell_type": "code",
   "execution_count": 17,
   "metadata": {},
   "outputs": [],
   "source": [
    "prompts = [prompt_init.format(expl=expls[0])] + [prompt_continue.format(expl=expl) for expl in expls[1:]]"
   ]
  },
  {
   "cell_type": "code",
   "execution_count": 18,
   "metadata": {},
   "outputs": [
    {
     "name": "stdout",
     "output_type": "stream",
     "text": [
      "Write the beginning paragraph of a story about baseball. Make sure it contains several references to baseball.\n",
      "Write the next paragraph of the story, but now make it about animals.\n",
      "Write the next paragraph of the story, but now make it about water.\n"
     ]
    }
   ],
   "source": [
    "for prompt in prompts:\n",
    "    print(prompt)"
   ]
  },
  {
   "attachments": {},
   "cell_type": "markdown",
   "metadata": {},
   "source": [
    "# Get data"
   ]
  },
  {
   "cell_type": "code",
   "execution_count": 19,
   "metadata": {},
   "outputs": [],
   "source": [
    "# Using chatbot for now\n",
    "paragraphs = [\n",
    "    \"The crack of the bat echoed through the stadium as the pitcher windmilled his arm and fired a fastball down the middle of the plate. The batter's eyes lit up as he swung with all his might, sending the ball sailing high into the sky. The center fielder raced back, tracking the ball's flight with a keen eye, ready to make the catch. The crowd held its breath as the ball descended, coming closer and closer to the fielder's outstretched glove. With a satisfying thud, the ball landed squarely in the pocket, and the center fielder triumphantly jogged off the field. It was just another day at the ballpark, where the crack of the bat and the roar of the crowd were the soundtrack to America's favorite pastime: baseball.\",\n",
    "    \"As the center fielder jogged off the field, a family of ducks waddled onto the grass. The mother duck led her ducklings towards a small pond near the outfield, quacking softly to each other. The players watched in amusement as the ducks made themselves at home, seemingly oblivious to the fact that they were in the middle of a baseball game. Suddenly, a squirrel darted across the field, causing the ducks to scatter in all directions. The players laughed as they watched the animals go about their business, momentarily forgetting about the game they were playing. It was a reminder that, despite all the excitement and drama of the sport, the natural world continued to carry on around them.\",\n",
    "    \"In the distance, the sound of crashing waves could be heard, a reminder that the stadium was located just a stone's throw away from the ocean. The salty sea air mingled with the smell of freshly cut grass, creating a unique aroma that was both refreshing and invigorating. As the game went on, the temperature began to rise, and fans could be seen fanning themselves with whatever they could find. Suddenly, a gust of wind picked up, and a fine mist sprayed over the crowd, providing some much-needed relief. The players on the field looked up as they felt the cool droplets on their skin, grateful for the natural air conditioning that the ocean breeze provided.\",\n",
    "]"
   ]
  },
  {
   "cell_type": "markdown",
   "metadata": {},
   "source": [
    "# Visualize data heatmap"
   ]
  },
  {
   "cell_type": "markdown",
   "metadata": {},
   "source": [
    "### Get embedding dists"
   ]
  },
  {
   "cell_type": "code",
   "execution_count": null,
   "metadata": {},
   "outputs": [],
   "source": []
  },
  {
   "cell_type": "markdown",
   "metadata": {},
   "source": [
    "### Colorize and save"
   ]
  },
  {
   "cell_type": "code",
   "execution_count": 42,
   "metadata": {},
   "outputs": [
    {
     "data": {
      "text/html": [
       "<h3>baseball</h3>\n",
       "<span class=\"barcode\"; style=\"color: black; background-color: #8ac0db\">&nbspThe&nbsp</span><span class=\"barcode\"; style=\"color: black; background-color: #b82531\">&nbspcrack&nbsp</span><span class=\"barcode\"; style=\"color: black; background-color: #e3edf3\">&nbspof&nbsp</span><span class=\"barcode\"; style=\"color: black; background-color: #b1d5e7\">&nbspthe&nbsp</span><span class=\"barcode\"; style=\"color: black; background-color: #d2e6f0\">&nbspbat&nbsp</span><span class=\"barcode\"; style=\"color: black; background-color: #c2383a\">&nbspechoed&nbsp</span><span class=\"barcode\"; style=\"color: black; background-color: #67001f\">&nbspthrough&nbsp</span><span class=\"barcode\"; style=\"color: black; background-color: #d35a4a\">&nbspthe&nbsp</span><span class=\"barcode\"; style=\"color: black; background-color: #fddbc7\">&nbspstadium&nbsp</span><span class=\"barcode\"; style=\"color: black; background-color: #f9efe9\">&nbspas&nbsp</span><span class=\"barcode\"; style=\"color: black; background-color: #c43b3c\">&nbspthe&nbsp</span><span class=\"barcode\"; style=\"color: black; background-color: #b1d5e7\">&nbsppitcher&nbsp</span><span class=\"barcode\"; style=\"color: black; background-color: #e58368\">&nbspwindmilled&nbsp</span><span class=\"barcode\"; style=\"color: black; background-color: #c53e3d\">&nbsphis&nbsp</span><span class=\"barcode\"; style=\"color: black; background-color: #266caf\">&nbsparm&nbsp</span><span class=\"barcode\"; style=\"color: black; background-color: #c94741\">&nbspand&nbsp</span><span class=\"barcode\"; style=\"color: black; background-color: #bbdaea\">&nbspfired&nbsp</span><span class=\"barcode\"; style=\"color: black; background-color: #e58368\">&nbspa&nbsp</span><span class=\"barcode\"; style=\"color: black; background-color: #ee9677\">&nbspfastball&nbsp</span><span class=\"barcode\"; style=\"color: black; background-color: #90c4dd\">&nbspdown&nbsp</span><span class=\"barcode\"; style=\"color: black; background-color: #1a5899\">&nbspthe&nbsp</span><span class=\"barcode\"; style=\"color: black; background-color: #124984\">&nbspmiddle&nbsp</span><span class=\"barcode\"; style=\"color: black; background-color: #a81529\">&nbspof&nbsp</span><span class=\"barcode\"; style=\"color: black; background-color: #f5ac8b\">&nbspthe&nbsp</span></br><span class=\"barcode\"; style=\"color: black; background-color: #e3edf3\">&nbspplate.&nbsp</span><span class=\"barcode\"; style=\"color: black; background-color: #c84440\">&nbspThe&nbsp</span><span class=\"barcode\"; style=\"color: black; background-color: #f5a886\">&nbspbatter's&nbsp</span><span class=\"barcode\"; style=\"color: black; background-color: #2f79b5\">&nbspeyes&nbsp</span><span class=\"barcode\"; style=\"color: black; background-color: #fdddcb\">&nbsplit&nbsp</span><span class=\"barcode\"; style=\"color: black; background-color: #10457e\">&nbspup&nbsp</span><span class=\"barcode\"; style=\"color: black; background-color: #75b2d4\">&nbspas&nbsp</span><span class=\"barcode\"; style=\"color: black; background-color: #f2a17f\">&nbsphe&nbsp</span><span class=\"barcode\"; style=\"color: black; background-color: #408fc1\">&nbspswung&nbsp</span><span class=\"barcode\"; style=\"color: black; background-color: #90c4dd\">&nbspwith&nbsp</span><span class=\"barcode\"; style=\"color: black; background-color: #276eb0\">&nbspall&nbsp</span><span class=\"barcode\"; style=\"color: black; background-color: #ecf2f5\">&nbsphis&nbsp</span><span class=\"barcode\"; style=\"color: black; background-color: #a2cde3\">&nbspmight,&nbsp</span><span class=\"barcode\"; style=\"color: black; background-color: #2a71b2\">&nbspsending&nbsp</span><span class=\"barcode\"; style=\"color: black; background-color: #96c7df\">&nbspthe&nbsp</span><span class=\"barcode\"; style=\"color: black; background-color: #d35a4a\">&nbspball&nbsp</span><span class=\"barcode\"; style=\"color: black; background-color: #ddebf2\">&nbspsailing&nbsp</span><span class=\"barcode\"; style=\"color: black; background-color: #fcd3bc\">&nbsphigh&nbsp</span><span class=\"barcode\"; style=\"color: black; background-color: #6bacd1\">&nbspinto&nbsp</span><span class=\"barcode\"; style=\"color: black; background-color: #6a011f\">&nbspthe&nbsp</span><span class=\"barcode\"; style=\"color: black; background-color: #0d3f76\">&nbspsky.&nbsp</span><span class=\"barcode\"; style=\"color: black; background-color: #10457e\">&nbspThe&nbsp</span><span class=\"barcode\"; style=\"color: black; background-color: #f6af8e\">&nbspcenter&nbsp</span><span class=\"barcode\"; style=\"color: black; background-color: #f9c4a9\">&nbspfielder&nbsp</span></br><span class=\"barcode\"; style=\"color: black; background-color: #a5cee3\">&nbspraced&nbsp</span><span class=\"barcode\"; style=\"color: black; background-color: #0d3f76\">&nbspback,&nbsp</span><span class=\"barcode\"; style=\"color: black; background-color: #fbe5d8\">&nbsptracking&nbsp</span><span class=\"barcode\"; style=\"color: black; background-color: #fcd3bc\">&nbspthe&nbsp</span><span class=\"barcode\"; style=\"color: black; background-color: #c2ddec\">&nbspball's&nbsp</span><span class=\"barcode\"; style=\"color: black; background-color: #ecf2f5\">&nbspflight&nbsp</span><span class=\"barcode\"; style=\"color: black; background-color: #d55d4c\">&nbspwith&nbsp</span><span class=\"barcode\"; style=\"color: black; background-color: #f9efe9\">&nbspa&nbsp</span><span class=\"barcode\"; style=\"color: black; background-color: #c94741\">&nbspkeen&nbsp</span><span class=\"barcode\"; style=\"color: black; background-color: #f9efe9\">&nbspeye,&nbsp</span><span class=\"barcode\"; style=\"color: black; background-color: #62a7ce\">&nbspready&nbsp</span><span class=\"barcode\"; style=\"color: black; background-color: #b1182b\">&nbspto&nbsp</span><span class=\"barcode\"; style=\"color: black; background-color: #5fa5cd\">&nbspmake&nbsp</span><span class=\"barcode\"; style=\"color: black; background-color: #f0f4f6\">&nbspthe&nbsp</span><span class=\"barcode\"; style=\"color: black; background-color: #e8896c\">&nbspcatch.&nbsp</span><span class=\"barcode\"; style=\"color: black; background-color: #cce2ef\">&nbspThe&nbsp</span><span class=\"barcode\"; style=\"color: black; background-color: #ef9979\">&nbspcrowd&nbsp</span><span class=\"barcode\"; style=\"color: black; background-color: #760521\">&nbspheld&nbsp</span><span class=\"barcode\"; style=\"color: black; background-color: #1d5fa2\">&nbspits&nbsp</span><span class=\"barcode\"; style=\"color: black; background-color: #fae9df\">&nbspbreath&nbsp</span><span class=\"barcode\"; style=\"color: black; background-color: #c94741\">&nbspas&nbsp</span><span class=\"barcode\"; style=\"color: black; background-color: #730421\">&nbspthe&nbsp</span><span class=\"barcode\"; style=\"color: black; background-color: #f9c6ac\">&nbspball&nbsp</span><span class=\"barcode\"; style=\"color: black; background-color: #1b5a9c\">&nbspdescended,&nbsp</span></br><span class=\"barcode\"; style=\"color: black; background-color: #f7b596\">&nbspcoming&nbsp</span><span class=\"barcode\"; style=\"color: black; background-color: #c43b3c\">&nbspcloser&nbsp</span><span class=\"barcode\"; style=\"color: black; background-color: #1c5c9f\">&nbspand&nbsp</span><span class=\"barcode\"; style=\"color: black; background-color: #be3036\">&nbspcloser&nbsp</span><span class=\"barcode\"; style=\"color: black; background-color: #8d0c25\">&nbspto&nbsp</span><span class=\"barcode\"; style=\"color: black; background-color: #0f437b\">&nbspthe&nbsp</span><span class=\"barcode\"; style=\"color: black; background-color: #a0cce2\">&nbspfielder's&nbsp</span><span class=\"barcode\"; style=\"color: black; background-color: #e1edf3\">&nbspoutstretched&nbsp</span><span class=\"barcode\"; style=\"color: black; background-color: #f8bfa4\">&nbspglove.&nbsp</span><span class=\"barcode\"; style=\"color: black; background-color: #0f437b\">&nbspWith&nbsp</span><span class=\"barcode\"; style=\"color: black; background-color: #4393c3\">&nbspa&nbsp</span><span class=\"barcode\"; style=\"color: black; background-color: #e7f0f4\">&nbspsatisfying&nbsp</span><span class=\"barcode\"; style=\"color: black; background-color: #f8f4f2\">&nbspthud,&nbsp</span><span class=\"barcode\"; style=\"color: black; background-color: #bd2d35\">&nbspthe&nbsp</span><span class=\"barcode\"; style=\"color: black; background-color: #e98b6e\">&nbspball&nbsp</span><span class=\"barcode\"; style=\"color: black; background-color: #f9c2a7\">&nbsplanded&nbsp</span><span class=\"barcode\"; style=\"color: black; background-color: #be3036\">&nbspsquarely&nbsp</span><span class=\"barcode\"; style=\"color: black; background-color: #f3f5f6\">&nbspin&nbsp</span><span class=\"barcode\"; style=\"color: black; background-color: #f6b394\">&nbspthe&nbsp</span><span class=\"barcode\"; style=\"color: black; background-color: #f6f7f7\">&nbsppocket,&nbsp</span></br><span class=\"barcode\"; style=\"color: black; background-color: #deebf2\">&nbspand&nbsp</span><span class=\"barcode\"; style=\"color: black; background-color: #b82531\">&nbspthe&nbsp</span><span class=\"barcode\"; style=\"color: black; background-color: #930e26\">&nbspcenter&nbsp</span><span class=\"barcode\"; style=\"color: black; background-color: #529dc8\">&nbspfielder&nbsp</span><span class=\"barcode\"; style=\"color: black; background-color: #de735c\">&nbsptriumphantly&nbsp</span><span class=\"barcode\"; style=\"color: black; background-color: #fddcc9\">&nbspjogged&nbsp</span><span class=\"barcode\"; style=\"color: black; background-color: #246aae\">&nbspoff&nbsp</span><span class=\"barcode\"; style=\"color: black; background-color: #f9ede5\">&nbspthe&nbsp</span><span class=\"barcode\"; style=\"color: black; background-color: #fbceb7\">&nbspfield.&nbsp</span><span class=\"barcode\"; style=\"color: black; background-color: #f9f0eb\">&nbspIt&nbsp</span><span class=\"barcode\"; style=\"color: black; background-color: #96c7df\">&nbspwas&nbsp</span><span class=\"barcode\"; style=\"color: black; background-color: #b72230\">&nbspjust&nbsp</span><span class=\"barcode\"; style=\"color: black; background-color: #edf2f5\">&nbspanother&nbsp</span><span class=\"barcode\"; style=\"color: black; background-color: #a81529\">&nbspday&nbsp</span><span class=\"barcode\"; style=\"color: black; background-color: #c43b3c\">&nbspat&nbsp</span><span class=\"barcode\"; style=\"color: black; background-color: #fae9df\">&nbspthe&nbsp</span><span class=\"barcode\"; style=\"color: black; background-color: #930e26\">&nbspballpark,&nbsp</span><span class=\"barcode\"; style=\"color: black; background-color: #2b73b3\">&nbspwhere&nbsp</span><span class=\"barcode\"; style=\"color: black; background-color: #67001f\">&nbspthe&nbsp</span><span class=\"barcode\"; style=\"color: black; background-color: #fcdecd\">&nbspcrack&nbsp</span><span class=\"barcode\"; style=\"color: black; background-color: #f6af8e\">&nbspof&nbsp</span><span class=\"barcode\"; style=\"color: black; background-color: #c2383a\">&nbspthe&nbsp</span></br><span class=\"barcode\"; style=\"color: black; background-color: #c5dfec\">&nbspbat&nbsp</span><span class=\"barcode\"; style=\"color: black; background-color: #b61f2e\">&nbspand&nbsp</span><span class=\"barcode\"; style=\"color: black; background-color: #124984\">&nbspthe&nbsp</span><span class=\"barcode\"; style=\"color: black; background-color: #1e61a5\">&nbsproar&nbsp</span><span class=\"barcode\"; style=\"color: black; background-color: #db6b55\">&nbspof&nbsp</span><span class=\"barcode\"; style=\"color: black; background-color: #730421\">&nbspthe&nbsp</span><span class=\"barcode\"; style=\"color: black; background-color: #053061\">&nbspcrowd&nbsp</span><span class=\"barcode\"; style=\"color: black; background-color: #de735c\">&nbspwere&nbsp</span><span class=\"barcode\"; style=\"color: black; background-color: #a7d0e4\">&nbspthe&nbsp</span><span class=\"barcode\"; style=\"color: black; background-color: #6bacd1\">&nbspsoundtrack&nbsp</span><span class=\"barcode\"; style=\"color: black; background-color: #a51429\">&nbspto&nbsp</span><span class=\"barcode\"; style=\"color: black; background-color: #f8f2ef\">&nbspAmerica's&nbsp</span><span class=\"barcode\"; style=\"color: black; background-color: #e98b6e\">&nbspfavorite&nbsp</span><span class=\"barcode\"; style=\"color: black; background-color: #edf2f5\">&nbsppastime:&nbsp</span><span class=\"barcode\"; style=\"color: black; background-color: #e4eef4\">&nbspbaseball.&nbsp</span>"
      ],
      "text/plain": [
       "<IPython.core.display.HTML object>"
      ]
     },
     "metadata": {},
     "output_type": "display_data"
    }
   ],
   "source": [
    "def colorize(words, color_array, char_width_max=100, title: str=None):\n",
    "# words is a list of words\n",
    "# color_array is an array of numbers between 0 and 1 of length equal to words\n",
    "    cmap = matplotlib.cm.get_cmap('RdBu')\n",
    "    template = '<span class=\"barcode\"; style=\"color: black; background-color: {}\">{}</span>'\n",
    "    colored_string = ''\n",
    "    char_width = 0\n",
    "    for word, color in zip(words, color_array):\n",
    "        char_width += len(word)\n",
    "        color = matplotlib.colors.rgb2hex(cmap(color)[:3])\n",
    "        colored_string += template.format(color, '&nbsp' + word + '&nbsp')\n",
    "        if char_width >= char_width_max:\n",
    "            colored_string += '</br>'\n",
    "            char_width = 0\n",
    "\n",
    "    if title:\n",
    "        colored_string = f'<h3>{title}</h3>\\n' + colored_string\n",
    "    return colored_string\n",
    "\n",
    "\n",
    "words = paragraphs[0].split()\n",
    "color_array = np.random.rand(len(words))\n",
    "s = colorize(words, color_array, title='baseball')\n",
    "display(HTML(s))\n",
    "\n",
    "with open('colorize.html', 'w') as f:\n",
    "    f.write(s)"
   ]
  }
 ],
 "metadata": {
  "kernelspec": {
   "display_name": ".llm",
   "language": "python",
   "name": "python3"
  },
  "language_info": {
   "codemirror_mode": {
    "name": "ipython",
    "version": 3
   },
   "file_extension": ".py",
   "mimetype": "text/x-python",
   "name": "python",
   "nbconvert_exporter": "python",
   "pygments_lexer": "ipython3",
   "version": "3.9.16"
  },
  "orig_nbformat": 4,
  "vscode": {
   "interpreter": {
    "hash": "a9ff692d44ea03fd8a03facee7621117bbbb82def09bacaacf0a2cbc238b7b91"
   }
  }
 },
 "nbformat": 4,
 "nbformat_minor": 2
}
