{
 "cells": [
  {
   "cell_type": "code",
   "execution_count": 40,
   "metadata": {},
   "outputs": [
    {
     "name": "stdout",
     "output_type": "stream",
     "text": [
      "The autoreload extension is already loaded. To reload it, use:\n",
      "  %reload_ext autoreload\n"
     ]
    }
   ],
   "source": [
    "%load_ext autoreload\n",
    "%autoreload 2\n",
    "import os\n",
    "import matplotlib.pyplot as plt\n",
    "import seaborn as sns\n",
    "from os.path import join\n",
    "from tqdm import tqdm\n",
    "import pandas as pd\n",
    "import sys\n",
    "from IPython.display import display, HTML\n",
    "from typing import List\n",
    "from mprompt.modules.emb_diff_module import EmbDiffModule\n",
    "import numpy as np\n",
    "import matplotlib\n",
    "import imodelsx.util\n",
    "import re\n",
    "import mprompt.viz\n",
    "import scipy.special\n",
    "from spacy.tokenizer import Tokenizer\n",
    "from spacy.lang.en import English\n",
    "from mprompt.methods.m4_evaluate import D5_Validator\n",
    "\n",
    "def moving_average(a, n=3):\n",
    "    assert n % 2 == 1, 'n should be odd'\n",
    "    diff = n // 2\n",
    "    vals = []\n",
    "    # calculate moving average in a window 2\n",
    "    # (1, 4)\n",
    "    for i in range(diff, len(a) + diff):\n",
    "        l = i - diff\n",
    "        r = i + diff + 1\n",
    "        vals.append(np.mean(a[l: r]))\n",
    "    return np.nan_to_num(vals)\n",
    "nlp = English()\n",
    "nlp.tokenizer = Tokenizer(nlp.vocab, token_match=re.compile(r'\\S+').match) # only split on whitespace"
   ]
  },
  {
   "cell_type": "markdown",
   "metadata": {},
   "source": [
    "# Get prompts"
   ]
  },
  {
   "cell_type": "code",
   "execution_count": null,
   "metadata": {},
   "outputs": [],
   "source": [
    "expls = [\n",
    "    'baseball',\n",
    "    'animals',\n",
    "    'water',\n",
    "]"
   ]
  },
  {
   "cell_type": "code",
   "execution_count": null,
   "metadata": {},
   "outputs": [],
   "source": [
    "prompt_init = 'Write the beginning paragraph of a story about {expl}. Make sure it contains several references to {expl}.'\n",
    "prompt_continue = 'Write the next paragraph of the story, but now make it about {expl}.'\n",
    "prompts = [prompt_init.format(expl=expls[0])] + [prompt_continue.format(expl=expl) for expl in expls[1:]]"
   ]
  },
  {
   "cell_type": "code",
   "execution_count": null,
   "metadata": {},
   "outputs": [],
   "source": [
    "# Using chatbot for now\n",
    "paragraphs = [\n",
    "    \"The crack of the bat echoed through the stadium as the pitcher windmilled his arm and fired a fastball down the middle of the plate. The batter's eyes lit up as he swung with all his might, sending the ball sailing high into the sky. The center fielder raced back, tracking the ball's flight with a keen eye, ready to make the catch. The crowd held its breath as the ball descended, coming closer and closer to the fielder's outstretched glove. With a satisfying thud, the ball landed squarely in the pocket, and the center fielder triumphantly jogged off the field. It was just another day at the ballpark, where the crack of the bat and the roar of the crowd were the soundtrack to America's favorite pastime: baseball.\",\n",
    "    \"As the center fielder jogged off the field, a family of ducks waddled onto the grass. The mother duck led her ducklings towards a small pond near the outfield, quacking softly to each other. The players watched in amusement as the ducks made themselves at home, seemingly oblivious to the fact that they were in the middle of a baseball game. Suddenly, a squirrel darted across the field, causing the ducks to scatter in all directions. The players laughed as they watched the animals go about their business, momentarily forgetting about the game they were playing. It was a reminder that, despite all the excitement and drama of the sport, the natural world continued to carry on around them.\",\n",
    "    \"In the distance, the sound of crashing waves could be heard, a reminder that the stadium was located just a stone's throw away from the ocean. The salty sea air mingled with the smell of freshly cut grass, creating a unique aroma that was both refreshing and invigorating. As the game went on, the temperature began to rise, and fans could be seen fanning themselves with whatever they could find. Suddenly, a gust of wind picked up, and a fine mist sprayed over the crowd, providing some much-needed relief. The players on the field looked up as they felt the cool droplets on their skin, grateful for the natural air conditioning that the ocean breeze provided.\",\n",
    "]"
   ]
  },
  {
   "cell_type": "markdown",
   "metadata": {},
   "source": [
    "# Visualize data heatmap"
   ]
  },
  {
   "cell_type": "markdown",
   "metadata": {},
   "source": [
    "### Get embedding dists"
   ]
  },
  {
   "cell_type": "code",
   "execution_count": null,
   "metadata": {},
   "outputs": [],
   "source": [
    "mod = EmbDiffModule()"
   ]
  },
  {
   "cell_type": "code",
   "execution_count": null,
   "metadata": {},
   "outputs": [],
   "source": [
    "val = D5_Validator()"
   ]
  },
  {
   "cell_type": "code",
   "execution_count": 42,
   "metadata": {},
   "outputs": [
    {
     "data": {
      "text/html": [
       "<h3>baseball</h3>\n",
       "<h5>Write the beginning paragraph of a story about baseball. Make sure it contains several references to baseball.</h5>\n",
       "<span class=\"barcode\"; style=\"color: black; background-color: #21918c\">&nbspthe&nbsp</span><span class=\"barcode\"; style=\"color: black; background-color: #21918c\">&nbspcrack&nbsp</span><span class=\"barcode\"; style=\"color: black; background-color: #35b779\">&nbspof&nbsp</span><span class=\"barcode\"; style=\"color: black; background-color: #35b779\">&nbspthe&nbsp</span><span class=\"barcode\"; style=\"color: black; background-color: #35b779\">&nbspbat&nbsp</span><span class=\"barcode\"; style=\"color: black; background-color: #21918c\">&nbspechoed&nbsp</span><span class=\"barcode\"; style=\"color: black; background-color: #21918c\">&nbspthrough&nbsp</span><span class=\"barcode\"; style=\"color: black; background-color: #21918c\">&nbspthe&nbsp</span><span class=\"barcode\"; style=\"color: black; background-color: #21918c\">&nbspstadium&nbsp</span><span class=\"barcode\"; style=\"color: black; background-color: #35b779\">&nbspas&nbsp</span><span class=\"barcode\"; style=\"color: black; background-color: #90d743\">&nbspthe&nbsp</span><span class=\"barcode\"; style=\"color: black; background-color: #fde725\">&nbsppitcher&nbsp</span><span class=\"barcode\"; style=\"color: black; background-color: #90d743\">&nbspwindmilled&nbsp</span></br><span class=\"barcode\"; style=\"color: black; background-color: #35b779\">&nbsphis&nbsp</span><span class=\"barcode\"; style=\"color: black; background-color: #21918c\">&nbsparm&nbsp</span><span class=\"barcode\"; style=\"color: black; background-color: #21918c\">&nbspand&nbsp</span><span class=\"barcode\"; style=\"color: black; background-color: #35b779\">&nbspfired&nbsp</span><span class=\"barcode\"; style=\"color: black; background-color: #90d743\">&nbspa&nbsp</span><span class=\"barcode\"; style=\"color: black; background-color: #fde725\">&nbspfastball&nbsp</span><span class=\"barcode\"; style=\"color: black; background-color: #90d743\">&nbspdown&nbsp</span><span class=\"barcode\"; style=\"color: black; background-color: #35b779\">&nbspthe&nbsp</span><span class=\"barcode\"; style=\"color: black; background-color: #21918c\">&nbspmiddle&nbsp</span><span class=\"barcode\"; style=\"color: black; background-color: #35b779\">&nbspof&nbsp</span><span class=\"barcode\"; style=\"color: black; background-color: #90d743\">&nbspthe&nbsp</span><span class=\"barcode\"; style=\"color: black; background-color: #fde725\">&nbspplate.&nbsp</span><span class=\"barcode\"; style=\"color: black; background-color: #fde725\">&nbspthe&nbsp</span><span class=\"barcode\"; style=\"color: black; background-color: #fde725\">&nbspbatter's&nbsp</span><span class=\"barcode\"; style=\"color: black; background-color: #90d743\">&nbspeyes&nbsp</span></br><span class=\"barcode\"; style=\"color: black; background-color: #35b779\">&nbsplit&nbsp</span><span class=\"barcode\"; style=\"color: black; background-color: #21918c\">&nbspup&nbsp</span><span class=\"barcode\"; style=\"color: black; background-color: #21918c\">&nbspas&nbsp</span><span class=\"barcode\"; style=\"color: black; background-color: #21918c\">&nbsphe&nbsp</span><span class=\"barcode\"; style=\"color: black; background-color: #21918c\">&nbspswung&nbsp</span><span class=\"barcode\"; style=\"color: black; background-color: #21918c\">&nbspwith&nbsp</span><span class=\"barcode\"; style=\"color: black; background-color: #21918c\">&nbspall&nbsp</span><span class=\"barcode\"; style=\"color: black; background-color: #21918c\">&nbsphis&nbsp</span><span class=\"barcode\"; style=\"color: black; background-color: #21918c\">&nbspmight,&nbsp</span><span class=\"barcode\"; style=\"color: black; background-color: #21918c\">&nbspsending&nbsp</span><span class=\"barcode\"; style=\"color: black; background-color: #21918c\">&nbspthe&nbsp</span><span class=\"barcode\"; style=\"color: black; background-color: #21918c\">&nbspball&nbsp</span><span class=\"barcode\"; style=\"color: black; background-color: #21918c\">&nbspsailing&nbsp</span><span class=\"barcode\"; style=\"color: black; background-color: #21918c\">&nbsphigh&nbsp</span><span class=\"barcode\"; style=\"color: black; background-color: #21918c\">&nbspinto&nbsp</span><span class=\"barcode\"; style=\"color: black; background-color: #21918c\">&nbspthe&nbsp</span></br><span class=\"barcode\"; style=\"color: black; background-color: #21918c\">&nbspsky.&nbsp</span><span class=\"barcode\"; style=\"color: black; background-color: #35b779\">&nbspthe&nbsp</span><span class=\"barcode\"; style=\"color: black; background-color: #90d743\">&nbspcenter&nbsp</span><span class=\"barcode\"; style=\"color: black; background-color: #fde725\">&nbspfielder&nbsp</span><span class=\"barcode\"; style=\"color: black; background-color: #90d743\">&nbspraced&nbsp</span><span class=\"barcode\"; style=\"color: black; background-color: #35b779\">&nbspback,&nbsp</span><span class=\"barcode\"; style=\"color: black; background-color: #35b779\">&nbsptracking&nbsp</span><span class=\"barcode\"; style=\"color: black; background-color: #90d743\">&nbspthe&nbsp</span><span class=\"barcode\"; style=\"color: black; background-color: #90d743\">&nbspball's&nbsp</span><span class=\"barcode\"; style=\"color: black; background-color: #35b779\">&nbspflight&nbsp</span><span class=\"barcode\"; style=\"color: black; background-color: #21918c\">&nbspwith&nbsp</span><span class=\"barcode\"; style=\"color: black; background-color: #21918c\">&nbspa&nbsp</span><span class=\"barcode\"; style=\"color: black; background-color: #21918c\">&nbspkeen&nbsp</span></br><span class=\"barcode\"; style=\"color: black; background-color: #21918c\">&nbspeye,&nbsp</span><span class=\"barcode\"; style=\"color: black; background-color: #21918c\">&nbspready&nbsp</span><span class=\"barcode\"; style=\"color: black; background-color: #21918c\">&nbspto&nbsp</span><span class=\"barcode\"; style=\"color: black; background-color: #35b779\">&nbspmake&nbsp</span><span class=\"barcode\"; style=\"color: black; background-color: #35b779\">&nbspthe&nbsp</span><span class=\"barcode\"; style=\"color: black; background-color: #35b779\">&nbspcatch.&nbsp</span><span class=\"barcode\"; style=\"color: black; background-color: #21918c\">&nbspthe&nbsp</span><span class=\"barcode\"; style=\"color: black; background-color: #21918c\">&nbspcrowd&nbsp</span><span class=\"barcode\"; style=\"color: black; background-color: #21918c\">&nbspheld&nbsp</span><span class=\"barcode\"; style=\"color: black; background-color: #21918c\">&nbspits&nbsp</span><span class=\"barcode\"; style=\"color: black; background-color: #21918c\">&nbspbreath&nbsp</span><span class=\"barcode\"; style=\"color: black; background-color: #21918c\">&nbspas&nbsp</span><span class=\"barcode\"; style=\"color: black; background-color: #21918c\">&nbspthe&nbsp</span><span class=\"barcode\"; style=\"color: black; background-color: #21918c\">&nbspball&nbsp</span><span class=\"barcode\"; style=\"color: black; background-color: #21918c\">&nbspdescended,&nbsp</span></br><span class=\"barcode\"; style=\"color: black; background-color: #21918c\">&nbspcoming&nbsp</span><span class=\"barcode\"; style=\"color: black; background-color: #21918c\">&nbspcloser&nbsp</span><span class=\"barcode\"; style=\"color: black; background-color: #21918c\">&nbspand&nbsp</span><span class=\"barcode\"; style=\"color: black; background-color: #21918c\">&nbspcloser&nbsp</span><span class=\"barcode\"; style=\"color: black; background-color: #21918c\">&nbspto&nbsp</span><span class=\"barcode\"; style=\"color: black; background-color: #35b779\">&nbspthe&nbsp</span><span class=\"barcode\"; style=\"color: black; background-color: #90d743\">&nbspfielder's&nbsp</span><span class=\"barcode\"; style=\"color: black; background-color: #fde725\">&nbspoutstretched&nbsp</span><span class=\"barcode\"; style=\"color: black; background-color: #90d743\">&nbspglove.&nbsp</span><span class=\"barcode\"; style=\"color: black; background-color: #35b779\">&nbspwith&nbsp</span><span class=\"barcode\"; style=\"color: black; background-color: #21918c\">&nbspa&nbsp</span><span class=\"barcode\"; style=\"color: black; background-color: #21918c\">&nbspsatisfying&nbsp</span></br><span class=\"barcode\"; style=\"color: black; background-color: #21918c\">&nbspthud,&nbsp</span><span class=\"barcode\"; style=\"color: black; background-color: #21918c\">&nbspthe&nbsp</span><span class=\"barcode\"; style=\"color: black; background-color: #21918c\">&nbspball&nbsp</span><span class=\"barcode\"; style=\"color: black; background-color: #21918c\">&nbsplanded&nbsp</span><span class=\"barcode\"; style=\"color: black; background-color: #21918c\">&nbspsquarely&nbsp</span><span class=\"barcode\"; style=\"color: black; background-color: #21918c\">&nbspin&nbsp</span><span class=\"barcode\"; style=\"color: black; background-color: #21918c\">&nbspthe&nbsp</span><span class=\"barcode\"; style=\"color: black; background-color: #21918c\">&nbsppocket,&nbsp</span><span class=\"barcode\"; style=\"color: black; background-color: #21918c\">&nbspand&nbsp</span><span class=\"barcode\"; style=\"color: black; background-color: #35b779\">&nbspthe&nbsp</span><span class=\"barcode\"; style=\"color: black; background-color: #90d743\">&nbspcenter&nbsp</span><span class=\"barcode\"; style=\"color: black; background-color: #fde725\">&nbspfielder&nbsp</span><span class=\"barcode\"; style=\"color: black; background-color: #90d743\">&nbsptriumphantly&nbsp</span></br><span class=\"barcode\"; style=\"color: black; background-color: #35b779\">&nbspjogged&nbsp</span><span class=\"barcode\"; style=\"color: black; background-color: #21918c\">&nbspoff&nbsp</span><span class=\"barcode\"; style=\"color: black; background-color: #21918c\">&nbspthe&nbsp</span><span class=\"barcode\"; style=\"color: black; background-color: #21918c\">&nbspfield.&nbsp</span><span class=\"barcode\"; style=\"color: black; background-color: #21918c\">&nbspit&nbsp</span><span class=\"barcode\"; style=\"color: black; background-color: #21918c\">&nbspwas&nbsp</span><span class=\"barcode\"; style=\"color: black; background-color: #21918c\">&nbspjust&nbsp</span><span class=\"barcode\"; style=\"color: black; background-color: #21918c\">&nbspanother&nbsp</span><span class=\"barcode\"; style=\"color: black; background-color: #21918c\">&nbspday&nbsp</span><span class=\"barcode\"; style=\"color: black; background-color: #35b779\">&nbspat&nbsp</span><span class=\"barcode\"; style=\"color: black; background-color: #90d743\">&nbspthe&nbsp</span><span class=\"barcode\"; style=\"color: black; background-color: #fde725\">&nbspballpark,&nbsp</span><span class=\"barcode\"; style=\"color: black; background-color: #90d743\">&nbspwhere&nbsp</span><span class=\"barcode\"; style=\"color: black; background-color: #35b779\">&nbspthe&nbsp</span><span class=\"barcode\"; style=\"color: black; background-color: #21918c\">&nbspcrack&nbsp</span></br><span class=\"barcode\"; style=\"color: black; background-color: #35b779\">&nbspof&nbsp</span><span class=\"barcode\"; style=\"color: black; background-color: #90d743\">&nbspthe&nbsp</span><span class=\"barcode\"; style=\"color: black; background-color: #90d743\">&nbspbat&nbsp</span><span class=\"barcode\"; style=\"color: black; background-color: #35b779\">&nbspand&nbsp</span><span class=\"barcode\"; style=\"color: black; background-color: #21918c\">&nbspthe&nbsp</span><span class=\"barcode\"; style=\"color: black; background-color: #21918c\">&nbsproar&nbsp</span><span class=\"barcode\"; style=\"color: black; background-color: #21918c\">&nbspof&nbsp</span><span class=\"barcode\"; style=\"color: black; background-color: #21918c\">&nbspthe&nbsp</span><span class=\"barcode\"; style=\"color: black; background-color: #21918c\">&nbspcrowd&nbsp</span><span class=\"barcode\"; style=\"color: black; background-color: #21918c\">&nbspwere&nbsp</span><span class=\"barcode\"; style=\"color: black; background-color: #21918c\">&nbspthe&nbsp</span><span class=\"barcode\"; style=\"color: black; background-color: #21918c\">&nbspsoundtrack&nbsp</span><span class=\"barcode\"; style=\"color: black; background-color: #21918c\">&nbspto&nbsp</span><span class=\"barcode\"; style=\"color: black; background-color: #35b779\">&nbspamerica's&nbsp</span><span class=\"barcode\"; style=\"color: black; background-color: #90d743\">&nbspfavorite&nbsp</span></br><span class=\"barcode\"; style=\"color: black; background-color: #fde725\">&nbsppastime:&nbsp</span><span class=\"barcode\"; style=\"color: black; background-color: #fde725\">&nbspbaseball.&nbsp</span>"
      ],
      "text/plain": [
       "<IPython.core.display.HTML object>"
      ]
     },
     "metadata": {},
     "output_type": "display_data"
    },
    {
     "data": {
      "text/html": [
       "<h3>animals</h3>\n",
       "<h5>Write the next paragraph of the story, but now make it about animals.</h5>\n",
       "<span class=\"barcode\"; style=\"color: black; background-color: #21918c\">&nbspas&nbsp</span><span class=\"barcode\"; style=\"color: black; background-color: #21918c\">&nbspthe&nbsp</span><span class=\"barcode\"; style=\"color: black; background-color: #21918c\">&nbspcenter&nbsp</span><span class=\"barcode\"; style=\"color: black; background-color: #21918c\">&nbspfielder&nbsp</span><span class=\"barcode\"; style=\"color: black; background-color: #21918c\">&nbspjogged&nbsp</span><span class=\"barcode\"; style=\"color: black; background-color: #21918c\">&nbspoff&nbsp</span><span class=\"barcode\"; style=\"color: black; background-color: #21918c\">&nbspthe&nbsp</span><span class=\"barcode\"; style=\"color: black; background-color: #21918c\">&nbspfield,&nbsp</span><span class=\"barcode\"; style=\"color: black; background-color: #21918c\">&nbspa&nbsp</span><span class=\"barcode\"; style=\"color: black; background-color: #35b779\">&nbspfamily&nbsp</span><span class=\"barcode\"; style=\"color: black; background-color: #90d743\">&nbspof&nbsp</span><span class=\"barcode\"; style=\"color: black; background-color: #fde725\">&nbspducks&nbsp</span><span class=\"barcode\"; style=\"color: black; background-color: #90d743\">&nbspwaddled&nbsp</span><span class=\"barcode\"; style=\"color: black; background-color: #35b779\">&nbsponto&nbsp</span></br><span class=\"barcode\"; style=\"color: black; background-color: #21918c\">&nbspthe&nbsp</span><span class=\"barcode\"; style=\"color: black; background-color: #21918c\">&nbspgrass.&nbsp</span><span class=\"barcode\"; style=\"color: black; background-color: #35b779\">&nbspthe&nbsp</span><span class=\"barcode\"; style=\"color: black; background-color: #90d743\">&nbspmother&nbsp</span><span class=\"barcode\"; style=\"color: black; background-color: #fde725\">&nbspduck&nbsp</span><span class=\"barcode\"; style=\"color: black; background-color: #fde725\">&nbspled&nbsp</span><span class=\"barcode\"; style=\"color: black; background-color: #fde725\">&nbspher&nbsp</span><span class=\"barcode\"; style=\"color: black; background-color: #fde725\">&nbspducklings&nbsp</span><span class=\"barcode\"; style=\"color: black; background-color: #90d743\">&nbsptowards&nbsp</span><span class=\"barcode\"; style=\"color: black; background-color: #35b779\">&nbspa&nbsp</span><span class=\"barcode\"; style=\"color: black; background-color: #21918c\">&nbspsmall&nbsp</span><span class=\"barcode\"; style=\"color: black; background-color: #21918c\">&nbsppond&nbsp</span><span class=\"barcode\"; style=\"color: black; background-color: #21918c\">&nbspnear&nbsp</span><span class=\"barcode\"; style=\"color: black; background-color: #21918c\">&nbspthe&nbsp</span></br><span class=\"barcode\"; style=\"color: black; background-color: #35b779\">&nbspoutfield,&nbsp</span><span class=\"barcode\"; style=\"color: black; background-color: #90d743\">&nbspquacking&nbsp</span><span class=\"barcode\"; style=\"color: black; background-color: #90d743\">&nbspsoftly&nbsp</span><span class=\"barcode\"; style=\"color: black; background-color: #35b779\">&nbspto&nbsp</span><span class=\"barcode\"; style=\"color: black; background-color: #21918c\">&nbspeach&nbsp</span><span class=\"barcode\"; style=\"color: black; background-color: #21918c\">&nbspother.&nbsp</span><span class=\"barcode\"; style=\"color: black; background-color: #21918c\">&nbspthe&nbsp</span><span class=\"barcode\"; style=\"color: black; background-color: #21918c\">&nbspplayers&nbsp</span><span class=\"barcode\"; style=\"color: black; background-color: #21918c\">&nbspwatched&nbsp</span><span class=\"barcode\"; style=\"color: black; background-color: #21918c\">&nbspin&nbsp</span><span class=\"barcode\"; style=\"color: black; background-color: #21918c\">&nbspamusement&nbsp</span></br><span class=\"barcode\"; style=\"color: black; background-color: #35b779\">&nbspas&nbsp</span><span class=\"barcode\"; style=\"color: black; background-color: #90d743\">&nbspthe&nbsp</span><span class=\"barcode\"; style=\"color: black; background-color: #fde725\">&nbspducks&nbsp</span><span class=\"barcode\"; style=\"color: black; background-color: #90d743\">&nbspmade&nbsp</span><span class=\"barcode\"; style=\"color: black; background-color: #35b779\">&nbspthemselves&nbsp</span><span class=\"barcode\"; style=\"color: black; background-color: #21918c\">&nbspat&nbsp</span><span class=\"barcode\"; style=\"color: black; background-color: #21918c\">&nbsphome,&nbsp</span><span class=\"barcode\"; style=\"color: black; background-color: #21918c\">&nbspseemingly&nbsp</span><span class=\"barcode\"; style=\"color: black; background-color: #21918c\">&nbspoblivious&nbsp</span><span class=\"barcode\"; style=\"color: black; background-color: #21918c\">&nbspto&nbsp</span><span class=\"barcode\"; style=\"color: black; background-color: #21918c\">&nbspthe&nbsp</span><span class=\"barcode\"; style=\"color: black; background-color: #21918c\">&nbspfact&nbsp</span><span class=\"barcode\"; style=\"color: black; background-color: #21918c\">&nbspthat&nbsp</span></br><span class=\"barcode\"; style=\"color: black; background-color: #21918c\">&nbspthey&nbsp</span><span class=\"barcode\"; style=\"color: black; background-color: #21918c\">&nbspwere&nbsp</span><span class=\"barcode\"; style=\"color: black; background-color: #21918c\">&nbspin&nbsp</span><span class=\"barcode\"; style=\"color: black; background-color: #21918c\">&nbspthe&nbsp</span><span class=\"barcode\"; style=\"color: black; background-color: #21918c\">&nbspmiddle&nbsp</span><span class=\"barcode\"; style=\"color: black; background-color: #21918c\">&nbspof&nbsp</span><span class=\"barcode\"; style=\"color: black; background-color: #21918c\">&nbspa&nbsp</span><span class=\"barcode\"; style=\"color: black; background-color: #21918c\">&nbspbaseball&nbsp</span><span class=\"barcode\"; style=\"color: black; background-color: #21918c\">&nbspgame.&nbsp</span><span class=\"barcode\"; style=\"color: black; background-color: #35b779\">&nbspsuddenly,&nbsp</span><span class=\"barcode\"; style=\"color: black; background-color: #90d743\">&nbspa&nbsp</span><span class=\"barcode\"; style=\"color: black; background-color: #fde725\">&nbspsquirrel&nbsp</span><span class=\"barcode\"; style=\"color: black; background-color: #90d743\">&nbspdarted&nbsp</span><span class=\"barcode\"; style=\"color: black; background-color: #35b779\">&nbspacross&nbsp</span></br><span class=\"barcode\"; style=\"color: black; background-color: #21918c\">&nbspthe&nbsp</span><span class=\"barcode\"; style=\"color: black; background-color: #21918c\">&nbspfield,&nbsp</span><span class=\"barcode\"; style=\"color: black; background-color: #35b779\">&nbspcausing&nbsp</span><span class=\"barcode\"; style=\"color: black; background-color: #90d743\">&nbspthe&nbsp</span><span class=\"barcode\"; style=\"color: black; background-color: #fde725\">&nbspducks&nbsp</span><span class=\"barcode\"; style=\"color: black; background-color: #90d743\">&nbspto&nbsp</span><span class=\"barcode\"; style=\"color: black; background-color: #35b779\">&nbspscatter&nbsp</span><span class=\"barcode\"; style=\"color: black; background-color: #21918c\">&nbspin&nbsp</span><span class=\"barcode\"; style=\"color: black; background-color: #21918c\">&nbspall&nbsp</span><span class=\"barcode\"; style=\"color: black; background-color: #21918c\">&nbspdirections.&nbsp</span><span class=\"barcode\"; style=\"color: black; background-color: #21918c\">&nbspthe&nbsp</span><span class=\"barcode\"; style=\"color: black; background-color: #21918c\">&nbspplayers&nbsp</span><span class=\"barcode\"; style=\"color: black; background-color: #21918c\">&nbsplaughed&nbsp</span></br><span class=\"barcode\"; style=\"color: black; background-color: #21918c\">&nbspas&nbsp</span><span class=\"barcode\"; style=\"color: black; background-color: #21918c\">&nbspthey&nbsp</span><span class=\"barcode\"; style=\"color: black; background-color: #35b779\">&nbspwatched&nbsp</span><span class=\"barcode\"; style=\"color: black; background-color: #90d743\">&nbspthe&nbsp</span><span class=\"barcode\"; style=\"color: black; background-color: #fde725\">&nbspanimals&nbsp</span><span class=\"barcode\"; style=\"color: black; background-color: #90d743\">&nbspgo&nbsp</span><span class=\"barcode\"; style=\"color: black; background-color: #35b779\">&nbspabout&nbsp</span><span class=\"barcode\"; style=\"color: black; background-color: #21918c\">&nbsptheir&nbsp</span><span class=\"barcode\"; style=\"color: black; background-color: #21918c\">&nbspbusiness,&nbsp</span><span class=\"barcode\"; style=\"color: black; background-color: #21918c\">&nbspmomentarily&nbsp</span><span class=\"barcode\"; style=\"color: black; background-color: #21918c\">&nbspforgetting&nbsp</span></br><span class=\"barcode\"; style=\"color: black; background-color: #21918c\">&nbspabout&nbsp</span><span class=\"barcode\"; style=\"color: black; background-color: #21918c\">&nbspthe&nbsp</span><span class=\"barcode\"; style=\"color: black; background-color: #21918c\">&nbspgame&nbsp</span><span class=\"barcode\"; style=\"color: black; background-color: #21918c\">&nbspthey&nbsp</span><span class=\"barcode\"; style=\"color: black; background-color: #21918c\">&nbspwere&nbsp</span><span class=\"barcode\"; style=\"color: black; background-color: #21918c\">&nbspplaying.&nbsp</span><span class=\"barcode\"; style=\"color: black; background-color: #21918c\">&nbspit&nbsp</span><span class=\"barcode\"; style=\"color: black; background-color: #21918c\">&nbspwas&nbsp</span><span class=\"barcode\"; style=\"color: black; background-color: #21918c\">&nbspa&nbsp</span><span class=\"barcode\"; style=\"color: black; background-color: #21918c\">&nbspreminder&nbsp</span><span class=\"barcode\"; style=\"color: black; background-color: #21918c\">&nbspthat,&nbsp</span><span class=\"barcode\"; style=\"color: black; background-color: #21918c\">&nbspdespite&nbsp</span><span class=\"barcode\"; style=\"color: black; background-color: #21918c\">&nbspall&nbsp</span><span class=\"barcode\"; style=\"color: black; background-color: #21918c\">&nbspthe&nbsp</span></br><span class=\"barcode\"; style=\"color: black; background-color: #21918c\">&nbspexcitement&nbsp</span><span class=\"barcode\"; style=\"color: black; background-color: #21918c\">&nbspand&nbsp</span><span class=\"barcode\"; style=\"color: black; background-color: #21918c\">&nbspdrama&nbsp</span><span class=\"barcode\"; style=\"color: black; background-color: #21918c\">&nbspof&nbsp</span><span class=\"barcode\"; style=\"color: black; background-color: #21918c\">&nbspthe&nbsp</span><span class=\"barcode\"; style=\"color: black; background-color: #21918c\">&nbspsport,&nbsp</span><span class=\"barcode\"; style=\"color: black; background-color: #21918c\">&nbspthe&nbsp</span><span class=\"barcode\"; style=\"color: black; background-color: #21918c\">&nbspnatural&nbsp</span><span class=\"barcode\"; style=\"color: black; background-color: #21918c\">&nbspworld&nbsp</span><span class=\"barcode\"; style=\"color: black; background-color: #21918c\">&nbspcontinued&nbsp</span><span class=\"barcode\"; style=\"color: black; background-color: #21918c\">&nbspto&nbsp</span><span class=\"barcode\"; style=\"color: black; background-color: #21918c\">&nbspcarry&nbsp</span></br><span class=\"barcode\"; style=\"color: black; background-color: #21918c\">&nbspon&nbsp</span><span class=\"barcode\"; style=\"color: black; background-color: #21918c\">&nbsparound&nbsp</span><span class=\"barcode\"; style=\"color: black; background-color: #21918c\">&nbspthem.&nbsp</span>"
      ],
      "text/plain": [
       "<IPython.core.display.HTML object>"
      ]
     },
     "metadata": {},
     "output_type": "display_data"
    },
    {
     "data": {
      "text/html": [
       "<h3>water</h3>\n",
       "<h5>Write the next paragraph of the story, but now make it about water.</h5>\n",
       "<span class=\"barcode\"; style=\"color: black; background-color: #21918c\">&nbspin&nbsp</span><span class=\"barcode\"; style=\"color: black; background-color: #21918c\">&nbspthe&nbsp</span><span class=\"barcode\"; style=\"color: black; background-color: #21918c\">&nbspdistance,&nbsp</span><span class=\"barcode\"; style=\"color: black; background-color: #21918c\">&nbspthe&nbsp</span><span class=\"barcode\"; style=\"color: black; background-color: #21918c\">&nbspsound&nbsp</span><span class=\"barcode\"; style=\"color: black; background-color: #35b779\">&nbspof&nbsp</span><span class=\"barcode\"; style=\"color: black; background-color: #90d743\">&nbspcrashing&nbsp</span><span class=\"barcode\"; style=\"color: black; background-color: #fde725\">&nbspwaves&nbsp</span><span class=\"barcode\"; style=\"color: black; background-color: #90d743\">&nbspcould&nbsp</span><span class=\"barcode\"; style=\"color: black; background-color: #35b779\">&nbspbe&nbsp</span><span class=\"barcode\"; style=\"color: black; background-color: #21918c\">&nbspheard,&nbsp</span><span class=\"barcode\"; style=\"color: black; background-color: #21918c\">&nbspa&nbsp</span><span class=\"barcode\"; style=\"color: black; background-color: #21918c\">&nbspreminder&nbsp</span><span class=\"barcode\"; style=\"color: black; background-color: #21918c\">&nbspthat&nbsp</span></br><span class=\"barcode\"; style=\"color: black; background-color: #21918c\">&nbspthe&nbsp</span><span class=\"barcode\"; style=\"color: black; background-color: #21918c\">&nbspstadium&nbsp</span><span class=\"barcode\"; style=\"color: black; background-color: #21918c\">&nbspwas&nbsp</span><span class=\"barcode\"; style=\"color: black; background-color: #21918c\">&nbsplocated&nbsp</span><span class=\"barcode\"; style=\"color: black; background-color: #21918c\">&nbspjust&nbsp</span><span class=\"barcode\"; style=\"color: black; background-color: #21918c\">&nbspa&nbsp</span><span class=\"barcode\"; style=\"color: black; background-color: #21918c\">&nbspstone's&nbsp</span><span class=\"barcode\"; style=\"color: black; background-color: #21918c\">&nbspthrow&nbsp</span><span class=\"barcode\"; style=\"color: black; background-color: #21918c\">&nbspaway&nbsp</span><span class=\"barcode\"; style=\"color: black; background-color: #35b779\">&nbspfrom&nbsp</span><span class=\"barcode\"; style=\"color: black; background-color: #90d743\">&nbspthe&nbsp</span><span class=\"barcode\"; style=\"color: black; background-color: #fde725\">&nbspocean.&nbsp</span><span class=\"barcode\"; style=\"color: black; background-color: #fde725\">&nbspthe&nbsp</span><span class=\"barcode\"; style=\"color: black; background-color: #90d743\">&nbspsalty&nbsp</span></br><span class=\"barcode\"; style=\"color: black; background-color: #90d743\">&nbspsea&nbsp</span><span class=\"barcode\"; style=\"color: black; background-color: #35b779\">&nbspair&nbsp</span><span class=\"barcode\"; style=\"color: black; background-color: #35b779\">&nbspmingled&nbsp</span><span class=\"barcode\"; style=\"color: black; background-color: #21918c\">&nbspwith&nbsp</span><span class=\"barcode\"; style=\"color: black; background-color: #21918c\">&nbspthe&nbsp</span><span class=\"barcode\"; style=\"color: black; background-color: #21918c\">&nbspsmell&nbsp</span><span class=\"barcode\"; style=\"color: black; background-color: #21918c\">&nbspof&nbsp</span><span class=\"barcode\"; style=\"color: black; background-color: #21918c\">&nbspfreshly&nbsp</span><span class=\"barcode\"; style=\"color: black; background-color: #21918c\">&nbspcut&nbsp</span><span class=\"barcode\"; style=\"color: black; background-color: #21918c\">&nbspgrass,&nbsp</span><span class=\"barcode\"; style=\"color: black; background-color: #21918c\">&nbspcreating&nbsp</span><span class=\"barcode\"; style=\"color: black; background-color: #21918c\">&nbspa&nbsp</span><span class=\"barcode\"; style=\"color: black; background-color: #21918c\">&nbspunique&nbsp</span><span class=\"barcode\"; style=\"color: black; background-color: #21918c\">&nbsparoma&nbsp</span></br><span class=\"barcode\"; style=\"color: black; background-color: #21918c\">&nbspthat&nbsp</span><span class=\"barcode\"; style=\"color: black; background-color: #21918c\">&nbspwas&nbsp</span><span class=\"barcode\"; style=\"color: black; background-color: #21918c\">&nbspboth&nbsp</span><span class=\"barcode\"; style=\"color: black; background-color: #21918c\">&nbsprefreshing&nbsp</span><span class=\"barcode\"; style=\"color: black; background-color: #21918c\">&nbspand&nbsp</span><span class=\"barcode\"; style=\"color: black; background-color: #21918c\">&nbspinvigorating.&nbsp</span><span class=\"barcode\"; style=\"color: black; background-color: #21918c\">&nbspas&nbsp</span><span class=\"barcode\"; style=\"color: black; background-color: #21918c\">&nbspthe&nbsp</span><span class=\"barcode\"; style=\"color: black; background-color: #21918c\">&nbspgame&nbsp</span><span class=\"barcode\"; style=\"color: black; background-color: #21918c\">&nbspwent&nbsp</span><span class=\"barcode\"; style=\"color: black; background-color: #21918c\">&nbspon,&nbsp</span><span class=\"barcode\"; style=\"color: black; background-color: #21918c\">&nbspthe&nbsp</span><span class=\"barcode\"; style=\"color: black; background-color: #21918c\">&nbsptemperature&nbsp</span></br><span class=\"barcode\"; style=\"color: black; background-color: #21918c\">&nbspbegan&nbsp</span><span class=\"barcode\"; style=\"color: black; background-color: #21918c\">&nbspto&nbsp</span><span class=\"barcode\"; style=\"color: black; background-color: #21918c\">&nbsprise,&nbsp</span><span class=\"barcode\"; style=\"color: black; background-color: #21918c\">&nbspand&nbsp</span><span class=\"barcode\"; style=\"color: black; background-color: #21918c\">&nbspfans&nbsp</span><span class=\"barcode\"; style=\"color: black; background-color: #21918c\">&nbspcould&nbsp</span><span class=\"barcode\"; style=\"color: black; background-color: #21918c\">&nbspbe&nbsp</span><span class=\"barcode\"; style=\"color: black; background-color: #21918c\">&nbspseen&nbsp</span><span class=\"barcode\"; style=\"color: black; background-color: #21918c\">&nbspfanning&nbsp</span><span class=\"barcode\"; style=\"color: black; background-color: #21918c\">&nbspthemselves&nbsp</span><span class=\"barcode\"; style=\"color: black; background-color: #21918c\">&nbspwith&nbsp</span><span class=\"barcode\"; style=\"color: black; background-color: #21918c\">&nbspwhatever&nbsp</span><span class=\"barcode\"; style=\"color: black; background-color: #21918c\">&nbspthey&nbsp</span></br><span class=\"barcode\"; style=\"color: black; background-color: #21918c\">&nbspcould&nbsp</span><span class=\"barcode\"; style=\"color: black; background-color: #21918c\">&nbspfind.&nbsp</span><span class=\"barcode\"; style=\"color: black; background-color: #21918c\">&nbspsuddenly,&nbsp</span><span class=\"barcode\"; style=\"color: black; background-color: #21918c\">&nbspa&nbsp</span><span class=\"barcode\"; style=\"color: black; background-color: #21918c\">&nbspgust&nbsp</span><span class=\"barcode\"; style=\"color: black; background-color: #21918c\">&nbspof&nbsp</span><span class=\"barcode\"; style=\"color: black; background-color: #21918c\">&nbspwind&nbsp</span><span class=\"barcode\"; style=\"color: black; background-color: #21918c\">&nbsppicked&nbsp</span><span class=\"barcode\"; style=\"color: black; background-color: #21918c\">&nbspup,&nbsp</span><span class=\"barcode\"; style=\"color: black; background-color: #21918c\">&nbspand&nbsp</span><span class=\"barcode\"; style=\"color: black; background-color: #35b779\">&nbspa&nbsp</span><span class=\"barcode\"; style=\"color: black; background-color: #90d743\">&nbspfine&nbsp</span><span class=\"barcode\"; style=\"color: black; background-color: #fde725\">&nbspmist&nbsp</span><span class=\"barcode\"; style=\"color: black; background-color: #fde725\">&nbspsprayed&nbsp</span><span class=\"barcode\"; style=\"color: black; background-color: #90d743\">&nbspover&nbsp</span></br><span class=\"barcode\"; style=\"color: black; background-color: #35b779\">&nbspthe&nbsp</span><span class=\"barcode\"; style=\"color: black; background-color: #21918c\">&nbspcrowd,&nbsp</span><span class=\"barcode\"; style=\"color: black; background-color: #21918c\">&nbspproviding&nbsp</span><span class=\"barcode\"; style=\"color: black; background-color: #21918c\">&nbspsome&nbsp</span><span class=\"barcode\"; style=\"color: black; background-color: #21918c\">&nbspmuch-needed&nbsp</span><span class=\"barcode\"; style=\"color: black; background-color: #21918c\">&nbsprelief.&nbsp</span><span class=\"barcode\"; style=\"color: black; background-color: #21918c\">&nbspthe&nbsp</span><span class=\"barcode\"; style=\"color: black; background-color: #21918c\">&nbspplayers&nbsp</span><span class=\"barcode\"; style=\"color: black; background-color: #21918c\">&nbspon&nbsp</span><span class=\"barcode\"; style=\"color: black; background-color: #21918c\">&nbspthe&nbsp</span><span class=\"barcode\"; style=\"color: black; background-color: #21918c\">&nbspfield&nbsp</span></br><span class=\"barcode\"; style=\"color: black; background-color: #21918c\">&nbsplooked&nbsp</span><span class=\"barcode\"; style=\"color: black; background-color: #21918c\">&nbspup&nbsp</span><span class=\"barcode\"; style=\"color: black; background-color: #21918c\">&nbspas&nbsp</span><span class=\"barcode\"; style=\"color: black; background-color: #21918c\">&nbspthey&nbsp</span><span class=\"barcode\"; style=\"color: black; background-color: #21918c\">&nbspfelt&nbsp</span><span class=\"barcode\"; style=\"color: black; background-color: #35b779\">&nbspthe&nbsp</span><span class=\"barcode\"; style=\"color: black; background-color: #90d743\">&nbspcool&nbsp</span><span class=\"barcode\"; style=\"color: black; background-color: #fde725\">&nbspdroplets&nbsp</span><span class=\"barcode\"; style=\"color: black; background-color: #90d743\">&nbspon&nbsp</span><span class=\"barcode\"; style=\"color: black; background-color: #35b779\">&nbsptheir&nbsp</span><span class=\"barcode\"; style=\"color: black; background-color: #21918c\">&nbspskin,&nbsp</span><span class=\"barcode\"; style=\"color: black; background-color: #21918c\">&nbspgrateful&nbsp</span><span class=\"barcode\"; style=\"color: black; background-color: #21918c\">&nbspfor&nbsp</span><span class=\"barcode\"; style=\"color: black; background-color: #21918c\">&nbspthe&nbsp</span><span class=\"barcode\"; style=\"color: black; background-color: #21918c\">&nbspnatural&nbsp</span></br><span class=\"barcode\"; style=\"color: black; background-color: #21918c\">&nbspair&nbsp</span><span class=\"barcode\"; style=\"color: black; background-color: #21918c\">&nbspconditioning&nbsp</span><span class=\"barcode\"; style=\"color: black; background-color: #35b779\">&nbspthat&nbsp</span><span class=\"barcode\"; style=\"color: black; background-color: #90d743\">&nbspthe&nbsp</span><span class=\"barcode\"; style=\"color: black; background-color: #90d743\">&nbspocean&nbsp</span><span class=\"barcode\"; style=\"color: black; background-color: #5ec962\">&nbspbreeze&nbsp</span><span class=\"barcode\"; style=\"color: black; background-color: #21918c\">&nbspprovided.&nbsp</span>"
      ],
      "text/plain": [
       "<IPython.core.display.HTML object>"
      ]
     },
     "metadata": {},
     "output_type": "display_data"
    }
   ],
   "source": [
    "story_running = ''\n",
    "for i in range(len(expls)):\n",
    "# for i in range(1):\n",
    "    expl = expls[i]\n",
    "    text = paragraphs[i].lower()\n",
    "    words = text.split()\n",
    "    prompt = prompts[i]\n",
    "\n",
    "    ngrams = imodelsx.util.generate_ngrams_list(text, ngrams=3, tokenizer_ngrams=nlp.tokenizer)\n",
    "    ngrams = [words[0], words[0] + ' ' + words[1]] + ngrams\n",
    "\n",
    "    # mod._init_task(expl)    \n",
    "    # neg_dists = mod(ngrams)\n",
    "    # assert len(ngrams) == len(words) == len(neg_dists)\n",
    "    # # neg_dists = scipy.special.softmax(neg_dists)\n",
    "    # plt.plot(neg_dists)\n",
    "    # plt.plot(moving_average(neg_dists, n=5))\n",
    "    # neg_dists = moving_average(neg_dists, n=3)\n",
    "    # neg_dists = (neg_dists - neg_dists.min()) / (neg_dists.max() - neg_dists.min())\n",
    "    # neg_dists = neg_dists / 2 + 0.5 # shift to 0.5-1 range\n",
    "\n",
    "    probs = np.array(val.validate_w_scores(expl, ngrams))\n",
    "    probs = moving_average(probs, n=3)\n",
    "    probs = probs / 2 + 0.5 # shift to 0.5-1 range\n",
    "\n",
    "    s = mprompt.viz.colorize(words, probs, title=expl, subtitle=prompt)\n",
    "    # s = mprompt.viz.colorize(words, neg_dists, title=expl, subtitle=prompt)\n",
    "    display(HTML(s))\n",
    "\n",
    "    story_running += ' ' + s\n",
    "\n",
    "with open('../results/story_running.html', 'w') as f:\n",
    "    f.write(story_running)"
   ]
  }
 ],
 "metadata": {
  "kernelspec": {
   "display_name": ".llm",
   "language": "python",
   "name": "python3"
  },
  "language_info": {
   "codemirror_mode": {
    "name": "ipython",
    "version": 3
   },
   "file_extension": ".py",
   "mimetype": "text/x-python",
   "name": "python",
   "nbconvert_exporter": "python",
   "pygments_lexer": "ipython3",
   "version": "3.9.16"
  },
  "orig_nbformat": 4,
  "vscode": {
   "interpreter": {
    "hash": "a9ff692d44ea03fd8a03facee7621117bbbb82def09bacaacf0a2cbc238b7b91"
   }
  }
 },
 "nbformat": 4,
 "nbformat_minor": 2
}
