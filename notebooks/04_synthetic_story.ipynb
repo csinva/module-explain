{
 "cells": [
  {
   "cell_type": "code",
   "execution_count": null,
   "metadata": {},
   "outputs": [],
   "source": [
    "%load_ext autoreload\n",
    "%autoreload 2\n",
    "import os\n",
    "import matplotlib.pyplot as plt\n",
    "import seaborn as sns\n",
    "from os.path import join\n",
    "from tqdm import tqdm\n",
    "import pandas as pd\n",
    "import sys\n",
    "from IPython.display import display, HTML\n",
    "from typing import List\n",
    "from mprompt.modules.emb_diff_module import EmbDiffModule\n",
    "import numpy as np\n",
    "import matplotlib\n",
    "import imodelsx.util\n",
    "import re\n",
    "import scipy.special\n",
    "from spacy.tokenizer import Tokenizer\n",
    "from spacy.lang.en import English"
   ]
  },
  {
   "cell_type": "markdown",
   "metadata": {},
   "source": [
    "# Get prompts"
   ]
  },
  {
   "cell_type": "code",
   "execution_count": null,
   "metadata": {},
   "outputs": [],
   "source": [
    "expls = [\n",
    "    'baseball',\n",
    "    'animals',\n",
    "    'water',\n",
    "]"
   ]
  },
  {
   "cell_type": "code",
   "execution_count": null,
   "metadata": {},
   "outputs": [],
   "source": [
    "prompt_init = 'Write the beginning paragraph of a story about {expl}. Make sure it contains several references to {expl}.'\n",
    "prompt_continue = 'Write the next paragraph of the story, but now make it about {expl}.'"
   ]
  },
  {
   "cell_type": "code",
   "execution_count": null,
   "metadata": {},
   "outputs": [],
   "source": [
    "prompts = [prompt_init.format(expl=expls[0])] + [prompt_continue.format(expl=expl) for expl in expls[1:]]"
   ]
  },
  {
   "cell_type": "code",
   "execution_count": null,
   "metadata": {},
   "outputs": [],
   "source": [
    "for prompt in prompts:\n",
    "    print(prompt)"
   ]
  },
  {
   "attachments": {},
   "cell_type": "markdown",
   "metadata": {},
   "source": [
    "# Get data"
   ]
  },
  {
   "cell_type": "code",
   "execution_count": null,
   "metadata": {},
   "outputs": [],
   "source": [
    "# Using chatbot for now\n",
    "paragraphs = [\n",
    "    \"The crack of the bat echoed through the stadium as the pitcher windmilled his arm and fired a fastball down the middle of the plate. The batter's eyes lit up as he swung with all his might, sending the ball sailing high into the sky. The center fielder raced back, tracking the ball's flight with a keen eye, ready to make the catch. The crowd held its breath as the ball descended, coming closer and closer to the fielder's outstretched glove. With a satisfying thud, the ball landed squarely in the pocket, and the center fielder triumphantly jogged off the field. It was just another day at the ballpark, where the crack of the bat and the roar of the crowd were the soundtrack to America's favorite pastime: baseball.\",\n",
    "    \"As the center fielder jogged off the field, a family of ducks waddled onto the grass. The mother duck led her ducklings towards a small pond near the outfield, quacking softly to each other. The players watched in amusement as the ducks made themselves at home, seemingly oblivious to the fact that they were in the middle of a baseball game. Suddenly, a squirrel darted across the field, causing the ducks to scatter in all directions. The players laughed as they watched the animals go about their business, momentarily forgetting about the game they were playing. It was a reminder that, despite all the excitement and drama of the sport, the natural world continued to carry on around them.\",\n",
    "    \"In the distance, the sound of crashing waves could be heard, a reminder that the stadium was located just a stone's throw away from the ocean. The salty sea air mingled with the smell of freshly cut grass, creating a unique aroma that was both refreshing and invigorating. As the game went on, the temperature began to rise, and fans could be seen fanning themselves with whatever they could find. Suddenly, a gust of wind picked up, and a fine mist sprayed over the crowd, providing some much-needed relief. The players on the field looked up as they felt the cool droplets on their skin, grateful for the natural air conditioning that the ocean breeze provided.\",\n",
    "]"
   ]
  },
  {
   "cell_type": "markdown",
   "metadata": {},
   "source": [
    "# Visualize data heatmap"
   ]
  },
  {
   "cell_type": "markdown",
   "metadata": {},
   "source": [
    "### Get embedding dists"
   ]
  },
  {
   "cell_type": "code",
   "execution_count": null,
   "metadata": {},
   "outputs": [],
   "source": [
    "mod = EmbDiffModule()\n",
    "nlp = English()\n",
    "nlp.tokenizer = Tokenizer(nlp.vocab, token_match=re.compile(r'\\S+').match) # only split on whitespace"
   ]
  },
  {
   "cell_type": "code",
   "execution_count": 122,
   "metadata": {},
   "outputs": [],
   "source": [
    "def colorize(words: List[str], color_array: np.ndarray[float],\n",
    "             char_width_max=60, title: str=None, subtitle: str=None):\n",
    "    '''\n",
    "    Colorize a list of words based on a color array.\n",
    "    color_array\n",
    "        an array of numbers between 0 and 1 of length equal to words\n",
    "    '''\n",
    "    cmap = matplotlib.cm.get_cmap('viridis')\n",
    "    template = '<span class=\"barcode\"; style=\"color: black; background-color: {}\">{}</span>'\n",
    "    colored_string = ''\n",
    "    char_width = 0\n",
    "    for word, color in zip(words, color_array):\n",
    "        char_width += len(word)\n",
    "        color = matplotlib.colors.rgb2hex(cmap(color)[:3])\n",
    "        colored_string += template.format(color, '&nbsp' + word + '&nbsp')\n",
    "        if char_width >= char_width_max:\n",
    "            colored_string += '</br>'\n",
    "            char_width = 0\n",
    "\n",
    "    if subtitle:\n",
    "        colored_string = f'<h5>{subtitle}</h5>\\n' + colored_string\n",
    "    if title:\n",
    "        colored_string = f'<h3>{title}</h3>\\n' + colored_string\n",
    "    return colored_string\n",
    "\n",
    "# calculate moving average in a window\n",
    "def moving_average(a, n=3):\n",
    "    ret = np.cumsum(a, dtype=float)\n",
    "    ret[n:] = ret[n:] - ret[:-n]\n",
    "    return np.array(a[: n - 1].tolist() + (ret[n - 1:] / n).tolist())"
   ]
  },
  {
   "cell_type": "code",
   "execution_count": 123,
   "metadata": {},
   "outputs": [
    {
     "name": "stdout",
     "output_type": "stream",
     "text": [
      "baseball\n"
     ]
    },
    {
     "name": "stderr",
     "output_type": "stream",
     "text": [
      "100%|██████████| 5/5 [00:00<00:00,  5.00it/s]\n"
     ]
    },
    {
     "data": {
      "text/html": [
       "<h3>baseball</h3>\n",
       "<h5>Write the beginning paragraph of a story about baseball. Make sure it contains several references to baseball.</h5>\n",
       "<span class=\"barcode\"; style=\"color: black; background-color: #27ad81\">&nbspthe&nbsp</span><span class=\"barcode\"; style=\"color: black; background-color: #20938c\">&nbspcrack&nbsp</span><span class=\"barcode\"; style=\"color: black; background-color: #1f968b\">&nbspof&nbsp</span><span class=\"barcode\"; style=\"color: black; background-color: #1f988b\">&nbspthe&nbsp</span><span class=\"barcode\"; style=\"color: black; background-color: #52c569\">&nbspbat&nbsp</span><span class=\"barcode\"; style=\"color: black; background-color: #37b878\">&nbspechoed&nbsp</span><span class=\"barcode\"; style=\"color: black; background-color: #31b57b\">&nbspthrough&nbsp</span><span class=\"barcode\"; style=\"color: black; background-color: #1e9b8a\">&nbspthe&nbsp</span><span class=\"barcode\"; style=\"color: black; background-color: #6ccd5a\">&nbspstadium&nbsp</span><span class=\"barcode\"; style=\"color: black; background-color: #7cd250\">&nbspas&nbsp</span><span class=\"barcode\"; style=\"color: black; background-color: #7ad151\">&nbspthe&nbsp</span><span class=\"barcode\"; style=\"color: black; background-color: #c8e020\">&nbsppitcher&nbsp</span><span class=\"barcode\"; style=\"color: black; background-color: #81d34d\">&nbspwindmilled&nbsp</span></br><span class=\"barcode\"; style=\"color: black; background-color: #86d549\">&nbsphis&nbsp</span><span class=\"barcode\"; style=\"color: black; background-color: #22a785\">&nbsparm&nbsp</span><span class=\"barcode\"; style=\"color: black; background-color: #1f9f88\">&nbspand&nbsp</span><span class=\"barcode\"; style=\"color: black; background-color: #1f9a8a\">&nbspfired&nbsp</span><span class=\"barcode\"; style=\"color: black; background-color: #1e9b8a\">&nbspa&nbsp</span><span class=\"barcode\"; style=\"color: black; background-color: #9dd93b\">&nbspfastball&nbsp</span><span class=\"barcode\"; style=\"color: black; background-color: #c5e021\">&nbspdown&nbsp</span><span class=\"barcode\"; style=\"color: black; background-color: #bddf26\">&nbspthe&nbsp</span><span class=\"barcode\"; style=\"color: black; background-color: #1fa187\">&nbspmiddle&nbsp</span><span class=\"barcode\"; style=\"color: black; background-color: #1f998a\">&nbspof&nbsp</span><span class=\"barcode\"; style=\"color: black; background-color: #1f988b\">&nbspthe&nbsp</span><span class=\"barcode\"; style=\"color: black; background-color: #1e9c89\">&nbspplate.&nbsp</span><span class=\"barcode\"; style=\"color: black; background-color: #1e9c89\">&nbspthe&nbsp</span><span class=\"barcode\"; style=\"color: black; background-color: #dfe318\">&nbspbatter's&nbsp</span><span class=\"barcode\"; style=\"color: black; background-color: #d2e21b\">&nbspeyes&nbsp</span></br><span class=\"barcode\"; style=\"color: black; background-color: #90d743\">&nbsplit&nbsp</span><span class=\"barcode\"; style=\"color: black; background-color: #1f968b\">&nbspup&nbsp</span><span class=\"barcode\"; style=\"color: black; background-color: #1f978b\">&nbspas&nbsp</span><span class=\"barcode\"; style=\"color: black; background-color: #1e9c89\">&nbsphe&nbsp</span><span class=\"barcode\"; style=\"color: black; background-color: #3bbb75\">&nbspswung&nbsp</span><span class=\"barcode\"; style=\"color: black; background-color: #44bf70\">&nbspwith&nbsp</span><span class=\"barcode\"; style=\"color: black; background-color: #46c06f\">&nbspall&nbsp</span><span class=\"barcode\"; style=\"color: black; background-color: #1f9a8a\">&nbsphis&nbsp</span><span class=\"barcode\"; style=\"color: black; background-color: #20a486\">&nbspmight,&nbsp</span><span class=\"barcode\"; style=\"color: black; background-color: #1f9e89\">&nbspsending&nbsp</span><span class=\"barcode\"; style=\"color: black; background-color: #1e9b8a\">&nbspthe&nbsp</span><span class=\"barcode\"; style=\"color: black; background-color: #89d548\">&nbspball&nbsp</span><span class=\"barcode\"; style=\"color: black; background-color: #6ece58\">&nbspsailing&nbsp</span><span class=\"barcode\"; style=\"color: black; background-color: #70cf57\">&nbsphigh&nbsp</span><span class=\"barcode\"; style=\"color: black; background-color: #1f9e89\">&nbspinto&nbsp</span><span class=\"barcode\"; style=\"color: black; background-color: #1fa088\">&nbspthe&nbsp</span></br><span class=\"barcode\"; style=\"color: black; background-color: #1fa187\">&nbspsky.&nbsp</span><span class=\"barcode\"; style=\"color: black; background-color: #1fa188\">&nbspthe&nbsp</span><span class=\"barcode\"; style=\"color: black; background-color: #1e9d89\">&nbspcenter&nbsp</span><span class=\"barcode\"; style=\"color: black; background-color: #e2e418\">&nbspfielder&nbsp</span><span class=\"barcode\"; style=\"color: black; background-color: #c0df25\">&nbspraced&nbsp</span><span class=\"barcode\"; style=\"color: black; background-color: #89d548\">&nbspback,&nbsp</span><span class=\"barcode\"; style=\"color: black; background-color: #1fa287\">&nbsptracking&nbsp</span><span class=\"barcode\"; style=\"color: black; background-color: #1f9f88\">&nbspthe&nbsp</span><span class=\"barcode\"; style=\"color: black; background-color: #95d840\">&nbspball's&nbsp</span><span class=\"barcode\"; style=\"color: black; background-color: #9dd93b\">&nbspflight&nbsp</span><span class=\"barcode\"; style=\"color: black; background-color: #addc30\">&nbspwith&nbsp</span><span class=\"barcode\"; style=\"color: black; background-color: #20a486\">&nbspa&nbsp</span><span class=\"barcode\"; style=\"color: black; background-color: #21a685\">&nbspkeen&nbsp</span></br><span class=\"barcode\"; style=\"color: black; background-color: #20a486\">&nbspeye,&nbsp</span><span class=\"barcode\"; style=\"color: black; background-color: #1fa188\">&nbspready&nbsp</span><span class=\"barcode\"; style=\"color: black; background-color: #1f998a\">&nbspto&nbsp</span><span class=\"barcode\"; style=\"color: black; background-color: #1f978b\">&nbspmake&nbsp</span><span class=\"barcode\"; style=\"color: black; background-color: #1e9b8a\">&nbspthe&nbsp</span><span class=\"barcode\"; style=\"color: black; background-color: #35b779\">&nbspcatch.&nbsp</span><span class=\"barcode\"; style=\"color: black; background-color: #2db27d\">&nbspthe&nbsp</span><span class=\"barcode\"; style=\"color: black; background-color: #2cb17e\">&nbspcrowd&nbsp</span><span class=\"barcode\"; style=\"color: black; background-color: #20a386\">&nbspheld&nbsp</span><span class=\"barcode\"; style=\"color: black; background-color: #23a983\">&nbspits&nbsp</span><span class=\"barcode\"; style=\"color: black; background-color: #1f978b\">&nbspbreath&nbsp</span><span class=\"barcode\"; style=\"color: black; background-color: #20928c\">&nbspas&nbsp</span><span class=\"barcode\"; style=\"color: black; background-color: #21918c\">&nbspthe&nbsp</span><span class=\"barcode\"; style=\"color: black; background-color: #8bd646\">&nbspball&nbsp</span><span class=\"barcode\"; style=\"color: black; background-color: #69cd5b\">&nbspdescended,&nbsp</span></br><span class=\"barcode\"; style=\"color: black; background-color: #6ccd5a\">&nbspcoming&nbsp</span><span class=\"barcode\"; style=\"color: black; background-color: #1e9d89\">&nbspcloser&nbsp</span><span class=\"barcode\"; style=\"color: black; background-color: #1fa187\">&nbspand&nbsp</span><span class=\"barcode\"; style=\"color: black; background-color: #1fa188\">&nbspcloser&nbsp</span><span class=\"barcode\"; style=\"color: black; background-color: #1e9b8a\">&nbspto&nbsp</span><span class=\"barcode\"; style=\"color: black; background-color: #1e9d89\">&nbspthe&nbsp</span><span class=\"barcode\"; style=\"color: black; background-color: #d5e21a\">&nbspfielder's&nbsp</span><span class=\"barcode\"; style=\"color: black; background-color: #a8db34\">&nbspoutstretched&nbsp</span><span class=\"barcode\"; style=\"color: black; background-color: #98d83e\">&nbspglove.&nbsp</span><span class=\"barcode\"; style=\"color: black; background-color: #28ae80\">&nbspwith&nbsp</span><span class=\"barcode\"; style=\"color: black; background-color: #22a884\">&nbspa&nbsp</span><span class=\"barcode\"; style=\"color: black; background-color: #1e9c89\">&nbspsatisfying&nbsp</span></br><span class=\"barcode\"; style=\"color: black; background-color: #1fa287\">&nbspthud,&nbsp</span><span class=\"barcode\"; style=\"color: black; background-color: #1fa188\">&nbspthe&nbsp</span><span class=\"barcode\"; style=\"color: black; background-color: #75d054\">&nbspball&nbsp</span><span class=\"barcode\"; style=\"color: black; background-color: #8ed645\">&nbsplanded&nbsp</span><span class=\"barcode\"; style=\"color: black; background-color: #86d549\">&nbspsquarely&nbsp</span><span class=\"barcode\"; style=\"color: black; background-color: #29af7f\">&nbspin&nbsp</span><span class=\"barcode\"; style=\"color: black; background-color: #22a785\">&nbspthe&nbsp</span><span class=\"barcode\"; style=\"color: black; background-color: #1e9d89\">&nbsppocket,&nbsp</span><span class=\"barcode\"; style=\"color: black; background-color: #1f9a8a\">&nbspand&nbsp</span><span class=\"barcode\"; style=\"color: black; background-color: #1f9a8a\">&nbspthe&nbsp</span><span class=\"barcode\"; style=\"color: black; background-color: #1f9a8a\">&nbspcenter&nbsp</span><span class=\"barcode\"; style=\"color: black; background-color: #e2e418\">&nbspfielder&nbsp</span><span class=\"barcode\"; style=\"color: black; background-color: #95d840\">&nbsptriumphantly&nbsp</span></br><span class=\"barcode\"; style=\"color: black; background-color: #60ca60\">&nbspjogged&nbsp</span><span class=\"barcode\"; style=\"color: black; background-color: #25ac82\">&nbspoff&nbsp</span><span class=\"barcode\"; style=\"color: black; background-color: #35b779\">&nbspthe&nbsp</span><span class=\"barcode\"; style=\"color: black; background-color: #98d83e\">&nbspfield.&nbsp</span><span class=\"barcode\"; style=\"color: black; background-color: #32b67a\">&nbspit&nbsp</span><span class=\"barcode\"; style=\"color: black; background-color: #34b679\">&nbspwas&nbsp</span><span class=\"barcode\"; style=\"color: black; background-color: #1f9e89\">&nbspjust&nbsp</span><span class=\"barcode\"; style=\"color: black; background-color: #1e9b8a\">&nbspanother&nbsp</span><span class=\"barcode\"; style=\"color: black; background-color: #1f988b\">&nbspday&nbsp</span><span class=\"barcode\"; style=\"color: black; background-color: #1f9a8a\">&nbspat&nbsp</span><span class=\"barcode\"; style=\"color: black; background-color: #1fa088\">&nbspthe&nbsp</span><span class=\"barcode\"; style=\"color: black; background-color: #e7e419\">&nbspballpark,&nbsp</span><span class=\"barcode\"; style=\"color: black; background-color: #d0e11c\">&nbspwhere&nbsp</span><span class=\"barcode\"; style=\"color: black; background-color: #bade28\">&nbspthe&nbsp</span><span class=\"barcode\"; style=\"color: black; background-color: #1f948c\">&nbspcrack&nbsp</span></br><span class=\"barcode\"; style=\"color: black; background-color: #1f968b\">&nbspof&nbsp</span><span class=\"barcode\"; style=\"color: black; background-color: #1f988b\">&nbspthe&nbsp</span><span class=\"barcode\"; style=\"color: black; background-color: #52c569\">&nbspbat&nbsp</span><span class=\"barcode\"; style=\"color: black; background-color: #52c569\">&nbspand&nbsp</span><span class=\"barcode\"; style=\"color: black; background-color: #46c06f\">&nbspthe&nbsp</span><span class=\"barcode\"; style=\"color: black; background-color: #1e9c89\">&nbsproar&nbsp</span><span class=\"barcode\"; style=\"color: black; background-color: #1e9b8a\">&nbspof&nbsp</span><span class=\"barcode\"; style=\"color: black; background-color: #1f9a8a\">&nbspthe&nbsp</span><span class=\"barcode\"; style=\"color: black; background-color: #20a386\">&nbspcrowd&nbsp</span><span class=\"barcode\"; style=\"color: black; background-color: #1fa287\">&nbspwere&nbsp</span><span class=\"barcode\"; style=\"color: black; background-color: #21a685\">&nbspthe&nbsp</span><span class=\"barcode\"; style=\"color: black; background-color: #20938c\">&nbspsoundtrack&nbsp</span><span class=\"barcode\"; style=\"color: black; background-color: #20928c\">&nbspto&nbsp</span><span class=\"barcode\"; style=\"color: black; background-color: #1f9a8a\">&nbspamerica's&nbsp</span><span class=\"barcode\"; style=\"color: black; background-color: #22a884\">&nbspfavorite&nbsp</span></br><span class=\"barcode\"; style=\"color: black; background-color: #86d549\">&nbsppastime:&nbsp</span><span class=\"barcode\"; style=\"color: black; background-color: #fde725\">&nbspbaseball.&nbsp</span>"
      ],
      "text/plain": [
       "<IPython.core.display.HTML object>"
      ]
     },
     "metadata": {},
     "output_type": "display_data"
    },
    {
     "name": "stdout",
     "output_type": "stream",
     "text": [
      "animals\n"
     ]
    },
    {
     "name": "stderr",
     "output_type": "stream",
     "text": [
      "100%|██████████| 4/4 [00:00<00:00,  4.16it/s]\n"
     ]
    },
    {
     "data": {
      "text/html": [
       "<h3>animals</h3>\n",
       "<h5>Write the next paragraph of the story, but now make it about animals.</h5>\n",
       "<span class=\"barcode\"; style=\"color: black; background-color: #1fa287\">&nbspas&nbsp</span><span class=\"barcode\"; style=\"color: black; background-color: #20a486\">&nbspthe&nbsp</span><span class=\"barcode\"; style=\"color: black; background-color: #20928c\">&nbspcenter&nbsp</span><span class=\"barcode\"; style=\"color: black; background-color: #1f948c\">&nbspfielder&nbsp</span><span class=\"barcode\"; style=\"color: black; background-color: #20928c\">&nbspjogged&nbsp</span><span class=\"barcode\"; style=\"color: black; background-color: #20938c\">&nbspoff&nbsp</span><span class=\"barcode\"; style=\"color: black; background-color: #1f978b\">&nbspthe&nbsp</span><span class=\"barcode\"; style=\"color: black; background-color: #1f998a\">&nbspfield,&nbsp</span><span class=\"barcode\"; style=\"color: black; background-color: #1e9b8a\">&nbspa&nbsp</span><span class=\"barcode\"; style=\"color: black; background-color: #1f9a8a\">&nbspfamily&nbsp</span><span class=\"barcode\"; style=\"color: black; background-color: #1f9a8a\">&nbspof&nbsp</span><span class=\"barcode\"; style=\"color: black; background-color: #29af7f\">&nbspducks&nbsp</span><span class=\"barcode\"; style=\"color: black; background-color: #25ac82\">&nbspwaddled&nbsp</span><span class=\"barcode\"; style=\"color: black; background-color: #25ac82\">&nbsponto&nbsp</span></br><span class=\"barcode\"; style=\"color: black; background-color: #26ad81\">&nbspthe&nbsp</span><span class=\"barcode\"; style=\"color: black; background-color: #1e9c89\">&nbspgrass.&nbsp</span><span class=\"barcode\"; style=\"color: black; background-color: #1fa187\">&nbspthe&nbsp</span><span class=\"barcode\"; style=\"color: black; background-color: #1e9d89\">&nbspmother&nbsp</span><span class=\"barcode\"; style=\"color: black; background-color: #21a585\">&nbspduck&nbsp</span><span class=\"barcode\"; style=\"color: black; background-color: #21a685\">&nbspled&nbsp</span><span class=\"barcode\"; style=\"color: black; background-color: #24aa83\">&nbspher&nbsp</span><span class=\"barcode\"; style=\"color: black; background-color: #29af7f\">&nbspducklings&nbsp</span><span class=\"barcode\"; style=\"color: black; background-color: #2fb47c\">&nbsptowards&nbsp</span><span class=\"barcode\"; style=\"color: black; background-color: #34b679\">&nbspa&nbsp</span><span class=\"barcode\"; style=\"color: black; background-color: #1f9f88\">&nbspsmall&nbsp</span><span class=\"barcode\"; style=\"color: black; background-color: #21a685\">&nbsppond&nbsp</span><span class=\"barcode\"; style=\"color: black; background-color: #1fa287\">&nbspnear&nbsp</span><span class=\"barcode\"; style=\"color: black; background-color: #1fa287\">&nbspthe&nbsp</span></br><span class=\"barcode\"; style=\"color: black; background-color: #1e9b8a\">&nbspoutfield,&nbsp</span><span class=\"barcode\"; style=\"color: black; background-color: #26ad81\">&nbspquacking&nbsp</span><span class=\"barcode\"; style=\"color: black; background-color: #29af7f\">&nbspsoftly&nbsp</span><span class=\"barcode\"; style=\"color: black; background-color: #2cb17e\">&nbspto&nbsp</span><span class=\"barcode\"; style=\"color: black; background-color: #1e9d89\">&nbspeach&nbsp</span><span class=\"barcode\"; style=\"color: black; background-color: #1e9c89\">&nbspother.&nbsp</span><span class=\"barcode\"; style=\"color: black; background-color: #1e9d89\">&nbspthe&nbsp</span><span class=\"barcode\"; style=\"color: black; background-color: #1fa188\">&nbspplayers&nbsp</span><span class=\"barcode\"; style=\"color: black; background-color: #1f978b\">&nbspwatched&nbsp</span><span class=\"barcode\"; style=\"color: black; background-color: #1f958b\">&nbspin&nbsp</span><span class=\"barcode\"; style=\"color: black; background-color: #1f9f88\">&nbspamusement&nbsp</span></br><span class=\"barcode\"; style=\"color: black; background-color: #1f9e89\">&nbspas&nbsp</span><span class=\"barcode\"; style=\"color: black; background-color: #1f9a8a\">&nbspthe&nbsp</span><span class=\"barcode\"; style=\"color: black; background-color: #35b779\">&nbspducks&nbsp</span><span class=\"barcode\"; style=\"color: black; background-color: #23a983\">&nbspmade&nbsp</span><span class=\"barcode\"; style=\"color: black; background-color: #22a884\">&nbspthemselves&nbsp</span><span class=\"barcode\"; style=\"color: black; background-color: #1f948c\">&nbspat&nbsp</span><span class=\"barcode\"; style=\"color: black; background-color: #1f988b\">&nbsphome,&nbsp</span><span class=\"barcode\"; style=\"color: black; background-color: #1f9e89\">&nbspseemingly&nbsp</span><span class=\"barcode\"; style=\"color: black; background-color: #1e9c89\">&nbspoblivious&nbsp</span><span class=\"barcode\"; style=\"color: black; background-color: #1f978b\">&nbspto&nbsp</span><span class=\"barcode\"; style=\"color: black; background-color: #20938c\">&nbspthe&nbsp</span><span class=\"barcode\"; style=\"color: black; background-color: #1f968b\">&nbspfact&nbsp</span><span class=\"barcode\"; style=\"color: black; background-color: #1f978b\">&nbspthat&nbsp</span></br><span class=\"barcode\"; style=\"color: black; background-color: #1f988b\">&nbspthey&nbsp</span><span class=\"barcode\"; style=\"color: black; background-color: #1e9d89\">&nbspwere&nbsp</span><span class=\"barcode\"; style=\"color: black; background-color: #1fa188\">&nbspin&nbsp</span><span class=\"barcode\"; style=\"color: black; background-color: #1fa188\">&nbspthe&nbsp</span><span class=\"barcode\"; style=\"color: black; background-color: #20928c\">&nbspmiddle&nbsp</span><span class=\"barcode\"; style=\"color: black; background-color: #1f958b\">&nbspof&nbsp</span><span class=\"barcode\"; style=\"color: black; background-color: #1f988b\">&nbspa&nbsp</span><span class=\"barcode\"; style=\"color: black; background-color: #1f968b\">&nbspbaseball&nbsp</span><span class=\"barcode\"; style=\"color: black; background-color: #1f998a\">&nbspgame.&nbsp</span><span class=\"barcode\"; style=\"color: black; background-color: #1e9d89\">&nbspsuddenly,&nbsp</span><span class=\"barcode\"; style=\"color: black; background-color: #20a386\">&nbspa&nbsp</span><span class=\"barcode\"; style=\"color: black; background-color: #4cc26c\">&nbspsquirrel&nbsp</span><span class=\"barcode\"; style=\"color: black; background-color: #38b977\">&nbspdarted&nbsp</span><span class=\"barcode\"; style=\"color: black; background-color: #3dbc74\">&nbspacross&nbsp</span></br><span class=\"barcode\"; style=\"color: black; background-color: #1e9c89\">&nbspthe&nbsp</span><span class=\"barcode\"; style=\"color: black; background-color: #1e9b8a\">&nbspfield,&nbsp</span><span class=\"barcode\"; style=\"color: black; background-color: #1f998a\">&nbspcausing&nbsp</span><span class=\"barcode\"; style=\"color: black; background-color: #1f998a\">&nbspthe&nbsp</span><span class=\"barcode\"; style=\"color: black; background-color: #27ad81\">&nbspducks&nbsp</span><span class=\"barcode\"; style=\"color: black; background-color: #2fb47c\">&nbspto&nbsp</span><span class=\"barcode\"; style=\"color: black; background-color: #27ad81\">&nbspscatter&nbsp</span><span class=\"barcode\"; style=\"color: black; background-color: #1e9b8a\">&nbspin&nbsp</span><span class=\"barcode\"; style=\"color: black; background-color: #1f998a\">&nbspall&nbsp</span><span class=\"barcode\"; style=\"color: black; background-color: #20928c\">&nbspdirections.&nbsp</span><span class=\"barcode\"; style=\"color: black; background-color: #21918c\">&nbspthe&nbsp</span><span class=\"barcode\"; style=\"color: black; background-color: #1f978b\">&nbspplayers&nbsp</span><span class=\"barcode\"; style=\"color: black; background-color: #1e9b8a\">&nbsplaughed&nbsp</span></br><span class=\"barcode\"; style=\"color: black; background-color: #1f9e89\">&nbspas&nbsp</span><span class=\"barcode\"; style=\"color: black; background-color: #1f9f88\">&nbspthey&nbsp</span><span class=\"barcode\"; style=\"color: black; background-color: #1e9c89\">&nbspwatched&nbsp</span><span class=\"barcode\"; style=\"color: black; background-color: #1e9b8a\">&nbspthe&nbsp</span><span class=\"barcode\"; style=\"color: black; background-color: #c2df23\">&nbspanimals&nbsp</span><span class=\"barcode\"; style=\"color: black; background-color: #fde725\">&nbspgo&nbsp</span><span class=\"barcode\"; style=\"color: black; background-color: #f6e620\">&nbspabout&nbsp</span><span class=\"barcode\"; style=\"color: black; background-color: #1f9a8a\">&nbsptheir&nbsp</span><span class=\"barcode\"; style=\"color: black; background-color: #1f978b\">&nbspbusiness,&nbsp</span><span class=\"barcode\"; style=\"color: black; background-color: #1e9b8a\">&nbspmomentarily&nbsp</span><span class=\"barcode\"; style=\"color: black; background-color: #1f968b\">&nbspforgetting&nbsp</span></br><span class=\"barcode\"; style=\"color: black; background-color: #1f958b\">&nbspabout&nbsp</span><span class=\"barcode\"; style=\"color: black; background-color: #1f948c\">&nbspthe&nbsp</span><span class=\"barcode\"; style=\"color: black; background-color: #1e9b8a\">&nbspgame&nbsp</span><span class=\"barcode\"; style=\"color: black; background-color: #1e9c89\">&nbspthey&nbsp</span><span class=\"barcode\"; style=\"color: black; background-color: #1f988b\">&nbspwere&nbsp</span><span class=\"barcode\"; style=\"color: black; background-color: #26ad81\">&nbspplaying.&nbsp</span><span class=\"barcode\"; style=\"color: black; background-color: #1fa088\">&nbspit&nbsp</span><span class=\"barcode\"; style=\"color: black; background-color: #1fa287\">&nbspwas&nbsp</span><span class=\"barcode\"; style=\"color: black; background-color: #1f9e89\">&nbspa&nbsp</span><span class=\"barcode\"; style=\"color: black; background-color: #1f978b\">&nbspreminder&nbsp</span><span class=\"barcode\"; style=\"color: black; background-color: #1f9a8a\">&nbspthat,&nbsp</span><span class=\"barcode\"; style=\"color: black; background-color: #1e9c89\">&nbspdespite&nbsp</span><span class=\"barcode\"; style=\"color: black; background-color: #1f9e89\">&nbspall&nbsp</span><span class=\"barcode\"; style=\"color: black; background-color: #1f9e89\">&nbspthe&nbsp</span></br><span class=\"barcode\"; style=\"color: black; background-color: #1f9a8a\">&nbspexcitement&nbsp</span><span class=\"barcode\"; style=\"color: black; background-color: #1f9e89\">&nbspand&nbsp</span><span class=\"barcode\"; style=\"color: black; background-color: #1f968b\">&nbspdrama&nbsp</span><span class=\"barcode\"; style=\"color: black; background-color: #20928c\">&nbspof&nbsp</span><span class=\"barcode\"; style=\"color: black; background-color: #20938c\">&nbspthe&nbsp</span><span class=\"barcode\"; style=\"color: black; background-color: #1f958b\">&nbspsport,&nbsp</span><span class=\"barcode\"; style=\"color: black; background-color: #1f978b\">&nbspthe&nbsp</span><span class=\"barcode\"; style=\"color: black; background-color: #1fa187\">&nbspnatural&nbsp</span><span class=\"barcode\"; style=\"color: black; background-color: #23a983\">&nbspworld&nbsp</span><span class=\"barcode\"; style=\"color: black; background-color: #21a685\">&nbspcontinued&nbsp</span><span class=\"barcode\"; style=\"color: black; background-color: #1f958b\">&nbspto&nbsp</span><span class=\"barcode\"; style=\"color: black; background-color: #1f988b\">&nbspcarry&nbsp</span></br><span class=\"barcode\"; style=\"color: black; background-color: #1f988b\">&nbspon&nbsp</span><span class=\"barcode\"; style=\"color: black; background-color: #1f998a\">&nbsparound&nbsp</span><span class=\"barcode\"; style=\"color: black; background-color: #1fa287\">&nbspthem.&nbsp</span>"
      ],
      "text/plain": [
       "<IPython.core.display.HTML object>"
      ]
     },
     "metadata": {},
     "output_type": "display_data"
    },
    {
     "name": "stdout",
     "output_type": "stream",
     "text": [
      "water\n"
     ]
    },
    {
     "name": "stderr",
     "output_type": "stream",
     "text": [
      "100%|██████████| 4/4 [00:00<00:00,  4.80it/s]\n"
     ]
    },
    {
     "data": {
      "text/html": [
       "<h3>water</h3>\n",
       "<h5>Write the next paragraph of the story, but now make it about water.</h5>\n",
       "<span class=\"barcode\"; style=\"color: black; background-color: #5ec962\">&nbspin&nbsp</span><span class=\"barcode\"; style=\"color: black; background-color: #46c06f\">&nbspthe&nbsp</span><span class=\"barcode\"; style=\"color: black; background-color: #20a386\">&nbspdistance,&nbsp</span><span class=\"barcode\"; style=\"color: black; background-color: #1fa287\">&nbspthe&nbsp</span><span class=\"barcode\"; style=\"color: black; background-color: #1fa187\">&nbspsound&nbsp</span><span class=\"barcode\"; style=\"color: black; background-color: #23a983\">&nbspof&nbsp</span><span class=\"barcode\"; style=\"color: black; background-color: #1f988b\">&nbspcrashing&nbsp</span><span class=\"barcode\"; style=\"color: black; background-color: #54c568\">&nbspwaves&nbsp</span><span class=\"barcode\"; style=\"color: black; background-color: #60ca60\">&nbspcould&nbsp</span><span class=\"barcode\"; style=\"color: black; background-color: #7fd34e\">&nbspbe&nbsp</span><span class=\"barcode\"; style=\"color: black; background-color: #21a585\">&nbspheard,&nbsp</span><span class=\"barcode\"; style=\"color: black; background-color: #24aa83\">&nbspa&nbsp</span><span class=\"barcode\"; style=\"color: black; background-color: #24aa83\">&nbspreminder&nbsp</span><span class=\"barcode\"; style=\"color: black; background-color: #22a884\">&nbspthat&nbsp</span></br><span class=\"barcode\"; style=\"color: black; background-color: #22a785\">&nbspthe&nbsp</span><span class=\"barcode\"; style=\"color: black; background-color: #1f998a\">&nbspstadium&nbsp</span><span class=\"barcode\"; style=\"color: black; background-color: #20928c\">&nbspwas&nbsp</span><span class=\"barcode\"; style=\"color: black; background-color: #20938c\">&nbsplocated&nbsp</span><span class=\"barcode\"; style=\"color: black; background-color: #25ab82\">&nbspjust&nbsp</span><span class=\"barcode\"; style=\"color: black; background-color: #27ad81\">&nbspa&nbsp</span><span class=\"barcode\"; style=\"color: black; background-color: #1fa187\">&nbspstone's&nbsp</span><span class=\"barcode\"; style=\"color: black; background-color: #1e9c89\">&nbspthrow&nbsp</span><span class=\"barcode\"; style=\"color: black; background-color: #1f9f88\">&nbspaway&nbsp</span><span class=\"barcode\"; style=\"color: black; background-color: #1e9d89\">&nbspfrom&nbsp</span><span class=\"barcode\"; style=\"color: black; background-color: #21a585\">&nbspthe&nbsp</span><span class=\"barcode\"; style=\"color: black; background-color: #dde318\">&nbspocean.&nbsp</span><span class=\"barcode\"; style=\"color: black; background-color: #e2e418\">&nbspthe&nbsp</span><span class=\"barcode\"; style=\"color: black; background-color: #75d054\">&nbspsalty&nbsp</span></br><span class=\"barcode\"; style=\"color: black; background-color: #3dbc74\">&nbspsea&nbsp</span><span class=\"barcode\"; style=\"color: black; background-color: #60ca60\">&nbspair&nbsp</span><span class=\"barcode\"; style=\"color: black; background-color: #aadc32\">&nbspmingled&nbsp</span><span class=\"barcode\"; style=\"color: black; background-color: #90d743\">&nbspwith&nbsp</span><span class=\"barcode\"; style=\"color: black; background-color: #46c06f\">&nbspthe&nbsp</span><span class=\"barcode\"; style=\"color: black; background-color: #1fa088\">&nbspsmell&nbsp</span><span class=\"barcode\"; style=\"color: black; background-color: #1fa088\">&nbspof&nbsp</span><span class=\"barcode\"; style=\"color: black; background-color: #1fa287\">&nbspfreshly&nbsp</span><span class=\"barcode\"; style=\"color: black; background-color: #23a983\">&nbspcut&nbsp</span><span class=\"barcode\"; style=\"color: black; background-color: #20a486\">&nbspgrass,&nbsp</span><span class=\"barcode\"; style=\"color: black; background-color: #1e9d89\">&nbspcreating&nbsp</span><span class=\"barcode\"; style=\"color: black; background-color: #20a386\">&nbspa&nbsp</span><span class=\"barcode\"; style=\"color: black; background-color: #1f9e89\">&nbspunique&nbsp</span><span class=\"barcode\"; style=\"color: black; background-color: #27ad81\">&nbsparoma&nbsp</span></br><span class=\"barcode\"; style=\"color: black; background-color: #27ad81\">&nbspthat&nbsp</span><span class=\"barcode\"; style=\"color: black; background-color: #2db27d\">&nbspwas&nbsp</span><span class=\"barcode\"; style=\"color: black; background-color: #22a785\">&nbspboth&nbsp</span><span class=\"barcode\"; style=\"color: black; background-color: #38b977\">&nbsprefreshing&nbsp</span><span class=\"barcode\"; style=\"color: black; background-color: #3bbb75\">&nbspand&nbsp</span><span class=\"barcode\"; style=\"color: black; background-color: #5ec962\">&nbspinvigorating.&nbsp</span><span class=\"barcode\"; style=\"color: black; background-color: #3bbb75\">&nbspas&nbsp</span><span class=\"barcode\"; style=\"color: black; background-color: #34b679\">&nbspthe&nbsp</span><span class=\"barcode\"; style=\"color: black; background-color: #1e9d89\">&nbspgame&nbsp</span><span class=\"barcode\"; style=\"color: black; background-color: #21918c\">&nbspwent&nbsp</span><span class=\"barcode\"; style=\"color: black; background-color: #20928c\">&nbspon,&nbsp</span><span class=\"barcode\"; style=\"color: black; background-color: #22a884\">&nbspthe&nbsp</span><span class=\"barcode\"; style=\"color: black; background-color: #3bbb75\">&nbsptemperature&nbsp</span></br><span class=\"barcode\"; style=\"color: black; background-color: #32b67a\">&nbspbegan&nbsp</span><span class=\"barcode\"; style=\"color: black; background-color: #31b57b\">&nbspto&nbsp</span><span class=\"barcode\"; style=\"color: black; background-color: #1f9e89\">&nbsprise,&nbsp</span><span class=\"barcode\"; style=\"color: black; background-color: #1fa088\">&nbspand&nbsp</span><span class=\"barcode\"; style=\"color: black; background-color: #1f968b\">&nbspfans&nbsp</span><span class=\"barcode\"; style=\"color: black; background-color: #1f9e89\">&nbspcould&nbsp</span><span class=\"barcode\"; style=\"color: black; background-color: #1e9c89\">&nbspbe&nbsp</span><span class=\"barcode\"; style=\"color: black; background-color: #2cb17e\">&nbspseen&nbsp</span><span class=\"barcode\"; style=\"color: black; background-color: #1f9f88\">&nbspfanning&nbsp</span><span class=\"barcode\"; style=\"color: black; background-color: #1f9f88\">&nbspthemselves&nbsp</span><span class=\"barcode\"; style=\"color: black; background-color: #1fa287\">&nbspwith&nbsp</span><span class=\"barcode\"; style=\"color: black; background-color: #35b779\">&nbspwhatever&nbsp</span><span class=\"barcode\"; style=\"color: black; background-color: #52c569\">&nbspthey&nbsp</span></br><span class=\"barcode\"; style=\"color: black; background-color: #34b679\">&nbspcould&nbsp</span><span class=\"barcode\"; style=\"color: black; background-color: #26ad81\">&nbspfind.&nbsp</span><span class=\"barcode\"; style=\"color: black; background-color: #25ac82\">&nbspsuddenly,&nbsp</span><span class=\"barcode\"; style=\"color: black; background-color: #27ad81\">&nbspa&nbsp</span><span class=\"barcode\"; style=\"color: black; background-color: #22a785\">&nbspgust&nbsp</span><span class=\"barcode\"; style=\"color: black; background-color: #27ad81\">&nbspof&nbsp</span><span class=\"barcode\"; style=\"color: black; background-color: #1fa287\">&nbspwind&nbsp</span><span class=\"barcode\"; style=\"color: black; background-color: #28ae80\">&nbsppicked&nbsp</span><span class=\"barcode\"; style=\"color: black; background-color: #2cb17e\">&nbspup,&nbsp</span><span class=\"barcode\"; style=\"color: black; background-color: #1f9e89\">&nbspand&nbsp</span><span class=\"barcode\"; style=\"color: black; background-color: #22a884\">&nbspa&nbsp</span><span class=\"barcode\"; style=\"color: black; background-color: #25ac82\">&nbspfine&nbsp</span><span class=\"barcode\"; style=\"color: black; background-color: #4ac16d\">&nbspmist&nbsp</span><span class=\"barcode\"; style=\"color: black; background-color: #60ca60\">&nbspsprayed&nbsp</span><span class=\"barcode\"; style=\"color: black; background-color: #69cd5b\">&nbspover&nbsp</span></br><span class=\"barcode\"; style=\"color: black; background-color: #8bd646\">&nbspthe&nbsp</span><span class=\"barcode\"; style=\"color: black; background-color: #28ae80\">&nbspcrowd,&nbsp</span><span class=\"barcode\"; style=\"color: black; background-color: #26ad81\">&nbspproviding&nbsp</span><span class=\"barcode\"; style=\"color: black; background-color: #27ad81\">&nbspsome&nbsp</span><span class=\"barcode\"; style=\"color: black; background-color: #31b57b\">&nbspmuch-needed&nbsp</span><span class=\"barcode\"; style=\"color: black; background-color: #2cb17e\">&nbsprelief.&nbsp</span><span class=\"barcode\"; style=\"color: black; background-color: #2ab07f\">&nbspthe&nbsp</span><span class=\"barcode\"; style=\"color: black; background-color: #21a585\">&nbspplayers&nbsp</span><span class=\"barcode\"; style=\"color: black; background-color: #1fa088\">&nbspon&nbsp</span><span class=\"barcode\"; style=\"color: black; background-color: #1fa287\">&nbspthe&nbsp</span><span class=\"barcode\"; style=\"color: black; background-color: #1f978b\">&nbspfield&nbsp</span></br><span class=\"barcode\"; style=\"color: black; background-color: #20928c\">&nbsplooked&nbsp</span><span class=\"barcode\"; style=\"color: black; background-color: #1f988b\">&nbspup&nbsp</span><span class=\"barcode\"; style=\"color: black; background-color: #22a785\">&nbspas&nbsp</span><span class=\"barcode\"; style=\"color: black; background-color: #22a785\">&nbspthey&nbsp</span><span class=\"barcode\"; style=\"color: black; background-color: #1fa187\">&nbspfelt&nbsp</span><span class=\"barcode\"; style=\"color: black; background-color: #1fa187\">&nbspthe&nbsp</span><span class=\"barcode\"; style=\"color: black; background-color: #25ab82\">&nbspcool&nbsp</span><span class=\"barcode\"; style=\"color: black; background-color: #addc30\">&nbspdroplets&nbsp</span><span class=\"barcode\"; style=\"color: black; background-color: #98d83e\">&nbspon&nbsp</span><span class=\"barcode\"; style=\"color: black; background-color: #dfe318\">&nbsptheir&nbsp</span><span class=\"barcode\"; style=\"color: black; background-color: #23a983\">&nbspskin,&nbsp</span><span class=\"barcode\"; style=\"color: black; background-color: #1fa188\">&nbspgrateful&nbsp</span><span class=\"barcode\"; style=\"color: black; background-color: #1f9a8a\">&nbspfor&nbsp</span><span class=\"barcode\"; style=\"color: black; background-color: #1f998a\">&nbspthe&nbsp</span><span class=\"barcode\"; style=\"color: black; background-color: #3dbc74\">&nbspnatural&nbsp</span></br><span class=\"barcode\"; style=\"color: black; background-color: #67cc5c\">&nbspair&nbsp</span><span class=\"barcode\"; style=\"color: black; background-color: #63cb5f\">&nbspconditioning&nbsp</span><span class=\"barcode\"; style=\"color: black; background-color: #50c46a\">&nbspthat&nbsp</span><span class=\"barcode\"; style=\"color: black; background-color: #2fb47c\">&nbspthe&nbsp</span><span class=\"barcode\"; style=\"color: black; background-color: #fde725\">&nbspocean&nbsp</span><span class=\"barcode\"; style=\"color: black; background-color: #5ec962\">&nbspbreeze&nbsp</span><span class=\"barcode\"; style=\"color: black; background-color: #5cc863\">&nbspprovided.&nbsp</span>"
      ],
      "text/plain": [
       "<IPython.core.display.HTML object>"
      ]
     },
     "metadata": {},
     "output_type": "display_data"
    }
   ],
   "source": [
    "story_running = ''\n",
    "for i in range(len(expls)):\n",
    "    expl = expls[i]\n",
    "    text = paragraphs[i].lower()\n",
    "    words = text.split()\n",
    "    prompt = prompts[i]\n",
    "\n",
    "    mod._init_task(expl)\n",
    "    print(mod.target_str)\n",
    "    ngrams = imodelsx.util.generate_ngrams_list(text, ngrams=3, tokenizer_ngrams=nlp.tokenizer)\n",
    "    ngrams = [words[0], words[0] + ' ' + words[1]] + ngrams\n",
    "    neg_dists = mod(ngrams)\n",
    "    assert len(ngrams) == len(words) == len(neg_dists)\n",
    "\n",
    "    # plt.plot(neg_dists)\n",
    "    # plt.plot(moving_average(neg_dists, n=5))\n",
    "    # neg_dists = moving_average(neg_dists, n=3)\n",
    "\n",
    "    # neg_dists = scipy.special.softmax(neg_dists)\n",
    "    neg_dists = (neg_dists - neg_dists.min()) / (neg_dists.max() - neg_dists.min())\n",
    "    neg_dists = neg_dists / 2 + 0.5 # shift to 0.5-1 range\n",
    "\n",
    "    s = colorize(words, neg_dists, title=expl, subtitle=prompt)\n",
    "    display(HTML(s))\n",
    "\n",
    "    story_running += ' ' + s\n",
    "\n",
    "with open('../results/story_running.html', 'w') as f:\n",
    "    f.write(story_running)"
   ]
  }
 ],
 "metadata": {
  "kernelspec": {
   "display_name": ".llm",
   "language": "python",
   "name": "python3"
  },
  "language_info": {
   "codemirror_mode": {
    "name": "ipython",
    "version": 3
   },
   "file_extension": ".py",
   "mimetype": "text/x-python",
   "name": "python",
   "nbconvert_exporter": "python",
   "pygments_lexer": "ipython3",
   "version": "3.9.16"
  },
  "orig_nbformat": 4,
  "vscode": {
   "interpreter": {
    "hash": "a9ff692d44ea03fd8a03facee7621117bbbb82def09bacaacf0a2cbc238b7b91"
   }
  }
 },
 "nbformat": 4,
 "nbformat_minor": 2
}
